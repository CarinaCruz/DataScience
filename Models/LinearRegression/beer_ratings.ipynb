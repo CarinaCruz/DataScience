{
 "cells": [
  {
   "cell_type": "markdown",
   "metadata": {},
   "source": [
    "# <b> Machine Learning Model to Predict the Overall Rating of Beers"
   ]
  },
  {
   "cell_type": "markdown",
   "metadata": {},
   "source": [
    "### <b> Imports "
   ]
  },
  {
   "cell_type": "code",
   "execution_count": 1,
   "metadata": {},
   "outputs": [],
   "source": [
    "# Data manipulation, math and visualization\n",
    "import pandas as pd\n",
    "import matplotlib.pyplot as plt\n",
    "import seaborn as sea\n",
    "import numpy as np\n",
    "\n",
    "import warnings\n",
    "warnings.filterwarnings(\"ignore\")\n",
    "\n",
    "# Machine learning\n",
    "from sklearn.impute import SimpleImputer\n",
    "from sklearn import metrics\n",
    "from sklearn.model_selection import train_test_split\n",
    "from sklearn.linear_model import LinearRegression\n",
    "from sklearn.metrics import mean_squared_error, r2_score\n",
    "from sklearn.ensemble import RandomForestRegressor\n",
    "from sklearn.tree import DecisionTreeRegressor \n",
    "from sklearn import preprocessing\n",
    "\n",
    "# String conversion\n",
    "import ast\n",
    "\n",
    "# Custom colors\n",
    "pastel = ['PowderBlue', 'PaleTurquoise', 'Lavender', 'SkyBlue', 'LightSteelBlue' ]"
   ]
  },
  {
   "cell_type": "markdown",
   "metadata": {},
   "source": [
    "### <b> Loading Data"
   ]
  },
  {
   "cell_type": "code",
   "execution_count": 2,
   "metadata": {},
   "outputs": [],
   "source": [
    "data = pd.read_csv('data/beers.csv')"
   ]
  },
  {
   "cell_type": "markdown",
   "metadata": {},
   "source": [
    "### <b> Informations About the Data"
   ]
  },
  {
   "cell_type": "code",
   "execution_count": 3,
   "metadata": {},
   "outputs": [
    {
     "data": {
      "text/html": [
       "<div>\n",
       "<style scoped>\n",
       "    .dataframe tbody tr th:only-of-type {\n",
       "        vertical-align: middle;\n",
       "    }\n",
       "\n",
       "    .dataframe tbody tr th {\n",
       "        vertical-align: top;\n",
       "    }\n",
       "\n",
       "    .dataframe thead th {\n",
       "        text-align: right;\n",
       "    }\n",
       "</style>\n",
       "<table border=\"1\" class=\"dataframe\">\n",
       "  <thead>\n",
       "    <tr style=\"text-align: right;\">\n",
       "      <th></th>\n",
       "      <th>review_id</th>\n",
       "      <th>beer_id</th>\n",
       "      <th>brewer_id</th>\n",
       "      <th>beer_name</th>\n",
       "      <th>beer_style</th>\n",
       "      <th>beer_abv</th>\n",
       "      <th>review_appearance</th>\n",
       "      <th>review_aroma</th>\n",
       "      <th>review_palate</th>\n",
       "      <th>review_taste</th>\n",
       "      <th>review_rating</th>\n",
       "      <th>review_text</th>\n",
       "      <th>review_user</th>\n",
       "    </tr>\n",
       "  </thead>\n",
       "  <tbody>\n",
       "    <tr>\n",
       "      <th>0</th>\n",
       "      <td>44610</td>\n",
       "      <td>429</td>\n",
       "      <td>1</td>\n",
       "      <td>Pilsner Urquell</td>\n",
       "      <td>Czech Pilsener</td>\n",
       "      <td>4.4</td>\n",
       "      <td>3.0</td>\n",
       "      <td>3.0</td>\n",
       "      <td>3.0</td>\n",
       "      <td>3.0</td>\n",
       "      <td>2.5</td>\n",
       "      <td>First thing I noticed after pouring from green...</td>\n",
       "      <td>5803</td>\n",
       "    </tr>\n",
       "    <tr>\n",
       "      <th>1</th>\n",
       "      <td>37062</td>\n",
       "      <td>4904</td>\n",
       "      <td>1417</td>\n",
       "      <td>Black Sheep Ale (Special)</td>\n",
       "      <td>English Pale Ale</td>\n",
       "      <td>4.4</td>\n",
       "      <td>4.0</td>\n",
       "      <td>3.0</td>\n",
       "      <td>3.5</td>\n",
       "      <td>2.5</td>\n",
       "      <td>3.0</td>\n",
       "      <td>A: pours an amber with a one finger head but o...</td>\n",
       "      <td>535</td>\n",
       "    </tr>\n",
       "  </tbody>\n",
       "</table>\n",
       "</div>"
      ],
      "text/plain": [
       "   review_id  beer_id  brewer_id                  beer_name        beer_style  \\\n",
       "0      44610      429          1            Pilsner Urquell    Czech Pilsener   \n",
       "1      37062     4904       1417  Black Sheep Ale (Special)  English Pale Ale   \n",
       "\n",
       "   beer_abv  review_appearance  review_aroma  review_palate  review_taste  \\\n",
       "0       4.4                3.0           3.0            3.0           3.0   \n",
       "1       4.4                4.0           3.0            3.5           2.5   \n",
       "\n",
       "   review_rating                                        review_text  \\\n",
       "0            2.5  First thing I noticed after pouring from green...   \n",
       "1            3.0  A: pours an amber with a one finger head but o...   \n",
       "\n",
       "   review_user  \n",
       "0         5803  \n",
       "1          535  "
      ]
     },
     "execution_count": 3,
     "metadata": {},
     "output_type": "execute_result"
    }
   ],
   "source": [
    "# First lines\n",
    "data.head(2)"
   ]
  },
  {
   "cell_type": "code",
   "execution_count": 4,
   "metadata": {},
   "outputs": [
    {
     "data": {
      "text/html": [
       "<div>\n",
       "<style scoped>\n",
       "    .dataframe tbody tr th:only-of-type {\n",
       "        vertical-align: middle;\n",
       "    }\n",
       "\n",
       "    .dataframe tbody tr th {\n",
       "        vertical-align: top;\n",
       "    }\n",
       "\n",
       "    .dataframe thead th {\n",
       "        text-align: right;\n",
       "    }\n",
       "</style>\n",
       "<table border=\"1\" class=\"dataframe\">\n",
       "  <thead>\n",
       "    <tr style=\"text-align: right;\">\n",
       "      <th></th>\n",
       "      <th>review_id</th>\n",
       "      <th>beer_id</th>\n",
       "      <th>brewer_id</th>\n",
       "      <th>beer_name</th>\n",
       "      <th>beer_style</th>\n",
       "      <th>beer_abv</th>\n",
       "      <th>review_appearance</th>\n",
       "      <th>review_aroma</th>\n",
       "      <th>review_palate</th>\n",
       "      <th>review_taste</th>\n",
       "      <th>review_rating</th>\n",
       "      <th>review_text</th>\n",
       "      <th>review_user</th>\n",
       "    </tr>\n",
       "  </thead>\n",
       "  <tbody>\n",
       "    <tr>\n",
       "      <th>25188</th>\n",
       "      <td>33233</td>\n",
       "      <td>19960</td>\n",
       "      <td>1199</td>\n",
       "      <td>Founders KBS (Kentucky Breakfast Stout)</td>\n",
       "      <td>American Double / Imperial Stout</td>\n",
       "      <td>11.2</td>\n",
       "      <td>4.0</td>\n",
       "      <td>4.0</td>\n",
       "      <td>5.0</td>\n",
       "      <td>5.0</td>\n",
       "      <td>4.0</td>\n",
       "      <td>Pours a black body with a brown head that very...</td>\n",
       "      <td>2659</td>\n",
       "    </tr>\n",
       "    <tr>\n",
       "      <th>25189</th>\n",
       "      <td>23758</td>\n",
       "      <td>7463</td>\n",
       "      <td>1199</td>\n",
       "      <td>Founders Dirty Bastard</td>\n",
       "      <td>Scotch Ale / Wee Heavy</td>\n",
       "      <td>8.5</td>\n",
       "      <td>4.0</td>\n",
       "      <td>4.0</td>\n",
       "      <td>4.5</td>\n",
       "      <td>4.0</td>\n",
       "      <td>4.0</td>\n",
       "      <td>A nice sweet, malty beer...nothing complex, ju...</td>\n",
       "      <td>1494</td>\n",
       "    </tr>\n",
       "  </tbody>\n",
       "</table>\n",
       "</div>"
      ],
      "text/plain": [
       "       review_id  beer_id  brewer_id                                beer_name  \\\n",
       "25188      33233    19960       1199  Founders KBS (Kentucky Breakfast Stout)   \n",
       "25189      23758     7463       1199                   Founders Dirty Bastard   \n",
       "\n",
       "                             beer_style  beer_abv  review_appearance  \\\n",
       "25188  American Double / Imperial Stout      11.2                4.0   \n",
       "25189            Scotch Ale / Wee Heavy       8.5                4.0   \n",
       "\n",
       "       review_aroma  review_palate  review_taste  review_rating  \\\n",
       "25188           4.0            5.0           5.0            4.0   \n",
       "25189           4.0            4.5           4.0            4.0   \n",
       "\n",
       "                                             review_text  review_user  \n",
       "25188  Pours a black body with a brown head that very...         2659  \n",
       "25189  A nice sweet, malty beer...nothing complex, ju...         1494  "
      ]
     },
     "execution_count": 4,
     "metadata": {},
     "output_type": "execute_result"
    }
   ],
   "source": [
    "# Last lines\n",
    "data.tail(2)"
   ]
  },
  {
   "cell_type": "code",
   "execution_count": 5,
   "metadata": {},
   "outputs": [
    {
     "data": {
      "text/plain": [
       "(25190, 13)"
      ]
     },
     "execution_count": 5,
     "metadata": {},
     "output_type": "execute_result"
    }
   ],
   "source": [
    "# Rows and cols\n",
    "data.shape"
   ]
  },
  {
   "cell_type": "code",
   "execution_count": 6,
   "metadata": {},
   "outputs": [
    {
     "name": "stdout",
     "output_type": "stream",
     "text": [
      "<class 'pandas.core.frame.DataFrame'>\n",
      "RangeIndex: 25190 entries, 0 to 25189\n",
      "Data columns (total 13 columns):\n",
      " #   Column             Non-Null Count  Dtype  \n",
      "---  ------             --------------  -----  \n",
      " 0   review_id          25190 non-null  int64  \n",
      " 1   beer_id            25190 non-null  int64  \n",
      " 2   brewer_id          25190 non-null  int64  \n",
      " 3   beer_name          25190 non-null  object \n",
      " 4   beer_style         25190 non-null  object \n",
      " 5   beer_abv           25190 non-null  float64\n",
      " 6   review_appearance  23681 non-null  float64\n",
      " 7   review_aroma       23428 non-null  float64\n",
      " 8   review_palate      23175 non-null  float64\n",
      " 9   review_taste       22758 non-null  float64\n",
      " 10  review_rating      21663 non-null  float64\n",
      " 11  review_text        25190 non-null  object \n",
      " 12  review_user        25190 non-null  int64  \n",
      "dtypes: float64(6), int64(4), object(3)\n",
      "memory usage: 2.5+ MB\n"
     ]
    }
   ],
   "source": [
    "# Data informations\n",
    "data.info()"
   ]
  },
  {
   "cell_type": "code",
   "execution_count": 7,
   "metadata": {},
   "outputs": [
    {
     "data": {
      "text/html": [
       "<div>\n",
       "<style scoped>\n",
       "    .dataframe tbody tr th:only-of-type {\n",
       "        vertical-align: middle;\n",
       "    }\n",
       "\n",
       "    .dataframe tbody tr th {\n",
       "        vertical-align: top;\n",
       "    }\n",
       "\n",
       "    .dataframe thead th {\n",
       "        text-align: right;\n",
       "    }\n",
       "</style>\n",
       "<table border=\"1\" class=\"dataframe\">\n",
       "  <thead>\n",
       "    <tr style=\"text-align: right;\">\n",
       "      <th></th>\n",
       "      <th>review_id</th>\n",
       "      <th>beer_id</th>\n",
       "      <th>brewer_id</th>\n",
       "      <th>beer_abv</th>\n",
       "      <th>review_appearance</th>\n",
       "      <th>review_aroma</th>\n",
       "      <th>review_palate</th>\n",
       "      <th>review_taste</th>\n",
       "      <th>review_rating</th>\n",
       "      <th>review_user</th>\n",
       "    </tr>\n",
       "  </thead>\n",
       "  <tbody>\n",
       "    <tr>\n",
       "      <th>count</th>\n",
       "      <td>25190.000000</td>\n",
       "      <td>25190.000000</td>\n",
       "      <td>25190.000000</td>\n",
       "      <td>25190.000000</td>\n",
       "      <td>23681.000000</td>\n",
       "      <td>23428.000000</td>\n",
       "      <td>23175.00000</td>\n",
       "      <td>22758.000000</td>\n",
       "      <td>21663.000000</td>\n",
       "      <td>25190.000000</td>\n",
       "    </tr>\n",
       "    <tr>\n",
       "      <th>mean</th>\n",
       "      <td>27340.498849</td>\n",
       "      <td>18134.547360</td>\n",
       "      <td>1995.176776</td>\n",
       "      <td>10.555919</td>\n",
       "      <td>4.008234</td>\n",
       "      <td>4.017479</td>\n",
       "      <td>3.98658</td>\n",
       "      <td>4.106358</td>\n",
       "      <td>4.004085</td>\n",
       "      <td>3670.062763</td>\n",
       "    </tr>\n",
       "    <tr>\n",
       "      <th>std</th>\n",
       "      <td>13085.001371</td>\n",
       "      <td>15638.693441</td>\n",
       "      <td>3583.659613</td>\n",
       "      <td>39.228689</td>\n",
       "      <td>0.546348</td>\n",
       "      <td>0.627723</td>\n",
       "      <td>0.61137</td>\n",
       "      <td>0.642246</td>\n",
       "      <td>0.642363</td>\n",
       "      <td>2140.454868</td>\n",
       "    </tr>\n",
       "    <tr>\n",
       "      <th>min</th>\n",
       "      <td>60.000000</td>\n",
       "      <td>429.000000</td>\n",
       "      <td>1.000000</td>\n",
       "      <td>3.500000</td>\n",
       "      <td>1.000000</td>\n",
       "      <td>1.000000</td>\n",
       "      <td>1.00000</td>\n",
       "      <td>1.000000</td>\n",
       "      <td>1.000000</td>\n",
       "      <td>0.000000</td>\n",
       "    </tr>\n",
       "    <tr>\n",
       "      <th>25%</th>\n",
       "      <td>18686.250000</td>\n",
       "      <td>5411.000000</td>\n",
       "      <td>395.000000</td>\n",
       "      <td>6.100000</td>\n",
       "      <td>4.000000</td>\n",
       "      <td>3.500000</td>\n",
       "      <td>3.50000</td>\n",
       "      <td>4.000000</td>\n",
       "      <td>3.500000</td>\n",
       "      <td>1825.000000</td>\n",
       "    </tr>\n",
       "    <tr>\n",
       "      <th>50%</th>\n",
       "      <td>27285.500000</td>\n",
       "      <td>16074.000000</td>\n",
       "      <td>1199.000000</td>\n",
       "      <td>8.100000</td>\n",
       "      <td>4.000000</td>\n",
       "      <td>4.000000</td>\n",
       "      <td>4.00000</td>\n",
       "      <td>4.000000</td>\n",
       "      <td>4.000000</td>\n",
       "      <td>3587.500000</td>\n",
       "    </tr>\n",
       "    <tr>\n",
       "      <th>75%</th>\n",
       "      <td>37327.750000</td>\n",
       "      <td>25852.000000</td>\n",
       "      <td>1199.000000</td>\n",
       "      <td>9.800000</td>\n",
       "      <td>4.500000</td>\n",
       "      <td>4.500000</td>\n",
       "      <td>4.50000</td>\n",
       "      <td>4.500000</td>\n",
       "      <td>4.500000</td>\n",
       "      <td>5551.000000</td>\n",
       "    </tr>\n",
       "    <tr>\n",
       "      <th>max</th>\n",
       "      <td>49999.000000</td>\n",
       "      <td>60511.000000</td>\n",
       "      <td>14879.000000</td>\n",
       "      <td>579.000000</td>\n",
       "      <td>5.000000</td>\n",
       "      <td>5.000000</td>\n",
       "      <td>5.00000</td>\n",
       "      <td>5.000000</td>\n",
       "      <td>5.000000</td>\n",
       "      <td>7438.000000</td>\n",
       "    </tr>\n",
       "  </tbody>\n",
       "</table>\n",
       "</div>"
      ],
      "text/plain": [
       "          review_id       beer_id     brewer_id      beer_abv  \\\n",
       "count  25190.000000  25190.000000  25190.000000  25190.000000   \n",
       "mean   27340.498849  18134.547360   1995.176776     10.555919   \n",
       "std    13085.001371  15638.693441   3583.659613     39.228689   \n",
       "min       60.000000    429.000000      1.000000      3.500000   \n",
       "25%    18686.250000   5411.000000    395.000000      6.100000   \n",
       "50%    27285.500000  16074.000000   1199.000000      8.100000   \n",
       "75%    37327.750000  25852.000000   1199.000000      9.800000   \n",
       "max    49999.000000  60511.000000  14879.000000    579.000000   \n",
       "\n",
       "       review_appearance  review_aroma  review_palate  review_taste  \\\n",
       "count       23681.000000  23428.000000    23175.00000  22758.000000   \n",
       "mean            4.008234      4.017479        3.98658      4.106358   \n",
       "std             0.546348      0.627723        0.61137      0.642246   \n",
       "min             1.000000      1.000000        1.00000      1.000000   \n",
       "25%             4.000000      3.500000        3.50000      4.000000   \n",
       "50%             4.000000      4.000000        4.00000      4.000000   \n",
       "75%             4.500000      4.500000        4.50000      4.500000   \n",
       "max             5.000000      5.000000        5.00000      5.000000   \n",
       "\n",
       "       review_rating   review_user  \n",
       "count   21663.000000  25190.000000  \n",
       "mean        4.004085   3670.062763  \n",
       "std         0.642363   2140.454868  \n",
       "min         1.000000      0.000000  \n",
       "25%         3.500000   1825.000000  \n",
       "50%         4.000000   3587.500000  \n",
       "75%         4.500000   5551.000000  \n",
       "max         5.000000   7438.000000  "
      ]
     },
     "execution_count": 7,
     "metadata": {},
     "output_type": "execute_result"
    }
   ],
   "source": [
    "# Statistics\n",
    "data.describe()"
   ]
  },
  {
   "cell_type": "code",
   "execution_count": 8,
   "metadata": {},
   "outputs": [
    {
     "data": {
      "text/plain": [
       "review_id              int64\n",
       "beer_id                int64\n",
       "brewer_id              int64\n",
       "beer_name             object\n",
       "beer_style            object\n",
       "beer_abv             float64\n",
       "review_appearance    float64\n",
       "review_aroma         float64\n",
       "review_palate        float64\n",
       "review_taste         float64\n",
       "review_rating        float64\n",
       "review_text           object\n",
       "review_user            int64\n",
       "dtype: object"
      ]
     },
     "execution_count": 8,
     "metadata": {},
     "output_type": "execute_result"
    }
   ],
   "source": [
    "# Data types\n",
    "data.dtypes"
   ]
  },
  {
   "cell_type": "markdown",
   "metadata": {},
   "source": [
    "# <b> Exploratory Data Analysis"
   ]
  },
  {
   "cell_type": "markdown",
   "metadata": {},
   "source": [
    "## <b> Handling Missing Values"
   ]
  },
  {
   "cell_type": "code",
   "execution_count": 9,
   "metadata": {},
   "outputs": [
    {
     "data": {
      "text/plain": [
       "<AxesSubplot:>"
      ]
     },
     "execution_count": 9,
     "metadata": {},
     "output_type": "execute_result"
    },
    {
     "data": {
      "image/png": "[encoded data removed]",
      "text/plain": [
       "<Figure size 720x432 with 2 Axes>"
      ]
     },
     "metadata": {
      "needs_background": "light"
     },
     "output_type": "display_data"
    }
   ],
   "source": [
    "# Looking through a heat map\n",
    "plt.figure(figsize = (10,6))\n",
    "sea.heatmap(data.isnull(),yticklabels=False,cbar=True,cmap=pastel)"
   ]
  },
  {
   "cell_type": "markdown",
   "metadata": {},
   "source": [
    "<b> The thin different lines represents missing values"
   ]
  },
  {
   "cell_type": "code",
   "execution_count": 10,
   "metadata": {},
   "outputs": [
    {
     "data": {
      "text/plain": [
       "review_id               0\n",
       "beer_id                 0\n",
       "brewer_id               0\n",
       "beer_name               0\n",
       "beer_style              0\n",
       "beer_abv                0\n",
       "review_appearance    1509\n",
       "review_aroma         1762\n",
       "review_palate        2015\n",
       "review_taste         2432\n",
       "review_rating        3527\n",
       "review_text             0\n",
       "review_user             0\n",
       "dtype: int64"
      ]
     },
     "execution_count": 10,
     "metadata": {},
     "output_type": "execute_result"
    }
   ],
   "source": [
    "# Sum of total missing values by column\n",
    "data.isnull().sum()"
   ]
  },
  {
   "cell_type": "code",
   "execution_count": 11,
   "metadata": {},
   "outputs": [],
   "source": [
    "# Making a copy of columns with missing data\n",
    "copy = data[['review_appearance', \n",
    "             'review_aroma', \n",
    "             'review_palate',\n",
    "             'review_taste',\n",
    "             'review_rating']]"
   ]
  },
  {
   "cell_type": "code",
   "execution_count": 12,
   "metadata": {},
   "outputs": [
    {
     "data": {
      "text/html": [
       "<div>\n",
       "<style scoped>\n",
       "    .dataframe tbody tr th:only-of-type {\n",
       "        vertical-align: middle;\n",
       "    }\n",
       "\n",
       "    .dataframe tbody tr th {\n",
       "        vertical-align: top;\n",
       "    }\n",
       "\n",
       "    .dataframe thead th {\n",
       "        text-align: right;\n",
       "    }\n",
       "</style>\n",
       "<table border=\"1\" class=\"dataframe\">\n",
       "  <thead>\n",
       "    <tr style=\"text-align: right;\">\n",
       "      <th></th>\n",
       "      <th>review_appearance</th>\n",
       "      <th>review_aroma</th>\n",
       "      <th>review_palate</th>\n",
       "      <th>review_taste</th>\n",
       "      <th>review_rating</th>\n",
       "    </tr>\n",
       "  </thead>\n",
       "  <tbody>\n",
       "    <tr>\n",
       "      <th>0</th>\n",
       "      <td>3.0</td>\n",
       "      <td>3.0</td>\n",
       "      <td>3.0</td>\n",
       "      <td>3.0</td>\n",
       "      <td>2.5</td>\n",
       "    </tr>\n",
       "    <tr>\n",
       "      <th>1</th>\n",
       "      <td>4.0</td>\n",
       "      <td>3.0</td>\n",
       "      <td>3.5</td>\n",
       "      <td>2.5</td>\n",
       "      <td>3.0</td>\n",
       "    </tr>\n",
       "    <tr>\n",
       "      <th>2</th>\n",
       "      <td>4.0</td>\n",
       "      <td>4.0</td>\n",
       "      <td>4.0</td>\n",
       "      <td>NaN</td>\n",
       "      <td>4.0</td>\n",
       "    </tr>\n",
       "    <tr>\n",
       "      <th>3</th>\n",
       "      <td>4.5</td>\n",
       "      <td>4.5</td>\n",
       "      <td>4.5</td>\n",
       "      <td>4.5</td>\n",
       "      <td>4.5</td>\n",
       "    </tr>\n",
       "    <tr>\n",
       "      <th>4</th>\n",
       "      <td>4.5</td>\n",
       "      <td>4.0</td>\n",
       "      <td>4.0</td>\n",
       "      <td>4.0</td>\n",
       "      <td>4.0</td>\n",
       "    </tr>\n",
       "  </tbody>\n",
       "</table>\n",
       "</div>"
      ],
      "text/plain": [
       "   review_appearance  review_aroma  review_palate  review_taste  review_rating\n",
       "0                3.0           3.0            3.0           3.0            2.5\n",
       "1                4.0           3.0            3.5           2.5            3.0\n",
       "2                4.0           4.0            4.0           NaN            4.0\n",
       "3                4.5           4.5            4.5           4.5            4.5\n",
       "4                4.5           4.0            4.0           4.0            4.0"
      ]
     },
     "execution_count": 12,
     "metadata": {},
     "output_type": "execute_result"
    }
   ],
   "source": [
    "# Organizing in a dataframe\n",
    "data_missing = pd.DataFrame(copy)\n",
    "data_missing.head()"
   ]
  },
  {
   "cell_type": "code",
   "execution_count": 13,
   "metadata": {},
   "outputs": [],
   "source": [
    "# Fill the missing values with the median values\n",
    "imputer_most_freq = SimpleImputer(missing_values=np.nan, strategy='median')\n",
    "imputer_most_freq.fit(data_missing)\n",
    "data_imputed = imputer_most_freq.transform(data_missing)"
   ]
  },
  {
   "cell_type": "code",
   "execution_count": 14,
   "metadata": {},
   "outputs": [
    {
     "data": {
      "text/html": [
       "<div>\n",
       "<style scoped>\n",
       "    .dataframe tbody tr th:only-of-type {\n",
       "        vertical-align: middle;\n",
       "    }\n",
       "\n",
       "    .dataframe tbody tr th {\n",
       "        vertical-align: top;\n",
       "    }\n",
       "\n",
       "    .dataframe thead th {\n",
       "        text-align: right;\n",
       "    }\n",
       "</style>\n",
       "<table border=\"1\" class=\"dataframe\">\n",
       "  <thead>\n",
       "    <tr style=\"text-align: right;\">\n",
       "      <th></th>\n",
       "      <th>review_appearance</th>\n",
       "      <th>review_aroma</th>\n",
       "      <th>review_palate</th>\n",
       "      <th>review_taste</th>\n",
       "      <th>review_rating</th>\n",
       "    </tr>\n",
       "  </thead>\n",
       "  <tbody>\n",
       "    <tr>\n",
       "      <th>0</th>\n",
       "      <td>3.0</td>\n",
       "      <td>3.0</td>\n",
       "      <td>3.0</td>\n",
       "      <td>3.0</td>\n",
       "      <td>2.5</td>\n",
       "    </tr>\n",
       "    <tr>\n",
       "      <th>1</th>\n",
       "      <td>4.0</td>\n",
       "      <td>3.0</td>\n",
       "      <td>3.5</td>\n",
       "      <td>2.5</td>\n",
       "      <td>3.0</td>\n",
       "    </tr>\n",
       "    <tr>\n",
       "      <th>2</th>\n",
       "      <td>4.0</td>\n",
       "      <td>4.0</td>\n",
       "      <td>4.0</td>\n",
       "      <td>4.0</td>\n",
       "      <td>4.0</td>\n",
       "    </tr>\n",
       "    <tr>\n",
       "      <th>3</th>\n",
       "      <td>4.5</td>\n",
       "      <td>4.5</td>\n",
       "      <td>4.5</td>\n",
       "      <td>4.5</td>\n",
       "      <td>4.5</td>\n",
       "    </tr>\n",
       "    <tr>\n",
       "      <th>4</th>\n",
       "      <td>4.5</td>\n",
       "      <td>4.0</td>\n",
       "      <td>4.0</td>\n",
       "      <td>4.0</td>\n",
       "      <td>4.0</td>\n",
       "    </tr>\n",
       "  </tbody>\n",
       "</table>\n",
       "</div>"
      ],
      "text/plain": [
       "   review_appearance  review_aroma  review_palate  review_taste  review_rating\n",
       "0                3.0           3.0            3.0           3.0            2.5\n",
       "1                4.0           3.0            3.5           2.5            3.0\n",
       "2                4.0           4.0            4.0           4.0            4.0\n",
       "3                4.5           4.5            4.5           4.5            4.5\n",
       "4                4.5           4.0            4.0           4.0            4.0"
      ]
     },
     "execution_count": 14,
     "metadata": {},
     "output_type": "execute_result"
    }
   ],
   "source": [
    "# organizing in a dataframe\n",
    "new = pd.DataFrame(data_imputed, columns = ['review_appearance',\n",
    "                                            'review_aroma',\n",
    "                                            'review_palate',\n",
    "                                            'review_taste',\n",
    "                                            'review_rating'])\n",
    "# Data with filled missing values\n",
    "new.head()"
   ]
  },
  {
   "cell_type": "code",
   "execution_count": 15,
   "metadata": {},
   "outputs": [
    {
     "data": {
      "text/plain": [
       "review_appearance    0\n",
       "review_aroma         0\n",
       "review_palate        0\n",
       "review_taste         0\n",
       "review_rating        0\n",
       "dtype: int64"
      ]
     },
     "execution_count": 15,
     "metadata": {},
     "output_type": "execute_result"
    }
   ],
   "source": [
    "# Check the result\n",
    "new.isnull().sum()"
   ]
  },
  {
   "cell_type": "code",
   "execution_count": 16,
   "metadata": {},
   "outputs": [],
   "source": [
    "# Update the original dataset\n",
    "data['review_appearance'] = new['review_appearance']\n",
    "data['review_aroma'] = new['review_aroma']\n",
    "data['review_palate'] = new['review_palate']\n",
    "data['review_taste'] = new['review_taste']\n",
    "data['review_rating'] = new['review_rating']"
   ]
  },
  {
   "cell_type": "code",
   "execution_count": 17,
   "metadata": {},
   "outputs": [
    {
     "data": {
      "text/plain": [
       "review_id            0\n",
       "beer_id              0\n",
       "brewer_id            0\n",
       "beer_name            0\n",
       "beer_style           0\n",
       "beer_abv             0\n",
       "review_appearance    0\n",
       "review_aroma         0\n",
       "review_palate        0\n",
       "review_taste         0\n",
       "review_rating        0\n",
       "review_text          0\n",
       "review_user          0\n",
       "dtype: int64"
      ]
     },
     "execution_count": 17,
     "metadata": {},
     "output_type": "execute_result"
    }
   ],
   "source": [
    "# Checks if everything is ok\n",
    "data.isnull().sum()"
   ]
  },
  {
   "cell_type": "code",
   "execution_count": 21,
   "metadata": {},
   "outputs": [
    {
     "data": {
      "image/png": "[encoded data removed]",
      "text/plain": [
       "<Figure size 720x432 with 2 Axes>"
      ]
     },
     "metadata": {
      "needs_background": "light"
     },
     "output_type": "display_data"
    }
   ],
   "source": [
    "# Looking the result through a heat map\n",
    "plt.figure(figsize = (10,6))\n",
    "ax = sea.heatmap(data.isnull(),yticklabels=False,cbar=True,cmap=pastel)"
   ]
  },
  {
   "cell_type": "markdown",
   "metadata": {},
   "source": [
    "<b> Solid color indicates no missing values"
   ]
  },
  {
   "cell_type": "markdown",
   "metadata": {},
   "source": [
    "## <b> Handling Outliers"
   ]
  },
  {
   "cell_type": "code",
   "execution_count": 22,
   "metadata": {},
   "outputs": [
    {
     "name": "stdout",
     "output_type": "stream",
     "text": [
      "Look at the means of the number data = \n",
      " 10.555919015482335 \n",
      " 4.007741167129813 \n",
      " 4.016256450972608 \n",
      " 3.987653830885272 \n",
      " 4.09608971814212 \n",
      " 4.003513298928146\n"
     ]
    }
   ],
   "source": [
    "print(\"Look at the means of the number data = \\n\",\n",
    "      data['beer_abv'].mean(), \"\\n\", \n",
    "      data['review_appearance'].mean(), \"\\n\",\n",
    "      data['review_aroma'].mean(), \"\\n\",\n",
    "      data['review_palate'].mean(), \"\\n\", \n",
    "      data['review_taste'].mean(),\"\\n\",\n",
    "      data['review_rating'].mean())"
   ]
  },
  {
   "cell_type": "code",
   "execution_count": 23,
   "metadata": {},
   "outputs": [
    {
     "name": "stdout",
     "output_type": "stream",
     "text": [
      "Look at the max of the number data = \n",
      " 579.0 \n",
      " 5.0 \n",
      " 5.0 \n",
      " 5.0 \n",
      " 5.0 \n",
      " 5.0\n"
     ]
    }
   ],
   "source": [
    "print(\"Look at the max of the number data = \\n\",\n",
    "      data['beer_abv'].max(), \"\\n\", \n",
    "      data['review_appearance'].max(), \"\\n\",\n",
    "      data['review_aroma'].max(), \"\\n\",\n",
    "      data['review_palate'].max(), \"\\n\", \n",
    "      data['review_taste'].max(),\"\\n\",\n",
    "      data['review_rating'].max())"
   ]
  },
  {
   "cell_type": "code",
   "execution_count": 24,
   "metadata": {},
   "outputs": [
    {
     "name": "stdout",
     "output_type": "stream",
     "text": [
      "Look at the min of the number data = \n",
      " 3.5 \n",
      " 1.0 \n",
      " 1.0 \n",
      " 1.0 \n",
      " 1.0 \n",
      " 1.0\n"
     ]
    }
   ],
   "source": [
    "print(\"Look at the min of the number data = \\n\",\n",
    "      data['beer_abv'].min(), \"\\n\", \n",
    "      data['review_appearance'].min(), \"\\n\",\n",
    "      data['review_aroma'].min(), \"\\n\",\n",
    "      data['review_palate'].min(), \"\\n\", \n",
    "      data['review_taste'].min(),\"\\n\",\n",
    "      data['review_rating'].min())"
   ]
  },
  {
   "cell_type": "markdown",
   "metadata": {},
   "source": [
    "<b> The value 579 for the ABV columns is an outlier"
   ]
  },
  {
   "cell_type": "code",
   "execution_count": 25,
   "metadata": {},
   "outputs": [],
   "source": [
    "# Select the indexes where the value 579 appears\n",
    "outliers = data[data['beer_abv'] ==  579.0].index"
   ]
  },
  {
   "cell_type": "code",
   "execution_count": 26,
   "metadata": {},
   "outputs": [],
   "source": [
    "# Drop them from the dataset\n",
    "data.drop(outliers, inplace=True, axis=0)"
   ]
  },
  {
   "cell_type": "markdown",
   "metadata": {},
   "source": [
    "## <b> Splitting Data in Number and Text"
   ]
  },
  {
   "cell_type": "code",
   "execution_count": 27,
   "metadata": {},
   "outputs": [],
   "source": [
    "# Creating a new dataframe with text columns\n",
    "text_columns = pd.DataFrame(data = data[['beer_name',\n",
    "                                            'beer_style',\n",
    "                                            'review_text']])"
   ]
  },
  {
   "cell_type": "code",
   "execution_count": 28,
   "metadata": {},
   "outputs": [
    {
     "data": {
      "text/plain": [
       "beer_name      object\n",
       "beer_style     object\n",
       "review_text    object\n",
       "dtype: object"
      ]
     },
     "execution_count": 28,
     "metadata": {},
     "output_type": "execute_result"
    }
   ],
   "source": [
    "# Data types\n",
    "text_columns.dtypes"
   ]
  },
  {
   "cell_type": "code",
   "execution_count": 29,
   "metadata": {},
   "outputs": [
    {
     "data": {
      "text/html": [
       "<div>\n",
       "<style scoped>\n",
       "    .dataframe tbody tr th:only-of-type {\n",
       "        vertical-align: middle;\n",
       "    }\n",
       "\n",
       "    .dataframe tbody tr th {\n",
       "        vertical-align: top;\n",
       "    }\n",
       "\n",
       "    .dataframe thead th {\n",
       "        text-align: right;\n",
       "    }\n",
       "</style>\n",
       "<table border=\"1\" class=\"dataframe\">\n",
       "  <thead>\n",
       "    <tr style=\"text-align: right;\">\n",
       "      <th></th>\n",
       "      <th>beer_name</th>\n",
       "      <th>beer_style</th>\n",
       "      <th>review_text</th>\n",
       "    </tr>\n",
       "  </thead>\n",
       "  <tbody>\n",
       "    <tr>\n",
       "      <th>0</th>\n",
       "      <td>Pilsner Urquell</td>\n",
       "      <td>Czech Pilsener</td>\n",
       "      <td>First thing I noticed after pouring from green...</td>\n",
       "    </tr>\n",
       "    <tr>\n",
       "      <th>1</th>\n",
       "      <td>Black Sheep Ale (Special)</td>\n",
       "      <td>English Pale Ale</td>\n",
       "      <td>A: pours an amber with a one finger head but o...</td>\n",
       "    </tr>\n",
       "    <tr>\n",
       "      <th>2</th>\n",
       "      <td>Frog's Hollow Double Pumpkin Ale</td>\n",
       "      <td>Pumpkin Ale</td>\n",
       "      <td>One of the better pumpkin ales I've tried so f...</td>\n",
       "    </tr>\n",
       "    <tr>\n",
       "      <th>3</th>\n",
       "      <td>Founders Dirty Bastard</td>\n",
       "      <td>Scotch Ale / Wee Heavy</td>\n",
       "      <td>Poured from 12 oz. bottle into a Sam Adams per...</td>\n",
       "    </tr>\n",
       "    <tr>\n",
       "      <th>4</th>\n",
       "      <td>Founders Imperial Stout</td>\n",
       "      <td>Russian Imperial Stout</td>\n",
       "      <td>Bottle poured into a tulip.\\t\\tA - Pours jet b...</td>\n",
       "    </tr>\n",
       "  </tbody>\n",
       "</table>\n",
       "</div>"
      ],
      "text/plain": [
       "                          beer_name              beer_style  \\\n",
       "0                   Pilsner Urquell          Czech Pilsener   \n",
       "1         Black Sheep Ale (Special)        English Pale Ale   \n",
       "2  Frog's Hollow Double Pumpkin Ale             Pumpkin Ale   \n",
       "3            Founders Dirty Bastard  Scotch Ale / Wee Heavy   \n",
       "4           Founders Imperial Stout  Russian Imperial Stout   \n",
       "\n",
       "                                         review_text  \n",
       "0  First thing I noticed after pouring from green...  \n",
       "1  A: pours an amber with a one finger head but o...  \n",
       "2  One of the better pumpkin ales I've tried so f...  \n",
       "3  Poured from 12 oz. bottle into a Sam Adams per...  \n",
       "4  Bottle poured into a tulip.\\t\\tA - Pours jet b...  "
      ]
     },
     "execution_count": 29,
     "metadata": {},
     "output_type": "execute_result"
    }
   ],
   "source": [
    "# Looking at the first columns\n",
    "text_columns.head()"
   ]
  },
  {
   "cell_type": "code",
   "execution_count": 30,
   "metadata": {},
   "outputs": [],
   "source": [
    "name_style_text = text_columns.copy()"
   ]
  },
  {
   "cell_type": "code",
   "execution_count": 31,
   "metadata": {},
   "outputs": [],
   "source": [
    "# Function to transform non-numerical labels to numerical labels.\n",
    "def StringToNumber(values):\n",
    "    le = preprocessing.LabelEncoder()\n",
    "    le.fit(values)\n",
    "    return le.transform(values) "
   ]
  },
  {
   "cell_type": "code",
   "execution_count": 32,
   "metadata": {},
   "outputs": [],
   "source": [
    "# Applying the StringToNumber function to strings columns\n",
    "name_style_text['beer_name'] = StringToNumber(name_style_text['beer_name'])\n",
    "name_style_text['beer_style'] = StringToNumber(name_style_text['beer_style'])\n",
    "name_style_text['review_text'] = StringToNumber(name_style_text['review_text'])"
   ]
  },
  {
   "cell_type": "code",
   "execution_count": 33,
   "metadata": {},
   "outputs": [
    {
     "data": {
      "text/html": [
       "<div>\n",
       "<style scoped>\n",
       "    .dataframe tbody tr th:only-of-type {\n",
       "        vertical-align: middle;\n",
       "    }\n",
       "\n",
       "    .dataframe tbody tr th {\n",
       "        vertical-align: top;\n",
       "    }\n",
       "\n",
       "    .dataframe thead th {\n",
       "        text-align: right;\n",
       "    }\n",
       "</style>\n",
       "<table border=\"1\" class=\"dataframe\">\n",
       "  <thead>\n",
       "    <tr style=\"text-align: right;\">\n",
       "      <th></th>\n",
       "      <th>beer_name</th>\n",
       "      <th>beer_style</th>\n",
       "      <th>review_text</th>\n",
       "    </tr>\n",
       "  </thead>\n",
       "  <tbody>\n",
       "    <tr>\n",
       "      <th>0</th>\n",
       "      <td>47</td>\n",
       "      <td>9</td>\n",
       "      <td>9719</td>\n",
       "    </tr>\n",
       "    <tr>\n",
       "      <th>1</th>\n",
       "      <td>9</td>\n",
       "      <td>12</td>\n",
       "      <td>6051</td>\n",
       "    </tr>\n",
       "    <tr>\n",
       "      <th>2</th>\n",
       "      <td>36</td>\n",
       "      <td>23</td>\n",
       "      <td>14139</td>\n",
       "    </tr>\n",
       "    <tr>\n",
       "      <th>3</th>\n",
       "      <td>25</td>\n",
       "      <td>27</td>\n",
       "      <td>15093</td>\n",
       "    </tr>\n",
       "    <tr>\n",
       "      <th>4</th>\n",
       "      <td>28</td>\n",
       "      <td>25</td>\n",
       "      <td>8173</td>\n",
       "    </tr>\n",
       "  </tbody>\n",
       "</table>\n",
       "</div>"
      ],
      "text/plain": [
       "   beer_name  beer_style  review_text\n",
       "0         47           9         9719\n",
       "1          9          12         6051\n",
       "2         36          23        14139\n",
       "3         25          27        15093\n",
       "4         28          25         8173"
      ]
     },
     "execution_count": 33,
     "metadata": {},
     "output_type": "execute_result"
    }
   ],
   "source": [
    "# String columns with a numerical representation\n",
    "name_style_text.head()"
   ]
  },
  {
   "cell_type": "code",
   "execution_count": 34,
   "metadata": {},
   "outputs": [],
   "source": [
    "# Drop text values\n",
    "data = data.drop(name_style_text, axis = 1)"
   ]
  },
  {
   "cell_type": "markdown",
   "metadata": {},
   "source": [
    "<b> Numerical dataset"
   ]
  },
  {
   "cell_type": "code",
   "execution_count": 35,
   "metadata": {},
   "outputs": [
    {
     "data": {
      "text/plain": [
       "review_id              int64\n",
       "beer_id                int64\n",
       "brewer_id              int64\n",
       "beer_abv             float64\n",
       "review_appearance    float64\n",
       "review_aroma         float64\n",
       "review_palate        float64\n",
       "review_taste         float64\n",
       "review_rating        float64\n",
       "review_user            int64\n",
       "dtype: object"
      ]
     },
     "execution_count": 35,
     "metadata": {},
     "output_type": "execute_result"
    }
   ],
   "source": [
    "data.dtypes"
   ]
  },
  {
   "cell_type": "markdown",
   "metadata": {},
   "source": [
    "<b> Textual dataset"
   ]
  },
  {
   "cell_type": "code",
   "execution_count": 36,
   "metadata": {},
   "outputs": [
    {
     "data": {
      "text/plain": [
       "beer_name      object\n",
       "beer_style     object\n",
       "review_text    object\n",
       "dtype: object"
      ]
     },
     "execution_count": 36,
     "metadata": {},
     "output_type": "execute_result"
    }
   ],
   "source": [
    "# String Data #\n",
    "text_columns.dtypes "
   ]
  },
  {
   "cell_type": "markdown",
   "metadata": {},
   "source": [
    "<b> Numerical representation of textual dataset"
   ]
  },
  {
   "cell_type": "code",
   "execution_count": 37,
   "metadata": {},
   "outputs": [
    {
     "data": {
      "text/plain": [
       "beer_name      int64\n",
       "beer_style     int64\n",
       "review_text    int64\n",
       "dtype: object"
      ]
     },
     "execution_count": 37,
     "metadata": {},
     "output_type": "execute_result"
    }
   ],
   "source": [
    "# Numerical Representation of String Data #\n",
    "name_style_text.dtypes"
   ]
  },
  {
   "cell_type": "code",
   "execution_count": 38,
   "metadata": {},
   "outputs": [],
   "source": [
    "# All numerical data together  \n",
    "data = pd.concat([data,name_style_text], axis=1)"
   ]
  },
  {
   "cell_type": "markdown",
   "metadata": {},
   "source": [
    "## <b> Visualization"
   ]
  },
  {
   "cell_type": "markdown",
   "metadata": {},
   "source": [
    "#### <b> Ratings Distribution"
   ]
  },
  {
   "cell_type": "code",
   "execution_count": 39,
   "metadata": {},
   "outputs": [
    {
     "data": {
      "text/plain": [
       "4.0    11783\n",
       "4.5     5770\n",
       "3.5     3281\n",
       "5.0     1936\n",
       "3.0     1380\n",
       "2.5      497\n",
       "2.0      281\n",
       "1.5       78\n",
       "1.0       65\n",
       "Name: review_rating, dtype: int64"
      ]
     },
     "execution_count": 39,
     "metadata": {},
     "output_type": "execute_result"
    }
   ],
   "source": [
    "# Counting of ratings \n",
    "data['review_rating'].value_counts()"
   ]
  },
  {
   "cell_type": "code",
   "execution_count": 40,
   "metadata": {},
   "outputs": [
    {
     "data": {
      "text/plain": [
       "Text(0, 0.5, 'Quantity')"
      ]
     },
     "execution_count": 40,
     "metadata": {},
     "output_type": "execute_result"
    },
    {
     "data": {
      "image/png": "[encoded data removed]",
      "text/plain": [
       "<Figure size 432x288 with 1 Axes>"
      ]
     },
     "metadata": {
      "needs_background": "light"
     },
     "output_type": "display_data"
    }
   ],
   "source": [
    "# Visualize counting of ratings \n",
    "sea.countplot(data['review_rating'], palette=pastel)\n",
    "plt.title('Ratings Distribution ', fontsize=18)\n",
    "plt.xlabel('Ratings', fontsize=14)\n",
    "plt.ylabel('Quantity', fontsize=14)"
   ]
  },
  {
   "cell_type": "markdown",
   "metadata": {},
   "source": [
    "We can see that there's over 1200 beers rated as 4 (the greater amount) and a few rated as less than 2."
   ]
  },
  {
   "cell_type": "markdown",
   "metadata": {},
   "source": [
    "##### <b> Total Number of Beers (unique)\n",
    "    "
   ]
  },
  {
   "cell_type": "code",
   "execution_count": 41,
   "metadata": {},
   "outputs": [
    {
     "name": "stdout",
     "output_type": "stream",
     "text": [
      "Number of Beers =  63\n"
     ]
    }
   ],
   "source": [
    "print(\"Number of Beers = \", len(data['beer_id'].unique()))"
   ]
  },
  {
   "cell_type": "markdown",
   "metadata": {},
   "source": [
    "##### <b> Total Number of Users (unique)\n",
    "    "
   ]
  },
  {
   "cell_type": "code",
   "execution_count": 42,
   "metadata": {},
   "outputs": [
    {
     "name": "stdout",
     "output_type": "stream",
     "text": [
      "Number of Users =  6451\n"
     ]
    }
   ],
   "source": [
    "print(\"Number of Users = \", len(data['review_user'].unique()))"
   ]
  },
  {
   "cell_type": "markdown",
   "metadata": {},
   "source": [
    "##### <b> Total Number of Brewers (unique)\n",
    "    "
   ]
  },
  {
   "cell_type": "code",
   "execution_count": 43,
   "metadata": {},
   "outputs": [
    {
     "name": "stdout",
     "output_type": "stream",
     "text": [
      "Number of Brewers =  14\n"
     ]
    }
   ],
   "source": [
    "print(\"Number of Brewers = \", len(data['brewer_id'].unique()))"
   ]
  },
  {
   "cell_type": "markdown",
   "metadata": {},
   "source": [
    "### <b> Number of Rated Beers by Style"
   ]
  },
  {
   "cell_type": "code",
   "execution_count": 44,
   "metadata": {},
   "outputs": [
    {
     "data": {
      "image/png": "[encoded data removed]",
      "text/plain": [
       "<Figure size 720x576 with 1 Axes>"
      ]
     },
     "metadata": {
      "needs_background": "light"
     },
     "output_type": "display_data"
    }
   ],
   "source": [
    "# Grouping the dataset's textual beer_style values\n",
    "styles = text_columns['beer_style'].value_counts().sort_values(ascending=True)\n",
    "\n",
    "# Plot the result\n",
    "plt.figure(figsize = (10,8))\n",
    "plt.barh(y = styles.index, width = styles.values, color = pastel)\n",
    "plt.title('Number of Rating by Styles', fontsize=18)\n",
    "plt.xlabel('Quantity', fontsize=14)\n",
    "plt.ylabel('Styles', fontsize=14)\n",
    "sea.despine(top=True, right=True, left=True, bottom=True)"
   ]
  },
  {
   "cell_type": "markdown",
   "metadata": {},
   "source": [
    "American Double / Imperial Stout is the more rated style."
   ]
  },
  {
   "cell_type": "markdown",
   "metadata": {},
   "source": [
    "### <b> Number of Rated Beers by Names"
   ]
  },
  {
   "cell_type": "code",
   "execution_count": 45,
   "metadata": {},
   "outputs": [
    {
     "data": {
      "image/png": "[encoded data removed]",
      "text/plain": [
       "<Figure size 720x1008 with 1 Axes>"
      ]
     },
     "metadata": {
      "needs_background": "light"
     },
     "output_type": "display_data"
    }
   ],
   "source": [
    "# Grouping the dataset's beer_name textual values\n",
    "beers = text_columns['beer_name'].value_counts().sort_values(ascending=True)\n",
    "\n",
    "# Plot the result\n",
    "plt.figure(figsize = (10,14))\n",
    "plt.barh(y = beers.index, width = beers.values, color = pastel)\n",
    "plt.title('Number of Rating by Names', fontsize=18)\n",
    "plt.xlabel('Quantity', fontsize=14)\n",
    "plt.ylabel('Names', fontsize=14)\n",
    "sea.despine(top=True, right=True, left=True, bottom=True)"
   ]
  },
  {
   "cell_type": "markdown",
   "metadata": {},
   "source": [
    "The beer named Founders Breakfast Stout is the name of the most rated beer, around 1750 ratings given by users"
   ]
  },
  {
   "cell_type": "markdown",
   "metadata": {},
   "source": [
    "### <b> Number of Rated Beers by Brewers\n",
    "    "
   ]
  },
  {
   "cell_type": "code",
   "execution_count": 46,
   "metadata": {},
   "outputs": [
    {
     "data": {
      "text/html": [
       "<div>\n",
       "<style scoped>\n",
       "    .dataframe tbody tr th:only-of-type {\n",
       "        vertical-align: middle;\n",
       "    }\n",
       "\n",
       "    .dataframe tbody tr th {\n",
       "        vertical-align: top;\n",
       "    }\n",
       "\n",
       "    .dataframe thead th {\n",
       "        text-align: right;\n",
       "    }\n",
       "</style>\n",
       "<table border=\"1\" class=\"dataframe\">\n",
       "  <thead>\n",
       "    <tr style=\"text-align: right;\">\n",
       "      <th></th>\n",
       "      <th>Brewers</th>\n",
       "      <th>Beers</th>\n",
       "    </tr>\n",
       "  </thead>\n",
       "  <tbody>\n",
       "    <tr>\n",
       "      <th>0</th>\n",
       "      <td>1</td>\n",
       "      <td>946</td>\n",
       "    </tr>\n",
       "    <tr>\n",
       "      <th>1</th>\n",
       "      <td>163</td>\n",
       "      <td>345</td>\n",
       "    </tr>\n",
       "    <tr>\n",
       "      <th>2</th>\n",
       "      <td>263</td>\n",
       "      <td>1737</td>\n",
       "    </tr>\n",
       "    <tr>\n",
       "      <th>3</th>\n",
       "      <td>365</td>\n",
       "      <td>506</td>\n",
       "    </tr>\n",
       "    <tr>\n",
       "      <th>4</th>\n",
       "      <td>394</td>\n",
       "      <td>2277</td>\n",
       "    </tr>\n",
       "  </tbody>\n",
       "</table>\n",
       "</div>"
      ],
      "text/plain": [
       "   Brewers  Beers\n",
       "0        1    946\n",
       "1      163    345\n",
       "2      263   1737\n",
       "3      365    506\n",
       "4      394   2277"
      ]
     },
     "execution_count": 46,
     "metadata": {},
     "output_type": "execute_result"
    }
   ],
   "source": [
    "# Counting the beers by brewers\n",
    "beer_count = data.groupby(['brewer_id'])['beer_id'].count()\n",
    "\n",
    "# Organizing in a dataset to a clean visualization \n",
    "df_beer_count = pd.DataFrame()\n",
    "df_beer_count['Brewers'] = beer_count.index\n",
    "df_beer_count['Beers'] = beer_count.values\n",
    "df_beer_count.head()"
   ]
  },
  {
   "cell_type": "code",
   "execution_count": 47,
   "metadata": {},
   "outputs": [
    {
     "data": {
      "text/plain": [
       "Text(0, 0.5, 'Quantity')"
      ]
     },
     "execution_count": 47,
     "metadata": {},
     "output_type": "execute_result"
    },
    {
     "data": {
      "image/png": "[encoded data removed]",
      "text/plain": [
       "<Figure size 720x576 with 1 Axes>"
      ]
     },
     "metadata": {
      "needs_background": "light"
     },
     "output_type": "display_data"
    }
   ],
   "source": [
    "# Plot the results\n",
    "plt.figure(figsize = (10,8))\n",
    "sea.barplot(x = 'Brewers', y = 'Beers', data= df_beer_count, palette = pastel)\n",
    "sea.despine(top=True, right=True, left=True, bottom=True)\n",
    "plt.title('Number of Rating by Brewers', fontsize=18)\n",
    "plt.xlabel('Brewers', fontsize=14)\n",
    "plt.ylabel('Quantity', fontsize=14)"
   ]
  },
  {
   "cell_type": "markdown",
   "metadata": {},
   "source": [
    "The brewer id 1199 is the brewer with most rated beers."
   ]
  },
  {
   "cell_type": "markdown",
   "metadata": {},
   "source": [
    "### <b> Mean Rating of Beers by Styles"
   ]
  },
  {
   "cell_type": "code",
   "execution_count": 48,
   "metadata": {},
   "outputs": [
    {
     "data": {
      "text/html": [
       "<div>\n",
       "<style scoped>\n",
       "    .dataframe tbody tr th:only-of-type {\n",
       "        vertical-align: middle;\n",
       "    }\n",
       "\n",
       "    .dataframe tbody tr th {\n",
       "        vertical-align: top;\n",
       "    }\n",
       "\n",
       "    .dataframe thead th {\n",
       "        text-align: right;\n",
       "    }\n",
       "</style>\n",
       "<table border=\"1\" class=\"dataframe\">\n",
       "  <thead>\n",
       "    <tr style=\"text-align: right;\">\n",
       "      <th></th>\n",
       "      <th>Ratings</th>\n",
       "      <th>Styles</th>\n",
       "    </tr>\n",
       "  </thead>\n",
       "  <tbody>\n",
       "    <tr>\n",
       "      <th>0</th>\n",
       "      <td>2.5</td>\n",
       "      <td>Czech Pilsener</td>\n",
       "    </tr>\n",
       "    <tr>\n",
       "      <th>1</th>\n",
       "      <td>3.0</td>\n",
       "      <td>English Pale Ale</td>\n",
       "    </tr>\n",
       "    <tr>\n",
       "      <th>2</th>\n",
       "      <td>4.0</td>\n",
       "      <td>Pumpkin Ale</td>\n",
       "    </tr>\n",
       "    <tr>\n",
       "      <th>3</th>\n",
       "      <td>4.5</td>\n",
       "      <td>Scotch Ale / Wee Heavy</td>\n",
       "    </tr>\n",
       "    <tr>\n",
       "      <th>4</th>\n",
       "      <td>4.0</td>\n",
       "      <td>Russian Imperial Stout</td>\n",
       "    </tr>\n",
       "  </tbody>\n",
       "</table>\n",
       "</div>"
      ],
      "text/plain": [
       "   Ratings                  Styles\n",
       "0      2.5          Czech Pilsener\n",
       "1      3.0        English Pale Ale\n",
       "2      4.0             Pumpkin Ale\n",
       "3      4.5  Scotch Ale / Wee Heavy\n",
       "4      4.0  Russian Imperial Stout"
      ]
     },
     "execution_count": 48,
     "metadata": {},
     "output_type": "execute_result"
    }
   ],
   "source": [
    "# Creating a dataframe with two columns: ratings (numeric) and styles (text)\n",
    "df_rating_style = pd.DataFrame(columns =['Ratings', 'Styles'])\n",
    "df_rating_style['Ratings'] = data['review_rating']\n",
    "df_rating_style['Styles'] = text_columns['beer_style']\n",
    "df_rating_style.head()"
   ]
  },
  {
   "cell_type": "code",
   "execution_count": 49,
   "metadata": {},
   "outputs": [],
   "source": [
    "# Grouping the means of ratings by styles\n",
    "rating_style = df_rating_style.groupby(['Styles'])['Ratings'].mean().sort_values(ascending=True)"
   ]
  },
  {
   "cell_type": "code",
   "execution_count": 50,
   "metadata": {},
   "outputs": [
    {
     "data": {
      "text/html": [
       "<div>\n",
       "<style scoped>\n",
       "    .dataframe tbody tr th:only-of-type {\n",
       "        vertical-align: middle;\n",
       "    }\n",
       "\n",
       "    .dataframe tbody tr th {\n",
       "        vertical-align: top;\n",
       "    }\n",
       "\n",
       "    .dataframe thead th {\n",
       "        text-align: right;\n",
       "    }\n",
       "</style>\n",
       "<table border=\"1\" class=\"dataframe\">\n",
       "  <thead>\n",
       "    <tr style=\"text-align: right;\">\n",
       "      <th></th>\n",
       "      <th>Styles</th>\n",
       "      <th>Ratings Mean</th>\n",
       "    </tr>\n",
       "  </thead>\n",
       "  <tbody>\n",
       "    <tr>\n",
       "      <th>0</th>\n",
       "      <td>Light Lager</td>\n",
       "      <td>2.921739</td>\n",
       "    </tr>\n",
       "    <tr>\n",
       "      <th>1</th>\n",
       "      <td>Fruit / Vegetable Beer</td>\n",
       "      <td>3.660241</td>\n",
       "    </tr>\n",
       "    <tr>\n",
       "      <th>2</th>\n",
       "      <td>English Pale Ale</td>\n",
       "      <td>3.719530</td>\n",
       "    </tr>\n",
       "    <tr>\n",
       "      <th>3</th>\n",
       "      <td>Euro Pale Lager</td>\n",
       "      <td>3.747863</td>\n",
       "    </tr>\n",
       "    <tr>\n",
       "      <th>4</th>\n",
       "      <td>English Porter</td>\n",
       "      <td>3.747899</td>\n",
       "    </tr>\n",
       "  </tbody>\n",
       "</table>\n",
       "</div>"
      ],
      "text/plain": [
       "                   Styles  Ratings Mean\n",
       "0             Light Lager      2.921739\n",
       "1  Fruit / Vegetable Beer      3.660241\n",
       "2        English Pale Ale      3.719530\n",
       "3         Euro Pale Lager      3.747863\n",
       "4          English Porter      3.747899"
      ]
     },
     "execution_count": 50,
     "metadata": {},
     "output_type": "execute_result"
    }
   ],
   "source": [
    "# Creating a new dataframe with the style and repective mean of ratings\n",
    "df_rating_style_mean = pd.DataFrame()\n",
    "df_rating_style_mean['Styles'] = rating_style.index\n",
    "df_rating_style_mean['Ratings Mean'] = rating_style.values\n",
    "df_rating_style_mean.head()"
   ]
  },
  {
   "cell_type": "code",
   "execution_count": 51,
   "metadata": {},
   "outputs": [
    {
     "data": {
      "image/png": "[encoded data removed]",
      "text/plain": [
       "<Figure size 720x576 with 1 Axes>"
      ]
     },
     "metadata": {
      "needs_background": "light"
     },
     "output_type": "display_data"
    }
   ],
   "source": [
    "# Plot the results\n",
    "plt.figure(figsize = (10,8))\n",
    "plt.barh(y = df_rating_style_mean['Styles'], \n",
    "          width = df_rating_style_mean['Ratings Mean'], \n",
    "          data = df_rating_style_mean,\n",
    "          color = pastel)\n",
    "plt.title('Mean Rating of Beers by Styles ', fontsize=18)\n",
    "plt.xlabel('Mean', fontsize=14)\n",
    "plt.ylabel('Styles', fontsize=14)\n",
    "sea.despine(top=True, right=True, left=True, bottom=True)"
   ]
  },
  {
   "cell_type": "markdown",
   "metadata": {},
   "source": [
    "### <b> Mean Rating of Beers by ABV"
   ]
  },
  {
   "cell_type": "code",
   "execution_count": 52,
   "metadata": {},
   "outputs": [],
   "source": [
    "# Creating a dataframe with two columns: ABV and ratings\n",
    "df_abv_style = pd.DataFrame(columns =['ABV', 'Ratings'])\n",
    "df_abv_style['ABV'] = data['beer_abv']\n",
    "df_abv_style['Ratings'] = data['review_rating']"
   ]
  },
  {
   "cell_type": "code",
   "execution_count": 53,
   "metadata": {},
   "outputs": [],
   "source": [
    "# Grouping the means of ratings by abv\n",
    "abv_style = df_abv_style.groupby(['ABV'])['Ratings'].mean().sort_values(ascending=True)"
   ]
  },
  {
   "cell_type": "code",
   "execution_count": 54,
   "metadata": {},
   "outputs": [
    {
     "data": {
      "text/html": [
       "<div>\n",
       "<style scoped>\n",
       "    .dataframe tbody tr th:only-of-type {\n",
       "        vertical-align: middle;\n",
       "    }\n",
       "\n",
       "    .dataframe tbody tr th {\n",
       "        vertical-align: top;\n",
       "    }\n",
       "\n",
       "    .dataframe thead th {\n",
       "        text-align: right;\n",
       "    }\n",
       "</style>\n",
       "<table border=\"1\" class=\"dataframe\">\n",
       "  <thead>\n",
       "    <tr style=\"text-align: right;\">\n",
       "      <th></th>\n",
       "      <th>ABV</th>\n",
       "      <th>Ratings</th>\n",
       "    </tr>\n",
       "  </thead>\n",
       "  <tbody>\n",
       "    <tr>\n",
       "      <th>0</th>\n",
       "      <td>3.5</td>\n",
       "      <td>2.921739</td>\n",
       "    </tr>\n",
       "    <tr>\n",
       "      <th>1</th>\n",
       "      <td>5.7</td>\n",
       "      <td>3.556270</td>\n",
       "    </tr>\n",
       "    <tr>\n",
       "      <th>2</th>\n",
       "      <td>4.7</td>\n",
       "      <td>3.617716</td>\n",
       "    </tr>\n",
       "    <tr>\n",
       "      <th>3</th>\n",
       "      <td>8.2</td>\n",
       "      <td>3.633065</td>\n",
       "    </tr>\n",
       "    <tr>\n",
       "      <th>4</th>\n",
       "      <td>5.1</td>\n",
       "      <td>3.711712</td>\n",
       "    </tr>\n",
       "  </tbody>\n",
       "</table>\n",
       "</div>"
      ],
      "text/plain": [
       "   ABV   Ratings\n",
       "0  3.5  2.921739\n",
       "1  5.7  3.556270\n",
       "2  4.7  3.617716\n",
       "3  8.2  3.633065\n",
       "4  5.1  3.711712"
      ]
     },
     "execution_count": 54,
     "metadata": {},
     "output_type": "execute_result"
    }
   ],
   "source": [
    "# Creating a new dataframe with the style and repective mean of ratings\n",
    "df_abv_style = pd.DataFrame()\n",
    "df_abv_style['ABV'] = abv_style.index\n",
    "df_abv_style['Ratings'] = abv_style.values\n",
    "df_abv_style.head()"
   ]
  },
  {
   "cell_type": "code",
   "execution_count": 55,
   "metadata": {},
   "outputs": [
    {
     "data": {
      "text/plain": [
       "Text(0, 0.5, 'Ratings')"
      ]
     },
     "execution_count": 55,
     "metadata": {},
     "output_type": "execute_result"
    },
    {
     "data": {
      "image/png": "[encoded data removed]",
      "text/plain": [
       "<Figure size 432x288 with 1 Axes>"
      ]
     },
     "metadata": {
      "needs_background": "light"
     },
     "output_type": "display_data"
    }
   ],
   "source": [
    "sea.scatterplot(x = 'ABV', y = 'Ratings', data = df_abv_style)\n",
    "plt.title('Mean Rating of Beers by ABV ', fontsize=18)\n",
    "plt.xlabel('ABV', fontsize=14)\n",
    "plt.ylabel('Ratings', fontsize=14)"
   ]
  },
  {
   "cell_type": "markdown",
   "metadata": {},
   "source": [
    "### <b> Which Brewers produce the Beers with Strongest ABVs?"
   ]
  },
  {
   "cell_type": "code",
   "execution_count": 56,
   "metadata": {},
   "outputs": [],
   "source": [
    "# Select the brewers which produces the strongs abv 6 or higher\n",
    "brewer_strong_abv = data['brewer_id'].groupby(data['beer_abv']).count()\n",
    "brewer_strong_abv = brewer_strong_abv[brewer_strong_abv.index >= 6]"
   ]
  },
  {
   "cell_type": "code",
   "execution_count": 57,
   "metadata": {},
   "outputs": [
    {
     "data": {
      "text/html": [
       "<div>\n",
       "<style scoped>\n",
       "    .dataframe tbody tr th:only-of-type {\n",
       "        vertical-align: middle;\n",
       "    }\n",
       "\n",
       "    .dataframe tbody tr th {\n",
       "        vertical-align: top;\n",
       "    }\n",
       "\n",
       "    .dataframe thead th {\n",
       "        text-align: right;\n",
       "    }\n",
       "</style>\n",
       "<table border=\"1\" class=\"dataframe\">\n",
       "  <thead>\n",
       "    <tr style=\"text-align: right;\">\n",
       "      <th></th>\n",
       "      <th>Brewers</th>\n",
       "      <th>ABV</th>\n",
       "    </tr>\n",
       "  </thead>\n",
       "  <tbody>\n",
       "    <tr>\n",
       "      <th>0</th>\n",
       "      <td>268</td>\n",
       "      <td>6.0</td>\n",
       "    </tr>\n",
       "    <tr>\n",
       "      <th>1</th>\n",
       "      <td>456</td>\n",
       "      <td>6.1</td>\n",
       "    </tr>\n",
       "    <tr>\n",
       "      <th>2</th>\n",
       "      <td>108</td>\n",
       "      <td>6.2</td>\n",
       "    </tr>\n",
       "    <tr>\n",
       "      <th>3</th>\n",
       "      <td>1838</td>\n",
       "      <td>6.5</td>\n",
       "    </tr>\n",
       "    <tr>\n",
       "      <th>4</th>\n",
       "      <td>1713</td>\n",
       "      <td>6.6</td>\n",
       "    </tr>\n",
       "  </tbody>\n",
       "</table>\n",
       "</div>"
      ],
      "text/plain": [
       "   Brewers  ABV\n",
       "0      268  6.0\n",
       "1      456  6.1\n",
       "2      108  6.2\n",
       "3     1838  6.5\n",
       "4     1713  6.6"
      ]
     },
     "execution_count": 57,
     "metadata": {},
     "output_type": "execute_result"
    }
   ],
   "source": [
    "# Organizing data in a dataframe\n",
    "df_brewer_strong_abv = pd.DataFrame()\n",
    "df_brewer_strong_abv['Brewers'] = brewer_strong_abv.values\n",
    "df_brewer_strong_abv['ABV'] = brewer_strong_abv.index\n",
    "df_brewer_strong_abv.head()"
   ]
  },
  {
   "cell_type": "code",
   "execution_count": 58,
   "metadata": {},
   "outputs": [
    {
     "data": {
      "text/plain": [
       "Text(0, 0.5, 'ABVs')"
      ]
     },
     "execution_count": 58,
     "metadata": {},
     "output_type": "execute_result"
    },
    {
     "data": {
      "image/png": "[encoded data removed]",
      "text/plain": [
       "<Figure size 936x576 with 1 Axes>"
      ]
     },
     "metadata": {
      "needs_background": "light"
     },
     "output_type": "display_data"
    }
   ],
   "source": [
    "# Plot the results\n",
    "plt.figure(figsize = (13,8))\n",
    "sea.barplot(x = 'Brewers', y = 'ABV', data= df_brewer_strong_abv, palette=pastel)\n",
    "plt.title('Brewers with Strongest ABV', fontsize=18)\n",
    "plt.xlabel('Brewers', fontsize=14)\n",
    "plt.ylabel('ABVs', fontsize=14)"
   ]
  },
  {
   "cell_type": "markdown",
   "metadata": {},
   "source": [
    "The brewer id 1469 produces the beer with strongest abv around 12, followed by brewer 1438 and 482."
   ]
  },
  {
   "cell_type": "markdown",
   "metadata": {},
   "source": [
    "### <b> Mean Reviews by Beer"
   ]
  },
  {
   "cell_type": "code",
   "execution_count": 59,
   "metadata": {},
   "outputs": [],
   "source": [
    "# A full visualization of ratings  \n",
    "df_reviers_beer = pd.DataFrame()\n",
    "df_reviers_beer['Palate'] = data['review_palate']\n",
    "df_reviers_beer['Aroma'] = data['review_aroma']\n",
    "df_reviers_beer['Appearance'] = data['review_appearance']\n",
    "df_reviers_beer['Taste'] = data['review_taste']\n",
    "df_reviers_beer['Beer'] = data['beer_id']"
   ]
  },
  {
   "cell_type": "code",
   "execution_count": 60,
   "metadata": {},
   "outputs": [],
   "source": [
    "# Calculating the mean of each reviews\n",
    "palate = df_reviers_beer.groupby(['Beer'])['Palate'].mean()\n",
    "aroma = df_reviers_beer.groupby(['Beer'])['Aroma'].mean()\n",
    "appearance = df_reviers_beer.groupby(['Beer'])['Appearance'].mean()\n",
    "taste = df_reviers_beer.groupby(['Beer'])['Taste'].mean()"
   ]
  },
  {
   "cell_type": "code",
   "execution_count": 61,
   "metadata": {},
   "outputs": [
    {
     "data": {
      "text/html": [
       "<div>\n",
       "<style scoped>\n",
       "    .dataframe tbody tr th:only-of-type {\n",
       "        vertical-align: middle;\n",
       "    }\n",
       "\n",
       "    .dataframe tbody tr th {\n",
       "        vertical-align: top;\n",
       "    }\n",
       "\n",
       "    .dataframe thead th {\n",
       "        text-align: right;\n",
       "    }\n",
       "</style>\n",
       "<table border=\"1\" class=\"dataframe\">\n",
       "  <thead>\n",
       "    <tr style=\"text-align: right;\">\n",
       "      <th></th>\n",
       "      <th>Beer</th>\n",
       "      <th>Palate</th>\n",
       "      <th>Aroma</th>\n",
       "      <th>Appearance</th>\n",
       "      <th>Taste</th>\n",
       "    </tr>\n",
       "  </thead>\n",
       "  <tbody>\n",
       "    <tr>\n",
       "      <th>0</th>\n",
       "      <td>429</td>\n",
       "      <td>3.685518</td>\n",
       "      <td>3.480444</td>\n",
       "      <td>3.708245</td>\n",
       "      <td>3.659619</td>\n",
       "    </tr>\n",
       "    <tr>\n",
       "      <th>1</th>\n",
       "      <td>436</td>\n",
       "      <td>2.640580</td>\n",
       "      <td>2.379710</td>\n",
       "      <td>2.678261</td>\n",
       "      <td>2.391304</td>\n",
       "    </tr>\n",
       "    <tr>\n",
       "      <th>2</th>\n",
       "      <td>727</td>\n",
       "      <td>3.909023</td>\n",
       "      <td>4.201504</td>\n",
       "      <td>4.036090</td>\n",
       "      <td>4.075188</td>\n",
       "    </tr>\n",
       "    <tr>\n",
       "      <th>3</th>\n",
       "      <td>960</td>\n",
       "      <td>3.782468</td>\n",
       "      <td>3.701299</td>\n",
       "      <td>3.792208</td>\n",
       "      <td>4.000000</td>\n",
       "    </tr>\n",
       "    <tr>\n",
       "      <th>4</th>\n",
       "      <td>962</td>\n",
       "      <td>3.568493</td>\n",
       "      <td>3.506849</td>\n",
       "      <td>3.606164</td>\n",
       "      <td>4.000000</td>\n",
       "    </tr>\n",
       "  </tbody>\n",
       "</table>\n",
       "</div>"
      ],
      "text/plain": [
       "   Beer    Palate     Aroma  Appearance     Taste\n",
       "0   429  3.685518  3.480444    3.708245  3.659619\n",
       "1   436  2.640580  2.379710    2.678261  2.391304\n",
       "2   727  3.909023  4.201504    4.036090  4.075188\n",
       "3   960  3.782468  3.701299    3.792208  4.000000\n",
       "4   962  3.568493  3.506849    3.606164  4.000000"
      ]
     },
     "execution_count": 61,
     "metadata": {},
     "output_type": "execute_result"
    }
   ],
   "source": [
    "# Organizing the data in a dataframe\n",
    "df_reviers_beer = pd.DataFrame()\n",
    "df_reviers_beer['Beer'] = palate.index\n",
    "df_reviers_beer['Palate'] = palate.values\n",
    "df_reviers_beer['Aroma'] = aroma.values\n",
    "df_reviers_beer['Appearance'] = appearance.values\n",
    "df_reviers_beer['Taste'] = taste.values\n",
    "df_reviers_beer.head()"
   ]
  },
  {
   "cell_type": "code",
   "execution_count": 62,
   "metadata": {},
   "outputs": [
    {
     "data": {
      "text/plain": [
       "Text(0, 0.5, 'Mean Palate')"
      ]
     },
     "execution_count": 62,
     "metadata": {},
     "output_type": "execute_result"
    },
    {
     "data": {
      "image/png": "[encoded data removed]",
      "text/plain": [
       "<Figure size 432x288 with 1 Axes>"
      ]
     },
     "metadata": {
      "needs_background": "light"
     },
     "output_type": "display_data"
    }
   ],
   "source": [
    "# Visualizing the results of palate\n",
    "sea.scatterplot(x = 'Beer', y = 'Palate', data = df_reviers_beer)\n",
    "plt.title('Mean Palate by Beer', fontsize=18)\n",
    "plt.xlabel('Beers', fontsize=14)\n",
    "plt.ylabel('Mean Palate', fontsize=14)"
   ]
  },
  {
   "cell_type": "code",
   "execution_count": 63,
   "metadata": {},
   "outputs": [
    {
     "data": {
      "text/plain": [
       "Text(0, 0.5, 'Mean Aroma')"
      ]
     },
     "execution_count": 63,
     "metadata": {},
     "output_type": "execute_result"
    },
    {
     "data": {
      "image/png": "[encoded data removed]",
      "text/plain": [
       "<Figure size 432x288 with 1 Axes>"
      ]
     },
     "metadata": {
      "needs_background": "light"
     },
     "output_type": "display_data"
    }
   ],
   "source": [
    "# Visualizing the results of aroma\n",
    "sea.scatterplot(x = 'Beer', y = 'Aroma', data = df_reviers_beer)\n",
    "plt.title('Mean Aroma by Beer', fontsize=18)\n",
    "plt.xlabel('Beers', fontsize=14)\n",
    "plt.ylabel('Mean Aroma', fontsize=14)"
   ]
  },
  {
   "cell_type": "code",
   "execution_count": 64,
   "metadata": {},
   "outputs": [
    {
     "data": {
      "text/plain": [
       "Text(0, 0.5, 'Mean Appearance')"
      ]
     },
     "execution_count": 64,
     "metadata": {},
     "output_type": "execute_result"
    },
    {
     "data": {
      "image/png": "[encoded data removed]",
      "text/plain": [
       "<Figure size 432x288 with 1 Axes>"
      ]
     },
     "metadata": {
      "needs_background": "light"
     },
     "output_type": "display_data"
    }
   ],
   "source": [
    "# Visualizing the results of appearance\n",
    "sea.scatterplot(x = 'Beer', y = 'Appearance', data = df_reviers_beer)\n",
    "plt.title('Mean Appearance by Beer', fontsize=18)\n",
    "plt.xlabel('Beers', fontsize=14)\n",
    "plt.ylabel('Mean Appearance', fontsize=14)"
   ]
  },
  {
   "cell_type": "code",
   "execution_count": 65,
   "metadata": {},
   "outputs": [
    {
     "data": {
      "text/plain": [
       "Text(0, 0.5, 'Mean Taste')"
      ]
     },
     "execution_count": 65,
     "metadata": {},
     "output_type": "execute_result"
    },
    {
     "data": {
      "image/png": "[encoded data removed]",
      "text/plain": [
       "<Figure size 432x288 with 1 Axes>"
      ]
     },
     "metadata": {
      "needs_background": "light"
     },
     "output_type": "display_data"
    }
   ],
   "source": [
    "# Visualizing the results of taste\n",
    "sea.scatterplot(x = 'Beer', y = 'Taste', data = df_reviers_beer)\n",
    "plt.title('Mean Taste by Beer', fontsize=18)\n",
    "plt.xlabel('Beers', fontsize=14)\n",
    "plt.ylabel('Mean Taste', fontsize=14)"
   ]
  },
  {
   "cell_type": "markdown",
   "metadata": {},
   "source": [
    "### <b> What kind of beer has the highest rating?"
   ]
  },
  {
   "cell_type": "code",
   "execution_count": 66,
   "metadata": {},
   "outputs": [
    {
     "data": {
      "text/html": [
       "<div>\n",
       "<style scoped>\n",
       "    .dataframe tbody tr th:only-of-type {\n",
       "        vertical-align: middle;\n",
       "    }\n",
       "\n",
       "    .dataframe tbody tr th {\n",
       "        vertical-align: top;\n",
       "    }\n",
       "\n",
       "    .dataframe thead th {\n",
       "        text-align: right;\n",
       "    }\n",
       "</style>\n",
       "<table border=\"1\" class=\"dataframe\">\n",
       "  <thead>\n",
       "    <tr style=\"text-align: right;\">\n",
       "      <th></th>\n",
       "      <th>Beer Style</th>\n",
       "      <th>Ratings</th>\n",
       "    </tr>\n",
       "  </thead>\n",
       "  <tbody>\n",
       "    <tr>\n",
       "      <th>0</th>\n",
       "      <td>Czech Pilsener</td>\n",
       "      <td>2.5</td>\n",
       "    </tr>\n",
       "    <tr>\n",
       "      <th>1</th>\n",
       "      <td>English Pale Ale</td>\n",
       "      <td>3.0</td>\n",
       "    </tr>\n",
       "    <tr>\n",
       "      <th>2</th>\n",
       "      <td>Pumpkin Ale</td>\n",
       "      <td>4.0</td>\n",
       "    </tr>\n",
       "    <tr>\n",
       "      <th>3</th>\n",
       "      <td>Scotch Ale / Wee Heavy</td>\n",
       "      <td>4.5</td>\n",
       "    </tr>\n",
       "    <tr>\n",
       "      <th>4</th>\n",
       "      <td>Russian Imperial Stout</td>\n",
       "      <td>4.0</td>\n",
       "    </tr>\n",
       "  </tbody>\n",
       "</table>\n",
       "</div>"
      ],
      "text/plain": [
       "               Beer Style  Ratings\n",
       "0          Czech Pilsener      2.5\n",
       "1        English Pale Ale      3.0\n",
       "2             Pumpkin Ale      4.0\n",
       "3  Scotch Ale / Wee Heavy      4.5\n",
       "4  Russian Imperial Stout      4.0"
      ]
     },
     "execution_count": 66,
     "metadata": {},
     "output_type": "execute_result"
    }
   ],
   "source": [
    "# Organizing in a dataframe\n",
    "beer_style = text_columns['beer_style']\n",
    "ratings = data['review_rating']\n",
    "beer_high = pd.DataFrame()\n",
    "beer_high['Beer Style'] = beer_style\n",
    "beer_high['Ratings'] = ratings\n",
    "beer_high.head()"
   ]
  },
  {
   "cell_type": "code",
   "execution_count": 67,
   "metadata": {},
   "outputs": [],
   "source": [
    "# Find the styles with high rating\n",
    "beer_high = beer_high.groupby(['Beer Style'])['Ratings'].max()"
   ]
  },
  {
   "cell_type": "code",
   "execution_count": 68,
   "metadata": {},
   "outputs": [
    {
     "data": {
      "text/html": [
       "<div>\n",
       "<style scoped>\n",
       "    .dataframe tbody tr th:only-of-type {\n",
       "        vertical-align: middle;\n",
       "    }\n",
       "\n",
       "    .dataframe tbody tr th {\n",
       "        vertical-align: top;\n",
       "    }\n",
       "\n",
       "    .dataframe thead th {\n",
       "        text-align: right;\n",
       "    }\n",
       "</style>\n",
       "<table border=\"1\" class=\"dataframe\">\n",
       "  <thead>\n",
       "    <tr style=\"text-align: right;\">\n",
       "      <th></th>\n",
       "      <th>Beer Style Rating 5</th>\n",
       "    </tr>\n",
       "  </thead>\n",
       "  <tbody>\n",
       "    <tr>\n",
       "      <th>0</th>\n",
       "      <td>American Barleywine</td>\n",
       "    </tr>\n",
       "    <tr>\n",
       "      <th>1</th>\n",
       "      <td>American Double / Imperial IPA</td>\n",
       "    </tr>\n",
       "    <tr>\n",
       "      <th>2</th>\n",
       "      <td>American Double / Imperial Stout</td>\n",
       "    </tr>\n",
       "    <tr>\n",
       "      <th>3</th>\n",
       "      <td>American IPA</td>\n",
       "    </tr>\n",
       "    <tr>\n",
       "      <th>4</th>\n",
       "      <td>American Pale Ale (APA)</td>\n",
       "    </tr>\n",
       "  </tbody>\n",
       "</table>\n",
       "</div>"
      ],
      "text/plain": [
       "                Beer Style Rating 5\n",
       "0               American Barleywine\n",
       "1    American Double / Imperial IPA\n",
       "2  American Double / Imperial Stout\n",
       "3                      American IPA\n",
       "4           American Pale Ale (APA)"
      ]
     },
     "execution_count": 68,
     "metadata": {},
     "output_type": "execute_result"
    }
   ],
   "source": [
    "# Organizing the high rated styles in a dataframe\n",
    "df_beer_high_scores = pd.DataFrame()\n",
    "df_beer_high_scores['Beer Style Rating 5'] = beer_high.index\n",
    "df_beer_high_scores.head()"
   ]
  },
  {
   "cell_type": "markdown",
   "metadata": {},
   "source": [
    "The df_beer_high_scores stores the names of beers with rating 5 "
   ]
  },
  {
   "cell_type": "markdown",
   "metadata": {},
   "source": [
    "# <b> Training the Model "
   ]
  },
  {
   "cell_type": "markdown",
   "metadata": {},
   "source": [
    "### <b> Data Correlation"
   ]
  },
  {
   "cell_type": "code",
   "execution_count": 69,
   "metadata": {},
   "outputs": [],
   "source": [
    "# correlated data\n",
    "corr_data = data.corr() "
   ]
  },
  {
   "cell_type": "code",
   "execution_count": 74,
   "metadata": {},
   "outputs": [
    {
     "data": {
      "text/plain": [
       "Text(0, 0.5, 'Reviews')"
      ]
     },
     "execution_count": 74,
     "metadata": {},
     "output_type": "execute_result"
    },
    {
     "data": {
      "image/png": "[encoded data removed]",
      "text/plain": [
       "<Figure size 432x288 with 1 Axes>"
      ]
     },
     "metadata": {
      "needs_background": "light"
     },
     "output_type": "display_data"
    }
   ],
   "source": [
    "# Visualizing the correlation between the reviews with the rating \n",
    "sea.scatterplot(x = 'review_palate', y = 'review_rating', data = corr_data, color='DodgerBlue')\n",
    "sea.scatterplot(x = 'review_appearance', y = 'review_rating', data = corr_data, color='PaleVioletRed')\n",
    "sea.scatterplot(x = 'review_aroma', y = 'review_aroma', data = corr_data, color='MediumSeaGreen')\n",
    "sea.scatterplot(x = 'review_taste', y = 'review_taste', data = corr_data, color = 'DarkGoldenrod')\n",
    "plt.title('Ratings x Reviews', fontsize=18)\n",
    "plt.xlabel('Ratings', fontsize=14)\n",
    "plt.ylabel('Reviews', fontsize=14)"
   ]
  },
  {
   "cell_type": "code",
   "execution_count": 75,
   "metadata": {},
   "outputs": [
    {
     "data": {
      "text/plain": [
       "<AxesSubplot:>"
      ]
     },
     "execution_count": 75,
     "metadata": {},
     "output_type": "execute_result"
    },
    {
     "data": {
      "image/png": "[encoded data removed]",
      "text/plain": [
       "<Figure size 720x432 with 2 Axes>"
      ]
     },
     "metadata": {
      "needs_background": "light"
     },
     "output_type": "display_data"
    }
   ],
   "source": [
    "# Looking through a heat map the correlation between the features\n",
    "plt.figure(figsize = (10,6))\n",
    "sea.heatmap(corr_data,yticklabels=True,cbar=True,cmap='GnBu')"
   ]
  },
  {
   "cell_type": "markdown",
   "metadata": {},
   "source": [
    "#### <b> Preparing the training data"
   ]
  },
  {
   "cell_type": "code",
   "execution_count": 76,
   "metadata": {},
   "outputs": [],
   "source": [
    "correlated = ['review_appearance', 'review_aroma', \n",
    "          'review_palate', 'review_taste']"
   ]
  },
  {
   "cell_type": "code",
   "execution_count": 78,
   "metadata": {},
   "outputs": [],
   "source": [
    "columns = data.columns\n",
    "columns = [c for c in columns if c not in correlated]"
   ]
  },
  {
   "cell_type": "code",
   "execution_count": 84,
   "metadata": {},
   "outputs": [],
   "source": [
    "# Features based on the correlation analysis\n",
    "X = data[columns]\n",
    "X = X.drop(columns=['review_rating', 'review_id', 'beer_id', 'brewer_id'])"
   ]
  },
  {
   "cell_type": "code",
   "execution_count": 85,
   "metadata": {},
   "outputs": [
    {
     "data": {
      "text/html": [
       "<div>\n",
       "<style scoped>\n",
       "    .dataframe tbody tr th:only-of-type {\n",
       "        vertical-align: middle;\n",
       "    }\n",
       "\n",
       "    .dataframe tbody tr th {\n",
       "        vertical-align: top;\n",
       "    }\n",
       "\n",
       "    .dataframe thead th {\n",
       "        text-align: right;\n",
       "    }\n",
       "</style>\n",
       "<table border=\"1\" class=\"dataframe\">\n",
       "  <thead>\n",
       "    <tr style=\"text-align: right;\">\n",
       "      <th></th>\n",
       "      <th>beer_abv</th>\n",
       "      <th>review_user</th>\n",
       "      <th>beer_name</th>\n",
       "      <th>beer_style</th>\n",
       "      <th>review_text</th>\n",
       "    </tr>\n",
       "  </thead>\n",
       "  <tbody>\n",
       "    <tr>\n",
       "      <th>0</th>\n",
       "      <td>4.4</td>\n",
       "      <td>5803</td>\n",
       "      <td>47</td>\n",
       "      <td>9</td>\n",
       "      <td>9719</td>\n",
       "    </tr>\n",
       "    <tr>\n",
       "      <th>1</th>\n",
       "      <td>4.4</td>\n",
       "      <td>535</td>\n",
       "      <td>9</td>\n",
       "      <td>12</td>\n",
       "      <td>6051</td>\n",
       "    </tr>\n",
       "    <tr>\n",
       "      <th>2</th>\n",
       "      <td>8.4</td>\n",
       "      <td>810</td>\n",
       "      <td>36</td>\n",
       "      <td>23</td>\n",
       "      <td>14139</td>\n",
       "    </tr>\n",
       "    <tr>\n",
       "      <th>3</th>\n",
       "      <td>8.5</td>\n",
       "      <td>1884</td>\n",
       "      <td>25</td>\n",
       "      <td>27</td>\n",
       "      <td>15093</td>\n",
       "    </tr>\n",
       "    <tr>\n",
       "      <th>4</th>\n",
       "      <td>10.5</td>\n",
       "      <td>267</td>\n",
       "      <td>28</td>\n",
       "      <td>25</td>\n",
       "      <td>8173</td>\n",
       "    </tr>\n",
       "  </tbody>\n",
       "</table>\n",
       "</div>"
      ],
      "text/plain": [
       "   beer_abv  review_user  beer_name  beer_style  review_text\n",
       "0       4.4         5803         47           9         9719\n",
       "1       4.4          535          9          12         6051\n",
       "2       8.4          810         36          23        14139\n",
       "3       8.5         1884         25          27        15093\n",
       "4      10.5          267         28          25         8173"
      ]
     },
     "execution_count": 85,
     "metadata": {},
     "output_type": "execute_result"
    }
   ],
   "source": [
    "X.head()"
   ]
  },
  {
   "cell_type": "code",
   "execution_count": 86,
   "metadata": {},
   "outputs": [],
   "source": [
    "# Dependet variable\n",
    "target = data['review_rating']"
   ]
  },
  {
   "cell_type": "code",
   "execution_count": 87,
   "metadata": {},
   "outputs": [],
   "source": [
    "# Split Data in Train and Test with 33%\n",
    "X_train, X_test, y_train, y_test = train_test_split(X, target, test_size = 0.1, random_state = 1)"
   ]
  },
  {
   "cell_type": "code",
   "execution_count": 88,
   "metadata": {},
   "outputs": [
    {
     "name": "stdout",
     "output_type": "stream",
     "text": [
      "(22563, 5) (2508, 5) (22563,) (2508,)\n"
     ]
    }
   ],
   "source": [
    "print(X_train.shape, X_test.shape, y_train.shape, y_test.shape)"
   ]
  },
  {
   "cell_type": "markdown",
   "metadata": {},
   "source": [
    "#### <b> Linear Regression"
   ]
  },
  {
   "cell_type": "code",
   "execution_count": 89,
   "metadata": {},
   "outputs": [
    {
     "name": "stdout",
     "output_type": "stream",
     "text": [
      "0.03329882044130139 0.032463764579885424\n"
     ]
    }
   ],
   "source": [
    "# Linear Regression Model\n",
    "lr = LinearRegression()\n",
    "# Adjusting the Model\n",
    "lr .fit(X_train, y_train)\n",
    "# Making the Predictions\n",
    "pred_lr = lr.predict(X_test)\n",
    "\n",
    "print(lr .score(X_train,y_train), lr .score(X_test, y_test))"
   ]
  },
  {
   "cell_type": "code",
   "execution_count": 90,
   "metadata": {},
   "outputs": [
    {
     "name": "stdout",
     "output_type": "stream",
     "text": [
      "MAE: 0.4070045504190544\n",
      "MSE: 0.34728148472574133\n",
      "RMSE: 0.5893059347450536\n"
     ]
    }
   ],
   "source": [
    "# Evaluating the errors\n",
    "mae_lr = metrics.mean_absolute_error(y_test, pred_lr)\n",
    "mse_lr = metrics.mean_squared_error(y_test, pred_lr)\n",
    "rmse_lr =  np.sqrt(metrics.mean_squared_error(y_test, pred_lr))              \n",
    "print('MAE:',mae_lr)\n",
    "print('MSE:', mse_lr)\n",
    "print('RMSE:', rmse_lr)"
   ]
  }
 ],
 "metadata": {
  "kernelspec": {
   "display_name": "Python 3",
   "language": "python",
   "name": "python3"
  },
  "language_info": {
   "codemirror_mode": {
    "name": "ipython",
    "version": 3
   },
   "file_extension": ".py",
   "mimetype": "text/x-python",
   "name": "python",
   "nbconvert_exporter": "python",
   "pygments_lexer": "ipython3",
   "version": "3.8.5"
  }
 },
 "nbformat": 4,
 "nbformat_minor": 4
}
