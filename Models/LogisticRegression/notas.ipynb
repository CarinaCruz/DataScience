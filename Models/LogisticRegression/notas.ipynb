{
 "cells": [
  {
   "cell_type": "markdown",
   "metadata": {},
   "source": [
    "# <b> Analisando Desempenho de Alunos "
   ]
  },
  {
   "cell_type": "markdown",
   "metadata": {},
   "source": [
    "## <b>Bibliotecas Utilizadas"
   ]
  },
  {
   "cell_type": "code",
   "execution_count": 1,
   "metadata": {},
   "outputs": [],
   "source": [
    "# Manipulação e Visualização\n",
    "import pandas as pd\n",
    "import numpy as np\n",
    "import seaborn as sea\n",
    "import matplotlib.pyplot as plt\n",
    "from datetime import datetime\n",
    "pd.set_option('display.max_columns', None)  # or 1000\n",
    "pd.set_option('display.max_rows', None)  # or 1000\n",
    "import warnings\n",
    "warnings.filterwarnings(\"ignore\")\n",
    "\n",
    "# Machine Learnning\n",
    "from sklearn import preprocessing\n",
    "from sklearn.linear_model import LogisticRegression\n",
    "from sklearn.model_selection import train_test_split\n",
    "from sklearn.model_selection import cross_val_score\n",
    "from sklearn.metrics import roc_auc_score\n",
    "from sklearn.metrics import roc_curve\n",
    "from sklearn.metrics import classification_report\n",
    "from sklearn.metrics import confusion_matrix\n",
    "from sklearn import metrics\n",
    "from sklearn import svm\n",
    "\n",
    "# Definindo cores personalizadas\n",
    "cores = ['DodgerBlue', 'LightSkyBlue']"
   ]
  },
  {
   "cell_type": "markdown",
   "metadata": {},
   "source": [
    "## <b> Carregando o Conjunto de Dados"
   ]
  },
  {
   "cell_type": "code",
   "execution_count": 2,
   "metadata": {},
   "outputs": [],
   "source": [
    "# Lendo os dados\n",
    "alunos = pd.read_csv('data.csv', encoding='latin-1')"
   ]
  },
  {
   "cell_type": "markdown",
   "metadata": {},
   "source": [
    "## <b> Informações sobre os Dados"
   ]
  },
  {
   "cell_type": "code",
   "execution_count": 3,
   "metadata": {},
   "outputs": [
    {
     "data": {
      "text/html": [
       "<div>\n",
       "<style scoped>\n",
       "    .dataframe tbody tr th:only-of-type {\n",
       "        vertical-align: middle;\n",
       "    }\n",
       "\n",
       "    .dataframe tbody tr th {\n",
       "        vertical-align: top;\n",
       "    }\n",
       "\n",
       "    .dataframe thead th {\n",
       "        text-align: right;\n",
       "    }\n",
       "</style>\n",
       "<table border=\"1\" class=\"dataframe\">\n",
       "  <thead>\n",
       "    <tr style=\"text-align: right;\">\n",
       "      <th></th>\n",
       "      <th>Unnamed: 0</th>\n",
       "      <th>prova_realizada_em</th>\n",
       "      <th>dia_da_prova_realizada</th>\n",
       "      <th>nota</th>\n",
       "      <th>nota_redacao</th>\n",
       "      <th>horario_da_prova</th>\n",
       "      <th>sexo</th>\n",
       "      <th>estado_civil</th>\n",
       "      <th>escolaridade</th>\n",
       "      <th>cidade_de_nascimento</th>\n",
       "      <th>bairro</th>\n",
       "    </tr>\n",
       "  </thead>\n",
       "  <tbody>\n",
       "    <tr>\n",
       "      <th>0</th>\n",
       "      <td>0</td>\n",
       "      <td>GO - Goiás</td>\n",
       "      <td>13/01/2017</td>\n",
       "      <td>7,45</td>\n",
       "      <td>2,2</td>\n",
       "      <td>manhã</td>\n",
       "      <td>Masculino</td>\n",
       "      <td>Casado(a)</td>\n",
       "      <td>Ensino médio</td>\n",
       "      <td>fortaleza</td>\n",
       "      <td>Asa Sul</td>\n",
       "    </tr>\n",
       "    <tr>\n",
       "      <th>1</th>\n",
       "      <td>1</td>\n",
       "      <td>GO - Goiás</td>\n",
       "      <td>10/01/2017</td>\n",
       "      <td>7,4</td>\n",
       "      <td>2,4</td>\n",
       "      <td>manhã</td>\n",
       "      <td>Masculino</td>\n",
       "      <td>Casado(a)</td>\n",
       "      <td>Especialização</td>\n",
       "      <td>Recife</td>\n",
       "      <td>Norte (Águas Claras)</td>\n",
       "    </tr>\n",
       "    <tr>\n",
       "      <th>2</th>\n",
       "      <td>2</td>\n",
       "      <td>GO - Goiás</td>\n",
       "      <td>07/01/2017</td>\n",
       "      <td>7,3</td>\n",
       "      <td>1,8</td>\n",
       "      <td>manhã</td>\n",
       "      <td>Masculino</td>\n",
       "      <td>Casado(a)</td>\n",
       "      <td>Superior</td>\n",
       "      <td>BRASILIA</td>\n",
       "      <td>Setor Sudoeste</td>\n",
       "    </tr>\n",
       "    <tr>\n",
       "      <th>3</th>\n",
       "      <td>3</td>\n",
       "      <td>GO - Goiás</td>\n",
       "      <td>02/01/2017</td>\n",
       "      <td>7,2</td>\n",
       "      <td>1,7</td>\n",
       "      <td>Noite</td>\n",
       "      <td>Masculino</td>\n",
       "      <td>Solteiro(a)</td>\n",
       "      <td>Ensino médio</td>\n",
       "      <td>Brasília</td>\n",
       "      <td>Setor Norte</td>\n",
       "    </tr>\n",
       "    <tr>\n",
       "      <th>4</th>\n",
       "      <td>4</td>\n",
       "      <td>GO - Goiás</td>\n",
       "      <td>09/01/2017</td>\n",
       "      <td>6,95</td>\n",
       "      <td>1,7</td>\n",
       "      <td>manhã</td>\n",
       "      <td>Feminino</td>\n",
       "      <td>Solteiro(a)</td>\n",
       "      <td>Superior</td>\n",
       "      <td>BRASÍLIA</td>\n",
       "      <td>Guará I</td>\n",
       "    </tr>\n",
       "  </tbody>\n",
       "</table>\n",
       "</div>"
      ],
      "text/plain": [
       "   Unnamed: 0 prova_realizada_em dia_da_prova_realizada  nota nota_redacao  \\\n",
       "0           0         GO - Goiás             13/01/2017  7,45          2,2   \n",
       "1           1         GO - Goiás             10/01/2017   7,4          2,4   \n",
       "2           2         GO - Goiás             07/01/2017   7,3          1,8   \n",
       "3           3         GO - Goiás             02/01/2017   7,2          1,7   \n",
       "4           4         GO - Goiás             09/01/2017  6,95          1,7   \n",
       "\n",
       "  horario_da_prova       sexo estado_civil    escolaridade  \\\n",
       "0            manhã  Masculino    Casado(a)    Ensino médio   \n",
       "1            manhã  Masculino    Casado(a)  Especialização   \n",
       "2            manhã  Masculino    Casado(a)        Superior   \n",
       "3            Noite  Masculino  Solteiro(a)    Ensino médio   \n",
       "4            manhã   Feminino  Solteiro(a)        Superior   \n",
       "\n",
       "  cidade_de_nascimento                bairro  \n",
       "0            fortaleza               Asa Sul  \n",
       "1               Recife  Norte (Águas Claras)  \n",
       "2             BRASILIA        Setor Sudoeste  \n",
       "3             Brasília           Setor Norte  \n",
       "4             BRASÍLIA               Guará I  "
      ]
     },
     "execution_count": 3,
     "metadata": {},
     "output_type": "execute_result"
    }
   ],
   "source": [
    "# Primeiras linhas\n",
    "alunos.head()"
   ]
  },
  {
   "cell_type": "code",
   "execution_count": 4,
   "metadata": {},
   "outputs": [
    {
     "data": {
      "text/html": [
       "<div>\n",
       "<style scoped>\n",
       "    .dataframe tbody tr th:only-of-type {\n",
       "        vertical-align: middle;\n",
       "    }\n",
       "\n",
       "    .dataframe tbody tr th {\n",
       "        vertical-align: top;\n",
       "    }\n",
       "\n",
       "    .dataframe thead th {\n",
       "        text-align: right;\n",
       "    }\n",
       "</style>\n",
       "<table border=\"1\" class=\"dataframe\">\n",
       "  <thead>\n",
       "    <tr style=\"text-align: right;\">\n",
       "      <th></th>\n",
       "      <th>Unnamed: 0</th>\n",
       "      <th>prova_realizada_em</th>\n",
       "      <th>dia_da_prova_realizada</th>\n",
       "      <th>nota</th>\n",
       "      <th>nota_redacao</th>\n",
       "      <th>horario_da_prova</th>\n",
       "      <th>sexo</th>\n",
       "      <th>estado_civil</th>\n",
       "      <th>escolaridade</th>\n",
       "      <th>cidade_de_nascimento</th>\n",
       "      <th>bairro</th>\n",
       "    </tr>\n",
       "  </thead>\n",
       "  <tbody>\n",
       "    <tr>\n",
       "      <th>12095</th>\n",
       "      <td>12095</td>\n",
       "      <td>RJ - Rio de Janeiro</td>\n",
       "      <td>12/08/2016</td>\n",
       "      <td>3,25</td>\n",
       "      <td>0</td>\n",
       "      <td>Noite</td>\n",
       "      <td>Masculino</td>\n",
       "      <td>Solteiro(a)</td>\n",
       "      <td>Ensino médio</td>\n",
       "      <td>Campos dos Goytacazes</td>\n",
       "      <td>Tócos</td>\n",
       "    </tr>\n",
       "    <tr>\n",
       "      <th>12096</th>\n",
       "      <td>12096</td>\n",
       "      <td>RJ - Rio de Janeiro</td>\n",
       "      <td>13/08/2016</td>\n",
       "      <td>2,75</td>\n",
       "      <td>0</td>\n",
       "      <td>manhã</td>\n",
       "      <td>Feminino</td>\n",
       "      <td>Separado(a)</td>\n",
       "      <td>Nível técnico</td>\n",
       "      <td>CAMPOS DOS GOYTACAZES</td>\n",
       "      <td>Parque Imperial</td>\n",
       "    </tr>\n",
       "    <tr>\n",
       "      <th>12097</th>\n",
       "      <td>12097</td>\n",
       "      <td>RJ - Rio de Janeiro</td>\n",
       "      <td>08/01/2017</td>\n",
       "      <td>2,75</td>\n",
       "      <td>0</td>\n",
       "      <td>manhã</td>\n",
       "      <td>Feminino</td>\n",
       "      <td>Casado(a)</td>\n",
       "      <td>Ensino médio</td>\n",
       "      <td>CAMPOS DOS GOYTACAZES</td>\n",
       "      <td>Parque Tarcisio Miranda</td>\n",
       "    </tr>\n",
       "    <tr>\n",
       "      <th>12098</th>\n",
       "      <td>12098</td>\n",
       "      <td>RJ - Rio de Janeiro</td>\n",
       "      <td>11/08/2016</td>\n",
       "      <td>2,75</td>\n",
       "      <td>0</td>\n",
       "      <td>manhã</td>\n",
       "      <td>Feminino</td>\n",
       "      <td>Casado(a)</td>\n",
       "      <td>Ensino médio</td>\n",
       "      <td>Campos dos Goytacazes</td>\n",
       "      <td>Parque Jóquei Club</td>\n",
       "    </tr>\n",
       "    <tr>\n",
       "      <th>12099</th>\n",
       "      <td>12099</td>\n",
       "      <td>RJ - Rio de Janeiro</td>\n",
       "      <td>12/08/2016</td>\n",
       "      <td>2,25</td>\n",
       "      <td>0</td>\n",
       "      <td>manhã</td>\n",
       "      <td>Masculino</td>\n",
       "      <td>Casado(a)</td>\n",
       "      <td>Ensino médio</td>\n",
       "      <td>Campos dos goitacazes</td>\n",
       "      <td>Centro</td>\n",
       "    </tr>\n",
       "  </tbody>\n",
       "</table>\n",
       "</div>"
      ],
      "text/plain": [
       "       Unnamed: 0   prova_realizada_em dia_da_prova_realizada  nota  \\\n",
       "12095       12095  RJ - Rio de Janeiro             12/08/2016  3,25   \n",
       "12096       12096  RJ - Rio de Janeiro             13/08/2016  2,75   \n",
       "12097       12097  RJ - Rio de Janeiro             08/01/2017  2,75   \n",
       "12098       12098  RJ - Rio de Janeiro             11/08/2016  2,75   \n",
       "12099       12099  RJ - Rio de Janeiro             12/08/2016  2,25   \n",
       "\n",
       "      nota_redacao horario_da_prova       sexo estado_civil   escolaridade  \\\n",
       "12095            0            Noite  Masculino  Solteiro(a)   Ensino médio   \n",
       "12096            0            manhã   Feminino  Separado(a)  Nível técnico   \n",
       "12097            0            manhã   Feminino    Casado(a)   Ensino médio   \n",
       "12098            0            manhã   Feminino    Casado(a)   Ensino médio   \n",
       "12099            0            manhã  Masculino    Casado(a)   Ensino médio   \n",
       "\n",
       "        cidade_de_nascimento                   bairro  \n",
       "12095  Campos dos Goytacazes                    Tócos  \n",
       "12096  CAMPOS DOS GOYTACAZES          Parque Imperial  \n",
       "12097  CAMPOS DOS GOYTACAZES  Parque Tarcisio Miranda  \n",
       "12098  Campos dos Goytacazes       Parque Jóquei Club  \n",
       "12099  Campos dos goitacazes                   Centro  "
      ]
     },
     "execution_count": 4,
     "metadata": {},
     "output_type": "execute_result"
    }
   ],
   "source": [
    "# Últimas linhas\n",
    "alunos.tail()"
   ]
  },
  {
   "cell_type": "code",
   "execution_count": 5,
   "metadata": {},
   "outputs": [
    {
     "data": {
      "text/plain": [
       "(12100, 11)"
      ]
     },
     "execution_count": 5,
     "metadata": {},
     "output_type": "execute_result"
    }
   ],
   "source": [
    "# Verificando a forma dos dados (linhas e colunas)\n",
    "alunos.shape"
   ]
  },
  {
   "cell_type": "code",
   "execution_count": 6,
   "metadata": {},
   "outputs": [
    {
     "data": {
      "text/plain": [
       "Unnamed: 0                 int64\n",
       "prova_realizada_em        object\n",
       "dia_da_prova_realizada    object\n",
       "nota                      object\n",
       "nota_redacao              object\n",
       "horario_da_prova          object\n",
       "sexo                      object\n",
       "estado_civil              object\n",
       "escolaridade              object\n",
       "cidade_de_nascimento      object\n",
       "bairro                    object\n",
       "dtype: object"
      ]
     },
     "execution_count": 6,
     "metadata": {},
     "output_type": "execute_result"
    }
   ],
   "source": [
    "# Verificando o tipo de dados das colunas\n",
    "alunos.dtypes"
   ]
  },
  {
   "cell_type": "code",
   "execution_count": 7,
   "metadata": {},
   "outputs": [
    {
     "name": "stdout",
     "output_type": "stream",
     "text": [
      "<class 'pandas.core.frame.DataFrame'>\n",
      "RangeIndex: 12100 entries, 0 to 12099\n",
      "Data columns (total 11 columns):\n",
      "Unnamed: 0                12100 non-null int64\n",
      "prova_realizada_em        12100 non-null object\n",
      "dia_da_prova_realizada    12060 non-null object\n",
      "nota                      12100 non-null object\n",
      "nota_redacao              12100 non-null object\n",
      "horario_da_prova          12060 non-null object\n",
      "sexo                      12060 non-null object\n",
      "estado_civil              12060 non-null object\n",
      "escolaridade              12060 non-null object\n",
      "cidade_de_nascimento      12060 non-null object\n",
      "bairro                    12060 non-null object\n",
      "dtypes: int64(1), object(10)\n",
      "memory usage: 1.0+ MB\n"
     ]
    }
   ],
   "source": [
    "# Visualizando as informações gerais das colunas\n",
    "alunos.info()"
   ]
  },
  {
   "cell_type": "markdown",
   "metadata": {},
   "source": [
    "## <b> Análise Exploratória dos Dados"
   ]
  },
  {
   "cell_type": "markdown",
   "metadata": {},
   "source": [
    "#### <b> Tratando os Valores Ausentes"
   ]
  },
  {
   "cell_type": "code",
   "execution_count": 8,
   "metadata": {},
   "outputs": [
    {
     "data": {
      "text/plain": [
       "Unnamed: 0                 0\n",
       "prova_realizada_em         0\n",
       "dia_da_prova_realizada    40\n",
       "nota                       0\n",
       "nota_redacao               0\n",
       "horario_da_prova          40\n",
       "sexo                      40\n",
       "estado_civil              40\n",
       "escolaridade              40\n",
       "cidade_de_nascimento      40\n",
       "bairro                    40\n",
       "dtype: int64"
      ]
     },
     "execution_count": 8,
     "metadata": {},
     "output_type": "execute_result"
    }
   ],
   "source": [
    "# Verificando em cada coluna a soma dos ausentes\n",
    "alunos.isnull().sum()"
   ]
  },
  {
   "cell_type": "code",
   "execution_count": 9,
   "metadata": {},
   "outputs": [],
   "source": [
    "# Deletando as linhas onde aparecem valores nulos\n",
    "alunos = alunos.dropna(axis = 0)"
   ]
  },
  {
   "cell_type": "code",
   "execution_count": 10,
   "metadata": {},
   "outputs": [
    {
     "data": {
      "text/plain": [
       "Unnamed: 0                0\n",
       "prova_realizada_em        0\n",
       "dia_da_prova_realizada    0\n",
       "nota                      0\n",
       "nota_redacao              0\n",
       "horario_da_prova          0\n",
       "sexo                      0\n",
       "estado_civil              0\n",
       "escolaridade              0\n",
       "cidade_de_nascimento      0\n",
       "bairro                    0\n",
       "dtype: int64"
      ]
     },
     "execution_count": 10,
     "metadata": {},
     "output_type": "execute_result"
    }
   ],
   "source": [
    "# Verificando o resultado após a exclusão dos ausentes\n",
    "alunos.isnull().sum()"
   ]
  },
  {
   "cell_type": "code",
   "execution_count": 11,
   "metadata": {},
   "outputs": [
    {
     "data": {
      "text/plain": [
       "<matplotlib.axes._subplots.AxesSubplot at 0x7f667ffb6710>"
      ]
     },
     "execution_count": 11,
     "metadata": {},
     "output_type": "execute_result"
    },
    {
     "data": {
      "image/png": "[encoded data removed]",
      "text/plain": [
       "<Figure size 864x576 with 2 Axes>"
      ]
     },
     "metadata": {
      "needs_background": "light"
     },
     "output_type": "display_data"
    }
   ],
   "source": [
    "# Verificando através de um mapa de calor a existência de nulos\n",
    "plt.figure(figsize = (12,8))\n",
    "sea.heatmap(alunos.isnull(),yticklabels=False,cbar=True,cmap = 'Blues')"
   ]
  },
  {
   "cell_type": "markdown",
   "metadata": {},
   "source": [
    "A cor sólida indica que não há valores nulos"
   ]
  },
  {
   "cell_type": "markdown",
   "metadata": {},
   "source": [
    "### <b> Preparando e Convertendo os Dados\n",
    "   "
   ]
  },
  {
   "cell_type": "markdown",
   "metadata": {},
   "source": [
    "#### <b> Padronizando os dados"
   ]
  },
  {
   "cell_type": "code",
   "execution_count": 12,
   "metadata": {},
   "outputs": [],
   "source": [
    "# Renovendo a coluna Unnamed que tem o mesmo comportamento do índice\n",
    "alunos.drop(columns = ['Unnamed: 0'], axis = 1, inplace = True)"
   ]
  },
  {
   "cell_type": "code",
   "execution_count": 13,
   "metadata": {},
   "outputs": [],
   "source": [
    "# Colocando os dados em minúsculas\n",
    "alunos['prova_realizada_em'] = alunos['prova_realizada_em'].str.lower()\n",
    "alunos['nota'] = alunos['nota'].str.replace(',', '.')\n",
    "alunos['cidade_de_nascimento'] = alunos['cidade_de_nascimento'].str.lower()\n",
    "alunos['bairro'] = alunos['bairro'].str.lower()\n",
    "alunos['horario_da_prova'] = alunos['horario_da_prova'].str.lower()\n",
    "alunos['sexo'] = alunos['sexo'].str.lower()\n",
    "alunos['estado_civil'] = alunos['estado_civil'].str.lower()\n",
    "alunos['escolaridade'] = alunos['escolaridade'].str.lower()\n",
    "\n",
    "# Lidando com os traços e espaços e outros\n",
    "alunos['prova_realizada_em'] = alunos['prova_realizada_em'].str.replace(' - ', '_')\n",
    "alunos['nota_redacao'] = alunos['nota_redacao'].str.replace(',', '.')\n",
    "alunos['cidade_de_nascimento'] = alunos['cidade_de_nascimento'].str.replace(' ', '_')\n",
    "alunos['bairro'] = alunos['bairro'].str.replace('\\(', '')\n",
    "alunos['bairro'] = alunos['bairro'].str.replace('\\)', '')\n",
    "alunos['bairro'] = alunos['bairro'].str.replace(' ', '_')\n",
    "alunos['estado_civil'] = alunos['estado_civil'].str.replace('\\(a\\)', '')\n",
    "alunos['escolaridade'] = alunos['escolaridade'].str.replace(' ', '_')"
   ]
  },
  {
   "cell_type": "code",
   "execution_count": 14,
   "metadata": {},
   "outputs": [],
   "source": [
    "# Deletando as colunas com valores 0\n",
    "alunos.drop(alunos.loc[alunos['estado_civil']=='0'].index, inplace=True)"
   ]
  },
  {
   "cell_type": "markdown",
   "metadata": {},
   "source": [
    "#### <b> Convertendo os dados"
   ]
  },
  {
   "cell_type": "code",
   "execution_count": 15,
   "metadata": {},
   "outputs": [],
   "source": [
    "# Convertendo as colunas para valores numéricos\n",
    "alunos['nota'] = pd.to_numeric(alunos['nota'], errors = 'coerce')\n",
    "alunos['nota_redacao'] = pd.to_numeric(alunos['nota_redacao'], errors = 'coerce')"
   ]
  },
  {
   "cell_type": "code",
   "execution_count": 16,
   "metadata": {},
   "outputs": [],
   "source": [
    "# Convertendo as colunas (possíveis) em variáveis categóricas\n",
    "alunos['horario_da_prova'] = alunos['horario_da_prova'].astype('category') \n",
    "alunos['sexo'] = alunos['sexo'].astype('category')"
   ]
  },
  {
   "cell_type": "code",
   "execution_count": 17,
   "metadata": {},
   "outputs": [],
   "source": [
    "# Convertendo a coluna dia_da_prova_realizada em datetime\n",
    "alunos['dia_da_prova_realizada']  = pd.to_datetime(alunos['dia_da_prova_realizada'], format='%d/%m/%Y')"
   ]
  },
  {
   "cell_type": "markdown",
   "metadata": {},
   "source": [
    "#### <b> Visualização após padronização e conversão dos dados"
   ]
  },
  {
   "cell_type": "code",
   "execution_count": 18,
   "metadata": {},
   "outputs": [
    {
     "data": {
      "text/html": [
       "<div>\n",
       "<style scoped>\n",
       "    .dataframe tbody tr th:only-of-type {\n",
       "        vertical-align: middle;\n",
       "    }\n",
       "\n",
       "    .dataframe tbody tr th {\n",
       "        vertical-align: top;\n",
       "    }\n",
       "\n",
       "    .dataframe thead th {\n",
       "        text-align: right;\n",
       "    }\n",
       "</style>\n",
       "<table border=\"1\" class=\"dataframe\">\n",
       "  <thead>\n",
       "    <tr style=\"text-align: right;\">\n",
       "      <th></th>\n",
       "      <th>prova_realizada_em</th>\n",
       "      <th>dia_da_prova_realizada</th>\n",
       "      <th>nota</th>\n",
       "      <th>nota_redacao</th>\n",
       "      <th>horario_da_prova</th>\n",
       "      <th>sexo</th>\n",
       "      <th>estado_civil</th>\n",
       "      <th>escolaridade</th>\n",
       "      <th>cidade_de_nascimento</th>\n",
       "      <th>bairro</th>\n",
       "    </tr>\n",
       "  </thead>\n",
       "  <tbody>\n",
       "    <tr>\n",
       "      <th>0</th>\n",
       "      <td>go_goiás</td>\n",
       "      <td>2017-01-13</td>\n",
       "      <td>7.45</td>\n",
       "      <td>2.2</td>\n",
       "      <td>manhã</td>\n",
       "      <td>masculino</td>\n",
       "      <td>casado</td>\n",
       "      <td>ensino_médio</td>\n",
       "      <td>fortaleza</td>\n",
       "      <td>asa_sul</td>\n",
       "    </tr>\n",
       "    <tr>\n",
       "      <th>1</th>\n",
       "      <td>go_goiás</td>\n",
       "      <td>2017-01-10</td>\n",
       "      <td>7.40</td>\n",
       "      <td>2.4</td>\n",
       "      <td>manhã</td>\n",
       "      <td>masculino</td>\n",
       "      <td>casado</td>\n",
       "      <td>especialização</td>\n",
       "      <td>recife</td>\n",
       "      <td>norte_águas_claras</td>\n",
       "    </tr>\n",
       "    <tr>\n",
       "      <th>2</th>\n",
       "      <td>go_goiás</td>\n",
       "      <td>2017-01-07</td>\n",
       "      <td>7.30</td>\n",
       "      <td>1.8</td>\n",
       "      <td>manhã</td>\n",
       "      <td>masculino</td>\n",
       "      <td>casado</td>\n",
       "      <td>superior</td>\n",
       "      <td>brasilia</td>\n",
       "      <td>setor_sudoeste</td>\n",
       "    </tr>\n",
       "    <tr>\n",
       "      <th>3</th>\n",
       "      <td>go_goiás</td>\n",
       "      <td>2017-01-02</td>\n",
       "      <td>7.20</td>\n",
       "      <td>1.7</td>\n",
       "      <td>noite</td>\n",
       "      <td>masculino</td>\n",
       "      <td>solteiro</td>\n",
       "      <td>ensino_médio</td>\n",
       "      <td>brasília</td>\n",
       "      <td>setor_norte</td>\n",
       "    </tr>\n",
       "    <tr>\n",
       "      <th>4</th>\n",
       "      <td>go_goiás</td>\n",
       "      <td>2017-01-09</td>\n",
       "      <td>6.95</td>\n",
       "      <td>1.7</td>\n",
       "      <td>manhã</td>\n",
       "      <td>feminino</td>\n",
       "      <td>solteiro</td>\n",
       "      <td>superior</td>\n",
       "      <td>brasília</td>\n",
       "      <td>guará_i</td>\n",
       "    </tr>\n",
       "  </tbody>\n",
       "</table>\n",
       "</div>"
      ],
      "text/plain": [
       "  prova_realizada_em dia_da_prova_realizada  nota  nota_redacao  \\\n",
       "0           go_goiás             2017-01-13  7.45           2.2   \n",
       "1           go_goiás             2017-01-10  7.40           2.4   \n",
       "2           go_goiás             2017-01-07  7.30           1.8   \n",
       "3           go_goiás             2017-01-02  7.20           1.7   \n",
       "4           go_goiás             2017-01-09  6.95           1.7   \n",
       "\n",
       "  horario_da_prova       sexo estado_civil    escolaridade  \\\n",
       "0            manhã  masculino       casado    ensino_médio   \n",
       "1            manhã  masculino       casado  especialização   \n",
       "2            manhã  masculino       casado        superior   \n",
       "3            noite  masculino     solteiro    ensino_médio   \n",
       "4            manhã   feminino     solteiro        superior   \n",
       "\n",
       "  cidade_de_nascimento              bairro  \n",
       "0            fortaleza             asa_sul  \n",
       "1               recife  norte_águas_claras  \n",
       "2             brasilia      setor_sudoeste  \n",
       "3             brasília         setor_norte  \n",
       "4             brasília             guará_i  "
      ]
     },
     "execution_count": 18,
     "metadata": {},
     "output_type": "execute_result"
    }
   ],
   "source": [
    "alunos.head()"
   ]
  },
  {
   "cell_type": "code",
   "execution_count": 19,
   "metadata": {},
   "outputs": [
    {
     "data": {
      "text/plain": [
       "prova_realizada_em                object\n",
       "dia_da_prova_realizada    datetime64[ns]\n",
       "nota                             float64\n",
       "nota_redacao                     float64\n",
       "horario_da_prova                category\n",
       "sexo                            category\n",
       "estado_civil                      object\n",
       "escolaridade                      object\n",
       "cidade_de_nascimento              object\n",
       "bairro                            object\n",
       "dtype: object"
      ]
     },
     "execution_count": 19,
     "metadata": {},
     "output_type": "execute_result"
    }
   ],
   "source": [
    "alunos.dtypes"
   ]
  },
  {
   "cell_type": "markdown",
   "metadata": {},
   "source": [
    "#### <b> Adicionando Informações"
   ]
  },
  {
   "cell_type": "code",
   "execution_count": 20,
   "metadata": {},
   "outputs": [],
   "source": [
    "# Regra de aprovação ou reprovação do aluno\n",
    "alunos['situacao'] = alunos['nota'] + alunos['nota_redacao']  > 5"
   ]
  },
  {
   "cell_type": "code",
   "execution_count": 21,
   "metadata": {},
   "outputs": [
    {
     "data": {
      "text/html": [
       "<div>\n",
       "<style scoped>\n",
       "    .dataframe tbody tr th:only-of-type {\n",
       "        vertical-align: middle;\n",
       "    }\n",
       "\n",
       "    .dataframe tbody tr th {\n",
       "        vertical-align: top;\n",
       "    }\n",
       "\n",
       "    .dataframe thead th {\n",
       "        text-align: right;\n",
       "    }\n",
       "</style>\n",
       "<table border=\"1\" class=\"dataframe\">\n",
       "  <thead>\n",
       "    <tr style=\"text-align: right;\">\n",
       "      <th></th>\n",
       "      <th>nota</th>\n",
       "      <th>nota_redacao</th>\n",
       "      <th>situacao</th>\n",
       "    </tr>\n",
       "  </thead>\n",
       "  <tbody>\n",
       "    <tr>\n",
       "      <th>12099</th>\n",
       "      <td>2.25</td>\n",
       "      <td>0.0</td>\n",
       "      <td>False</td>\n",
       "    </tr>\n",
       "    <tr>\n",
       "      <th>4314</th>\n",
       "      <td>5.00</td>\n",
       "      <td>0.0</td>\n",
       "      <td>False</td>\n",
       "    </tr>\n",
       "    <tr>\n",
       "      <th>4307</th>\n",
       "      <td>1.75</td>\n",
       "      <td>0.0</td>\n",
       "      <td>False</td>\n",
       "    </tr>\n",
       "    <tr>\n",
       "      <th>4306</th>\n",
       "      <td>1.75</td>\n",
       "      <td>0.0</td>\n",
       "      <td>False</td>\n",
       "    </tr>\n",
       "    <tr>\n",
       "      <th>4305</th>\n",
       "      <td>1.75</td>\n",
       "      <td>0.0</td>\n",
       "      <td>False</td>\n",
       "    </tr>\n",
       "  </tbody>\n",
       "</table>\n",
       "</div>"
      ],
      "text/plain": [
       "       nota  nota_redacao  situacao\n",
       "12099  2.25           0.0     False\n",
       "4314   5.00           0.0     False\n",
       "4307   1.75           0.0     False\n",
       "4306   1.75           0.0     False\n",
       "4305   1.75           0.0     False"
      ]
     },
     "execution_count": 21,
     "metadata": {},
     "output_type": "execute_result"
    }
   ],
   "source": [
    "# Visualizando as notas e a situação\n",
    "alunos[['nota', 'nota_redacao', 'situacao']].sort_values(by='nota_redacao', ascending=True).head()"
   ]
  },
  {
   "cell_type": "code",
   "execution_count": 22,
   "metadata": {},
   "outputs": [],
   "source": [
    "# Convertendo a informação em categórica (0 reprovado e 1 aprovado)\n",
    "alunos['situacao'] = alunos['situacao'].astype('category')\n",
    "alunos['situacao'] = alunos['situacao'].cat.codes"
   ]
  },
  {
   "cell_type": "code",
   "execution_count": 23,
   "metadata": {},
   "outputs": [
    {
     "data": {
      "text/html": [
       "<div>\n",
       "<style scoped>\n",
       "    .dataframe tbody tr th:only-of-type {\n",
       "        vertical-align: middle;\n",
       "    }\n",
       "\n",
       "    .dataframe tbody tr th {\n",
       "        vertical-align: top;\n",
       "    }\n",
       "\n",
       "    .dataframe thead th {\n",
       "        text-align: right;\n",
       "    }\n",
       "</style>\n",
       "<table border=\"1\" class=\"dataframe\">\n",
       "  <thead>\n",
       "    <tr style=\"text-align: right;\">\n",
       "      <th></th>\n",
       "      <th>prova_realizada_em</th>\n",
       "      <th>dia_da_prova_realizada</th>\n",
       "      <th>nota</th>\n",
       "      <th>nota_redacao</th>\n",
       "      <th>horario_da_prova</th>\n",
       "      <th>sexo</th>\n",
       "      <th>estado_civil</th>\n",
       "      <th>escolaridade</th>\n",
       "      <th>cidade_de_nascimento</th>\n",
       "      <th>bairro</th>\n",
       "      <th>situacao</th>\n",
       "    </tr>\n",
       "  </thead>\n",
       "  <tbody>\n",
       "    <tr>\n",
       "      <th>0</th>\n",
       "      <td>go_goiás</td>\n",
       "      <td>2017-01-13</td>\n",
       "      <td>7.45</td>\n",
       "      <td>2.2</td>\n",
       "      <td>manhã</td>\n",
       "      <td>masculino</td>\n",
       "      <td>casado</td>\n",
       "      <td>ensino_médio</td>\n",
       "      <td>fortaleza</td>\n",
       "      <td>asa_sul</td>\n",
       "      <td>1</td>\n",
       "    </tr>\n",
       "    <tr>\n",
       "      <th>1</th>\n",
       "      <td>go_goiás</td>\n",
       "      <td>2017-01-10</td>\n",
       "      <td>7.40</td>\n",
       "      <td>2.4</td>\n",
       "      <td>manhã</td>\n",
       "      <td>masculino</td>\n",
       "      <td>casado</td>\n",
       "      <td>especialização</td>\n",
       "      <td>recife</td>\n",
       "      <td>norte_águas_claras</td>\n",
       "      <td>1</td>\n",
       "    </tr>\n",
       "    <tr>\n",
       "      <th>2</th>\n",
       "      <td>go_goiás</td>\n",
       "      <td>2017-01-07</td>\n",
       "      <td>7.30</td>\n",
       "      <td>1.8</td>\n",
       "      <td>manhã</td>\n",
       "      <td>masculino</td>\n",
       "      <td>casado</td>\n",
       "      <td>superior</td>\n",
       "      <td>brasilia</td>\n",
       "      <td>setor_sudoeste</td>\n",
       "      <td>1</td>\n",
       "    </tr>\n",
       "    <tr>\n",
       "      <th>3</th>\n",
       "      <td>go_goiás</td>\n",
       "      <td>2017-01-02</td>\n",
       "      <td>7.20</td>\n",
       "      <td>1.7</td>\n",
       "      <td>noite</td>\n",
       "      <td>masculino</td>\n",
       "      <td>solteiro</td>\n",
       "      <td>ensino_médio</td>\n",
       "      <td>brasília</td>\n",
       "      <td>setor_norte</td>\n",
       "      <td>1</td>\n",
       "    </tr>\n",
       "    <tr>\n",
       "      <th>4</th>\n",
       "      <td>go_goiás</td>\n",
       "      <td>2017-01-09</td>\n",
       "      <td>6.95</td>\n",
       "      <td>1.7</td>\n",
       "      <td>manhã</td>\n",
       "      <td>feminino</td>\n",
       "      <td>solteiro</td>\n",
       "      <td>superior</td>\n",
       "      <td>brasília</td>\n",
       "      <td>guará_i</td>\n",
       "      <td>1</td>\n",
       "    </tr>\n",
       "  </tbody>\n",
       "</table>\n",
       "</div>"
      ],
      "text/plain": [
       "  prova_realizada_em dia_da_prova_realizada  nota  nota_redacao  \\\n",
       "0           go_goiás             2017-01-13  7.45           2.2   \n",
       "1           go_goiás             2017-01-10  7.40           2.4   \n",
       "2           go_goiás             2017-01-07  7.30           1.8   \n",
       "3           go_goiás             2017-01-02  7.20           1.7   \n",
       "4           go_goiás             2017-01-09  6.95           1.7   \n",
       "\n",
       "  horario_da_prova       sexo estado_civil    escolaridade  \\\n",
       "0            manhã  masculino       casado    ensino_médio   \n",
       "1            manhã  masculino       casado  especialização   \n",
       "2            manhã  masculino       casado        superior   \n",
       "3            noite  masculino     solteiro    ensino_médio   \n",
       "4            manhã   feminino     solteiro        superior   \n",
       "\n",
       "  cidade_de_nascimento              bairro  situacao  \n",
       "0            fortaleza             asa_sul         1  \n",
       "1               recife  norte_águas_claras         1  \n",
       "2             brasilia      setor_sudoeste         1  \n",
       "3             brasília         setor_norte         1  \n",
       "4             brasília             guará_i         1  "
      ]
     },
     "execution_count": 23,
     "metadata": {},
     "output_type": "execute_result"
    }
   ],
   "source": [
    "alunos.head()"
   ]
  },
  {
   "cell_type": "markdown",
   "metadata": {},
   "source": [
    "#### <b>Criando representaçõs numéricas para as variáveis categóricas"
   ]
  },
  {
   "cell_type": "code",
   "execution_count": 24,
   "metadata": {},
   "outputs": [],
   "source": [
    "copy_alunos = alunos.copy()"
   ]
  },
  {
   "cell_type": "code",
   "execution_count": 25,
   "metadata": {},
   "outputs": [],
   "source": [
    "# Convertendo as colunas categóricas em uma representação numérica\n",
    "copy_alunos['horario_da_prova'] = copy_alunos['horario_da_prova'].cat.codes\n",
    "copy_alunos['sexo'] = copy_alunos['sexo'].cat.codes"
   ]
  },
  {
   "cell_type": "code",
   "execution_count": 26,
   "metadata": {},
   "outputs": [],
   "source": [
    "# Convertendo as variáveis com texto para uma representação numérica\n",
    "def StringToNumber(values):\n",
    "    le = preprocessing.LabelEncoder()\n",
    "    le.fit(values)\n",
    "    return le.transform(values)"
   ]
  },
  {
   "cell_type": "code",
   "execution_count": 27,
   "metadata": {},
   "outputs": [],
   "source": [
    "copy_alunos['estado_civil'] = StringToNumber(copy_alunos['estado_civil'])\n",
    "copy_alunos['escolaridade'] = StringToNumber(copy_alunos['escolaridade'])\n",
    "copy_alunos['cidade_de_nascimento'] = StringToNumber(copy_alunos['cidade_de_nascimento'])\n",
    "copy_alunos['bairro'] = StringToNumber(copy_alunos['bairro'])\n",
    "copy_alunos['prova_realizada_em'] = StringToNumber(copy_alunos['prova_realizada_em'])"
   ]
  },
  {
   "cell_type": "code",
   "execution_count": 28,
   "metadata": {},
   "outputs": [
    {
     "data": {
      "text/html": [
       "<div>\n",
       "<style scoped>\n",
       "    .dataframe tbody tr th:only-of-type {\n",
       "        vertical-align: middle;\n",
       "    }\n",
       "\n",
       "    .dataframe tbody tr th {\n",
       "        vertical-align: top;\n",
       "    }\n",
       "\n",
       "    .dataframe thead th {\n",
       "        text-align: right;\n",
       "    }\n",
       "</style>\n",
       "<table border=\"1\" class=\"dataframe\">\n",
       "  <thead>\n",
       "    <tr style=\"text-align: right;\">\n",
       "      <th></th>\n",
       "      <th>prova_realizada_em</th>\n",
       "      <th>dia_da_prova_realizada</th>\n",
       "      <th>nota</th>\n",
       "      <th>nota_redacao</th>\n",
       "      <th>horario_da_prova</th>\n",
       "      <th>sexo</th>\n",
       "      <th>estado_civil</th>\n",
       "      <th>escolaridade</th>\n",
       "      <th>cidade_de_nascimento</th>\n",
       "      <th>bairro</th>\n",
       "      <th>situacao</th>\n",
       "    </tr>\n",
       "  </thead>\n",
       "  <tbody>\n",
       "    <tr>\n",
       "      <th>0</th>\n",
       "      <td>4</td>\n",
       "      <td>2017-01-13</td>\n",
       "      <td>7.45</td>\n",
       "      <td>2.2</td>\n",
       "      <td>0</td>\n",
       "      <td>1</td>\n",
       "      <td>0</td>\n",
       "      <td>2</td>\n",
       "      <td>1075</td>\n",
       "      <td>187</td>\n",
       "      <td>1</td>\n",
       "    </tr>\n",
       "    <tr>\n",
       "      <th>1</th>\n",
       "      <td>4</td>\n",
       "      <td>2017-01-10</td>\n",
       "      <td>7.40</td>\n",
       "      <td>2.4</td>\n",
       "      <td>0</td>\n",
       "      <td>1</td>\n",
       "      <td>0</td>\n",
       "      <td>3</td>\n",
       "      <td>2348</td>\n",
       "      <td>1982</td>\n",
       "      <td>1</td>\n",
       "    </tr>\n",
       "    <tr>\n",
       "      <th>2</th>\n",
       "      <td>4</td>\n",
       "      <td>2017-01-07</td>\n",
       "      <td>7.30</td>\n",
       "      <td>1.8</td>\n",
       "      <td>0</td>\n",
       "      <td>1</td>\n",
       "      <td>0</td>\n",
       "      <td>8</td>\n",
       "      <td>476</td>\n",
       "      <td>3007</td>\n",
       "      <td>1</td>\n",
       "    </tr>\n",
       "    <tr>\n",
       "      <th>3</th>\n",
       "      <td>4</td>\n",
       "      <td>2017-01-02</td>\n",
       "      <td>7.20</td>\n",
       "      <td>1.7</td>\n",
       "      <td>1</td>\n",
       "      <td>1</td>\n",
       "      <td>3</td>\n",
       "      <td>2</td>\n",
       "      <td>481</td>\n",
       "      <td>2971</td>\n",
       "      <td>1</td>\n",
       "    </tr>\n",
       "    <tr>\n",
       "      <th>4</th>\n",
       "      <td>4</td>\n",
       "      <td>2017-01-09</td>\n",
       "      <td>6.95</td>\n",
       "      <td>1.7</td>\n",
       "      <td>0</td>\n",
       "      <td>0</td>\n",
       "      <td>3</td>\n",
       "      <td>8</td>\n",
       "      <td>481</td>\n",
       "      <td>1163</td>\n",
       "      <td>1</td>\n",
       "    </tr>\n",
       "  </tbody>\n",
       "</table>\n",
       "</div>"
      ],
      "text/plain": [
       "   prova_realizada_em dia_da_prova_realizada  nota  nota_redacao  \\\n",
       "0                   4             2017-01-13  7.45           2.2   \n",
       "1                   4             2017-01-10  7.40           2.4   \n",
       "2                   4             2017-01-07  7.30           1.8   \n",
       "3                   4             2017-01-02  7.20           1.7   \n",
       "4                   4             2017-01-09  6.95           1.7   \n",
       "\n",
       "   horario_da_prova  sexo  estado_civil  escolaridade  cidade_de_nascimento  \\\n",
       "0                 0     1             0             2                  1075   \n",
       "1                 0     1             0             3                  2348   \n",
       "2                 0     1             0             8                   476   \n",
       "3                 1     1             3             2                   481   \n",
       "4                 0     0             3             8                   481   \n",
       "\n",
       "   bairro  situacao  \n",
       "0     187         1  \n",
       "1    1982         1  \n",
       "2    3007         1  \n",
       "3    2971         1  \n",
       "4    1163         1  "
      ]
     },
     "execution_count": 28,
     "metadata": {},
     "output_type": "execute_result"
    }
   ],
   "source": [
    "# Visualizando o conjunto de dados com representações numéricas\n",
    "copy_alunos.head()"
   ]
  },
  {
   "cell_type": "markdown",
   "metadata": {},
   "source": [
    "### <b> Visualizando os Dados"
   ]
  },
  {
   "cell_type": "markdown",
   "metadata": {},
   "source": [
    "alunos - dados com texto para ajudar na visualização"
   ]
  },
  {
   "cell_type": "code",
   "execution_count": 29,
   "metadata": {},
   "outputs": [],
   "source": [
    "# Separando os aprovados dos reprovados para uso abaixo\n",
    "aprovado_situacao = alunos[alunos['situacao'] == 1]\n",
    "reprovado_situacao = alunos[alunos['situacao'] == 0]"
   ]
  },
  {
   "cell_type": "markdown",
   "metadata": {},
   "source": [
    "#### <b> Aluno por Sexo"
   ]
  },
  {
   "cell_type": "code",
   "execution_count": 30,
   "metadata": {},
   "outputs": [
    {
     "data": {
      "text/html": [
       "<div>\n",
       "<style scoped>\n",
       "    .dataframe tbody tr th:only-of-type {\n",
       "        vertical-align: middle;\n",
       "    }\n",
       "\n",
       "    .dataframe tbody tr th {\n",
       "        vertical-align: top;\n",
       "    }\n",
       "\n",
       "    .dataframe thead th {\n",
       "        text-align: right;\n",
       "    }\n",
       "</style>\n",
       "<table border=\"1\" class=\"dataframe\">\n",
       "  <thead>\n",
       "    <tr style=\"text-align: right;\">\n",
       "      <th></th>\n",
       "      <th>Sexo</th>\n",
       "      <th>Aluno</th>\n",
       "    </tr>\n",
       "  </thead>\n",
       "  <tbody>\n",
       "    <tr>\n",
       "      <th>0</th>\n",
       "      <td>masculino</td>\n",
       "      <td>6640</td>\n",
       "    </tr>\n",
       "    <tr>\n",
       "      <th>1</th>\n",
       "      <td>feminino</td>\n",
       "      <td>5417</td>\n",
       "    </tr>\n",
       "  </tbody>\n",
       "</table>\n",
       "</div>"
      ],
      "text/plain": [
       "        Sexo  Aluno\n",
       "0  masculino   6640\n",
       "1   feminino   5417"
      ]
     },
     "execution_count": 30,
     "metadata": {},
     "output_type": "execute_result"
    }
   ],
   "source": [
    "# Contabilizando e Organizando o Sexo em um DataFrame\n",
    "sexo = alunos['sexo'].value_counts()\n",
    "s = pd.Series(sexo)\n",
    "df_sexo = pd.DataFrame({'Sexo':s.index, 'Aluno':s.values})\n",
    "df_sexo.head()"
   ]
  },
  {
   "cell_type": "code",
   "execution_count": 31,
   "metadata": {},
   "outputs": [
    {
     "data": {
      "text/plain": [
       "Text(0, 0.5, 'Alunos')"
      ]
     },
     "execution_count": 31,
     "metadata": {},
     "output_type": "execute_result"
    },
    {
     "data": {
      "image/png": "[encoded data removed]",
      "text/plain": [
       "<Figure size 432x360 with 1 Axes>"
      ]
     },
     "metadata": {
      "needs_background": "light"
     },
     "output_type": "display_data"
    }
   ],
   "source": [
    "# Gráfico de barras \n",
    "plt.figure(figsize = (6,5))\n",
    "sea.barplot(x='Sexo', y='Aluno', data = df_sexo, color = cores[0])\n",
    "plt.title(\"Alunos agrupados por Sexo\", fontsize=18)\n",
    "plt.xlabel('Sexo', fontsize=14)\n",
    "plt.ylabel('Alunos', fontsize=14)"
   ]
  },
  {
   "cell_type": "markdown",
   "metadata": {},
   "source": [
    "#### <b> Aluno por estado civil"
   ]
  },
  {
   "cell_type": "code",
   "execution_count": 32,
   "metadata": {},
   "outputs": [
    {
     "data": {
      "text/html": [
       "<div>\n",
       "<style scoped>\n",
       "    .dataframe tbody tr th:only-of-type {\n",
       "        vertical-align: middle;\n",
       "    }\n",
       "\n",
       "    .dataframe tbody tr th {\n",
       "        vertical-align: top;\n",
       "    }\n",
       "\n",
       "    .dataframe thead th {\n",
       "        text-align: right;\n",
       "    }\n",
       "</style>\n",
       "<table border=\"1\" class=\"dataframe\">\n",
       "  <thead>\n",
       "    <tr style=\"text-align: right;\">\n",
       "      <th></th>\n",
       "      <th>Estado Civil</th>\n",
       "      <th>Alunos</th>\n",
       "    </tr>\n",
       "  </thead>\n",
       "  <tbody>\n",
       "    <tr>\n",
       "      <th>0</th>\n",
       "      <td>solteiro</td>\n",
       "      <td>8018</td>\n",
       "    </tr>\n",
       "    <tr>\n",
       "      <th>1</th>\n",
       "      <td>casado</td>\n",
       "      <td>3437</td>\n",
       "    </tr>\n",
       "    <tr>\n",
       "      <th>2</th>\n",
       "      <td>divorciado</td>\n",
       "      <td>438</td>\n",
       "    </tr>\n",
       "    <tr>\n",
       "      <th>3</th>\n",
       "      <td>separado</td>\n",
       "      <td>129</td>\n",
       "    </tr>\n",
       "    <tr>\n",
       "      <th>4</th>\n",
       "      <td>viúvo</td>\n",
       "      <td>35</td>\n",
       "    </tr>\n",
       "  </tbody>\n",
       "</table>\n",
       "</div>"
      ],
      "text/plain": [
       "  Estado Civil  Alunos\n",
       "0     solteiro    8018\n",
       "1       casado    3437\n",
       "2   divorciado     438\n",
       "3     separado     129\n",
       "4        viúvo      35"
      ]
     },
     "execution_count": 32,
     "metadata": {},
     "output_type": "execute_result"
    }
   ],
   "source": [
    "# Contabilizando e Organizando o Sexo em um DataFrame\n",
    "est_civil = alunos['estado_civil'].value_counts()\n",
    "e_c = pd.Series(est_civil)\n",
    "df_est_civil = pd.DataFrame({'Estado Civil':e_c.index, 'Alunos':e_c.values})\n",
    "df_est_civil.head()"
   ]
  },
  {
   "cell_type": "code",
   "execution_count": 33,
   "metadata": {},
   "outputs": [
    {
     "data": {
      "text/plain": [
       "Text(0, 0.5, 'Estado Civil')"
      ]
     },
     "execution_count": 33,
     "metadata": {},
     "output_type": "execute_result"
    },
    {
     "data": {
      "image/png": "[encoded data removed]",
      "text/plain": [
       "<Figure size 720x576 with 1 Axes>"
      ]
     },
     "metadata": {
      "needs_background": "light"
     },
     "output_type": "display_data"
    }
   ],
   "source": [
    "# Gráfico de barras \n",
    "plt.figure(figsize = (10,8))\n",
    "plt.barh(y='Estado Civil', width='Alunos', data = df_est_civil, color = cores[0])\n",
    "plt.title(\"Alunos agrupados por Estado Civil\", fontsize = 18)\n",
    "plt.xlabel('Alunos',fontsize = 14)\n",
    "plt.ylabel('Estado Civil', fontsize = 14)"
   ]
  },
  {
   "cell_type": "markdown",
   "metadata": {},
   "source": [
    "#### <b> Aluno por escolaridade"
   ]
  },
  {
   "cell_type": "code",
   "execution_count": 34,
   "metadata": {},
   "outputs": [
    {
     "data": {
      "text/html": [
       "<div>\n",
       "<style scoped>\n",
       "    .dataframe tbody tr th:only-of-type {\n",
       "        vertical-align: middle;\n",
       "    }\n",
       "\n",
       "    .dataframe tbody tr th {\n",
       "        vertical-align: top;\n",
       "    }\n",
       "\n",
       "    .dataframe thead th {\n",
       "        text-align: right;\n",
       "    }\n",
       "</style>\n",
       "<table border=\"1\" class=\"dataframe\">\n",
       "  <thead>\n",
       "    <tr style=\"text-align: right;\">\n",
       "      <th></th>\n",
       "      <th>Escolaridade</th>\n",
       "      <th>Alunos</th>\n",
       "    </tr>\n",
       "  </thead>\n",
       "  <tbody>\n",
       "    <tr>\n",
       "      <th>0</th>\n",
       "      <td>ensino_médio</td>\n",
       "      <td>7690</td>\n",
       "    </tr>\n",
       "    <tr>\n",
       "      <th>1</th>\n",
       "      <td>superior</td>\n",
       "      <td>2410</td>\n",
       "    </tr>\n",
       "    <tr>\n",
       "      <th>2</th>\n",
       "      <td>superior_incompleto</td>\n",
       "      <td>1030</td>\n",
       "    </tr>\n",
       "    <tr>\n",
       "      <th>3</th>\n",
       "      <td>nível_técnico</td>\n",
       "      <td>421</td>\n",
       "    </tr>\n",
       "    <tr>\n",
       "      <th>4</th>\n",
       "      <td>especialização</td>\n",
       "      <td>358</td>\n",
       "    </tr>\n",
       "  </tbody>\n",
       "</table>\n",
       "</div>"
      ],
      "text/plain": [
       "          Escolaridade  Alunos\n",
       "0         ensino_médio    7690\n",
       "1             superior    2410\n",
       "2  superior_incompleto    1030\n",
       "3        nível_técnico     421\n",
       "4       especialização     358"
      ]
     },
     "execution_count": 34,
     "metadata": {},
     "output_type": "execute_result"
    }
   ],
   "source": [
    "# Contabilizando e Organizando o Sexo em um DataFrame\n",
    "escolaridade = alunos['escolaridade'].value_counts()\n",
    "e = pd.Series(escolaridade)\n",
    "df_esc = pd.DataFrame({'Escolaridade':e.index, 'Alunos':e.values})\n",
    "df_esc.head()"
   ]
  },
  {
   "cell_type": "code",
   "execution_count": 35,
   "metadata": {},
   "outputs": [
    {
     "data": {
      "text/plain": [
       "Text(0, 0.5, 'Escolaridade')"
      ]
     },
     "execution_count": 35,
     "metadata": {},
     "output_type": "execute_result"
    },
    {
     "data": {
      "image/png": "[encoded data removed]",
      "text/plain": [
       "<Figure size 720x576 with 1 Axes>"
      ]
     },
     "metadata": {
      "needs_background": "light"
     },
     "output_type": "display_data"
    }
   ],
   "source": [
    "# Gráfico de barras \n",
    "plt.figure(figsize = (10,8))\n",
    "plt.barh(y='Escolaridade', width='Alunos', data = df_esc, color = cores[0])\n",
    "plt.title(\"Alunos agrupados por Escolaridade\", fontsize = 18)\n",
    "plt.xlabel('Alunos', fontsize = 14)\n",
    "plt.ylabel('Escolaridade', fontsize = 14)"
   ]
  },
  {
   "cell_type": "markdown",
   "metadata": {},
   "source": [
    "#### <b> Situação por Estado Civil"
   ]
  },
  {
   "cell_type": "code",
   "execution_count": 36,
   "metadata": {},
   "outputs": [],
   "source": [
    "est_civ_ap = aprovado_situacao['estado_civil'].value_counts()\n",
    "est_civ_rep = reprovado_situacao['estado_civil'].value_counts()"
   ]
  },
  {
   "cell_type": "code",
   "execution_count": 37,
   "metadata": {},
   "outputs": [],
   "source": [
    "df_est_civ = pd.DataFrame()\n",
    "df_est_civ['Aprovados'] = est_civ_ap\n",
    "df_est_civ['Reprovados'] = est_civ_rep"
   ]
  },
  {
   "cell_type": "code",
   "execution_count": 38,
   "metadata": {},
   "outputs": [
    {
     "data": {
      "text/html": [
       "<div>\n",
       "<style scoped>\n",
       "    .dataframe tbody tr th:only-of-type {\n",
       "        vertical-align: middle;\n",
       "    }\n",
       "\n",
       "    .dataframe tbody tr th {\n",
       "        vertical-align: top;\n",
       "    }\n",
       "\n",
       "    .dataframe thead th {\n",
       "        text-align: right;\n",
       "    }\n",
       "</style>\n",
       "<table border=\"1\" class=\"dataframe\">\n",
       "  <thead>\n",
       "    <tr style=\"text-align: right;\">\n",
       "      <th></th>\n",
       "      <th>Aprovados</th>\n",
       "      <th>Reprovados</th>\n",
       "    </tr>\n",
       "  </thead>\n",
       "  <tbody>\n",
       "    <tr>\n",
       "      <th>solteiro</th>\n",
       "      <td>4095</td>\n",
       "      <td>3923</td>\n",
       "    </tr>\n",
       "    <tr>\n",
       "      <th>casado</th>\n",
       "      <td>1977</td>\n",
       "      <td>1460</td>\n",
       "    </tr>\n",
       "    <tr>\n",
       "      <th>divorciado</th>\n",
       "      <td>262</td>\n",
       "      <td>176</td>\n",
       "    </tr>\n",
       "    <tr>\n",
       "      <th>separado</th>\n",
       "      <td>62</td>\n",
       "      <td>67</td>\n",
       "    </tr>\n",
       "    <tr>\n",
       "      <th>viúvo</th>\n",
       "      <td>24</td>\n",
       "      <td>11</td>\n",
       "    </tr>\n",
       "  </tbody>\n",
       "</table>\n",
       "</div>"
      ],
      "text/plain": [
       "            Aprovados  Reprovados\n",
       "solteiro         4095        3923\n",
       "casado           1977        1460\n",
       "divorciado        262         176\n",
       "separado           62          67\n",
       "viúvo              24          11"
      ]
     },
     "execution_count": 38,
     "metadata": {},
     "output_type": "execute_result"
    }
   ],
   "source": [
    "df_est_civ"
   ]
  },
  {
   "cell_type": "code",
   "execution_count": 39,
   "metadata": {},
   "outputs": [
    {
     "data": {
      "text/plain": [
       "Text(0, 0.5, 'Estado Civil')"
      ]
     },
     "execution_count": 39,
     "metadata": {},
     "output_type": "execute_result"
    },
    {
     "data": {
      "image/png": "[encoded data removed]",
      "text/plain": [
       "<Figure size 720x576 with 1 Axes>"
      ]
     },
     "metadata": {
      "needs_background": "light"
     },
     "output_type": "display_data"
    }
   ],
   "source": [
    "df_est_civ.plot.barh(color = cores, figsize=(10,8))\n",
    "plt.title(\"Situação por Estado Civil\", fontsize = 18)\n",
    "plt.xlabel('Alunos', fontsize = 14)\n",
    "plt.ylabel('Estado Civil', fontsize = 14)"
   ]
  },
  {
   "cell_type": "markdown",
   "metadata": {},
   "source": [
    "#### <b> Aprovação por escolaridade"
   ]
  },
  {
   "cell_type": "code",
   "execution_count": 40,
   "metadata": {},
   "outputs": [],
   "source": [
    "aprovados_es = aprovado_situacao['escolaridade'].value_counts()\n",
    "reprovados_es = reprovado_situacao['escolaridade'].value_counts()"
   ]
  },
  {
   "cell_type": "code",
   "execution_count": 41,
   "metadata": {},
   "outputs": [],
   "source": [
    "val_ap = pd.Series(aprovados_es)\n",
    "val_rep = pd.Series(reprovados_es)\n",
    "df_situacao_es = pd.DataFrame({'Escolaridade':val_ap.index,  'Aprovados':val_ap.values, 'Reprovados':val_rep.values })\n",
    "df_situacao_es = df_situacao_es.set_index('Escolaridade')"
   ]
  },
  {
   "cell_type": "code",
   "execution_count": 42,
   "metadata": {},
   "outputs": [
    {
     "data": {
      "text/html": [
       "<div>\n",
       "<style scoped>\n",
       "    .dataframe tbody tr th:only-of-type {\n",
       "        vertical-align: middle;\n",
       "    }\n",
       "\n",
       "    .dataframe tbody tr th {\n",
       "        vertical-align: top;\n",
       "    }\n",
       "\n",
       "    .dataframe thead th {\n",
       "        text-align: right;\n",
       "    }\n",
       "</style>\n",
       "<table border=\"1\" class=\"dataframe\">\n",
       "  <thead>\n",
       "    <tr style=\"text-align: right;\">\n",
       "      <th></th>\n",
       "      <th>Aprovados</th>\n",
       "      <th>Reprovados</th>\n",
       "    </tr>\n",
       "    <tr>\n",
       "      <th>Escolaridade</th>\n",
       "      <th></th>\n",
       "      <th></th>\n",
       "    </tr>\n",
       "  </thead>\n",
       "  <tbody>\n",
       "    <tr>\n",
       "      <th>ensino_médio</th>\n",
       "      <td>3606</td>\n",
       "      <td>4084</td>\n",
       "    </tr>\n",
       "    <tr>\n",
       "      <th>superior</th>\n",
       "      <td>1601</td>\n",
       "      <td>809</td>\n",
       "    </tr>\n",
       "    <tr>\n",
       "      <th>superior_incompleto</th>\n",
       "      <td>640</td>\n",
       "      <td>390</td>\n",
       "    </tr>\n",
       "    <tr>\n",
       "      <th>especialização</th>\n",
       "      <td>255</td>\n",
       "      <td>199</td>\n",
       "    </tr>\n",
       "    <tr>\n",
       "      <th>nível_técnico</th>\n",
       "      <td>222</td>\n",
       "      <td>103</td>\n",
       "    </tr>\n",
       "  </tbody>\n",
       "</table>\n",
       "</div>"
      ],
      "text/plain": [
       "                     Aprovados  Reprovados\n",
       "Escolaridade                              \n",
       "ensino_médio              3606        4084\n",
       "superior                  1601         809\n",
       "superior_incompleto        640         390\n",
       "especialização             255         199\n",
       "nível_técnico              222         103"
      ]
     },
     "execution_count": 42,
     "metadata": {},
     "output_type": "execute_result"
    }
   ],
   "source": [
    "df_situacao_es.head()"
   ]
  },
  {
   "cell_type": "code",
   "execution_count": 43,
   "metadata": {},
   "outputs": [
    {
     "data": {
      "text/plain": [
       "Text(0, 0.5, 'Escolaridade')"
      ]
     },
     "execution_count": 43,
     "metadata": {},
     "output_type": "execute_result"
    },
    {
     "data": {
      "image/png": "[encoded data removed]",
      "text/plain": [
       "<Figure size 720x576 with 1 Axes>"
      ]
     },
     "metadata": {
      "needs_background": "light"
     },
     "output_type": "display_data"
    }
   ],
   "source": [
    "df_situacao_es.plot.barh(color = cores, figsize=(10,8))\n",
    "plt.title(\"Situação por Escolaridade\", fontsize = 18)\n",
    "plt.xlabel('Alunos', fontsize = 14)\n",
    "plt.ylabel('Escolaridade', fontsize = 14)"
   ]
  },
  {
   "cell_type": "markdown",
   "metadata": {},
   "source": [
    "#### <b> Aprovação por horário de realização da prova"
   ]
  },
  {
   "cell_type": "code",
   "execution_count": 44,
   "metadata": {},
   "outputs": [],
   "source": [
    "aprovados_hr = aprovado_situacao['horario_da_prova'].value_counts()\n",
    "reprovados_hr = reprovado_situacao['horario_da_prova'].value_counts()"
   ]
  },
  {
   "cell_type": "code",
   "execution_count": 45,
   "metadata": {},
   "outputs": [],
   "source": [
    "val_ap = pd.Series(aprovados_hr)\n",
    "val_rep = pd.Series(reprovados_hr)\n",
    "df_situacao_hr = pd.DataFrame({'Horário da Prova':val_ap.index,  'Aprovados':val_ap.values, 'Reprovados':val_rep.values })\n",
    "df_situacao_hr = df_situacao_hr.set_index('Horário da Prova')"
   ]
  },
  {
   "cell_type": "code",
   "execution_count": 46,
   "metadata": {},
   "outputs": [
    {
     "data": {
      "text/html": [
       "<div>\n",
       "<style scoped>\n",
       "    .dataframe tbody tr th:only-of-type {\n",
       "        vertical-align: middle;\n",
       "    }\n",
       "\n",
       "    .dataframe tbody tr th {\n",
       "        vertical-align: top;\n",
       "    }\n",
       "\n",
       "    .dataframe thead th {\n",
       "        text-align: right;\n",
       "    }\n",
       "</style>\n",
       "<table border=\"1\" class=\"dataframe\">\n",
       "  <thead>\n",
       "    <tr style=\"text-align: right;\">\n",
       "      <th></th>\n",
       "      <th>Aprovados</th>\n",
       "      <th>Reprovados</th>\n",
       "    </tr>\n",
       "    <tr>\n",
       "      <th>Horário da Prova</th>\n",
       "      <th></th>\n",
       "      <th></th>\n",
       "    </tr>\n",
       "  </thead>\n",
       "  <tbody>\n",
       "    <tr>\n",
       "      <th>noite</th>\n",
       "      <td>3605</td>\n",
       "      <td>3176</td>\n",
       "    </tr>\n",
       "    <tr>\n",
       "      <th>manhã</th>\n",
       "      <td>2815</td>\n",
       "      <td>2461</td>\n",
       "    </tr>\n",
       "  </tbody>\n",
       "</table>\n",
       "</div>"
      ],
      "text/plain": [
       "                  Aprovados  Reprovados\n",
       "Horário da Prova                       \n",
       "noite                  3605        3176\n",
       "manhã                  2815        2461"
      ]
     },
     "execution_count": 46,
     "metadata": {},
     "output_type": "execute_result"
    }
   ],
   "source": [
    "df_situacao_hr.head()"
   ]
  },
  {
   "cell_type": "code",
   "execution_count": 47,
   "metadata": {},
   "outputs": [
    {
     "data": {
      "text/plain": [
       "Text(0, 0.5, 'Horário')"
      ]
     },
     "execution_count": 47,
     "metadata": {},
     "output_type": "execute_result"
    },
    {
     "data": {
      "image/png": "[encoded data removed]",
      "text/plain": [
       "<Figure size 720x576 with 1 Axes>"
      ]
     },
     "metadata": {
      "needs_background": "light"
     },
     "output_type": "display_data"
    }
   ],
   "source": [
    "df_situacao_hr.plot.bar(color = cores, figsize=(10,8), rot=0)\n",
    "plt.title(\"Situação por Horário de Realização da Prova\", fontsize = 18)\n",
    "plt.xlabel('Alunos', fontsize = 14)\n",
    "plt.ylabel('Horário', fontsize = 14)"
   ]
  },
  {
   "cell_type": "markdown",
   "metadata": {},
   "source": [
    "#### <b> Distribuiçao das notas"
   ]
  },
  {
   "cell_type": "code",
   "execution_count": 48,
   "metadata": {},
   "outputs": [
    {
     "data": {
      "text/html": [
       "<div>\n",
       "<style scoped>\n",
       "    .dataframe tbody tr th:only-of-type {\n",
       "        vertical-align: middle;\n",
       "    }\n",
       "\n",
       "    .dataframe tbody tr th {\n",
       "        vertical-align: top;\n",
       "    }\n",
       "\n",
       "    .dataframe thead th {\n",
       "        text-align: right;\n",
       "    }\n",
       "</style>\n",
       "<table border=\"1\" class=\"dataframe\">\n",
       "  <thead>\n",
       "    <tr style=\"text-align: right;\">\n",
       "      <th></th>\n",
       "      <th>nota</th>\n",
       "      <th>nota_redacao</th>\n",
       "    </tr>\n",
       "  </thead>\n",
       "  <tbody>\n",
       "    <tr>\n",
       "      <th>0</th>\n",
       "      <td>7.45</td>\n",
       "      <td>2.2</td>\n",
       "    </tr>\n",
       "    <tr>\n",
       "      <th>1</th>\n",
       "      <td>7.40</td>\n",
       "      <td>2.4</td>\n",
       "    </tr>\n",
       "    <tr>\n",
       "      <th>2</th>\n",
       "      <td>7.30</td>\n",
       "      <td>1.8</td>\n",
       "    </tr>\n",
       "    <tr>\n",
       "      <th>3</th>\n",
       "      <td>7.20</td>\n",
       "      <td>1.7</td>\n",
       "    </tr>\n",
       "    <tr>\n",
       "      <th>4</th>\n",
       "      <td>6.95</td>\n",
       "      <td>1.7</td>\n",
       "    </tr>\n",
       "  </tbody>\n",
       "</table>\n",
       "</div>"
      ],
      "text/plain": [
       "   nota  nota_redacao\n",
       "0  7.45           2.2\n",
       "1  7.40           2.4\n",
       "2  7.30           1.8\n",
       "3  7.20           1.7\n",
       "4  6.95           1.7"
      ]
     },
     "execution_count": 48,
     "metadata": {},
     "output_type": "execute_result"
    }
   ],
   "source": [
    "notas = alunos[['nota', 'nota_redacao']]\n",
    "df_notas = pd.DataFrame(notas)\n",
    "df_notas.head()"
   ]
  },
  {
   "cell_type": "code",
   "execution_count": 49,
   "metadata": {},
   "outputs": [
    {
     "data": {
      "text/plain": [
       "Text(0, 0.5, 'Quantidade')"
      ]
     },
     "execution_count": 49,
     "metadata": {},
     "output_type": "execute_result"
    },
    {
     "data": {
      "image/png": "[encoded data removed]",
      "text/plain": [
       "<Figure size 720x576 with 1 Axes>"
      ]
     },
     "metadata": {
      "needs_background": "light"
     },
     "output_type": "display_data"
    }
   ],
   "source": [
    "df_notas['nota'].plot(kind = 'hist', color = cores, figsize=(10,8), rot=0)\n",
    "plt.title(\"Distribuição das Notas\", fontsize = 18)\n",
    "plt.xlabel('Notas', fontsize = 14)\n",
    "plt.ylabel('Quantidade', fontsize = 14)"
   ]
  },
  {
   "cell_type": "code",
   "execution_count": 50,
   "metadata": {},
   "outputs": [
    {
     "data": {
      "text/plain": [
       "Text(0, 0.5, 'Quantidade')"
      ]
     },
     "execution_count": 50,
     "metadata": {},
     "output_type": "execute_result"
    },
    {
     "data": {
      "image/png": "[encoded data removed]",
      "text/plain": [
       "<Figure size 720x576 with 1 Axes>"
      ]
     },
     "metadata": {
      "needs_background": "light"
     },
     "output_type": "display_data"
    }
   ],
   "source": [
    "df_notas['nota_redacao'].plot(kind = 'hist', color = cores, figsize=(10,8), rot=0)\n",
    "plt.title(\"Distribuição das Notas da Redação\", fontsize = 18)\n",
    "plt.xlabel('Notas', fontsize = 14)\n",
    "plt.ylabel('Quantidade', fontsize = 14)"
   ]
  },
  {
   "cell_type": "markdown",
   "metadata": {},
   "source": [
    "#### <b> Situação por local de aplicação da prova"
   ]
  },
  {
   "cell_type": "code",
   "execution_count": 51,
   "metadata": {},
   "outputs": [],
   "source": [
    "aprovados_local = aprovado_situacao['prova_realizada_em'].value_counts()\n",
    "reprovados_local = reprovado_situacao['prova_realizada_em'].value_counts()"
   ]
  },
  {
   "cell_type": "code",
   "execution_count": 52,
   "metadata": {},
   "outputs": [],
   "source": [
    "val_ap = pd.Series(aprovados_local)\n",
    "val_rep = pd.Series(reprovados_local)\n",
    "df_situacao_local = pd.DataFrame({'Local':val_ap.index,  'Aprovados':val_ap.values, 'Reprovados':val_rep.values })\n",
    "df_situacao_local = df_situacao_local.set_index('Local')"
   ]
  },
  {
   "cell_type": "code",
   "execution_count": 53,
   "metadata": {},
   "outputs": [
    {
     "data": {
      "text/html": [
       "<div>\n",
       "<style scoped>\n",
       "    .dataframe tbody tr th:only-of-type {\n",
       "        vertical-align: middle;\n",
       "    }\n",
       "\n",
       "    .dataframe tbody tr th {\n",
       "        vertical-align: top;\n",
       "    }\n",
       "\n",
       "    .dataframe thead th {\n",
       "        text-align: right;\n",
       "    }\n",
       "</style>\n",
       "<table border=\"1\" class=\"dataframe\">\n",
       "  <thead>\n",
       "    <tr style=\"text-align: right;\">\n",
       "      <th></th>\n",
       "      <th>Aprovados</th>\n",
       "      <th>Reprovados</th>\n",
       "    </tr>\n",
       "    <tr>\n",
       "      <th>Local</th>\n",
       "      <th></th>\n",
       "      <th></th>\n",
       "    </tr>\n",
       "  </thead>\n",
       "  <tbody>\n",
       "    <tr>\n",
       "      <th>pa_pará</th>\n",
       "      <td>702</td>\n",
       "      <td>843</td>\n",
       "    </tr>\n",
       "    <tr>\n",
       "      <th>go_goiás</th>\n",
       "      <td>623</td>\n",
       "      <td>709</td>\n",
       "    </tr>\n",
       "    <tr>\n",
       "      <th>rj_rio de janeiro</th>\n",
       "      <td>499</td>\n",
       "      <td>460</td>\n",
       "    </tr>\n",
       "    <tr>\n",
       "      <th>mg_minas gerais</th>\n",
       "      <td>443</td>\n",
       "      <td>455</td>\n",
       "    </tr>\n",
       "    <tr>\n",
       "      <th>ms_mato grosso do sul</th>\n",
       "      <td>443</td>\n",
       "      <td>402</td>\n",
       "    </tr>\n",
       "  </tbody>\n",
       "</table>\n",
       "</div>"
      ],
      "text/plain": [
       "                       Aprovados  Reprovados\n",
       "Local                                       \n",
       "pa_pará                      702         843\n",
       "go_goiás                     623         709\n",
       "rj_rio de janeiro            499         460\n",
       "mg_minas gerais              443         455\n",
       "ms_mato grosso do sul        443         402"
      ]
     },
     "execution_count": 53,
     "metadata": {},
     "output_type": "execute_result"
    }
   ],
   "source": [
    "df_situacao_local.head()"
   ]
  },
  {
   "cell_type": "code",
   "execution_count": 54,
   "metadata": {},
   "outputs": [
    {
     "data": {
      "text/plain": [
       "Text(0, 0.5, 'Local')"
      ]
     },
     "execution_count": 54,
     "metadata": {},
     "output_type": "execute_result"
    },
    {
     "data": {
      "image/png": "[encoded data removed]",
      "text/plain": [
       "<Figure size 1008x720 with 1 Axes>"
      ]
     },
     "metadata": {
      "needs_background": "light"
     },
     "output_type": "display_data"
    }
   ],
   "source": [
    "df_situacao_local.plot(kind = 'bar', color = cores, figsize=(14,10), rot=75)\n",
    "plt.title(\"Locais de Aplicação da Prova\", fontsize = 18)\n",
    "plt.xlabel('Quantidade', fontsize = 14)\n",
    "plt.ylabel('Local', fontsize = 14)"
   ]
  },
  {
   "cell_type": "markdown",
   "metadata": {},
   "source": [
    "# <b> Relacionamentos entre as variáveis"
   ]
  },
  {
   "cell_type": "markdown",
   "metadata": {},
   "source": [
    "copy_alunos -  dados numéricos"
   ]
  },
  {
   "cell_type": "code",
   "execution_count": 55,
   "metadata": {},
   "outputs": [],
   "source": [
    "# Manter somente valores numéricos\n",
    "copy_alunos.drop('dia_da_prova_realizada', inplace=True, axis=1)"
   ]
  },
  {
   "cell_type": "code",
   "execution_count": 56,
   "metadata": {},
   "outputs": [
    {
     "data": {
      "text/plain": [
       "prova_realizada_em        int64\n",
       "nota                    float64\n",
       "nota_redacao            float64\n",
       "horario_da_prova           int8\n",
       "sexo                       int8\n",
       "estado_civil              int64\n",
       "escolaridade              int64\n",
       "cidade_de_nascimento      int64\n",
       "bairro                    int64\n",
       "situacao                   int8\n",
       "dtype: object"
      ]
     },
     "execution_count": 56,
     "metadata": {},
     "output_type": "execute_result"
    }
   ],
   "source": [
    "copy_alunos.dtypes"
   ]
  },
  {
   "cell_type": "code",
   "execution_count": 57,
   "metadata": {},
   "outputs": [],
   "source": [
    "# Normalizando os dados\n",
    "data_norm = (copy_alunos-copy_alunos.mean())/copy_alunos.std()"
   ]
  },
  {
   "cell_type": "code",
   "execution_count": 58,
   "metadata": {},
   "outputs": [
    {
     "data": {
      "text/html": [
       "<div>\n",
       "<style scoped>\n",
       "    .dataframe tbody tr th:only-of-type {\n",
       "        vertical-align: middle;\n",
       "    }\n",
       "\n",
       "    .dataframe tbody tr th {\n",
       "        vertical-align: top;\n",
       "    }\n",
       "\n",
       "    .dataframe thead th {\n",
       "        text-align: right;\n",
       "    }\n",
       "</style>\n",
       "<table border=\"1\" class=\"dataframe\">\n",
       "  <thead>\n",
       "    <tr style=\"text-align: right;\">\n",
       "      <th></th>\n",
       "      <th>prova_realizada_em</th>\n",
       "      <th>nota</th>\n",
       "      <th>nota_redacao</th>\n",
       "      <th>horario_da_prova</th>\n",
       "      <th>sexo</th>\n",
       "      <th>estado_civil</th>\n",
       "      <th>escolaridade</th>\n",
       "      <th>cidade_de_nascimento</th>\n",
       "      <th>bairro</th>\n",
       "      <th>situacao</th>\n",
       "    </tr>\n",
       "  </thead>\n",
       "  <tbody>\n",
       "    <tr>\n",
       "      <th>prova_realizada_em</th>\n",
       "      <td>1.000000</td>\n",
       "      <td>0.040947</td>\n",
       "      <td>0.068699</td>\n",
       "      <td>0.010610</td>\n",
       "      <td>-0.014984</td>\n",
       "      <td>0.017708</td>\n",
       "      <td>-0.029604</td>\n",
       "      <td>-0.006097</td>\n",
       "      <td>-0.070093</td>\n",
       "      <td>0.067995</td>\n",
       "    </tr>\n",
       "    <tr>\n",
       "      <th>nota</th>\n",
       "      <td>0.040947</td>\n",
       "      <td>1.000000</td>\n",
       "      <td>0.914171</td>\n",
       "      <td>-0.009535</td>\n",
       "      <td>0.137852</td>\n",
       "      <td>-0.065560</td>\n",
       "      <td>0.188056</td>\n",
       "      <td>0.020266</td>\n",
       "      <td>-0.002420</td>\n",
       "      <td>0.897325</td>\n",
       "    </tr>\n",
       "    <tr>\n",
       "      <th>nota_redacao</th>\n",
       "      <td>0.068699</td>\n",
       "      <td>0.914171</td>\n",
       "      <td>1.000000</td>\n",
       "      <td>0.001071</td>\n",
       "      <td>0.094576</td>\n",
       "      <td>-0.041465</td>\n",
       "      <td>0.178359</td>\n",
       "      <td>0.023382</td>\n",
       "      <td>-0.008788</td>\n",
       "      <td>0.956734</td>\n",
       "    </tr>\n",
       "    <tr>\n",
       "      <th>horario_da_prova</th>\n",
       "      <td>0.010610</td>\n",
       "      <td>-0.009535</td>\n",
       "      <td>0.001071</td>\n",
       "      <td>1.000000</td>\n",
       "      <td>-0.003501</td>\n",
       "      <td>0.007078</td>\n",
       "      <td>-0.005758</td>\n",
       "      <td>0.017910</td>\n",
       "      <td>-0.002128</td>\n",
       "      <td>-0.001905</td>\n",
       "    </tr>\n",
       "    <tr>\n",
       "      <th>sexo</th>\n",
       "      <td>-0.014984</td>\n",
       "      <td>0.137852</td>\n",
       "      <td>0.094576</td>\n",
       "      <td>-0.003501</td>\n",
       "      <td>1.000000</td>\n",
       "      <td>-0.103780</td>\n",
       "      <td>-0.011258</td>\n",
       "      <td>0.001863</td>\n",
       "      <td>-0.002320</td>\n",
       "      <td>0.104731</td>\n",
       "    </tr>\n",
       "    <tr>\n",
       "      <th>estado_civil</th>\n",
       "      <td>0.017708</td>\n",
       "      <td>-0.065560</td>\n",
       "      <td>-0.041465</td>\n",
       "      <td>0.007078</td>\n",
       "      <td>-0.103780</td>\n",
       "      <td>1.000000</td>\n",
       "      <td>-0.047899</td>\n",
       "      <td>-0.020574</td>\n",
       "      <td>0.000331</td>\n",
       "      <td>-0.059436</td>\n",
       "    </tr>\n",
       "    <tr>\n",
       "      <th>escolaridade</th>\n",
       "      <td>-0.029604</td>\n",
       "      <td>0.188056</td>\n",
       "      <td>0.178359</td>\n",
       "      <td>-0.005758</td>\n",
       "      <td>-0.011258</td>\n",
       "      <td>-0.047899</td>\n",
       "      <td>1.000000</td>\n",
       "      <td>-0.011847</td>\n",
       "      <td>-0.000147</td>\n",
       "      <td>0.154205</td>\n",
       "    </tr>\n",
       "    <tr>\n",
       "      <th>cidade_de_nascimento</th>\n",
       "      <td>-0.006097</td>\n",
       "      <td>0.020266</td>\n",
       "      <td>0.023382</td>\n",
       "      <td>0.017910</td>\n",
       "      <td>0.001863</td>\n",
       "      <td>-0.020574</td>\n",
       "      <td>-0.011847</td>\n",
       "      <td>1.000000</td>\n",
       "      <td>-0.011022</td>\n",
       "      <td>0.017774</td>\n",
       "    </tr>\n",
       "    <tr>\n",
       "      <th>bairro</th>\n",
       "      <td>-0.070093</td>\n",
       "      <td>-0.002420</td>\n",
       "      <td>-0.008788</td>\n",
       "      <td>-0.002128</td>\n",
       "      <td>-0.002320</td>\n",
       "      <td>0.000331</td>\n",
       "      <td>-0.000147</td>\n",
       "      <td>-0.011022</td>\n",
       "      <td>1.000000</td>\n",
       "      <td>-0.010994</td>\n",
       "    </tr>\n",
       "    <tr>\n",
       "      <th>situacao</th>\n",
       "      <td>0.067995</td>\n",
       "      <td>0.897325</td>\n",
       "      <td>0.956734</td>\n",
       "      <td>-0.001905</td>\n",
       "      <td>0.104731</td>\n",
       "      <td>-0.059436</td>\n",
       "      <td>0.154205</td>\n",
       "      <td>0.017774</td>\n",
       "      <td>-0.010994</td>\n",
       "      <td>1.000000</td>\n",
       "    </tr>\n",
       "  </tbody>\n",
       "</table>\n",
       "</div>"
      ],
      "text/plain": [
       "                      prova_realizada_em      nota  nota_redacao  \\\n",
       "prova_realizada_em              1.000000  0.040947      0.068699   \n",
       "nota                            0.040947  1.000000      0.914171   \n",
       "nota_redacao                    0.068699  0.914171      1.000000   \n",
       "horario_da_prova                0.010610 -0.009535      0.001071   \n",
       "sexo                           -0.014984  0.137852      0.094576   \n",
       "estado_civil                    0.017708 -0.065560     -0.041465   \n",
       "escolaridade                   -0.029604  0.188056      0.178359   \n",
       "cidade_de_nascimento           -0.006097  0.020266      0.023382   \n",
       "bairro                         -0.070093 -0.002420     -0.008788   \n",
       "situacao                        0.067995  0.897325      0.956734   \n",
       "\n",
       "                      horario_da_prova      sexo  estado_civil  escolaridade  \\\n",
       "prova_realizada_em            0.010610 -0.014984      0.017708     -0.029604   \n",
       "nota                         -0.009535  0.137852     -0.065560      0.188056   \n",
       "nota_redacao                  0.001071  0.094576     -0.041465      0.178359   \n",
       "horario_da_prova              1.000000 -0.003501      0.007078     -0.005758   \n",
       "sexo                         -0.003501  1.000000     -0.103780     -0.011258   \n",
       "estado_civil                  0.007078 -0.103780      1.000000     -0.047899   \n",
       "escolaridade                 -0.005758 -0.011258     -0.047899      1.000000   \n",
       "cidade_de_nascimento          0.017910  0.001863     -0.020574     -0.011847   \n",
       "bairro                       -0.002128 -0.002320      0.000331     -0.000147   \n",
       "situacao                     -0.001905  0.104731     -0.059436      0.154205   \n",
       "\n",
       "                      cidade_de_nascimento    bairro  situacao  \n",
       "prova_realizada_em               -0.006097 -0.070093  0.067995  \n",
       "nota                              0.020266 -0.002420  0.897325  \n",
       "nota_redacao                      0.023382 -0.008788  0.956734  \n",
       "horario_da_prova                  0.017910 -0.002128 -0.001905  \n",
       "sexo                              0.001863 -0.002320  0.104731  \n",
       "estado_civil                     -0.020574  0.000331 -0.059436  \n",
       "escolaridade                     -0.011847 -0.000147  0.154205  \n",
       "cidade_de_nascimento              1.000000 -0.011022  0.017774  \n",
       "bairro                           -0.011022  1.000000 -0.010994  \n",
       "situacao                          0.017774 -0.010994  1.000000  "
      ]
     },
     "execution_count": 58,
     "metadata": {},
     "output_type": "execute_result"
    }
   ],
   "source": [
    "# Verificando as correlações entre os dados\n",
    "data_norm.corr()"
   ]
  },
  {
   "cell_type": "code",
   "execution_count": 59,
   "metadata": {},
   "outputs": [
    {
     "data": {
      "text/plain": [
       "<matplotlib.axes._subplots.AxesSubplot at 0x7f667a8ccc18>"
      ]
     },
     "execution_count": 59,
     "metadata": {},
     "output_type": "execute_result"
    },
    {
     "data": {
      "image/png": "[encoded data removed]",
      "text/plain": [
       "<Figure size 864x576 with 2 Axes>"
      ]
     },
     "metadata": {
      "needs_background": "light"
     },
     "output_type": "display_data"
    }
   ],
   "source": [
    "# Verificando as correlações entre os dados em um heatmap\n",
    "plt.figure(figsize = (12,8))\n",
    "sea.heatmap(data_norm.corr(), cmap = 'Blues')"
   ]
  },
  {
   "cell_type": "code",
   "execution_count": 60,
   "metadata": {},
   "outputs": [
    {
     "data": {
      "text/html": [
       "<div>\n",
       "<style scoped>\n",
       "    .dataframe tbody tr th:only-of-type {\n",
       "        vertical-align: middle;\n",
       "    }\n",
       "\n",
       "    .dataframe tbody tr th {\n",
       "        vertical-align: top;\n",
       "    }\n",
       "\n",
       "    .dataframe thead th {\n",
       "        text-align: right;\n",
       "    }\n",
       "</style>\n",
       "<table border=\"1\" class=\"dataframe\">\n",
       "  <thead>\n",
       "    <tr style=\"text-align: right;\">\n",
       "      <th></th>\n",
       "      <th>nota</th>\n",
       "      <th>nota_redacao</th>\n",
       "      <th>sexo</th>\n",
       "      <th>escolaridade</th>\n",
       "    </tr>\n",
       "  </thead>\n",
       "  <tbody>\n",
       "    <tr>\n",
       "      <th>0</th>\n",
       "      <td>1.684225</td>\n",
       "      <td>1.549807</td>\n",
       "      <td>0.903186</td>\n",
       "      <td>-0.702046</td>\n",
       "    </tr>\n",
       "    <tr>\n",
       "      <th>1</th>\n",
       "      <td>1.654882</td>\n",
       "      <td>1.783726</td>\n",
       "      <td>0.903186</td>\n",
       "      <td>-0.354511</td>\n",
       "    </tr>\n",
       "    <tr>\n",
       "      <th>2</th>\n",
       "      <td>1.596196</td>\n",
       "      <td>1.081969</td>\n",
       "      <td>0.903186</td>\n",
       "      <td>1.383166</td>\n",
       "    </tr>\n",
       "    <tr>\n",
       "      <th>3</th>\n",
       "      <td>1.537510</td>\n",
       "      <td>0.965010</td>\n",
       "      <td>0.903186</td>\n",
       "      <td>-0.702046</td>\n",
       "    </tr>\n",
       "    <tr>\n",
       "      <th>4</th>\n",
       "      <td>1.390795</td>\n",
       "      <td>0.965010</td>\n",
       "      <td>-1.107099</td>\n",
       "      <td>1.383166</td>\n",
       "    </tr>\n",
       "  </tbody>\n",
       "</table>\n",
       "</div>"
      ],
      "text/plain": [
       "       nota  nota_redacao      sexo  escolaridade\n",
       "0  1.684225      1.549807  0.903186     -0.702046\n",
       "1  1.654882      1.783726  0.903186     -0.354511\n",
       "2  1.596196      1.081969  0.903186      1.383166\n",
       "3  1.537510      0.965010  0.903186     -0.702046\n",
       "4  1.390795      0.965010 -1.107099      1.383166"
      ]
     },
     "execution_count": 60,
     "metadata": {},
     "output_type": "execute_result"
    }
   ],
   "source": [
    "data_rel = data_norm[['nota', 'nota_redacao', 'sexo', 'escolaridade']]\n",
    "data_rel.head()"
   ]
  },
  {
   "cell_type": "code",
   "execution_count": 61,
   "metadata": {},
   "outputs": [
    {
     "data": {
      "text/plain": [
       "<matplotlib.axes._subplots.AxesSubplot at 0x7f667a95b860>"
      ]
     },
     "execution_count": 61,
     "metadata": {},
     "output_type": "execute_result"
    },
    {
     "data": {
      "image/png": "[encoded data removed]",
      "text/plain": [
       "<Figure size 432x288 with 1 Axes>"
      ]
     },
     "metadata": {
      "needs_background": "light"
     },
     "output_type": "display_data"
    }
   ],
   "source": [
    "sea.scatterplot(x = 'nota', y = 'nota_redacao', data = data_rel)"
   ]
  },
  {
   "cell_type": "markdown",
   "metadata": {},
   "source": [
    "# <b> Treinando o Modelo"
   ]
  },
  {
   "cell_type": "markdown",
   "metadata": {},
   "source": [
    "### <b> Treinando o Modelo com Regressão Logística"
   ]
  },
  {
   "cell_type": "code",
   "execution_count": 63,
   "metadata": {},
   "outputs": [],
   "source": [
    "X = data_norm\n",
    "y = copy_alunos['situacao']\n",
    "X_train, X_test, y_train, y_test = train_test_split(X, y, test_size=0.33, random_state=42)"
   ]
  },
  {
   "cell_type": "code",
   "execution_count": 64,
   "metadata": {},
   "outputs": [],
   "source": [
    "clf = LogisticRegression(random_state=0, solver='liblinear')\n",
    "clf.fit(X_train, y_train)\n",
    "y_pred = clf.predict(X_test)"
   ]
  },
  {
   "cell_type": "code",
   "execution_count": 65,
   "metadata": {},
   "outputs": [
    {
     "name": "stdout",
     "output_type": "stream",
     "text": [
      "Accuracy of logistic regression classifier on test set: 1.00\n"
     ]
    }
   ],
   "source": [
    "print('Accuracy of logistic regression classifier on test set: {:.2f}'.format(clf.score(X_test, y_test)))"
   ]
  },
  {
   "cell_type": "code",
   "execution_count": 66,
   "metadata": {},
   "outputs": [
    {
     "name": "stdout",
     "output_type": "stream",
     "text": [
      "[[1851    0]\n",
      " [   0 2128]]\n"
     ]
    }
   ],
   "source": [
    "confusion_matrix = confusion_matrix(y_test, y_pred)\n",
    "print(confusion_matrix)"
   ]
  },
  {
   "cell_type": "code",
   "execution_count": 67,
   "metadata": {},
   "outputs": [
    {
     "name": "stdout",
     "output_type": "stream",
     "text": [
      "              precision    recall  f1-score   support\n",
      "\n",
      "           0       1.00      1.00      1.00      1851\n",
      "           1       1.00      1.00      1.00      2128\n",
      "\n",
      "   micro avg       1.00      1.00      1.00      3979\n",
      "   macro avg       1.00      1.00      1.00      3979\n",
      "weighted avg       1.00      1.00      1.00      3979\n",
      "\n"
     ]
    }
   ],
   "source": [
    "print(classification_report(y_test, y_pred))"
   ]
  },
  {
   "cell_type": "code",
   "execution_count": 68,
   "metadata": {},
   "outputs": [
    {
     "data": {
      "image/png": "[encoded data removed]",
      "text/plain": [
       "<Figure size 432x288 with 1 Axes>"
      ]
     },
     "metadata": {
      "needs_background": "light"
     },
     "output_type": "display_data"
    }
   ],
   "source": [
    "# Plotando a curva ROC AUC\n",
    "logit_roc_auc = roc_auc_score(y_test, clf.predict(X_test))\n",
    "fpr, tpr, thresholds = roc_curve(y_test, clf.predict_proba(X_test)[:,1])\n",
    "plt.figure()\n",
    "plt.plot(fpr, tpr, label='Logistic Regression (area = %0.2f)' % logit_roc_auc)\n",
    "plt.plot([0, 1], [0, 1],'r--')\n",
    "plt.xlim([0.0, 1.0])\n",
    "plt.ylim([0.0, 1.05])\n",
    "plt.xlabel('False Positive Rate')\n",
    "plt.ylabel('True Positive Rate')\n",
    "plt.title('Receiver operating characteristic')\n",
    "plt.legend(loc=\"lower right\")\n",
    "#plt.savefig('Log_ROC')\n",
    "plt.show()"
   ]
  },
  {
   "cell_type": "markdown",
   "metadata": {},
   "source": [
    "### <b> Validando com o Cross Validation"
   ]
  },
  {
   "cell_type": "code",
   "execution_count": 69,
   "metadata": {},
   "outputs": [
    {
     "data": {
      "text/plain": [
       "array([1., 1., 1., 1., 1.])"
      ]
     },
     "execution_count": 69,
     "metadata": {},
     "output_type": "execute_result"
    }
   ],
   "source": [
    "scores = cross_val_score(clf, X, y, cv=5)\n",
    "scores"
   ]
  },
  {
   "cell_type": "code",
   "execution_count": 70,
   "metadata": {},
   "outputs": [
    {
     "name": "stdout",
     "output_type": "stream",
     "text": [
      "Accuracy: 1.00 (+/- 0.00)\n"
     ]
    }
   ],
   "source": [
    "print(\"Accuracy: %0.2f (+/- %0.2f)\" % (scores.mean(), scores.std() * 2))"
   ]
  }
 ],
 "metadata": {
  "kernelspec": {
   "display_name": "Python 3",
   "language": "python",
   "name": "python3"
  },
  "language_info": {
   "codemirror_mode": {
    "name": "ipython",
    "version": 3
   },
   "file_extension": ".py",
   "mimetype": "text/x-python",
   "name": "python",
   "nbconvert_exporter": "python",
   "pygments_lexer": "ipython3",
   "version": "3.8.5"
  }
 },
 "nbformat": 4,
 "nbformat_minor": 4
}
