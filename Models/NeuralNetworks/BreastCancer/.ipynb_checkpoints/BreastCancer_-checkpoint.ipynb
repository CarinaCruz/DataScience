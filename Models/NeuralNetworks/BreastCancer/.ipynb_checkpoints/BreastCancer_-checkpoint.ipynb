{
 "cells": [
  {
   "cell_type": "markdown",
   "metadata": {},
   "source": [
    "# <b> Problema de Classificação Binária - Breast Cancer"
   ]
  },
  {
   "cell_type": "code",
   "execution_count": 13,
   "metadata": {},
   "outputs": [],
   "source": [
    "import pandas as pd\n",
    "\n",
    "from sklearn.model_selection import train_test_split\n",
    "\n",
    "import keras\n",
    "from keras.models import Sequential\n",
    "from keras.layers import Dense"
   ]
  },
  {
   "cell_type": "code",
   "execution_count": 2,
   "metadata": {},
   "outputs": [],
   "source": [
    "previsores = pd.read_csv('entradas.csv')\n",
    "classe = pd.read_csv('saidas.csv')"
   ]
  },
  {
   "cell_type": "code",
   "execution_count": 3,
   "metadata": {},
   "outputs": [
    {
     "data": {
      "text/plain": [
       "(569, 30)"
      ]
     },
     "execution_count": 3,
     "metadata": {},
     "output_type": "execute_result"
    }
   ],
   "source": [
    "# Variáveis \n",
    "previsores.shape"
   ]
  },
  {
   "cell_type": "code",
   "execution_count": 6,
   "metadata": {},
   "outputs": [
    {
     "data": {
      "text/html": [
       "<div>\n",
       "<style scoped>\n",
       "    .dataframe tbody tr th:only-of-type {\n",
       "        vertical-align: middle;\n",
       "    }\n",
       "\n",
       "    .dataframe tbody tr th {\n",
       "        vertical-align: top;\n",
       "    }\n",
       "\n",
       "    .dataframe thead th {\n",
       "        text-align: right;\n",
       "    }\n",
       "</style>\n",
       "<table border=\"1\" class=\"dataframe\">\n",
       "  <thead>\n",
       "    <tr style=\"text-align: right;\">\n",
       "      <th></th>\n",
       "      <th>radius_mean</th>\n",
       "      <th>texture_mean</th>\n",
       "      <th>perimeter_mean</th>\n",
       "      <th>area_mean</th>\n",
       "      <th>smoothness_mean</th>\n",
       "      <th>compactness_mean</th>\n",
       "      <th>concavity_mean</th>\n",
       "      <th>concave_points_mean</th>\n",
       "      <th>symmetry_mean</th>\n",
       "      <th>fractal_dimension_mean</th>\n",
       "      <th>...</th>\n",
       "      <th>radius_worst</th>\n",
       "      <th>texture_worst</th>\n",
       "      <th>perimeter_worst</th>\n",
       "      <th>area_worst</th>\n",
       "      <th>smoothness_worst</th>\n",
       "      <th>compactness_worst</th>\n",
       "      <th>concavity_worst</th>\n",
       "      <th>concave_points_worst</th>\n",
       "      <th>symmetry_worst</th>\n",
       "      <th>fractal_dimension_worst</th>\n",
       "    </tr>\n",
       "  </thead>\n",
       "  <tbody>\n",
       "    <tr>\n",
       "      <th>0</th>\n",
       "      <td>17.99</td>\n",
       "      <td>10.38</td>\n",
       "      <td>122.80</td>\n",
       "      <td>1001.0</td>\n",
       "      <td>0.11840</td>\n",
       "      <td>0.27760</td>\n",
       "      <td>0.3001</td>\n",
       "      <td>0.14710</td>\n",
       "      <td>0.2419</td>\n",
       "      <td>0.07871</td>\n",
       "      <td>...</td>\n",
       "      <td>25.38</td>\n",
       "      <td>17.33</td>\n",
       "      <td>184.60</td>\n",
       "      <td>2019.0</td>\n",
       "      <td>0.1622</td>\n",
       "      <td>0.6656</td>\n",
       "      <td>0.7119</td>\n",
       "      <td>0.2654</td>\n",
       "      <td>0.4601</td>\n",
       "      <td>0.11890</td>\n",
       "    </tr>\n",
       "    <tr>\n",
       "      <th>1</th>\n",
       "      <td>20.57</td>\n",
       "      <td>17.77</td>\n",
       "      <td>132.90</td>\n",
       "      <td>1326.0</td>\n",
       "      <td>0.08474</td>\n",
       "      <td>0.07864</td>\n",
       "      <td>0.0869</td>\n",
       "      <td>0.07017</td>\n",
       "      <td>0.1812</td>\n",
       "      <td>0.05667</td>\n",
       "      <td>...</td>\n",
       "      <td>24.99</td>\n",
       "      <td>23.41</td>\n",
       "      <td>158.80</td>\n",
       "      <td>1956.0</td>\n",
       "      <td>0.1238</td>\n",
       "      <td>0.1866</td>\n",
       "      <td>0.2416</td>\n",
       "      <td>186.0000</td>\n",
       "      <td>275.0000</td>\n",
       "      <td>0.08902</td>\n",
       "    </tr>\n",
       "    <tr>\n",
       "      <th>2</th>\n",
       "      <td>19.69</td>\n",
       "      <td>21.25</td>\n",
       "      <td>130.00</td>\n",
       "      <td>1203.0</td>\n",
       "      <td>0.10960</td>\n",
       "      <td>0.15990</td>\n",
       "      <td>0.1974</td>\n",
       "      <td>0.12790</td>\n",
       "      <td>0.2069</td>\n",
       "      <td>0.05999</td>\n",
       "      <td>...</td>\n",
       "      <td>23.57</td>\n",
       "      <td>25.53</td>\n",
       "      <td>152.50</td>\n",
       "      <td>1709.0</td>\n",
       "      <td>0.1444</td>\n",
       "      <td>0.4245</td>\n",
       "      <td>0.4504</td>\n",
       "      <td>243.0000</td>\n",
       "      <td>0.3613</td>\n",
       "      <td>0.08758</td>\n",
       "    </tr>\n",
       "    <tr>\n",
       "      <th>3</th>\n",
       "      <td>11.42</td>\n",
       "      <td>20.38</td>\n",
       "      <td>77.58</td>\n",
       "      <td>386.1</td>\n",
       "      <td>0.14250</td>\n",
       "      <td>0.28390</td>\n",
       "      <td>0.2414</td>\n",
       "      <td>0.10520</td>\n",
       "      <td>0.2597</td>\n",
       "      <td>0.09744</td>\n",
       "      <td>...</td>\n",
       "      <td>14.91</td>\n",
       "      <td>26.50</td>\n",
       "      <td>98.87</td>\n",
       "      <td>567.7</td>\n",
       "      <td>0.2098</td>\n",
       "      <td>0.8663</td>\n",
       "      <td>0.6869</td>\n",
       "      <td>0.2575</td>\n",
       "      <td>0.6638</td>\n",
       "      <td>173.00000</td>\n",
       "    </tr>\n",
       "    <tr>\n",
       "      <th>4</th>\n",
       "      <td>20.29</td>\n",
       "      <td>14.34</td>\n",
       "      <td>135.10</td>\n",
       "      <td>1297.0</td>\n",
       "      <td>0.10030</td>\n",
       "      <td>0.13280</td>\n",
       "      <td>198.0000</td>\n",
       "      <td>0.10430</td>\n",
       "      <td>0.1809</td>\n",
       "      <td>0.05883</td>\n",
       "      <td>...</td>\n",
       "      <td>22.54</td>\n",
       "      <td>16.67</td>\n",
       "      <td>152.20</td>\n",
       "      <td>1575.0</td>\n",
       "      <td>0.1374</td>\n",
       "      <td>205.0000</td>\n",
       "      <td>0.4000</td>\n",
       "      <td>0.1625</td>\n",
       "      <td>0.2364</td>\n",
       "      <td>0.07678</td>\n",
       "    </tr>\n",
       "  </tbody>\n",
       "</table>\n",
       "<p>5 rows × 30 columns</p>\n",
       "</div>"
      ],
      "text/plain": [
       "    radius_mean   texture_mean   perimeter_mean   area_mean   smoothness_mean  \\\n",
       "0         17.99          10.38           122.80      1001.0           0.11840   \n",
       "1         20.57          17.77           132.90      1326.0           0.08474   \n",
       "2         19.69          21.25           130.00      1203.0           0.10960   \n",
       "3         11.42          20.38            77.58       386.1           0.14250   \n",
       "4         20.29          14.34           135.10      1297.0           0.10030   \n",
       "\n",
       "    compactness_mean   concavity_mean  concave_points_mean   symmetry_mean  \\\n",
       "0            0.27760           0.3001              0.14710          0.2419   \n",
       "1            0.07864           0.0869              0.07017          0.1812   \n",
       "2            0.15990           0.1974              0.12790          0.2069   \n",
       "3            0.28390           0.2414              0.10520          0.2597   \n",
       "4            0.13280         198.0000              0.10430          0.1809   \n",
       "\n",
       "    fractal_dimension_mean  ...   radius_worst   texture_worst  \\\n",
       "0                  0.07871  ...          25.38           17.33   \n",
       "1                  0.05667  ...          24.99           23.41   \n",
       "2                  0.05999  ...          23.57           25.53   \n",
       "3                  0.09744  ...          14.91           26.50   \n",
       "4                  0.05883  ...          22.54           16.67   \n",
       "\n",
       "    perimeter_worst   area_worst   smoothness_worst   compactness_worst  \\\n",
       "0            184.60       2019.0             0.1622              0.6656   \n",
       "1            158.80       1956.0             0.1238              0.1866   \n",
       "2            152.50       1709.0             0.1444              0.4245   \n",
       "3             98.87        567.7             0.2098              0.8663   \n",
       "4            152.20       1575.0             0.1374            205.0000   \n",
       "\n",
       "    concavity_worst   concave_points_worst   symmetry_worst  \\\n",
       "0            0.7119                 0.2654           0.4601   \n",
       "1            0.2416               186.0000         275.0000   \n",
       "2            0.4504               243.0000           0.3613   \n",
       "3            0.6869                 0.2575           0.6638   \n",
       "4            0.4000                 0.1625           0.2364   \n",
       "\n",
       "    fractal_dimension_worst  \n",
       "0                   0.11890  \n",
       "1                   0.08902  \n",
       "2                   0.08758  \n",
       "3                 173.00000  \n",
       "4                   0.07678  \n",
       "\n",
       "[5 rows x 30 columns]"
      ]
     },
     "execution_count": 6,
     "metadata": {},
     "output_type": "execute_result"
    }
   ],
   "source": [
    "previsores.head()"
   ]
  },
  {
   "cell_type": "code",
   "execution_count": 7,
   "metadata": {},
   "outputs": [
    {
     "data": {
      "text/plain": [
       "(569, 1)"
      ]
     },
     "execution_count": 7,
     "metadata": {},
     "output_type": "execute_result"
    }
   ],
   "source": [
    "# Saída\n",
    "classe.shape"
   ]
  },
  {
   "cell_type": "code",
   "execution_count": 9,
   "metadata": {},
   "outputs": [],
   "source": [
    "\n",
    "previsores_treinamento, previsores_teste, classe_treinamento, classe_teste = train_test_split(previsores, \n",
    "                                classe, \n",
    "                                test_size=0.25)"
   ]
  },
  {
   "cell_type": "code",
   "execution_count": 10,
   "metadata": {},
   "outputs": [
    {
     "data": {
      "text/plain": [
       "(426, 30)"
      ]
     },
     "execution_count": 10,
     "metadata": {},
     "output_type": "execute_result"
    }
   ],
   "source": [
    "previsores_treinamento.shape"
   ]
  },
  {
   "cell_type": "code",
   "execution_count": 11,
   "metadata": {},
   "outputs": [
    {
     "data": {
      "text/plain": [
       "(143, 30)"
      ]
     },
     "execution_count": 11,
     "metadata": {},
     "output_type": "execute_result"
    }
   ],
   "source": [
    "previsores_teste.shape"
   ]
  },
  {
   "cell_type": "code",
   "execution_count": 17,
   "metadata": {},
   "outputs": [],
   "source": [
    "# Neural Network Fully Connected \n",
    "# Units = quantidade de neurônios da camada oculta\n",
    "classificador = Sequential()\n",
    "classificador.add(Dense(units = 16, activation = 'relu', \n",
    "                        kernel_initializer = 'random_uniform', \n",
    "                        input_dim = 30))\n",
    "classificador.add(Dense(units = 16, activation = 'relu', \n",
    "                        kernel_initializer = 'random_uniform'))\n",
    "# Saída (1 ou 0)\n",
    "classificador.add(Dense(units = 1, activation = 'sigmoid'))"
   ]
  },
  {
   "cell_type": "code",
   "execution_count": 18,
   "metadata": {},
   "outputs": [],
   "source": [
    "# Ajuste dos pesos\n",
    "otimizador = keras.optimizers.Adam(lr = 0.001, decay = 0.0001, clipvalue = 0.5)"
   ]
  },
  {
   "cell_type": "code",
   "execution_count": 28,
   "metadata": {},
   "outputs": [],
   "source": [
    "classificador.compile(optimizer = otimizador, loss = 'binary_crossentropy', metrics = ['binary_accuracy'])"
   ]
  },
  {
   "cell_type": "code",
   "execution_count": 20,
   "metadata": {},
   "outputs": [
    {
     "name": "stderr",
     "output_type": "stream",
     "text": [
      "W0716 19:24:39.052456 139710268581696 deprecation_wrapper.py:119] From /home/carycccs/anaconda3/lib/python3.7/site-packages/keras/backend/tensorflow_backend.py:986: The name tf.assign_add is deprecated. Please use tf.compat.v1.assign_add instead.\n",
      "\n"
     ]
    },
    {
     "name": "stdout",
     "output_type": "stream",
     "text": [
      "Epoch 1/100\n",
      "426/426 [==============================] - 1s 2ms/step - loss: 0.8264 - binary_accuracy: 0.6033\n",
      "Epoch 2/100\n",
      "426/426 [==============================] - 0s 99us/step - loss: 0.6196 - binary_accuracy: 0.6315\n",
      "Epoch 3/100\n",
      "426/426 [==============================] - 0s 90us/step - loss: 0.5502 - binary_accuracy: 0.7183\n",
      "Epoch 4/100\n",
      "426/426 [==============================] - 0s 79us/step - loss: 0.5281 - binary_accuracy: 0.7230\n",
      "Epoch 5/100\n",
      "426/426 [==============================] - 0s 87us/step - loss: 0.5211 - binary_accuracy: 0.7817\n",
      "Epoch 6/100\n",
      "426/426 [==============================] - 0s 86us/step - loss: 0.4651 - binary_accuracy: 0.8028\n",
      "Epoch 7/100\n",
      "426/426 [==============================] - 0s 83us/step - loss: 0.4846 - binary_accuracy: 0.8192\n",
      "Epoch 8/100\n",
      "426/426 [==============================] - 0s 87us/step - loss: 0.5585 - binary_accuracy: 0.8099\n",
      "Epoch 9/100\n",
      "426/426 [==============================] - 0s 88us/step - loss: 0.5474 - binary_accuracy: 0.8075\n",
      "Epoch 10/100\n",
      "426/426 [==============================] - 0s 82us/step - loss: 0.5328 - binary_accuracy: 0.8075\n",
      "Epoch 11/100\n",
      "426/426 [==============================] - 0s 80us/step - loss: 0.6125 - binary_accuracy: 0.8075\n",
      "Epoch 12/100\n",
      "426/426 [==============================] - 0s 84us/step - loss: 0.4502 - binary_accuracy: 0.8263\n",
      "Epoch 13/100\n",
      "426/426 [==============================] - 0s 80us/step - loss: 0.5916 - binary_accuracy: 0.8286\n",
      "Epoch 14/100\n",
      "426/426 [==============================] - 0s 83us/step - loss: 0.5728 - binary_accuracy: 0.7958\n",
      "Epoch 15/100\n",
      "426/426 [==============================] - 0s 93us/step - loss: 0.5518 - binary_accuracy: 0.8498\n",
      "Epoch 16/100\n",
      "426/426 [==============================] - 0s 83us/step - loss: 0.5768 - binary_accuracy: 0.8005\n",
      "Epoch 17/100\n",
      "426/426 [==============================] - 0s 83us/step - loss: 0.4929 - binary_accuracy: 0.8263\n",
      "Epoch 18/100\n",
      "426/426 [==============================] - 0s 84us/step - loss: 0.5169 - binary_accuracy: 0.8052\n",
      "Epoch 19/100\n",
      "426/426 [==============================] - 0s 79us/step - loss: 0.9061 - binary_accuracy: 0.7629\n",
      "Epoch 20/100\n",
      "426/426 [==============================] - 0s 84us/step - loss: 0.5952 - binary_accuracy: 0.8099\n",
      "Epoch 21/100\n",
      "426/426 [==============================] - 0s 84us/step - loss: 0.5499 - binary_accuracy: 0.8192\n",
      "Epoch 22/100\n",
      "426/426 [==============================] - 0s 96us/step - loss: 0.4373 - binary_accuracy: 0.8498\n",
      "Epoch 23/100\n",
      "426/426 [==============================] - 0s 79us/step - loss: 0.4336 - binary_accuracy: 0.8545\n",
      "Epoch 24/100\n",
      "426/426 [==============================] - 0s 85us/step - loss: 0.5466 - binary_accuracy: 0.8052\n",
      "Epoch 25/100\n",
      "426/426 [==============================] - 0s 87us/step - loss: 0.4175 - binary_accuracy: 0.8451\n",
      "Epoch 26/100\n",
      "426/426 [==============================] - 0s 87us/step - loss: 0.4284 - binary_accuracy: 0.8333\n",
      "Epoch 27/100\n",
      "426/426 [==============================] - 0s 89us/step - loss: 0.5304 - binary_accuracy: 0.8263\n",
      "Epoch 28/100\n",
      "426/426 [==============================] - 0s 97us/step - loss: 0.6144 - binary_accuracy: 0.8122\n",
      "Epoch 29/100\n",
      "426/426 [==============================] - 0s 96us/step - loss: 0.5067 - binary_accuracy: 0.8192\n",
      "Epoch 30/100\n",
      "426/426 [==============================] - 0s 90us/step - loss: 0.4718 - binary_accuracy: 0.8310\n",
      "Epoch 31/100\n",
      "426/426 [==============================] - 0s 86us/step - loss: 0.3669 - binary_accuracy: 0.8709\n",
      "Epoch 32/100\n",
      "426/426 [==============================] - 0s 82us/step - loss: 0.4510 - binary_accuracy: 0.8592\n",
      "Epoch 33/100\n",
      "426/426 [==============================] - 0s 80us/step - loss: 0.4215 - binary_accuracy: 0.8756\n",
      "Epoch 34/100\n",
      "426/426 [==============================] - 0s 81us/step - loss: 0.4164 - binary_accuracy: 0.8615\n",
      "Epoch 35/100\n",
      "426/426 [==============================] - 0s 93us/step - loss: 0.4614 - binary_accuracy: 0.8427\n",
      "Epoch 36/100\n",
      "426/426 [==============================] - 0s 86us/step - loss: 0.4384 - binary_accuracy: 0.8545\n",
      "Epoch 37/100\n",
      "426/426 [==============================] - 0s 86us/step - loss: 0.5108 - binary_accuracy: 0.8662\n",
      "Epoch 38/100\n",
      "426/426 [==============================] - 0s 83us/step - loss: 0.4542 - binary_accuracy: 0.8427\n",
      "Epoch 39/100\n",
      "426/426 [==============================] - 0s 78us/step - loss: 0.4307 - binary_accuracy: 0.8545\n",
      "Epoch 40/100\n",
      "426/426 [==============================] - 0s 78us/step - loss: 0.4642 - binary_accuracy: 0.8427\n",
      "Epoch 41/100\n",
      "426/426 [==============================] - 0s 82us/step - loss: 0.4052 - binary_accuracy: 0.8638\n",
      "Epoch 42/100\n",
      "426/426 [==============================] - 0s 100us/step - loss: 0.4532 - binary_accuracy: 0.8380\n",
      "Epoch 43/100\n",
      "426/426 [==============================] - 0s 84us/step - loss: 0.4323 - binary_accuracy: 0.8568\n",
      "Epoch 44/100\n",
      "426/426 [==============================] - 0s 84us/step - loss: 0.4221 - binary_accuracy: 0.8474\n",
      "Epoch 45/100\n",
      "426/426 [==============================] - 0s 82us/step - loss: 0.4530 - binary_accuracy: 0.8568\n",
      "Epoch 46/100\n",
      "426/426 [==============================] - 0s 80us/step - loss: 0.4322 - binary_accuracy: 0.8709\n",
      "Epoch 47/100\n",
      "426/426 [==============================] - 0s 77us/step - loss: 0.4144 - binary_accuracy: 0.8521\n",
      "Epoch 48/100\n",
      "426/426 [==============================] - 0s 81us/step - loss: 0.4714 - binary_accuracy: 0.8521\n",
      "Epoch 49/100\n",
      "426/426 [==============================] - 0s 98us/step - loss: 0.4178 - binary_accuracy: 0.8685\n",
      "Epoch 50/100\n",
      "426/426 [==============================] - 0s 86us/step - loss: 0.3941 - binary_accuracy: 0.8592\n",
      "Epoch 51/100\n",
      "426/426 [==============================] - 0s 86us/step - loss: 0.5238 - binary_accuracy: 0.8451\n",
      "Epoch 52/100\n",
      "426/426 [==============================] - 0s 79us/step - loss: 0.4257 - binary_accuracy: 0.8803\n",
      "Epoch 53/100\n",
      "426/426 [==============================] - 0s 84us/step - loss: 0.3786 - binary_accuracy: 0.8732\n",
      "Epoch 54/100\n",
      "426/426 [==============================] - 0s 83us/step - loss: 0.3885 - binary_accuracy: 0.8474\n",
      "Epoch 55/100\n",
      "426/426 [==============================] - 0s 79us/step - loss: 0.3706 - binary_accuracy: 0.8709\n",
      "Epoch 56/100\n",
      "426/426 [==============================] - 0s 80us/step - loss: 0.3753 - binary_accuracy: 0.8826\n",
      "Epoch 57/100\n",
      "426/426 [==============================] - 0s 80us/step - loss: 0.3367 - binary_accuracy: 0.8897\n",
      "Epoch 58/100\n",
      "426/426 [==============================] - 0s 82us/step - loss: 0.4882 - binary_accuracy: 0.8451\n",
      "Epoch 59/100\n",
      "426/426 [==============================] - 0s 80us/step - loss: 0.3812 - binary_accuracy: 0.8873\n",
      "Epoch 60/100\n",
      "426/426 [==============================] - 0s 82us/step - loss: 0.4385 - binary_accuracy: 0.8521\n",
      "Epoch 61/100\n",
      "426/426 [==============================] - 0s 81us/step - loss: 0.3986 - binary_accuracy: 0.8732\n",
      "Epoch 62/100\n",
      "426/426 [==============================] - 0s 79us/step - loss: 0.3389 - binary_accuracy: 0.8803\n",
      "Epoch 63/100\n",
      "426/426 [==============================] - 0s 77us/step - loss: 0.4831 - binary_accuracy: 0.8545\n",
      "Epoch 64/100\n",
      "426/426 [==============================] - 0s 81us/step - loss: 0.4488 - binary_accuracy: 0.8545\n",
      "Epoch 65/100\n",
      "426/426 [==============================] - 0s 79us/step - loss: 0.3535 - binary_accuracy: 0.8779\n",
      "Epoch 66/100\n",
      "426/426 [==============================] - 0s 83us/step - loss: 0.4438 - binary_accuracy: 0.8380\n",
      "Epoch 67/100\n",
      "426/426 [==============================] - 0s 82us/step - loss: 0.4409 - binary_accuracy: 0.8498\n",
      "Epoch 68/100\n",
      "426/426 [==============================] - 0s 78us/step - loss: 0.3679 - binary_accuracy: 0.8709\n",
      "Epoch 69/100\n",
      "426/426 [==============================] - 0s 83us/step - loss: 0.3801 - binary_accuracy: 0.8685\n",
      "Epoch 70/100\n",
      "426/426 [==============================] - 0s 82us/step - loss: 0.3941 - binary_accuracy: 0.8638\n",
      "Epoch 71/100\n",
      "426/426 [==============================] - 0s 84us/step - loss: 0.4374 - binary_accuracy: 0.8709\n",
      "Epoch 72/100\n",
      "426/426 [==============================] - 0s 89us/step - loss: 0.3641 - binary_accuracy: 0.8897\n",
      "Epoch 73/100\n",
      "426/426 [==============================] - 0s 87us/step - loss: 0.4602 - binary_accuracy: 0.8333\n",
      "Epoch 74/100\n",
      "426/426 [==============================] - 0s 87us/step - loss: 0.4639 - binary_accuracy: 0.8638\n",
      "Epoch 75/100\n",
      "426/426 [==============================] - 0s 98us/step - loss: 0.5019 - binary_accuracy: 0.8474\n",
      "Epoch 76/100\n",
      "426/426 [==============================] - 0s 84us/step - loss: 0.3560 - binary_accuracy: 0.8944\n",
      "Epoch 77/100\n",
      "426/426 [==============================] - 0s 81us/step - loss: 0.3473 - binary_accuracy: 0.8779\n",
      "Epoch 78/100\n",
      "426/426 [==============================] - 0s 86us/step - loss: 0.4062 - binary_accuracy: 0.8568\n",
      "Epoch 79/100\n",
      "426/426 [==============================] - 0s 78us/step - loss: 0.6295 - binary_accuracy: 0.8451\n",
      "Epoch 80/100\n",
      "426/426 [==============================] - 0s 80us/step - loss: 0.4229 - binary_accuracy: 0.8732\n",
      "Epoch 81/100\n",
      "426/426 [==============================] - 0s 79us/step - loss: 0.4832 - binary_accuracy: 0.8709\n",
      "Epoch 82/100\n",
      "426/426 [==============================] - 0s 92us/step - loss: 0.4765 - binary_accuracy: 0.8498\n",
      "Epoch 83/100\n",
      "426/426 [==============================] - 0s 88us/step - loss: 0.5113 - binary_accuracy: 0.8474\n",
      "Epoch 84/100\n",
      "426/426 [==============================] - 0s 82us/step - loss: 0.5297 - binary_accuracy: 0.8263\n",
      "Epoch 85/100\n",
      "426/426 [==============================] - 0s 81us/step - loss: 0.5310 - binary_accuracy: 0.8662\n",
      "Epoch 86/100\n",
      "426/426 [==============================] - 0s 84us/step - loss: 0.5147 - binary_accuracy: 0.8451\n",
      "Epoch 87/100\n",
      "426/426 [==============================] - 0s 85us/step - loss: 0.5447 - binary_accuracy: 0.8263\n",
      "Epoch 88/100\n",
      "426/426 [==============================] - 0s 82us/step - loss: 0.4380 - binary_accuracy: 0.8685\n",
      "Epoch 89/100\n",
      "426/426 [==============================] - 0s 81us/step - loss: 0.4946 - binary_accuracy: 0.8568\n",
      "Epoch 90/100\n",
      "426/426 [==============================] - 0s 80us/step - loss: 0.5101 - binary_accuracy: 0.8568\n",
      "Epoch 91/100\n",
      "426/426 [==============================] - 0s 83us/step - loss: 0.5701 - binary_accuracy: 0.8545\n",
      "Epoch 92/100\n",
      "426/426 [==============================] - 0s 81us/step - loss: 0.6516 - binary_accuracy: 0.8498\n",
      "Epoch 93/100\n",
      "426/426 [==============================] - 0s 99us/step - loss: 0.5820 - binary_accuracy: 0.8498\n",
      "Epoch 94/100\n",
      "426/426 [==============================] - 0s 84us/step - loss: 0.5349 - binary_accuracy: 0.8310\n",
      "Epoch 95/100\n",
      "426/426 [==============================] - 0s 87us/step - loss: 0.4781 - binary_accuracy: 0.8568\n",
      "Epoch 96/100\n",
      "426/426 [==============================] - 0s 84us/step - loss: 0.5924 - binary_accuracy: 0.8333\n",
      "Epoch 97/100\n",
      "426/426 [==============================] - 0s 85us/step - loss: 0.5507 - binary_accuracy: 0.8638\n",
      "Epoch 98/100\n",
      "426/426 [==============================] - 0s 85us/step - loss: 0.5655 - binary_accuracy: 0.8451\n",
      "Epoch 99/100\n",
      "426/426 [==============================] - 0s 83us/step - loss: 0.5961 - binary_accuracy: 0.8380\n",
      "Epoch 100/100\n",
      "426/426 [==============================] - 0s 85us/step - loss: 0.4789 - binary_accuracy: 0.8615\n"
     ]
    },
    {
     "data": {
      "text/plain": [
       "<keras.callbacks.History at 0x7f109181c3c8>"
      ]
     },
     "execution_count": 20,
     "metadata": {},
     "output_type": "execute_result"
    }
   ],
   "source": [
    "#classificador.compile(optimizer = 'adam', loss = 'binary_crossentropy',\n",
    "#                      metrics = ['binary_accuracy'])\n",
    "classificador.fit(previsores_treinamento, classe_treinamento,\n",
    "                  batch_size = 10, epochs = 100)"
   ]
  },
  {
   "cell_type": "code",
   "execution_count": 33,
   "metadata": {},
   "outputs": [
    {
     "name": "stdout",
     "output_type": "stream",
     "text": [
      "0.8601398601398601\n"
     ]
    }
   ],
   "source": [
    "# Avaliação dos Resultados com Sklearn\n",
    "previsoes = classificador.predict(previsores_teste)\n",
    "previsoes = (previsoes > 0.5)\n",
    "from sklearn.metrics import confusion_matrix, accuracy_score\n",
    "precisao = accuracy_score(classe_teste, previsoes)\n",
    "matriz = confusion_matrix(classe_teste, previsoes)\n",
    "print(precisao)"
   ]
  },
  {
   "cell_type": "code",
   "execution_count": 30,
   "metadata": {},
   "outputs": [
    {
     "name": "stdout",
     "output_type": "stream",
     "text": [
      "[[41  8]\n",
      " [12 82]]\n"
     ]
    }
   ],
   "source": [
    "print(matriz)"
   ]
  },
  {
   "cell_type": "markdown",
   "metadata": {},
   "source": [
    "Tumores benignos 41 previstos corretamente e 8 de forma errada \n",
    "\n",
    "Tumotes malignos 82 previstos corretamente e 12 de forma errada"
   ]
  },
  {
   "cell_type": "code",
   "execution_count": 31,
   "metadata": {},
   "outputs": [
    {
     "name": "stdout",
     "output_type": "stream",
     "text": [
      "143/143 [==============================] - 0s 438us/step\n"
     ]
    }
   ],
   "source": [
    "# Avaliação de resultado com o Keras\n",
    "resultado = classificador.evaluate(previsores_teste, classe_teste)"
   ]
  },
  {
   "cell_type": "code",
   "execution_count": 32,
   "metadata": {},
   "outputs": [
    {
     "data": {
      "text/plain": [
       "[0.5214298013206962, 0.8601398609734915]"
      ]
     },
     "execution_count": 32,
     "metadata": {},
     "output_type": "execute_result"
    }
   ],
   "source": [
    "resultado"
   ]
  }
 ],
 "metadata": {
  "kernelspec": {
   "display_name": "Python 3",
   "language": "python",
   "name": "python3"
  },
  "language_info": {
   "codemirror_mode": {
    "name": "ipython",
    "version": 3
   },
   "file_extension": ".py",
   "mimetype": "text/x-python",
   "name": "python",
   "nbconvert_exporter": "python",
   "pygments_lexer": "ipython3",
   "version": "3.7.3"
  }
 },
 "nbformat": 4,
 "nbformat_minor": 2
}
