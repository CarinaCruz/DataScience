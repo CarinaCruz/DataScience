{
 "cells": [
  {
   "cell_type": "markdown",
   "metadata": {},
   "source": [
    "# <b> Importing Libraries"
   ]
  },
  {
   "cell_type": "code",
   "execution_count": 32,
   "metadata": {},
   "outputs": [],
   "source": [
    "# Pandas for dataframe manipulation\n",
    "import numpy as np\n",
    "import pandas as pd\n",
    "import seaborn as sea\n",
    "import matplotlib.pyplot as plt\n",
    "import time\n",
    "from keras.models import Sequential\n",
    "from keras.layers import Dense\n",
    "from keras.utils import np_utils\n",
    "\n",
    "import time\n",
    "import keras\n",
    "from keras.models import Sequential\n",
    "from keras.layers import Dense, concatenate\n",
    "from keras.utils import np_utils\n",
    "from IPython.display import SVG\n",
    "from keras.optimizers import Adam\n",
    "from keras.utils.vis_utils import model_to_dot\n",
    "from keras.layers import Input, Embedding, Flatten, Dot, Dense, Dropout\n",
    "from keras.models import Model, load_model\n",
    "\n",
    "from IPython.display import SVG\n",
    "from keras.utils.vis_utils import model_to_dot\n",
    "from keras.utils import plot_model\n",
    "import pydot"
   ]
  },
  {
   "cell_type": "markdown",
   "metadata": {},
   "source": [
    "# <b> Loading Data"
   ]
  },
  {
   "cell_type": "code",
   "execution_count": 33,
   "metadata": {},
   "outputs": [],
   "source": [
    "# Keeping the columns names to load it correctly on dataframe\n",
    "ratings_title = ['user_id', 'movie_id', 'rating', 'date']\n",
    "\n",
    "# Dataframe of rating data\n",
    "ratings = pd.read_csv('ratings.dat', sep='::', header=None, names=ratings_title, engine = 'python')"
   ]
  },
  {
   "cell_type": "markdown",
   "metadata": {},
   "source": [
    "# <b> Informations about the Data"
   ]
  },
  {
   "cell_type": "code",
   "execution_count": 34,
   "metadata": {},
   "outputs": [
    {
     "name": "stdout",
     "output_type": "stream",
     "text": [
      "(1000209, 4)\n"
     ]
    }
   ],
   "source": [
    "# Rows and Cols \n",
    "print(ratings.shape)"
   ]
  },
  {
   "cell_type": "code",
   "execution_count": 35,
   "metadata": {},
   "outputs": [
    {
     "data": {
      "text/html": [
       "<div>\n",
       "<style scoped>\n",
       "    .dataframe tbody tr th:only-of-type {\n",
       "        vertical-align: middle;\n",
       "    }\n",
       "\n",
       "    .dataframe tbody tr th {\n",
       "        vertical-align: top;\n",
       "    }\n",
       "\n",
       "    .dataframe thead th {\n",
       "        text-align: right;\n",
       "    }\n",
       "</style>\n",
       "<table border=\"1\" class=\"dataframe\">\n",
       "  <thead>\n",
       "    <tr style=\"text-align: right;\">\n",
       "      <th></th>\n",
       "      <th>user_id</th>\n",
       "      <th>movie_id</th>\n",
       "      <th>rating</th>\n",
       "      <th>date</th>\n",
       "    </tr>\n",
       "  </thead>\n",
       "  <tbody>\n",
       "    <tr>\n",
       "      <th>0</th>\n",
       "      <td>1</td>\n",
       "      <td>1193</td>\n",
       "      <td>5</td>\n",
       "      <td>978300760</td>\n",
       "    </tr>\n",
       "    <tr>\n",
       "      <th>1</th>\n",
       "      <td>1</td>\n",
       "      <td>661</td>\n",
       "      <td>3</td>\n",
       "      <td>978302109</td>\n",
       "    </tr>\n",
       "    <tr>\n",
       "      <th>2</th>\n",
       "      <td>1</td>\n",
       "      <td>914</td>\n",
       "      <td>3</td>\n",
       "      <td>978301968</td>\n",
       "    </tr>\n",
       "    <tr>\n",
       "      <th>3</th>\n",
       "      <td>1</td>\n",
       "      <td>3408</td>\n",
       "      <td>4</td>\n",
       "      <td>978300275</td>\n",
       "    </tr>\n",
       "    <tr>\n",
       "      <th>4</th>\n",
       "      <td>1</td>\n",
       "      <td>2355</td>\n",
       "      <td>5</td>\n",
       "      <td>978824291</td>\n",
       "    </tr>\n",
       "  </tbody>\n",
       "</table>\n",
       "</div>"
      ],
      "text/plain": [
       "   user_id  movie_id  rating       date\n",
       "0        1      1193       5  978300760\n",
       "1        1       661       3  978302109\n",
       "2        1       914       3  978301968\n",
       "3        1      3408       4  978300275\n",
       "4        1      2355       5  978824291"
      ]
     },
     "execution_count": 35,
     "metadata": {},
     "output_type": "execute_result"
    }
   ],
   "source": [
    "# Visualizing the first 5 columns\n",
    "ratings.head()"
   ]
  },
  {
   "cell_type": "code",
   "execution_count": 36,
   "metadata": {},
   "outputs": [
    {
     "data": {
      "text/html": [
       "<div>\n",
       "<style scoped>\n",
       "    .dataframe tbody tr th:only-of-type {\n",
       "        vertical-align: middle;\n",
       "    }\n",
       "\n",
       "    .dataframe tbody tr th {\n",
       "        vertical-align: top;\n",
       "    }\n",
       "\n",
       "    .dataframe thead th {\n",
       "        text-align: right;\n",
       "    }\n",
       "</style>\n",
       "<table border=\"1\" class=\"dataframe\">\n",
       "  <thead>\n",
       "    <tr style=\"text-align: right;\">\n",
       "      <th></th>\n",
       "      <th>user_id</th>\n",
       "      <th>movie_id</th>\n",
       "      <th>rating</th>\n",
       "      <th>date</th>\n",
       "    </tr>\n",
       "  </thead>\n",
       "  <tbody>\n",
       "    <tr>\n",
       "      <th>1000204</th>\n",
       "      <td>6040</td>\n",
       "      <td>1091</td>\n",
       "      <td>1</td>\n",
       "      <td>956716541</td>\n",
       "    </tr>\n",
       "    <tr>\n",
       "      <th>1000205</th>\n",
       "      <td>6040</td>\n",
       "      <td>1094</td>\n",
       "      <td>5</td>\n",
       "      <td>956704887</td>\n",
       "    </tr>\n",
       "    <tr>\n",
       "      <th>1000206</th>\n",
       "      <td>6040</td>\n",
       "      <td>562</td>\n",
       "      <td>5</td>\n",
       "      <td>956704746</td>\n",
       "    </tr>\n",
       "    <tr>\n",
       "      <th>1000207</th>\n",
       "      <td>6040</td>\n",
       "      <td>1096</td>\n",
       "      <td>4</td>\n",
       "      <td>956715648</td>\n",
       "    </tr>\n",
       "    <tr>\n",
       "      <th>1000208</th>\n",
       "      <td>6040</td>\n",
       "      <td>1097</td>\n",
       "      <td>4</td>\n",
       "      <td>956715569</td>\n",
       "    </tr>\n",
       "  </tbody>\n",
       "</table>\n",
       "</div>"
      ],
      "text/plain": [
       "         user_id  movie_id  rating       date\n",
       "1000204     6040      1091       1  956716541\n",
       "1000205     6040      1094       5  956704887\n",
       "1000206     6040       562       5  956704746\n",
       "1000207     6040      1096       4  956715648\n",
       "1000208     6040      1097       4  956715569"
      ]
     },
     "execution_count": 36,
     "metadata": {},
     "output_type": "execute_result"
    }
   ],
   "source": [
    "# Visualizing the last 5 columns\n",
    "ratings.tail()"
   ]
  },
  {
   "cell_type": "code",
   "execution_count": 37,
   "metadata": {},
   "outputs": [
    {
     "data": {
      "text/html": [
       "<div>\n",
       "<style scoped>\n",
       "    .dataframe tbody tr th:only-of-type {\n",
       "        vertical-align: middle;\n",
       "    }\n",
       "\n",
       "    .dataframe tbody tr th {\n",
       "        vertical-align: top;\n",
       "    }\n",
       "\n",
       "    .dataframe thead th {\n",
       "        text-align: right;\n",
       "    }\n",
       "</style>\n",
       "<table border=\"1\" class=\"dataframe\">\n",
       "  <thead>\n",
       "    <tr style=\"text-align: right;\">\n",
       "      <th></th>\n",
       "      <th>user_id</th>\n",
       "      <th>movie_id</th>\n",
       "      <th>rating</th>\n",
       "      <th>date</th>\n",
       "    </tr>\n",
       "  </thead>\n",
       "  <tbody>\n",
       "    <tr>\n",
       "      <th>count</th>\n",
       "      <td>1.000209e+06</td>\n",
       "      <td>1.000209e+06</td>\n",
       "      <td>1.000209e+06</td>\n",
       "      <td>1.000209e+06</td>\n",
       "    </tr>\n",
       "    <tr>\n",
       "      <th>mean</th>\n",
       "      <td>3.024512e+03</td>\n",
       "      <td>1.865540e+03</td>\n",
       "      <td>3.581564e+00</td>\n",
       "      <td>9.722437e+08</td>\n",
       "    </tr>\n",
       "    <tr>\n",
       "      <th>std</th>\n",
       "      <td>1.728413e+03</td>\n",
       "      <td>1.096041e+03</td>\n",
       "      <td>1.117102e+00</td>\n",
       "      <td>1.215256e+07</td>\n",
       "    </tr>\n",
       "    <tr>\n",
       "      <th>min</th>\n",
       "      <td>1.000000e+00</td>\n",
       "      <td>1.000000e+00</td>\n",
       "      <td>1.000000e+00</td>\n",
       "      <td>9.567039e+08</td>\n",
       "    </tr>\n",
       "    <tr>\n",
       "      <th>25%</th>\n",
       "      <td>1.506000e+03</td>\n",
       "      <td>1.030000e+03</td>\n",
       "      <td>3.000000e+00</td>\n",
       "      <td>9.653026e+08</td>\n",
       "    </tr>\n",
       "    <tr>\n",
       "      <th>50%</th>\n",
       "      <td>3.070000e+03</td>\n",
       "      <td>1.835000e+03</td>\n",
       "      <td>4.000000e+00</td>\n",
       "      <td>9.730180e+08</td>\n",
       "    </tr>\n",
       "    <tr>\n",
       "      <th>75%</th>\n",
       "      <td>4.476000e+03</td>\n",
       "      <td>2.770000e+03</td>\n",
       "      <td>4.000000e+00</td>\n",
       "      <td>9.752209e+08</td>\n",
       "    </tr>\n",
       "    <tr>\n",
       "      <th>max</th>\n",
       "      <td>6.040000e+03</td>\n",
       "      <td>3.952000e+03</td>\n",
       "      <td>5.000000e+00</td>\n",
       "      <td>1.046455e+09</td>\n",
       "    </tr>\n",
       "  </tbody>\n",
       "</table>\n",
       "</div>"
      ],
      "text/plain": [
       "            user_id      movie_id        rating          date\n",
       "count  1.000209e+06  1.000209e+06  1.000209e+06  1.000209e+06\n",
       "mean   3.024512e+03  1.865540e+03  3.581564e+00  9.722437e+08\n",
       "std    1.728413e+03  1.096041e+03  1.117102e+00  1.215256e+07\n",
       "min    1.000000e+00  1.000000e+00  1.000000e+00  9.567039e+08\n",
       "25%    1.506000e+03  1.030000e+03  3.000000e+00  9.653026e+08\n",
       "50%    3.070000e+03  1.835000e+03  4.000000e+00  9.730180e+08\n",
       "75%    4.476000e+03  2.770000e+03  4.000000e+00  9.752209e+08\n",
       "max    6.040000e+03  3.952000e+03  5.000000e+00  1.046455e+09"
      ]
     },
     "execution_count": 37,
     "metadata": {},
     "output_type": "execute_result"
    }
   ],
   "source": [
    "# Statistics\n",
    "ratings.describe()"
   ]
  },
  {
   "cell_type": "code",
   "execution_count": 38,
   "metadata": {},
   "outputs": [
    {
     "name": "stdout",
     "output_type": "stream",
     "text": [
      "<class 'pandas.core.frame.DataFrame'>\n",
      "RangeIndex: 1000209 entries, 0 to 1000208\n",
      "Data columns (total 4 columns):\n",
      "user_id     1000209 non-null int64\n",
      "movie_id    1000209 non-null int64\n",
      "rating      1000209 non-null int64\n",
      "date        1000209 non-null int64\n",
      "dtypes: int64(4)\n",
      "memory usage: 30.5 MB\n"
     ]
    }
   ],
   "source": [
    "# Visualizng the information of data types, sizes...\n",
    "ratings.info()"
   ]
  },
  {
   "cell_type": "markdown",
   "metadata": {},
   "source": [
    "# <b> Exploratory Data Analysis"
   ]
  },
  {
   "cell_type": "markdown",
   "metadata": {},
   "source": [
    "#### <b> Looking for the missing values"
   ]
  },
  {
   "cell_type": "code",
   "execution_count": 129,
   "metadata": {},
   "outputs": [
    {
     "data": {
      "image/png": "[encoded data removed]",
      "text/plain": [
       "<Figure size 720x432 with 2 Axes>"
      ]
     },
     "metadata": {
      "needs_background": "light"
     },
     "output_type": "display_data"
    }
   ],
   "source": [
    "# Missing data on Heatmap (for a clean visualization)\n",
    "plt.figure(figsize = (10,6))\n",
    "sea.heatmap(ratings.isnull(),yticklabels=False,cbar=True,cmap='YlGnBu')\n",
    "plt.savefig('missing_values.png')"
   ]
  },
  {
   "cell_type": "markdown",
   "metadata": {},
   "source": [
    "<b> Solid color indicates no missing values"
   ]
  },
  {
   "cell_type": "markdown",
   "metadata": {},
   "source": [
    "#### <b> Data Visualization"
   ]
  },
  {
   "cell_type": "code",
   "execution_count": 132,
   "metadata": {},
   "outputs": [
    {
     "data": {
      "image/png": "[encoded data removed]",
      "text/plain": [
       "<Figure size 432x288 with 1 Axes>"
      ]
     },
     "metadata": {
      "needs_background": "light"
     },
     "output_type": "display_data"
    }
   ],
   "source": [
    "# Counting of rating \n",
    "sea.countplot(x='rating',data=ratings, palette='coolwarm')\n",
    "plt.ylabel(\"Counting of Ratings\")\n",
    "sea.despine(left=True)\n",
    "plt.savefig('ratings.png')"
   ]
  },
  {
   "cell_type": "markdown",
   "metadata": {},
   "source": [
    "# <b> Predicting Ratings using Neural Network"
   ]
  },
  {
   "cell_type": "markdown",
   "metadata": {},
   "source": [
    "#### Encoding Categorical Data"
   ]
  },
  {
   "cell_type": "code",
   "execution_count": 39,
   "metadata": {},
   "outputs": [],
   "source": [
    "ratings.user_id = ratings.user_id.astype('category').cat.codes.values\n",
    "ratings.movie_id = ratings.movie_id.astype('category').cat.codes.values"
   ]
  },
  {
   "cell_type": "markdown",
   "metadata": {},
   "source": [
    "#### Creating the Utility Matrix"
   ]
  },
  {
   "cell_type": "markdown",
   "metadata": {},
   "source": [
    "We're creating a matrix full of nan values, that corresponds to not rated movies "
   ]
  },
  {
   "cell_type": "code",
   "execution_count": 40,
   "metadata": {},
   "outputs": [
    {
     "name": "stdout",
     "output_type": "stream",
     "text": [
      " Ratings shape =  (1000209, 4) \n",
      "\n",
      " Total of users =  6040 \n",
      "\n",
      " Total of movies =  3706 \n",
      "\n",
      " Size of the Matrix = 22384240 \n",
      "\n",
      "\n"
     ]
    }
   ],
   "source": [
    "# Looking for some information about data\n",
    "users = len(ratings['user_id'].unique())\n",
    "movies = len(ratings['movie_id'].unique())\n",
    "matrix = users * movies\n",
    "print(\" Ratings shape = \", ratings.shape, \"\\n\\n\", \n",
    "      \"Total of users = \", users, \"\\n\\n\", \n",
    "      \"Total of movies = \", movies, \"\\n\\n\",\n",
    "     \"Size of the Matrix =\", matrix, \"\\n\\n\")"
   ]
  },
  {
   "cell_type": "code",
   "execution_count": 41,
   "metadata": {},
   "outputs": [],
   "source": [
    "# Matrix organization\n",
    "index=list(ratings['user_id'].unique())\n",
    "columns=list(ratings['movie_id'].unique())\n",
    "index=sorted(index)\n",
    "columns=sorted(columns)"
   ]
  },
  {
   "cell_type": "code",
   "execution_count": 140,
   "metadata": {},
   "outputs": [],
   "source": [
    "# Creating the new dataframe (user-item rating matrix)\n",
    "data = pd.pivot_table(data=ratings,values='rating',index='user_id',columns='movie_id')"
   ]
  },
  {
   "cell_type": "code",
   "execution_count": 141,
   "metadata": {},
   "outputs": [
    {
     "data": {
      "text/html": [
       "<div>\n",
       "<style scoped>\n",
       "    .dataframe tbody tr th:only-of-type {\n",
       "        vertical-align: middle;\n",
       "    }\n",
       "\n",
       "    .dataframe tbody tr th {\n",
       "        vertical-align: top;\n",
       "    }\n",
       "\n",
       "    .dataframe thead th {\n",
       "        text-align: right;\n",
       "    }\n",
       "</style>\n",
       "<table border=\"1\" class=\"dataframe\">\n",
       "  <thead>\n",
       "    <tr style=\"text-align: right;\">\n",
       "      <th>movie_id</th>\n",
       "      <th>0</th>\n",
       "      <th>1</th>\n",
       "      <th>2</th>\n",
       "      <th>3</th>\n",
       "      <th>4</th>\n",
       "      <th>5</th>\n",
       "      <th>6</th>\n",
       "      <th>7</th>\n",
       "      <th>8</th>\n",
       "      <th>9</th>\n",
       "      <th>...</th>\n",
       "      <th>3696</th>\n",
       "      <th>3697</th>\n",
       "      <th>3698</th>\n",
       "      <th>3699</th>\n",
       "      <th>3700</th>\n",
       "      <th>3701</th>\n",
       "      <th>3702</th>\n",
       "      <th>3703</th>\n",
       "      <th>3704</th>\n",
       "      <th>3705</th>\n",
       "    </tr>\n",
       "    <tr>\n",
       "      <th>user_id</th>\n",
       "      <th></th>\n",
       "      <th></th>\n",
       "      <th></th>\n",
       "      <th></th>\n",
       "      <th></th>\n",
       "      <th></th>\n",
       "      <th></th>\n",
       "      <th></th>\n",
       "      <th></th>\n",
       "      <th></th>\n",
       "      <th></th>\n",
       "      <th></th>\n",
       "      <th></th>\n",
       "      <th></th>\n",
       "      <th></th>\n",
       "      <th></th>\n",
       "      <th></th>\n",
       "      <th></th>\n",
       "      <th></th>\n",
       "      <th></th>\n",
       "      <th></th>\n",
       "    </tr>\n",
       "  </thead>\n",
       "  <tbody>\n",
       "    <tr>\n",
       "      <th>0</th>\n",
       "      <td>5.0</td>\n",
       "      <td>NaN</td>\n",
       "      <td>NaN</td>\n",
       "      <td>NaN</td>\n",
       "      <td>NaN</td>\n",
       "      <td>NaN</td>\n",
       "      <td>NaN</td>\n",
       "      <td>NaN</td>\n",
       "      <td>NaN</td>\n",
       "      <td>NaN</td>\n",
       "      <td>...</td>\n",
       "      <td>NaN</td>\n",
       "      <td>NaN</td>\n",
       "      <td>NaN</td>\n",
       "      <td>NaN</td>\n",
       "      <td>NaN</td>\n",
       "      <td>NaN</td>\n",
       "      <td>NaN</td>\n",
       "      <td>NaN</td>\n",
       "      <td>NaN</td>\n",
       "      <td>NaN</td>\n",
       "    </tr>\n",
       "    <tr>\n",
       "      <th>1</th>\n",
       "      <td>NaN</td>\n",
       "      <td>NaN</td>\n",
       "      <td>NaN</td>\n",
       "      <td>NaN</td>\n",
       "      <td>NaN</td>\n",
       "      <td>NaN</td>\n",
       "      <td>NaN</td>\n",
       "      <td>NaN</td>\n",
       "      <td>NaN</td>\n",
       "      <td>NaN</td>\n",
       "      <td>...</td>\n",
       "      <td>NaN</td>\n",
       "      <td>NaN</td>\n",
       "      <td>NaN</td>\n",
       "      <td>NaN</td>\n",
       "      <td>NaN</td>\n",
       "      <td>NaN</td>\n",
       "      <td>NaN</td>\n",
       "      <td>NaN</td>\n",
       "      <td>NaN</td>\n",
       "      <td>NaN</td>\n",
       "    </tr>\n",
       "    <tr>\n",
       "      <th>2</th>\n",
       "      <td>NaN</td>\n",
       "      <td>NaN</td>\n",
       "      <td>NaN</td>\n",
       "      <td>NaN</td>\n",
       "      <td>NaN</td>\n",
       "      <td>NaN</td>\n",
       "      <td>NaN</td>\n",
       "      <td>NaN</td>\n",
       "      <td>NaN</td>\n",
       "      <td>NaN</td>\n",
       "      <td>...</td>\n",
       "      <td>NaN</td>\n",
       "      <td>NaN</td>\n",
       "      <td>NaN</td>\n",
       "      <td>NaN</td>\n",
       "      <td>NaN</td>\n",
       "      <td>NaN</td>\n",
       "      <td>NaN</td>\n",
       "      <td>NaN</td>\n",
       "      <td>NaN</td>\n",
       "      <td>NaN</td>\n",
       "    </tr>\n",
       "    <tr>\n",
       "      <th>3</th>\n",
       "      <td>NaN</td>\n",
       "      <td>NaN</td>\n",
       "      <td>NaN</td>\n",
       "      <td>NaN</td>\n",
       "      <td>NaN</td>\n",
       "      <td>NaN</td>\n",
       "      <td>NaN</td>\n",
       "      <td>NaN</td>\n",
       "      <td>NaN</td>\n",
       "      <td>NaN</td>\n",
       "      <td>...</td>\n",
       "      <td>NaN</td>\n",
       "      <td>NaN</td>\n",
       "      <td>NaN</td>\n",
       "      <td>NaN</td>\n",
       "      <td>NaN</td>\n",
       "      <td>NaN</td>\n",
       "      <td>NaN</td>\n",
       "      <td>NaN</td>\n",
       "      <td>NaN</td>\n",
       "      <td>NaN</td>\n",
       "    </tr>\n",
       "    <tr>\n",
       "      <th>4</th>\n",
       "      <td>NaN</td>\n",
       "      <td>NaN</td>\n",
       "      <td>NaN</td>\n",
       "      <td>NaN</td>\n",
       "      <td>NaN</td>\n",
       "      <td>2.0</td>\n",
       "      <td>NaN</td>\n",
       "      <td>NaN</td>\n",
       "      <td>NaN</td>\n",
       "      <td>NaN</td>\n",
       "      <td>...</td>\n",
       "      <td>NaN</td>\n",
       "      <td>NaN</td>\n",
       "      <td>NaN</td>\n",
       "      <td>NaN</td>\n",
       "      <td>NaN</td>\n",
       "      <td>NaN</td>\n",
       "      <td>NaN</td>\n",
       "      <td>NaN</td>\n",
       "      <td>NaN</td>\n",
       "      <td>NaN</td>\n",
       "    </tr>\n",
       "  </tbody>\n",
       "</table>\n",
       "<p>5 rows × 3706 columns</p>\n",
       "</div>"
      ],
      "text/plain": [
       "movie_id  0     1     2     3     4     5     6     7     8     9     ...  \\\n",
       "user_id                                                               ...   \n",
       "0          5.0   NaN   NaN   NaN   NaN   NaN   NaN   NaN   NaN   NaN  ...   \n",
       "1          NaN   NaN   NaN   NaN   NaN   NaN   NaN   NaN   NaN   NaN  ...   \n",
       "2          NaN   NaN   NaN   NaN   NaN   NaN   NaN   NaN   NaN   NaN  ...   \n",
       "3          NaN   NaN   NaN   NaN   NaN   NaN   NaN   NaN   NaN   NaN  ...   \n",
       "4          NaN   NaN   NaN   NaN   NaN   2.0   NaN   NaN   NaN   NaN  ...   \n",
       "\n",
       "movie_id  3696  3697  3698  3699  3700  3701  3702  3703  3704  3705  \n",
       "user_id                                                               \n",
       "0          NaN   NaN   NaN   NaN   NaN   NaN   NaN   NaN   NaN   NaN  \n",
       "1          NaN   NaN   NaN   NaN   NaN   NaN   NaN   NaN   NaN   NaN  \n",
       "2          NaN   NaN   NaN   NaN   NaN   NaN   NaN   NaN   NaN   NaN  \n",
       "3          NaN   NaN   NaN   NaN   NaN   NaN   NaN   NaN   NaN   NaN  \n",
       "4          NaN   NaN   NaN   NaN   NaN   NaN   NaN   NaN   NaN   NaN  \n",
       "\n",
       "[5 rows x 3706 columns]"
      ]
     },
     "execution_count": 141,
     "metadata": {},
     "output_type": "execute_result"
    }
   ],
   "source": [
    "# Looking the data\n",
    "data.head()"
   ]
  },
  {
   "cell_type": "code",
   "execution_count": 19,
   "metadata": {},
   "outputs": [],
   "source": [
    "# replace nan values for 0 (not rated movies)\n",
    "data = data.replace(np.nan, 0)"
   ]
  },
  {
   "cell_type": "code",
   "execution_count": 20,
   "metadata": {},
   "outputs": [
    {
     "data": {
      "text/html": [
       "<div>\n",
       "<style scoped>\n",
       "    .dataframe tbody tr th:only-of-type {\n",
       "        vertical-align: middle;\n",
       "    }\n",
       "\n",
       "    .dataframe tbody tr th {\n",
       "        vertical-align: top;\n",
       "    }\n",
       "\n",
       "    .dataframe thead th {\n",
       "        text-align: right;\n",
       "    }\n",
       "</style>\n",
       "<table border=\"1\" class=\"dataframe\">\n",
       "  <thead>\n",
       "    <tr style=\"text-align: right;\">\n",
       "      <th>movie_id</th>\n",
       "      <th>0</th>\n",
       "      <th>1</th>\n",
       "      <th>2</th>\n",
       "      <th>3</th>\n",
       "      <th>4</th>\n",
       "      <th>5</th>\n",
       "      <th>6</th>\n",
       "      <th>7</th>\n",
       "      <th>8</th>\n",
       "      <th>9</th>\n",
       "      <th>...</th>\n",
       "      <th>3696</th>\n",
       "      <th>3697</th>\n",
       "      <th>3698</th>\n",
       "      <th>3699</th>\n",
       "      <th>3700</th>\n",
       "      <th>3701</th>\n",
       "      <th>3702</th>\n",
       "      <th>3703</th>\n",
       "      <th>3704</th>\n",
       "      <th>3705</th>\n",
       "    </tr>\n",
       "    <tr>\n",
       "      <th>user_id</th>\n",
       "      <th></th>\n",
       "      <th></th>\n",
       "      <th></th>\n",
       "      <th></th>\n",
       "      <th></th>\n",
       "      <th></th>\n",
       "      <th></th>\n",
       "      <th></th>\n",
       "      <th></th>\n",
       "      <th></th>\n",
       "      <th></th>\n",
       "      <th></th>\n",
       "      <th></th>\n",
       "      <th></th>\n",
       "      <th></th>\n",
       "      <th></th>\n",
       "      <th></th>\n",
       "      <th></th>\n",
       "      <th></th>\n",
       "      <th></th>\n",
       "      <th></th>\n",
       "    </tr>\n",
       "  </thead>\n",
       "  <tbody>\n",
       "    <tr>\n",
       "      <th>0</th>\n",
       "      <td>5.0</td>\n",
       "      <td>0.0</td>\n",
       "      <td>0.0</td>\n",
       "      <td>0.0</td>\n",
       "      <td>0.0</td>\n",
       "      <td>0.0</td>\n",
       "      <td>0.0</td>\n",
       "      <td>0.0</td>\n",
       "      <td>0.0</td>\n",
       "      <td>0.0</td>\n",
       "      <td>...</td>\n",
       "      <td>0.0</td>\n",
       "      <td>0.0</td>\n",
       "      <td>0.0</td>\n",
       "      <td>0.0</td>\n",
       "      <td>0.0</td>\n",
       "      <td>0.0</td>\n",
       "      <td>0.0</td>\n",
       "      <td>0.0</td>\n",
       "      <td>0.0</td>\n",
       "      <td>0.0</td>\n",
       "    </tr>\n",
       "    <tr>\n",
       "      <th>1</th>\n",
       "      <td>0.0</td>\n",
       "      <td>0.0</td>\n",
       "      <td>0.0</td>\n",
       "      <td>0.0</td>\n",
       "      <td>0.0</td>\n",
       "      <td>0.0</td>\n",
       "      <td>0.0</td>\n",
       "      <td>0.0</td>\n",
       "      <td>0.0</td>\n",
       "      <td>0.0</td>\n",
       "      <td>...</td>\n",
       "      <td>0.0</td>\n",
       "      <td>0.0</td>\n",
       "      <td>0.0</td>\n",
       "      <td>0.0</td>\n",
       "      <td>0.0</td>\n",
       "      <td>0.0</td>\n",
       "      <td>0.0</td>\n",
       "      <td>0.0</td>\n",
       "      <td>0.0</td>\n",
       "      <td>0.0</td>\n",
       "    </tr>\n",
       "    <tr>\n",
       "      <th>2</th>\n",
       "      <td>0.0</td>\n",
       "      <td>0.0</td>\n",
       "      <td>0.0</td>\n",
       "      <td>0.0</td>\n",
       "      <td>0.0</td>\n",
       "      <td>0.0</td>\n",
       "      <td>0.0</td>\n",
       "      <td>0.0</td>\n",
       "      <td>0.0</td>\n",
       "      <td>0.0</td>\n",
       "      <td>...</td>\n",
       "      <td>0.0</td>\n",
       "      <td>0.0</td>\n",
       "      <td>0.0</td>\n",
       "      <td>0.0</td>\n",
       "      <td>0.0</td>\n",
       "      <td>0.0</td>\n",
       "      <td>0.0</td>\n",
       "      <td>0.0</td>\n",
       "      <td>0.0</td>\n",
       "      <td>0.0</td>\n",
       "    </tr>\n",
       "    <tr>\n",
       "      <th>3</th>\n",
       "      <td>0.0</td>\n",
       "      <td>0.0</td>\n",
       "      <td>0.0</td>\n",
       "      <td>0.0</td>\n",
       "      <td>0.0</td>\n",
       "      <td>0.0</td>\n",
       "      <td>0.0</td>\n",
       "      <td>0.0</td>\n",
       "      <td>0.0</td>\n",
       "      <td>0.0</td>\n",
       "      <td>...</td>\n",
       "      <td>0.0</td>\n",
       "      <td>0.0</td>\n",
       "      <td>0.0</td>\n",
       "      <td>0.0</td>\n",
       "      <td>0.0</td>\n",
       "      <td>0.0</td>\n",
       "      <td>0.0</td>\n",
       "      <td>0.0</td>\n",
       "      <td>0.0</td>\n",
       "      <td>0.0</td>\n",
       "    </tr>\n",
       "    <tr>\n",
       "      <th>4</th>\n",
       "      <td>0.0</td>\n",
       "      <td>0.0</td>\n",
       "      <td>0.0</td>\n",
       "      <td>0.0</td>\n",
       "      <td>0.0</td>\n",
       "      <td>2.0</td>\n",
       "      <td>0.0</td>\n",
       "      <td>0.0</td>\n",
       "      <td>0.0</td>\n",
       "      <td>0.0</td>\n",
       "      <td>...</td>\n",
       "      <td>0.0</td>\n",
       "      <td>0.0</td>\n",
       "      <td>0.0</td>\n",
       "      <td>0.0</td>\n",
       "      <td>0.0</td>\n",
       "      <td>0.0</td>\n",
       "      <td>0.0</td>\n",
       "      <td>0.0</td>\n",
       "      <td>0.0</td>\n",
       "      <td>0.0</td>\n",
       "    </tr>\n",
       "  </tbody>\n",
       "</table>\n",
       "<p>5 rows × 3706 columns</p>\n",
       "</div>"
      ],
      "text/plain": [
       "movie_id  0     1     2     3     4     5     6     7     8     9     ...  \\\n",
       "user_id                                                               ...   \n",
       "0          5.0   0.0   0.0   0.0   0.0   0.0   0.0   0.0   0.0   0.0  ...   \n",
       "1          0.0   0.0   0.0   0.0   0.0   0.0   0.0   0.0   0.0   0.0  ...   \n",
       "2          0.0   0.0   0.0   0.0   0.0   0.0   0.0   0.0   0.0   0.0  ...   \n",
       "3          0.0   0.0   0.0   0.0   0.0   0.0   0.0   0.0   0.0   0.0  ...   \n",
       "4          0.0   0.0   0.0   0.0   0.0   2.0   0.0   0.0   0.0   0.0  ...   \n",
       "\n",
       "movie_id  3696  3697  3698  3699  3700  3701  3702  3703  3704  3705  \n",
       "user_id                                                               \n",
       "0          0.0   0.0   0.0   0.0   0.0   0.0   0.0   0.0   0.0   0.0  \n",
       "1          0.0   0.0   0.0   0.0   0.0   0.0   0.0   0.0   0.0   0.0  \n",
       "2          0.0   0.0   0.0   0.0   0.0   0.0   0.0   0.0   0.0   0.0  \n",
       "3          0.0   0.0   0.0   0.0   0.0   0.0   0.0   0.0   0.0   0.0  \n",
       "4          0.0   0.0   0.0   0.0   0.0   0.0   0.0   0.0   0.0   0.0  \n",
       "\n",
       "[5 rows x 3706 columns]"
      ]
     },
     "execution_count": 20,
     "metadata": {},
     "output_type": "execute_result"
    }
   ],
   "source": [
    "# Looking the data\n",
    "data.head()"
   ]
  },
  {
   "cell_type": "code",
   "execution_count": 42,
   "metadata": {},
   "outputs": [],
   "source": [
    "from sklearn.model_selection import train_test_split\n",
    "train, test = train_test_split(ratings, test_size=0.33)"
   ]
  },
  {
   "cell_type": "code",
   "execution_count": 43,
   "metadata": {},
   "outputs": [
    {
     "name": "stdout",
     "output_type": "stream",
     "text": [
      "(670140, 4) (330069, 4)\n"
     ]
    }
   ],
   "source": [
    "print(train.shape, test.shape)"
   ]
  },
  {
   "cell_type": "code",
   "execution_count": 44,
   "metadata": {},
   "outputs": [
    {
     "name": "stdout",
     "output_type": "stream",
     "text": [
      "6040 3706\n"
     ]
    }
   ],
   "source": [
    "print(users, movies)"
   ]
  },
  {
   "cell_type": "markdown",
   "metadata": {},
   "source": [
    "## <b> Input, Embeddings and Dot Product"
   ]
  },
  {
   "cell_type": "code",
   "execution_count": 45,
   "metadata": {},
   "outputs": [],
   "source": [
    "user_input = Input(shape = (1,), name='user_input', dtype='int64')\n",
    "user_embedding = Embedding(users, 50, name='user_embedding')(user_input)\n",
    "user_vec = Flatten(name = 'flatten_users')(user_embedding)\n",
    "user_vec = Dropout(0.40)(user_vec)"
   ]
  },
  {
   "cell_type": "code",
   "execution_count": 46,
   "metadata": {},
   "outputs": [],
   "source": [
    "item_input = Input(shape = (1,), name = 'movie_input', dtype = 'int64')\n",
    "item_embedding = Embedding(movies, 50, name = 'movie_embedding')(item_input)\n",
    "item_vec = Flatten(name = 'flatten_movie')(item_embedding)\n",
    "item_vec = Dropout(0.40)(item_vec)"
   ]
  },
  {
   "cell_type": "code",
   "execution_count": 47,
   "metadata": {},
   "outputs": [],
   "source": [
    "# Multiplies the movie vector by the user vector\n",
    "product = Dot(name = \"Dot_Product\", axes = 1)([item_vec, user_vec])"
   ]
  },
  {
   "cell_type": "markdown",
   "metadata": {},
   "source": [
    "## <b>Neural Network Configuration"
   ]
  },
  {
   "cell_type": "code",
   "execution_count": 48,
   "metadata": {},
   "outputs": [
    {
     "name": "stdout",
     "output_type": "stream",
     "text": [
      "__________________________________________________________________________________________________\n",
      "Layer (type)                    Output Shape         Param #     Connected to                     \n",
      "==================================================================================================\n",
      "movie_input (InputLayer)        (None, 1)            0                                            \n",
      "__________________________________________________________________________________________________\n",
      "user_input (InputLayer)         (None, 1)            0                                            \n",
      "__________________________________________________________________________________________________\n",
      "movie_embedding (Embedding)     (None, 1, 50)        185300      movie_input[0][0]                \n",
      "__________________________________________________________________________________________________\n",
      "user_embedding (Embedding)      (None, 1, 50)        302000      user_input[0][0]                 \n",
      "__________________________________________________________________________________________________\n",
      "flatten_movie (Flatten)         (None, 50)           0           movie_embedding[0][0]            \n",
      "__________________________________________________________________________________________________\n",
      "flatten_users (Flatten)         (None, 50)           0           user_embedding[0][0]             \n",
      "__________________________________________________________________________________________________\n",
      "dropout_11 (Dropout)            (None, 50)           0           flatten_movie[0][0]              \n",
      "__________________________________________________________________________________________________\n",
      "dropout_10 (Dropout)            (None, 50)           0           flatten_users[0][0]              \n",
      "__________________________________________________________________________________________________\n",
      "Dot_Product (Dot)               (None, 1)            0           dropout_11[0][0]                 \n",
      "                                                                 dropout_10[0][0]                 \n",
      "__________________________________________________________________________________________________\n",
      "dense_9 (Dense)                 (None, 96)           192         Dot_Product[0][0]                \n",
      "__________________________________________________________________________________________________\n",
      "dropout_12 (Dropout)            (None, 96)           0           dense_9[0][0]                    \n",
      "__________________________________________________________________________________________________\n",
      "dense_10 (Dense)                (None, 1)            97          dropout_12[0][0]                 \n",
      "==================================================================================================\n",
      "Total params: 487,589\n",
      "Trainable params: 487,589\n",
      "Non-trainable params: 0\n",
      "__________________________________________________________________________________________________\n"
     ]
    }
   ],
   "source": [
    "values = Dense(96, activation = 'sigmoid', kernel_initializer = 'random_uniform')(product)\n",
    "values = Dropout(0.4)(values)\n",
    "values = Dense(1, activation = 'sigmoid')(values)\n",
    "my_model = keras.models.Model([user_input, item_input], values)\n",
    "my_model.summary()"
   ]
  },
  {
   "cell_type": "code",
   "execution_count": 49,
   "metadata": {},
   "outputs": [],
   "source": [
    "sim = Dot(name=\"Dot_Product\", axes=1)([item_vec, user_vec])"
   ]
  },
  {
   "cell_type": "markdown",
   "metadata": {},
   "source": [
    "## <b> Structure Visualization"
   ]
  },
  {
   "cell_type": "code",
   "execution_count": 50,
   "metadata": {},
   "outputs": [
    {
     "data": {
      "image/svg+xml": [
       "<svg height=\"556pt\" viewBox=\"0.00 0.00 392.00 556.00\" width=\"392pt\" xmlns=\"http://www.w3.org/2000/svg\" xmlns:xlink=\"http://www.w3.org/1999/xlink\">\n",
       "<g class=\"graph\" id=\"graph0\" transform=\"scale(1 1) rotate(0) translate(4 552)\">\n",
       "<title>G</title>\n",
       "<polygon fill=\"#ffffff\" points=\"-4,4 -4,-552 388,-552 388,4 -4,4\" stroke=\"transparent\"/>\n",
       "<!-- 140346928834320 -->\n",
       "<g class=\"node\" id=\"node1\">\n",
       "<title>140346928834320</title>\n",
       "<polygon fill=\"none\" points=\"18,-511.5 18,-547.5 171,-547.5 171,-511.5 18,-511.5\" stroke=\"#000000\"/>\n",
       "<text fill=\"#000000\" font-family=\"Times,serif\" font-size=\"14.00\" text-anchor=\"middle\" x=\"94.5\" y=\"-525.8\">movie_input: InputLayer</text>\n",
       "</g>\n",
       "<!-- 140346928835440 -->\n",
       "<g class=\"node\" id=\"node3\">\n",
       "<title>140346928835440</title>\n",
       "<polygon fill=\"none\" points=\"0,-438.5 0,-474.5 189,-474.5 189,-438.5 0,-438.5\" stroke=\"#000000\"/>\n",
       "<text fill=\"#000000\" font-family=\"Times,serif\" font-size=\"14.00\" text-anchor=\"middle\" x=\"94.5\" y=\"-452.8\">movie_embedding: Embedding</text>\n",
       "</g>\n",
       "<!-- 140346928834320&#45;&gt;140346928835440 -->\n",
       "<g class=\"edge\" id=\"edge1\">\n",
       "<title>140346928834320-&gt;140346928835440</title>\n",
       "<path d=\"M94.5,-511.4551C94.5,-503.3828 94.5,-493.6764 94.5,-484.6817\" fill=\"none\" stroke=\"#000000\"/>\n",
       "<polygon fill=\"#000000\" points=\"98.0001,-484.5903 94.5,-474.5904 91.0001,-484.5904 98.0001,-484.5903\" stroke=\"#000000\"/>\n",
       "</g>\n",
       "<!-- 140346928834768 -->\n",
       "<g class=\"node\" id=\"node2\">\n",
       "<title>140346928834768</title>\n",
       "<polygon fill=\"none\" points=\"225,-511.5 225,-547.5 366,-547.5 366,-511.5 225,-511.5\" stroke=\"#000000\"/>\n",
       "<text fill=\"#000000\" font-family=\"Times,serif\" font-size=\"14.00\" text-anchor=\"middle\" x=\"295.5\" y=\"-525.8\">user_input: InputLayer</text>\n",
       "</g>\n",
       "<!-- 140346928834824 -->\n",
       "<g class=\"node\" id=\"node4\">\n",
       "<title>140346928834824</title>\n",
       "<polygon fill=\"none\" points=\"207,-438.5 207,-474.5 384,-474.5 384,-438.5 207,-438.5\" stroke=\"#000000\"/>\n",
       "<text fill=\"#000000\" font-family=\"Times,serif\" font-size=\"14.00\" text-anchor=\"middle\" x=\"295.5\" y=\"-452.8\">user_embedding: Embedding</text>\n",
       "</g>\n",
       "<!-- 140346928834768&#45;&gt;140346928834824 -->\n",
       "<g class=\"edge\" id=\"edge2\">\n",
       "<title>140346928834768-&gt;140346928834824</title>\n",
       "<path d=\"M295.5,-511.4551C295.5,-503.3828 295.5,-493.6764 295.5,-484.6817\" fill=\"none\" stroke=\"#000000\"/>\n",
       "<polygon fill=\"#000000\" points=\"299.0001,-484.5903 295.5,-474.5904 292.0001,-484.5904 299.0001,-484.5903\" stroke=\"#000000\"/>\n",
       "</g>\n",
       "<!-- 140346928834936 -->\n",
       "<g class=\"node\" id=\"node5\">\n",
       "<title>140346928834936</title>\n",
       "<polygon fill=\"none\" points=\"50,-365.5 50,-401.5 187,-401.5 187,-365.5 50,-365.5\" stroke=\"#000000\"/>\n",
       "<text fill=\"#000000\" font-family=\"Times,serif\" font-size=\"14.00\" text-anchor=\"middle\" x=\"118.5\" y=\"-379.8\">flatten_movie: Flatten</text>\n",
       "</g>\n",
       "<!-- 140346928835440&#45;&gt;140346928834936 -->\n",
       "<g class=\"edge\" id=\"edge3\">\n",
       "<title>140346928835440-&gt;140346928834936</title>\n",
       "<path d=\"M100.4326,-438.4551C103.1442,-430.2074 106.4166,-420.2536 109.4273,-411.0962\" fill=\"none\" stroke=\"#000000\"/>\n",
       "<polygon fill=\"#000000\" points=\"112.7541,-412.1833 112.5525,-401.5904 106.1043,-409.997 112.7541,-412.1833\" stroke=\"#000000\"/>\n",
       "</g>\n",
       "<!-- 140347243787656 -->\n",
       "<g class=\"node\" id=\"node6\">\n",
       "<title>140347243787656</title>\n",
       "<polygon fill=\"none\" points=\"217,-365.5 217,-401.5 348,-401.5 348,-365.5 217,-365.5\" stroke=\"#000000\"/>\n",
       "<text fill=\"#000000\" font-family=\"Times,serif\" font-size=\"14.00\" text-anchor=\"middle\" x=\"282.5\" y=\"-379.8\">flatten_users: Flatten</text>\n",
       "</g>\n",
       "<!-- 140346928834824&#45;&gt;140347243787656 -->\n",
       "<g class=\"edge\" id=\"edge4\">\n",
       "<title>140346928834824-&gt;140347243787656</title>\n",
       "<path d=\"M292.2865,-438.4551C290.849,-430.3828 289.1205,-420.6764 287.5187,-411.6817\" fill=\"none\" stroke=\"#000000\"/>\n",
       "<polygon fill=\"#000000\" points=\"290.9207,-410.8218 285.7216,-401.5904 284.0291,-412.0491 290.9207,-410.8218\" stroke=\"#000000\"/>\n",
       "</g>\n",
       "<!-- 140346928835776 -->\n",
       "<g class=\"node\" id=\"node7\">\n",
       "<title>140346928835776</title>\n",
       "<polygon fill=\"none\" points=\"54,-292.5 54,-328.5 185,-328.5 185,-292.5 54,-292.5\" stroke=\"#000000\"/>\n",
       "<text fill=\"#000000\" font-family=\"Times,serif\" font-size=\"14.00\" text-anchor=\"middle\" x=\"119.5\" y=\"-306.8\">dropout_11: Dropout</text>\n",
       "</g>\n",
       "<!-- 140346928834936&#45;&gt;140346928835776 -->\n",
       "<g class=\"edge\" id=\"edge5\">\n",
       "<title>140346928834936-&gt;140346928835776</title>\n",
       "<path d=\"M118.7472,-365.4551C118.8578,-357.3828 118.9907,-347.6764 119.1139,-338.6817\" fill=\"none\" stroke=\"#000000\"/>\n",
       "<polygon fill=\"#000000\" points=\"122.6148,-338.6374 119.2522,-328.5904 115.6154,-338.5414 122.6148,-338.6374\" stroke=\"#000000\"/>\n",
       "</g>\n",
       "<!-- 140346928336848 -->\n",
       "<g class=\"node\" id=\"node8\">\n",
       "<title>140346928336848</title>\n",
       "<polygon fill=\"none\" points=\"204,-292.5 204,-328.5 335,-328.5 335,-292.5 204,-292.5\" stroke=\"#000000\"/>\n",
       "<text fill=\"#000000\" font-family=\"Times,serif\" font-size=\"14.00\" text-anchor=\"middle\" x=\"269.5\" y=\"-306.8\">dropout_10: Dropout</text>\n",
       "</g>\n",
       "<!-- 140347243787656&#45;&gt;140346928336848 -->\n",
       "<g class=\"edge\" id=\"edge6\">\n",
       "<title>140347243787656-&gt;140346928336848</title>\n",
       "<path d=\"M279.2865,-365.4551C277.849,-357.3828 276.1205,-347.6764 274.5187,-338.6817\" fill=\"none\" stroke=\"#000000\"/>\n",
       "<polygon fill=\"#000000\" points=\"277.9207,-337.8218 272.7216,-328.5904 271.0291,-339.0491 277.9207,-337.8218\" stroke=\"#000000\"/>\n",
       "</g>\n",
       "<!-- 140346928833816 -->\n",
       "<g class=\"node\" id=\"node9\">\n",
       "<title>140346928833816</title>\n",
       "<polygon fill=\"none\" points=\"137,-219.5 137,-255.5 250,-255.5 250,-219.5 137,-219.5\" stroke=\"#000000\"/>\n",
       "<text fill=\"#000000\" font-family=\"Times,serif\" font-size=\"14.00\" text-anchor=\"middle\" x=\"193.5\" y=\"-233.8\">Dot_Product: Dot</text>\n",
       "</g>\n",
       "<!-- 140346928835776&#45;&gt;140346928833816 -->\n",
       "<g class=\"edge\" id=\"edge7\">\n",
       "<title>140346928835776-&gt;140346928833816</title>\n",
       "<path d=\"M137.7921,-292.4551C146.8644,-283.5054 157.9729,-272.547 167.8768,-262.7769\" fill=\"none\" stroke=\"#000000\"/>\n",
       "<polygon fill=\"#000000\" points=\"170.5008,-265.1049 175.1618,-255.5904 165.5848,-260.1215 170.5008,-265.1049\" stroke=\"#000000\"/>\n",
       "</g>\n",
       "<!-- 140346928336848&#45;&gt;140346928833816 -->\n",
       "<g class=\"edge\" id=\"edge8\">\n",
       "<title>140346928336848-&gt;140346928833816</title>\n",
       "<path d=\"M250.7135,-292.4551C241.3961,-283.5054 229.9873,-272.547 219.8157,-262.7769\" fill=\"none\" stroke=\"#000000\"/>\n",
       "<polygon fill=\"#000000\" points=\"221.9704,-259.9935 212.3338,-255.5904 217.1212,-265.0419 221.9704,-259.9935\" stroke=\"#000000\"/>\n",
       "</g>\n",
       "<!-- 140346928521000 -->\n",
       "<g class=\"node\" id=\"node10\">\n",
       "<title>140346928521000</title>\n",
       "<polygon fill=\"none\" points=\"142.5,-146.5 142.5,-182.5 244.5,-182.5 244.5,-146.5 142.5,-146.5\" stroke=\"#000000\"/>\n",
       "<text fill=\"#000000\" font-family=\"Times,serif\" font-size=\"14.00\" text-anchor=\"middle\" x=\"193.5\" y=\"-160.8\">dense_9: Dense</text>\n",
       "</g>\n",
       "<!-- 140346928833816&#45;&gt;140346928521000 -->\n",
       "<g class=\"edge\" id=\"edge9\">\n",
       "<title>140346928833816-&gt;140346928521000</title>\n",
       "<path d=\"M193.5,-219.4551C193.5,-211.3828 193.5,-201.6764 193.5,-192.6817\" fill=\"none\" stroke=\"#000000\"/>\n",
       "<polygon fill=\"#000000\" points=\"197.0001,-192.5903 193.5,-182.5904 190.0001,-192.5904 197.0001,-192.5903\" stroke=\"#000000\"/>\n",
       "</g>\n",
       "<!-- 140346928521056 -->\n",
       "<g class=\"node\" id=\"node11\">\n",
       "<title>140346928521056</title>\n",
       "<polygon fill=\"none\" points=\"128,-73.5 128,-109.5 259,-109.5 259,-73.5 128,-73.5\" stroke=\"#000000\"/>\n",
       "<text fill=\"#000000\" font-family=\"Times,serif\" font-size=\"14.00\" text-anchor=\"middle\" x=\"193.5\" y=\"-87.8\">dropout_12: Dropout</text>\n",
       "</g>\n",
       "<!-- 140346928521000&#45;&gt;140346928521056 -->\n",
       "<g class=\"edge\" id=\"edge10\">\n",
       "<title>140346928521000-&gt;140346928521056</title>\n",
       "<path d=\"M193.5,-146.4551C193.5,-138.3828 193.5,-128.6764 193.5,-119.6817\" fill=\"none\" stroke=\"#000000\"/>\n",
       "<polygon fill=\"#000000\" points=\"197.0001,-119.5903 193.5,-109.5904 190.0001,-119.5904 197.0001,-119.5903\" stroke=\"#000000\"/>\n",
       "</g>\n",
       "<!-- 140346928452832 -->\n",
       "<g class=\"node\" id=\"node12\">\n",
       "<title>140346928452832</title>\n",
       "<polygon fill=\"none\" points=\"139,-.5 139,-36.5 248,-36.5 248,-.5 139,-.5\" stroke=\"#000000\"/>\n",
       "<text fill=\"#000000\" font-family=\"Times,serif\" font-size=\"14.00\" text-anchor=\"middle\" x=\"193.5\" y=\"-14.8\">dense_10: Dense</text>\n",
       "</g>\n",
       "<!-- 140346928521056&#45;&gt;140346928452832 -->\n",
       "<g class=\"edge\" id=\"edge11\">\n",
       "<title>140346928521056-&gt;140346928452832</title>\n",
       "<path d=\"M193.5,-73.4551C193.5,-65.3828 193.5,-55.6764 193.5,-46.6817\" fill=\"none\" stroke=\"#000000\"/>\n",
       "<polygon fill=\"#000000\" points=\"197.0001,-46.5903 193.5,-36.5904 190.0001,-46.5904 197.0001,-46.5903\" stroke=\"#000000\"/>\n",
       "</g>\n",
       "</g>\n",
       "</svg>"
      ],
      "text/plain": [
       "<IPython.core.display.SVG object>"
      ]
     },
     "execution_count": 50,
     "metadata": {},
     "output_type": "execute_result"
    }
   ],
   "source": [
    "SVG(model_to_dot(my_model).create(prog='dot', format='svg'))"
   ]
  },
  {
   "cell_type": "markdown",
   "metadata": {},
   "source": [
    "## <b> Applying the Model"
   ]
  },
  {
   "cell_type": "code",
   "execution_count": 51,
   "metadata": {},
   "outputs": [],
   "source": [
    "my_model.compile(optimizer=Adam(lr=1e-3),loss='mse', metrics = ['mse','accuracy'])"
   ]
  },
  {
   "cell_type": "code",
   "execution_count": 52,
   "metadata": {},
   "outputs": [],
   "source": [
    "batch_size=5000\n",
    "epochs=50"
   ]
  },
  {
   "cell_type": "code",
   "execution_count": 53,
   "metadata": {},
   "outputs": [
    {
     "name": "stdout",
     "output_type": "stream",
     "text": [
      "Train on 670140 samples, validate on 330069 samples\n",
      "Epoch 1/100\n",
      "670140/670140 [==============================] - 3s 5us/step - loss: 9.1523 - acc: 0.0445 - val_loss: 3.4138 - val_acc: 0.1070\n",
      "Epoch 2/100\n",
      "670140/670140 [==============================] - 2s 3us/step - loss: 1.7786 - acc: 0.2619 - val_loss: 1.0729 - val_acc: 0.3784\n",
      "Epoch 3/100\n",
      "670140/670140 [==============================] - 2s 3us/step - loss: 1.1554 - acc: 0.3524 - val_loss: 0.9137 - val_acc: 0.3924\n",
      "Epoch 4/100\n",
      "670140/670140 [==============================] - 2s 3us/step - loss: 1.0471 - acc: 0.3702 - val_loss: 0.8462 - val_acc: 0.4053\n",
      "Epoch 5/100\n",
      "670140/670140 [==============================] - 2s 3us/step - loss: 0.9950 - acc: 0.3812 - val_loss: 0.8195 - val_acc: 0.4121\n",
      "Epoch 6/100\n",
      "670140/670140 [==============================] - 2s 3us/step - loss: 0.9699 - acc: 0.3860 - val_loss: 0.8067 - val_acc: 0.4163\n",
      "Epoch 7/100\n",
      "670140/670140 [==============================] - 2s 3us/step - loss: 0.9503 - acc: 0.3907 - val_loss: 0.7997 - val_acc: 0.4146\n",
      "Epoch 8/100\n",
      "670140/670140 [==============================] - 2s 3us/step - loss: 0.9352 - acc: 0.3942 - val_loss: 0.7926 - val_acc: 0.4212\n",
      "Epoch 9/100\n",
      "670140/670140 [==============================] - 2s 3us/step - loss: 0.9236 - acc: 0.3962 - val_loss: 0.7873 - val_acc: 0.4239\n",
      "Epoch 10/100\n",
      "670140/670140 [==============================] - 2s 3us/step - loss: 0.9142 - acc: 0.3986 - val_loss: 0.7835 - val_acc: 0.4267\n",
      "Epoch 11/100\n",
      "670140/670140 [==============================] - 2s 3us/step - loss: 0.9025 - acc: 0.4020 - val_loss: 0.7804 - val_acc: 0.4298\n",
      "Epoch 12/100\n",
      "670140/670140 [==============================] - 2s 3us/step - loss: 0.8944 - acc: 0.4031 - val_loss: 0.7771 - val_acc: 0.4345\n",
      "Epoch 13/100\n",
      "670140/670140 [==============================] - 2s 3us/step - loss: 0.8878 - acc: 0.4035 - val_loss: 0.7749 - val_acc: 0.4338\n",
      "Epoch 14/100\n",
      "670140/670140 [==============================] - 2s 3us/step - loss: 0.8833 - acc: 0.4047 - val_loss: 0.7732 - val_acc: 0.4333\n",
      "Epoch 15/100\n",
      "670140/670140 [==============================] - 2s 3us/step - loss: 0.8775 - acc: 0.4057 - val_loss: 0.7717 - val_acc: 0.4339\n",
      "Epoch 16/100\n",
      "670140/670140 [==============================] - 2s 3us/step - loss: 0.8712 - acc: 0.4086 - val_loss: 0.7700 - val_acc: 0.4352\n",
      "Epoch 17/100\n",
      "670140/670140 [==============================] - 2s 3us/step - loss: 0.8655 - acc: 0.4099 - val_loss: 0.7691 - val_acc: 0.4337\n",
      "Epoch 18/100\n",
      "670140/670140 [==============================] - 2s 3us/step - loss: 0.8590 - acc: 0.4114 - val_loss: 0.7673 - val_acc: 0.4378\n",
      "Epoch 19/100\n",
      "670140/670140 [==============================] - 2s 4us/step - loss: 0.8564 - acc: 0.4110 - val_loss: 0.7649 - val_acc: 0.4379\n",
      "Epoch 20/100\n",
      "670140/670140 [==============================] - 2s 3us/step - loss: 0.8538 - acc: 0.4124 - val_loss: 0.7645 - val_acc: 0.4382\n",
      "Epoch 21/100\n",
      "670140/670140 [==============================] - 2s 3us/step - loss: 0.8478 - acc: 0.4145 - val_loss: 0.7635 - val_acc: 0.4388\n",
      "Epoch 22/100\n",
      "670140/670140 [==============================] - 2s 3us/step - loss: 0.8446 - acc: 0.4149 - val_loss: 0.7613 - val_acc: 0.4414\n",
      "Epoch 23/100\n",
      "670140/670140 [==============================] - 2s 3us/step - loss: 0.8391 - acc: 0.4169 - val_loss: 0.7617 - val_acc: 0.4392\n",
      "Epoch 24/100\n",
      "670140/670140 [==============================] - 2s 3us/step - loss: 0.8350 - acc: 0.4184 - val_loss: 0.7608 - val_acc: 0.4403\n",
      "Epoch 25/100\n",
      "670140/670140 [==============================] - 2s 3us/step - loss: 0.8303 - acc: 0.4189 - val_loss: 0.7600 - val_acc: 0.4380\n",
      "Epoch 26/100\n",
      "670140/670140 [==============================] - 2s 3us/step - loss: 0.8276 - acc: 0.4196 - val_loss: 0.7591 - val_acc: 0.4418\n",
      "Epoch 27/100\n",
      "670140/670140 [==============================] - 2s 3us/step - loss: 0.8212 - acc: 0.4207 - val_loss: 0.7584 - val_acc: 0.4419\n",
      "Epoch 28/100\n",
      "670140/670140 [==============================] - 2s 3us/step - loss: 0.8168 - acc: 0.4220 - val_loss: 0.7595 - val_acc: 0.4394\n",
      "Epoch 29/100\n",
      "670140/670140 [==============================] - 2s 3us/step - loss: 0.8140 - acc: 0.4222 - val_loss: 0.7573 - val_acc: 0.4419\n",
      "Epoch 30/100\n",
      "670140/670140 [==============================] - 2s 4us/step - loss: 0.8090 - acc: 0.4240 - val_loss: 0.7565 - val_acc: 0.4448\n",
      "Epoch 31/100\n",
      "670140/670140 [==============================] - 2s 4us/step - loss: 0.8028 - acc: 0.4251 - val_loss: 0.7560 - val_acc: 0.4416\n",
      "Epoch 32/100\n",
      "670140/670140 [==============================] - 2s 4us/step - loss: 0.8014 - acc: 0.4263 - val_loss: 0.7557 - val_acc: 0.4420\n",
      "Epoch 33/100\n",
      "670140/670140 [==============================] - 2s 3us/step - loss: 0.7967 - acc: 0.4261 - val_loss: 0.7548 - val_acc: 0.4424\n",
      "Epoch 34/100\n",
      "670140/670140 [==============================] - 2s 3us/step - loss: 0.7912 - acc: 0.4286 - val_loss: 0.7544 - val_acc: 0.4458\n",
      "Epoch 35/100\n",
      "670140/670140 [==============================] - 2s 3us/step - loss: 0.7852 - acc: 0.4302 - val_loss: 0.7546 - val_acc: 0.4450\n",
      "Epoch 36/100\n",
      "670140/670140 [==============================] - 2s 3us/step - loss: 0.7801 - acc: 0.4315 - val_loss: 0.7549 - val_acc: 0.4419\n",
      "Epoch 37/100\n",
      "670140/670140 [==============================] - 2s 4us/step - loss: 0.7766 - acc: 0.4319 - val_loss: 0.7540 - val_acc: 0.4443\n",
      "Epoch 38/100\n",
      "670140/670140 [==============================] - 2s 3us/step - loss: 0.7705 - acc: 0.4343 - val_loss: 0.7538 - val_acc: 0.4411\n",
      "Epoch 39/100\n",
      "670140/670140 [==============================] - 2s 3us/step - loss: 0.7657 - acc: 0.4346 - val_loss: 0.7536 - val_acc: 0.4414\n",
      "Epoch 40/100\n",
      "670140/670140 [==============================] - 2s 3us/step - loss: 0.7615 - acc: 0.4364 - val_loss: 0.7533 - val_acc: 0.4426\n",
      "Epoch 41/100\n",
      "670140/670140 [==============================] - 2s 3us/step - loss: 0.7560 - acc: 0.4373 - val_loss: 0.7531 - val_acc: 0.4454\n",
      "Epoch 42/100\n",
      "670140/670140 [==============================] - 2s 3us/step - loss: 0.7520 - acc: 0.4385 - val_loss: 0.7526 - val_acc: 0.4426\n",
      "Epoch 43/100\n",
      "670140/670140 [==============================] - 2s 3us/step - loss: 0.7483 - acc: 0.4397 - val_loss: 0.7523 - val_acc: 0.4466\n",
      "Epoch 44/100\n",
      "670140/670140 [==============================] - 2s 3us/step - loss: 0.7430 - acc: 0.4410 - val_loss: 0.7517 - val_acc: 0.4459\n",
      "Epoch 45/100\n",
      "670140/670140 [==============================] - 2s 4us/step - loss: 0.7371 - acc: 0.4434 - val_loss: 0.7526 - val_acc: 0.4430\n",
      "Epoch 46/100\n",
      "670140/670140 [==============================] - 2s 3us/step - loss: 0.7344 - acc: 0.4436 - val_loss: 0.7517 - val_acc: 0.4469\n",
      "Epoch 47/100\n",
      "670140/670140 [==============================] - 2s 3us/step - loss: 0.7316 - acc: 0.4429 - val_loss: 0.7521 - val_acc: 0.4420\n",
      "Epoch 48/100\n",
      "670140/670140 [==============================] - 2s 3us/step - loss: 0.7273 - acc: 0.4419 - val_loss: 0.7515 - val_acc: 0.4449\n",
      "Epoch 49/100\n",
      "670140/670140 [==============================] - 2s 3us/step - loss: 0.7223 - acc: 0.4450 - val_loss: 0.7515 - val_acc: 0.4411\n",
      "Epoch 50/100\n",
      "670140/670140 [==============================] - 2s 3us/step - loss: 0.7187 - acc: 0.4445 - val_loss: 0.7516 - val_acc: 0.4420\n",
      "Epoch 51/100\n",
      "670140/670140 [==============================] - 2s 3us/step - loss: 0.7161 - acc: 0.4456 - val_loss: 0.7519 - val_acc: 0.4375\n",
      "Epoch 52/100\n",
      "670140/670140 [==============================] - 2s 3us/step - loss: 0.7100 - acc: 0.4466 - val_loss: 0.7512 - val_acc: 0.4434\n",
      "Epoch 53/100\n",
      "670140/670140 [==============================] - 2s 3us/step - loss: 0.7089 - acc: 0.4465 - val_loss: 0.7512 - val_acc: 0.4424\n",
      "Epoch 54/100\n",
      "670140/670140 [==============================] - 2s 3us/step - loss: 0.7049 - acc: 0.4471 - val_loss: 0.7514 - val_acc: 0.4412\n",
      "Epoch 55/100\n",
      "670140/670140 [==============================] - 2s 3us/step - loss: 0.7038 - acc: 0.4486 - val_loss: 0.7510 - val_acc: 0.4434\n",
      "Epoch 56/100\n",
      "670140/670140 [==============================] - 2s 3us/step - loss: 0.6972 - acc: 0.4515 - val_loss: 0.7510 - val_acc: 0.4437\n",
      "Epoch 57/100\n",
      "670140/670140 [==============================] - 2s 3us/step - loss: 0.6959 - acc: 0.4518 - val_loss: 0.7500 - val_acc: 0.4456\n",
      "Epoch 58/100\n",
      "670140/670140 [==============================] - 2s 3us/step - loss: 0.6916 - acc: 0.4538 - val_loss: 0.7505 - val_acc: 0.4421\n",
      "Epoch 59/100\n",
      "670140/670140 [==============================] - 2s 3us/step - loss: 0.6912 - acc: 0.4536 - val_loss: 0.7505 - val_acc: 0.4437\n",
      "Epoch 60/100\n",
      "670140/670140 [==============================] - 2s 3us/step - loss: 0.6881 - acc: 0.4551 - val_loss: 0.7505 - val_acc: 0.4463\n",
      "Epoch 61/100\n",
      "670140/670140 [==============================] - 2s 3us/step - loss: 0.6858 - acc: 0.4566 - val_loss: 0.7513 - val_acc: 0.4388\n",
      "Epoch 62/100\n",
      "670140/670140 [==============================] - 2s 3us/step - loss: 0.6849 - acc: 0.4564 - val_loss: 0.7511 - val_acc: 0.4443\n",
      "Epoch 63/100\n",
      "670140/670140 [==============================] - 2s 3us/step - loss: 0.6837 - acc: 0.4569 - val_loss: 0.7509 - val_acc: 0.4419\n",
      "Epoch 64/100\n",
      "670140/670140 [==============================] - 2s 3us/step - loss: 0.6823 - acc: 0.4586 - val_loss: 0.7506 - val_acc: 0.4449\n",
      "Epoch 65/100\n",
      "670140/670140 [==============================] - 2s 3us/step - loss: 0.6819 - acc: 0.4582 - val_loss: 0.7509 - val_acc: 0.4457\n",
      "Epoch 66/100\n",
      "670140/670140 [==============================] - 2s 3us/step - loss: 0.6800 - acc: 0.4589 - val_loss: 0.7500 - val_acc: 0.4458\n",
      "Epoch 67/100\n",
      "670140/670140 [==============================] - 2s 3us/step - loss: 0.6802 - acc: 0.4579 - val_loss: 0.7504 - val_acc: 0.4469\n",
      "Epoch 68/100\n",
      "670140/670140 [==============================] - 2s 3us/step - loss: 0.6784 - acc: 0.4600 - val_loss: 0.7502 - val_acc: 0.4441\n",
      "Epoch 69/100\n",
      "670140/670140 [==============================] - 2s 3us/step - loss: 0.6793 - acc: 0.4605 - val_loss: 0.7499 - val_acc: 0.4475\n",
      "Epoch 70/100\n",
      "670140/670140 [==============================] - 2s 3us/step - loss: 0.6783 - acc: 0.4602 - val_loss: 0.7500 - val_acc: 0.4455\n",
      "Epoch 71/100\n",
      "670140/670140 [==============================] - 2s 3us/step - loss: 0.6774 - acc: 0.4611 - val_loss: 0.7502 - val_acc: 0.4447\n",
      "Epoch 72/100\n",
      "670140/670140 [==============================] - 2s 3us/step - loss: 0.6777 - acc: 0.4611 - val_loss: 0.7505 - val_acc: 0.4479\n",
      "Epoch 73/100\n",
      "670140/670140 [==============================] - 2s 3us/step - loss: 0.6753 - acc: 0.4614 - val_loss: 0.7509 - val_acc: 0.4437\n",
      "Epoch 74/100\n",
      "670140/670140 [==============================] - 2s 3us/step - loss: 0.6766 - acc: 0.4618 - val_loss: 0.7502 - val_acc: 0.4454\n",
      "Epoch 75/100\n",
      "670140/670140 [==============================] - 2s 3us/step - loss: 0.6760 - acc: 0.4612 - val_loss: 0.7501 - val_acc: 0.4485\n",
      "Epoch 76/100\n",
      "670140/670140 [==============================] - 2s 3us/step - loss: 0.6761 - acc: 0.4610 - val_loss: 0.7497 - val_acc: 0.4477\n",
      "Epoch 77/100\n",
      "670140/670140 [==============================] - 2s 3us/step - loss: 0.6750 - acc: 0.4622 - val_loss: 0.7498 - val_acc: 0.4442\n",
      "Epoch 78/100\n",
      "670140/670140 [==============================] - 2s 3us/step - loss: 0.6763 - acc: 0.4624 - val_loss: 0.7497 - val_acc: 0.4452\n",
      "Epoch 79/100\n",
      "670140/670140 [==============================] - 2s 3us/step - loss: 0.6748 - acc: 0.4624 - val_loss: 0.7492 - val_acc: 0.4487\n",
      "Epoch 80/100\n",
      "670140/670140 [==============================] - 2s 3us/step - loss: 0.6754 - acc: 0.4621 - val_loss: 0.7497 - val_acc: 0.4492\n",
      "Epoch 81/100\n",
      "670140/670140 [==============================] - 2s 3us/step - loss: 0.6748 - acc: 0.4626 - val_loss: 0.7499 - val_acc: 0.4448\n",
      "Epoch 82/100\n",
      "670140/670140 [==============================] - 2s 3us/step - loss: 0.6729 - acc: 0.4623 - val_loss: 0.7499 - val_acc: 0.4445\n",
      "Epoch 83/100\n",
      "670140/670140 [==============================] - 2s 3us/step - loss: 0.6732 - acc: 0.4629 - val_loss: 0.7494 - val_acc: 0.4475\n",
      "Epoch 84/100\n",
      "670140/670140 [==============================] - 2s 3us/step - loss: 0.6737 - acc: 0.4627 - val_loss: 0.7495 - val_acc: 0.4463\n",
      "Epoch 85/100\n",
      "670140/670140 [==============================] - 2s 3us/step - loss: 0.6745 - acc: 0.4632 - val_loss: 0.7494 - val_acc: 0.4470\n",
      "Epoch 86/100\n",
      "670140/670140 [==============================] - 2s 3us/step - loss: 0.6733 - acc: 0.4632 - val_loss: 0.7494 - val_acc: 0.4412\n",
      "Epoch 87/100\n",
      "670140/670140 [==============================] - 2s 3us/step - loss: 0.6726 - acc: 0.4628 - val_loss: 0.7490 - val_acc: 0.4484\n",
      "Epoch 88/100\n",
      "670140/670140 [==============================] - 2s 3us/step - loss: 0.6728 - acc: 0.4629 - val_loss: 0.7498 - val_acc: 0.4448\n",
      "Epoch 89/100\n",
      "670140/670140 [==============================] - 2s 3us/step - loss: 0.6724 - acc: 0.4637 - val_loss: 0.7489 - val_acc: 0.4444\n",
      "Epoch 90/100\n",
      "670140/670140 [==============================] - 2s 3us/step - loss: 0.6721 - acc: 0.4643 - val_loss: 0.7497 - val_acc: 0.4436\n",
      "Epoch 91/100\n",
      "670140/670140 [==============================] - 2s 3us/step - loss: 0.6724 - acc: 0.4638 - val_loss: 0.7492 - val_acc: 0.4461\n",
      "Epoch 92/100\n",
      "670140/670140 [==============================] - 2s 3us/step - loss: 0.6728 - acc: 0.4633 - val_loss: 0.7493 - val_acc: 0.4469\n",
      "Epoch 93/100\n",
      "670140/670140 [==============================] - 2s 3us/step - loss: 0.6723 - acc: 0.4627 - val_loss: 0.7489 - val_acc: 0.4458\n",
      "Epoch 94/100\n",
      "670140/670140 [==============================] - 2s 3us/step - loss: 0.6707 - acc: 0.4647 - val_loss: 0.7490 - val_acc: 0.4479\n",
      "Epoch 95/100\n",
      "670140/670140 [==============================] - 2s 3us/step - loss: 0.6700 - acc: 0.4644 - val_loss: 0.7493 - val_acc: 0.4476\n",
      "Epoch 96/100\n",
      "670140/670140 [==============================] - 2s 3us/step - loss: 0.6699 - acc: 0.4641 - val_loss: 0.7490 - val_acc: 0.4473\n",
      "Epoch 97/100\n",
      "670140/670140 [==============================] - 2s 3us/step - loss: 0.6707 - acc: 0.4634 - val_loss: 0.7485 - val_acc: 0.4486\n",
      "Epoch 98/100\n",
      "670140/670140 [==============================] - 2s 3us/step - loss: 0.6718 - acc: 0.4644 - val_loss: 0.7493 - val_acc: 0.4477\n",
      "Epoch 99/100\n",
      "670140/670140 [==============================] - 2s 3us/step - loss: 0.6700 - acc: 0.4644 - val_loss: 0.7494 - val_acc: 0.4445\n",
      "Epoch 100/100\n",
      "670140/670140 [==============================] - 2s 3us/step - loss: 0.6718 - acc: 0.4634 - val_loss: 0.7489 - val_acc: 0.4475\n"
     ]
    }
   ],
   "source": [
    "History = my_model.fit([train.user_id,train.movie_id],train.rating, \n",
    "                       batch_size=batch_size,\n",
    "                              epochs =epochs, \n",
    "                       validation_data = ([test.user_id,test.movie_id],\n",
    "                                          test.rating),\n",
    "                              verbose = 1)"
   ]
  },
  {
   "cell_type": "markdown",
   "metadata": {},
   "source": [
    "# <b> Results"
   ]
  },
  {
   "cell_type": "code",
   "execution_count": 54,
   "metadata": {},
   "outputs": [
    {
     "data": {
      "image/png": "[encoded data removed]",
      "text/plain": [
       "<Figure size 432x288 with 1 Axes>"
      ]
     },
     "metadata": {
      "needs_background": "light"
     },
     "output_type": "display_data"
    }
   ],
   "source": [
    "plt.plot(History.history['loss'] , 'g')\n",
    "plt.plot(History.history['val_loss'] , 'b')\n",
    "plt.title('Model Loss')\n",
    "plt.ylabel('Loss')\n",
    "plt.xlabel('Epoch')\n",
    "plt.legend(['Train Data', 'Test Data'], loc='upper left')\n",
    "plt.savefig('loss.png')\n",
    "plt.show()\n"
   ]
  },
  {
   "cell_type": "code",
   "execution_count": 55,
   "metadata": {},
   "outputs": [
    {
     "data": {
      "image/png": "[encoded data removed]",
      "text/plain": [
       "<Figure size 432x288 with 1 Axes>"
      ]
     },
     "metadata": {
      "needs_background": "light"
     },
     "output_type": "display_data"
    }
   ],
   "source": [
    "plt.plot(History.history['acc'] , 'g')\n",
    "plt.plot(History.history['val_acc'] , 'b')\n",
    "plt.title('Model Accuracy')\n",
    "plt.ylabel('Accuracy')\n",
    "plt.xlabel('Epoch')\n",
    "plt.legend(['Train Data', 'Test Data'], loc='upper left')\n",
    "plt.savefig('acc.png')\n",
    "plt.show()"
   ]
  },
  {
   "cell_type": "markdown",
   "metadata": {},
   "source": [
    "# <b> Visualizing Predictions x Real values"
   ]
  },
  {
   "cell_type": "code",
   "execution_count": 56,
   "metadata": {},
   "outputs": [],
   "source": [
    "predicted = nn_model.predict([train.user_id,train.movie_id])"
   ]
  },
  {
   "cell_type": "code",
   "execution_count": 57,
   "metadata": {},
   "outputs": [],
   "source": [
    "real = train.rating"
   ]
  },
  {
   "cell_type": "code",
   "execution_count": 58,
   "metadata": {},
   "outputs": [],
   "source": [
    "results_data = pd.DataFrame()"
   ]
  },
  {
   "cell_type": "code",
   "execution_count": 59,
   "metadata": {},
   "outputs": [],
   "source": [
    "results_data['Real'] = real\n",
    "results_data['Predicted'] = predicted"
   ]
  },
  {
   "cell_type": "code",
   "execution_count": 60,
   "metadata": {},
   "outputs": [
    {
     "data": {
      "text/html": [
       "<div>\n",
       "<style scoped>\n",
       "    .dataframe tbody tr th:only-of-type {\n",
       "        vertical-align: middle;\n",
       "    }\n",
       "\n",
       "    .dataframe tbody tr th {\n",
       "        vertical-align: top;\n",
       "    }\n",
       "\n",
       "    .dataframe thead th {\n",
       "        text-align: right;\n",
       "    }\n",
       "</style>\n",
       "<table border=\"1\" class=\"dataframe\">\n",
       "  <thead>\n",
       "    <tr style=\"text-align: right;\">\n",
       "      <th></th>\n",
       "      <th>Real</th>\n",
       "      <th>Predicted</th>\n",
       "    </tr>\n",
       "  </thead>\n",
       "  <tbody>\n",
       "    <tr>\n",
       "      <th>707890</th>\n",
       "      <td>4</td>\n",
       "      <td>0.659503</td>\n",
       "    </tr>\n",
       "    <tr>\n",
       "      <th>689682</th>\n",
       "      <td>4</td>\n",
       "      <td>0.659532</td>\n",
       "    </tr>\n",
       "    <tr>\n",
       "      <th>608659</th>\n",
       "      <td>1</td>\n",
       "      <td>0.659545</td>\n",
       "    </tr>\n",
       "    <tr>\n",
       "      <th>945498</th>\n",
       "      <td>4</td>\n",
       "      <td>0.659529</td>\n",
       "    </tr>\n",
       "    <tr>\n",
       "      <th>106906</th>\n",
       "      <td>2</td>\n",
       "      <td>0.659542</td>\n",
       "    </tr>\n",
       "    <tr>\n",
       "      <th>149009</th>\n",
       "      <td>4</td>\n",
       "      <td>0.659508</td>\n",
       "    </tr>\n",
       "    <tr>\n",
       "      <th>674968</th>\n",
       "      <td>4</td>\n",
       "      <td>0.659495</td>\n",
       "    </tr>\n",
       "    <tr>\n",
       "      <th>427589</th>\n",
       "      <td>4</td>\n",
       "      <td>0.659543</td>\n",
       "    </tr>\n",
       "    <tr>\n",
       "      <th>772531</th>\n",
       "      <td>4</td>\n",
       "      <td>0.659514</td>\n",
       "    </tr>\n",
       "    <tr>\n",
       "      <th>834778</th>\n",
       "      <td>4</td>\n",
       "      <td>0.659491</td>\n",
       "    </tr>\n",
       "  </tbody>\n",
       "</table>\n",
       "</div>"
      ],
      "text/plain": [
       "        Real  Predicted\n",
       "707890     4   0.659503\n",
       "689682     4   0.659532\n",
       "608659     1   0.659545\n",
       "945498     4   0.659529\n",
       "106906     2   0.659542\n",
       "149009     4   0.659508\n",
       "674968     4   0.659495\n",
       "427589     4   0.659543\n",
       "772531     4   0.659514\n",
       "834778     4   0.659491"
      ]
     },
     "execution_count": 60,
     "metadata": {},
     "output_type": "execute_result"
    }
   ],
   "source": [
    "results_data.head(10)"
   ]
  },
  {
   "cell_type": "code",
   "execution_count": null,
   "metadata": {},
   "outputs": [],
   "source": []
  }
 ],
 "metadata": {
  "kernelspec": {
   "display_name": "Python 3",
   "language": "python",
   "name": "python3"
  },
  "language_info": {
   "codemirror_mode": {
    "name": "ipython",
    "version": 3
   },
   "file_extension": ".py",
   "mimetype": "text/x-python",
   "name": "python",
   "nbconvert_exporter": "python",
   "pygments_lexer": "ipython3",
   "version": "3.7.3"
  }
 },
 "nbformat": 4,
 "nbformat_minor": 2
}
