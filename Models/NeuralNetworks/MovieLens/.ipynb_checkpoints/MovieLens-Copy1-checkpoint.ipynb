{
 "cells": [
  {
   "cell_type": "markdown",
   "metadata": {},
   "source": [
    "## <b> Importing Libraries"
   ]
  },
  {
   "cell_type": "code",
   "execution_count": 1,
   "metadata": {},
   "outputs": [
    {
     "name": "stderr",
     "output_type": "stream",
     "text": [
      "Using TensorFlow backend.\n"
     ]
    }
   ],
   "source": [
    "# Pandas for dataframe manipulation\n",
    "import numpy as np\n",
    "import pandas as pd\n",
    "import seaborn as sea\n",
    "import matplotlib.pyplot as plt\n",
    "import time\n",
    "from keras.models import Sequential\n",
    "from keras.layers import Dense\n",
    "from keras.utils import np_utils\n",
    "\n",
    "import time\n",
    "import keras\n",
    "from keras.models import Sequential\n",
    "from keras.layers import Dense\n",
    "from keras.utils import np_utils\n",
    "from IPython.display import SVG\n",
    "from keras.optimizers import Adam\n",
    "from keras.utils.vis_utils import model_to_dot\n",
    "from keras.layers import Input, Embedding, Flatten, Dot, Dense, Dropout\n",
    "from keras.models import Model, load_model\n",
    "\n",
    "from IPython.display import SVG\n",
    "from keras.utils.vis_utils import model_to_dot\n",
    "from keras.utils import plot_model\n",
    "import pydot"
   ]
  },
  {
   "cell_type": "markdown",
   "metadata": {},
   "source": [
    "## <b> Loading Data"
   ]
  },
  {
   "cell_type": "code",
   "execution_count": 2,
   "metadata": {},
   "outputs": [],
   "source": [
    "# Keeping the columns names to load it correctly on dataframe\n",
    "ratings_title = ['user_id', 'movie_id', 'rating', 'date']\n",
    "\n",
    "# Dataframe of rating data\n",
    "ratings = pd.read_csv('ratings.dat', sep='::', header=None, names=ratings_title, engine = 'python')"
   ]
  },
  {
   "cell_type": "markdown",
   "metadata": {},
   "source": [
    "## <b> Informations about the Data"
   ]
  },
  {
   "cell_type": "code",
   "execution_count": 3,
   "metadata": {},
   "outputs": [
    {
     "name": "stdout",
     "output_type": "stream",
     "text": [
      "(1000209, 4)\n"
     ]
    }
   ],
   "source": [
    "# Rows and Cols \n",
    "print(ratings.shape)"
   ]
  },
  {
   "cell_type": "code",
   "execution_count": 4,
   "metadata": {},
   "outputs": [
    {
     "data": {
      "text/html": [
       "<div>\n",
       "<style scoped>\n",
       "    .dataframe tbody tr th:only-of-type {\n",
       "        vertical-align: middle;\n",
       "    }\n",
       "\n",
       "    .dataframe tbody tr th {\n",
       "        vertical-align: top;\n",
       "    }\n",
       "\n",
       "    .dataframe thead th {\n",
       "        text-align: right;\n",
       "    }\n",
       "</style>\n",
       "<table border=\"1\" class=\"dataframe\">\n",
       "  <thead>\n",
       "    <tr style=\"text-align: right;\">\n",
       "      <th></th>\n",
       "      <th>user_id</th>\n",
       "      <th>movie_id</th>\n",
       "      <th>rating</th>\n",
       "      <th>date</th>\n",
       "    </tr>\n",
       "  </thead>\n",
       "  <tbody>\n",
       "    <tr>\n",
       "      <th>0</th>\n",
       "      <td>1</td>\n",
       "      <td>1193</td>\n",
       "      <td>5</td>\n",
       "      <td>978300760</td>\n",
       "    </tr>\n",
       "    <tr>\n",
       "      <th>1</th>\n",
       "      <td>1</td>\n",
       "      <td>661</td>\n",
       "      <td>3</td>\n",
       "      <td>978302109</td>\n",
       "    </tr>\n",
       "    <tr>\n",
       "      <th>2</th>\n",
       "      <td>1</td>\n",
       "      <td>914</td>\n",
       "      <td>3</td>\n",
       "      <td>978301968</td>\n",
       "    </tr>\n",
       "    <tr>\n",
       "      <th>3</th>\n",
       "      <td>1</td>\n",
       "      <td>3408</td>\n",
       "      <td>4</td>\n",
       "      <td>978300275</td>\n",
       "    </tr>\n",
       "    <tr>\n",
       "      <th>4</th>\n",
       "      <td>1</td>\n",
       "      <td>2355</td>\n",
       "      <td>5</td>\n",
       "      <td>978824291</td>\n",
       "    </tr>\n",
       "  </tbody>\n",
       "</table>\n",
       "</div>"
      ],
      "text/plain": [
       "   user_id  movie_id  rating       date\n",
       "0        1      1193       5  978300760\n",
       "1        1       661       3  978302109\n",
       "2        1       914       3  978301968\n",
       "3        1      3408       4  978300275\n",
       "4        1      2355       5  978824291"
      ]
     },
     "execution_count": 4,
     "metadata": {},
     "output_type": "execute_result"
    }
   ],
   "source": [
    "# Visualizing the first 5 columns\n",
    "ratings.head()"
   ]
  },
  {
   "cell_type": "code",
   "execution_count": 5,
   "metadata": {},
   "outputs": [
    {
     "data": {
      "text/html": [
       "<div>\n",
       "<style scoped>\n",
       "    .dataframe tbody tr th:only-of-type {\n",
       "        vertical-align: middle;\n",
       "    }\n",
       "\n",
       "    .dataframe tbody tr th {\n",
       "        vertical-align: top;\n",
       "    }\n",
       "\n",
       "    .dataframe thead th {\n",
       "        text-align: right;\n",
       "    }\n",
       "</style>\n",
       "<table border=\"1\" class=\"dataframe\">\n",
       "  <thead>\n",
       "    <tr style=\"text-align: right;\">\n",
       "      <th></th>\n",
       "      <th>user_id</th>\n",
       "      <th>movie_id</th>\n",
       "      <th>rating</th>\n",
       "      <th>date</th>\n",
       "    </tr>\n",
       "  </thead>\n",
       "  <tbody>\n",
       "    <tr>\n",
       "      <th>1000204</th>\n",
       "      <td>6040</td>\n",
       "      <td>1091</td>\n",
       "      <td>1</td>\n",
       "      <td>956716541</td>\n",
       "    </tr>\n",
       "    <tr>\n",
       "      <th>1000205</th>\n",
       "      <td>6040</td>\n",
       "      <td>1094</td>\n",
       "      <td>5</td>\n",
       "      <td>956704887</td>\n",
       "    </tr>\n",
       "    <tr>\n",
       "      <th>1000206</th>\n",
       "      <td>6040</td>\n",
       "      <td>562</td>\n",
       "      <td>5</td>\n",
       "      <td>956704746</td>\n",
       "    </tr>\n",
       "    <tr>\n",
       "      <th>1000207</th>\n",
       "      <td>6040</td>\n",
       "      <td>1096</td>\n",
       "      <td>4</td>\n",
       "      <td>956715648</td>\n",
       "    </tr>\n",
       "    <tr>\n",
       "      <th>1000208</th>\n",
       "      <td>6040</td>\n",
       "      <td>1097</td>\n",
       "      <td>4</td>\n",
       "      <td>956715569</td>\n",
       "    </tr>\n",
       "  </tbody>\n",
       "</table>\n",
       "</div>"
      ],
      "text/plain": [
       "         user_id  movie_id  rating       date\n",
       "1000204     6040      1091       1  956716541\n",
       "1000205     6040      1094       5  956704887\n",
       "1000206     6040       562       5  956704746\n",
       "1000207     6040      1096       4  956715648\n",
       "1000208     6040      1097       4  956715569"
      ]
     },
     "execution_count": 5,
     "metadata": {},
     "output_type": "execute_result"
    }
   ],
   "source": [
    "# Visualizing the last 5 columns\n",
    "ratings.tail()"
   ]
  },
  {
   "cell_type": "code",
   "execution_count": 6,
   "metadata": {},
   "outputs": [
    {
     "data": {
      "text/html": [
       "<div>\n",
       "<style scoped>\n",
       "    .dataframe tbody tr th:only-of-type {\n",
       "        vertical-align: middle;\n",
       "    }\n",
       "\n",
       "    .dataframe tbody tr th {\n",
       "        vertical-align: top;\n",
       "    }\n",
       "\n",
       "    .dataframe thead th {\n",
       "        text-align: right;\n",
       "    }\n",
       "</style>\n",
       "<table border=\"1\" class=\"dataframe\">\n",
       "  <thead>\n",
       "    <tr style=\"text-align: right;\">\n",
       "      <th></th>\n",
       "      <th>user_id</th>\n",
       "      <th>movie_id</th>\n",
       "      <th>rating</th>\n",
       "      <th>date</th>\n",
       "    </tr>\n",
       "  </thead>\n",
       "  <tbody>\n",
       "    <tr>\n",
       "      <th>count</th>\n",
       "      <td>1.000209e+06</td>\n",
       "      <td>1.000209e+06</td>\n",
       "      <td>1.000209e+06</td>\n",
       "      <td>1.000209e+06</td>\n",
       "    </tr>\n",
       "    <tr>\n",
       "      <th>mean</th>\n",
       "      <td>3.024512e+03</td>\n",
       "      <td>1.865540e+03</td>\n",
       "      <td>3.581564e+00</td>\n",
       "      <td>9.722437e+08</td>\n",
       "    </tr>\n",
       "    <tr>\n",
       "      <th>std</th>\n",
       "      <td>1.728413e+03</td>\n",
       "      <td>1.096041e+03</td>\n",
       "      <td>1.117102e+00</td>\n",
       "      <td>1.215256e+07</td>\n",
       "    </tr>\n",
       "    <tr>\n",
       "      <th>min</th>\n",
       "      <td>1.000000e+00</td>\n",
       "      <td>1.000000e+00</td>\n",
       "      <td>1.000000e+00</td>\n",
       "      <td>9.567039e+08</td>\n",
       "    </tr>\n",
       "    <tr>\n",
       "      <th>25%</th>\n",
       "      <td>1.506000e+03</td>\n",
       "      <td>1.030000e+03</td>\n",
       "      <td>3.000000e+00</td>\n",
       "      <td>9.653026e+08</td>\n",
       "    </tr>\n",
       "    <tr>\n",
       "      <th>50%</th>\n",
       "      <td>3.070000e+03</td>\n",
       "      <td>1.835000e+03</td>\n",
       "      <td>4.000000e+00</td>\n",
       "      <td>9.730180e+08</td>\n",
       "    </tr>\n",
       "    <tr>\n",
       "      <th>75%</th>\n",
       "      <td>4.476000e+03</td>\n",
       "      <td>2.770000e+03</td>\n",
       "      <td>4.000000e+00</td>\n",
       "      <td>9.752209e+08</td>\n",
       "    </tr>\n",
       "    <tr>\n",
       "      <th>max</th>\n",
       "      <td>6.040000e+03</td>\n",
       "      <td>3.952000e+03</td>\n",
       "      <td>5.000000e+00</td>\n",
       "      <td>1.046455e+09</td>\n",
       "    </tr>\n",
       "  </tbody>\n",
       "</table>\n",
       "</div>"
      ],
      "text/plain": [
       "            user_id      movie_id        rating          date\n",
       "count  1.000209e+06  1.000209e+06  1.000209e+06  1.000209e+06\n",
       "mean   3.024512e+03  1.865540e+03  3.581564e+00  9.722437e+08\n",
       "std    1.728413e+03  1.096041e+03  1.117102e+00  1.215256e+07\n",
       "min    1.000000e+00  1.000000e+00  1.000000e+00  9.567039e+08\n",
       "25%    1.506000e+03  1.030000e+03  3.000000e+00  9.653026e+08\n",
       "50%    3.070000e+03  1.835000e+03  4.000000e+00  9.730180e+08\n",
       "75%    4.476000e+03  2.770000e+03  4.000000e+00  9.752209e+08\n",
       "max    6.040000e+03  3.952000e+03  5.000000e+00  1.046455e+09"
      ]
     },
     "execution_count": 6,
     "metadata": {},
     "output_type": "execute_result"
    }
   ],
   "source": [
    "# Statistics\n",
    "ratings.describe()"
   ]
  },
  {
   "cell_type": "code",
   "execution_count": 7,
   "metadata": {},
   "outputs": [
    {
     "name": "stdout",
     "output_type": "stream",
     "text": [
      "<class 'pandas.core.frame.DataFrame'>\n",
      "RangeIndex: 1000209 entries, 0 to 1000208\n",
      "Data columns (total 4 columns):\n",
      "user_id     1000209 non-null int64\n",
      "movie_id    1000209 non-null int64\n",
      "rating      1000209 non-null int64\n",
      "date        1000209 non-null int64\n",
      "dtypes: int64(4)\n",
      "memory usage: 30.5 MB\n"
     ]
    }
   ],
   "source": [
    "# Visualizng the information of data types, sizes...\n",
    "ratings.info()"
   ]
  },
  {
   "cell_type": "code",
   "execution_count": 8,
   "metadata": {},
   "outputs": [],
   "source": [
    "# Drop the date column\n",
    "ratings = ratings.drop('date', axis = 1)"
   ]
  },
  {
   "cell_type": "code",
   "execution_count": 9,
   "metadata": {},
   "outputs": [
    {
     "data": {
      "text/html": [
       "<div>\n",
       "<style scoped>\n",
       "    .dataframe tbody tr th:only-of-type {\n",
       "        vertical-align: middle;\n",
       "    }\n",
       "\n",
       "    .dataframe tbody tr th {\n",
       "        vertical-align: top;\n",
       "    }\n",
       "\n",
       "    .dataframe thead th {\n",
       "        text-align: right;\n",
       "    }\n",
       "</style>\n",
       "<table border=\"1\" class=\"dataframe\">\n",
       "  <thead>\n",
       "    <tr style=\"text-align: right;\">\n",
       "      <th></th>\n",
       "      <th>user_id</th>\n",
       "      <th>movie_id</th>\n",
       "      <th>rating</th>\n",
       "    </tr>\n",
       "  </thead>\n",
       "  <tbody>\n",
       "    <tr>\n",
       "      <th>0</th>\n",
       "      <td>1</td>\n",
       "      <td>1193</td>\n",
       "      <td>5</td>\n",
       "    </tr>\n",
       "    <tr>\n",
       "      <th>1</th>\n",
       "      <td>1</td>\n",
       "      <td>661</td>\n",
       "      <td>3</td>\n",
       "    </tr>\n",
       "    <tr>\n",
       "      <th>2</th>\n",
       "      <td>1</td>\n",
       "      <td>914</td>\n",
       "      <td>3</td>\n",
       "    </tr>\n",
       "    <tr>\n",
       "      <th>3</th>\n",
       "      <td>1</td>\n",
       "      <td>3408</td>\n",
       "      <td>4</td>\n",
       "    </tr>\n",
       "    <tr>\n",
       "      <th>4</th>\n",
       "      <td>1</td>\n",
       "      <td>2355</td>\n",
       "      <td>5</td>\n",
       "    </tr>\n",
       "  </tbody>\n",
       "</table>\n",
       "</div>"
      ],
      "text/plain": [
       "   user_id  movie_id  rating\n",
       "0        1      1193       5\n",
       "1        1       661       3\n",
       "2        1       914       3\n",
       "3        1      3408       4\n",
       "4        1      2355       5"
      ]
     },
     "execution_count": 9,
     "metadata": {},
     "output_type": "execute_result"
    }
   ],
   "source": [
    "ratings.head()"
   ]
  },
  {
   "cell_type": "markdown",
   "metadata": {},
   "source": [
    "## <b> Exploratory Data Analysis"
   ]
  },
  {
   "cell_type": "markdown",
   "metadata": {},
   "source": [
    "#### <b> Searching for missing values"
   ]
  },
  {
   "cell_type": "code",
   "execution_count": 10,
   "metadata": {},
   "outputs": [
    {
     "data": {
      "text/plain": [
       "<matplotlib.axes._subplots.AxesSubplot at 0x7fe3ec10ca58>"
      ]
     },
     "execution_count": 10,
     "metadata": {},
     "output_type": "execute_result"
    },
    {
     "data": {
      "image/png": "[encoded data removed]",
      "text/plain": [
       "<Figure size 720x432 with 2 Axes>"
      ]
     },
     "metadata": {
      "needs_background": "light"
     },
     "output_type": "display_data"
    }
   ],
   "source": [
    "# Missing data on Heatmap (for a clean visualization)\n",
    "plt.figure(figsize = (10,6))\n",
    "sea.heatmap(ratings.isnull(),yticklabels=False,cbar=True,cmap='YlGnBu')\n",
    "plt.save('missing_values.png')"
   ]
  },
  {
   "cell_type": "markdown",
   "metadata": {},
   "source": [
    "<b> Solid color indicates no missing values"
   ]
  },
  {
   "cell_type": "markdown",
   "metadata": {},
   "source": [
    "#### <b> Data Visualization"
   ]
  },
  {
   "cell_type": "code",
   "execution_count": 25,
   "metadata": {},
   "outputs": [
    {
     "data": {
      "image/png": "[encoded data removed]",
      "text/plain": [
       "<Figure size 432x288 with 1 Axes>"
      ]
     },
     "metadata": {
      "needs_background": "light"
     },
     "output_type": "display_data"
    }
   ],
   "source": [
    "# Counting of rating \n",
    "sea.countplot(x='rating',data=ratings, palette='coolwarm')\n",
    "plt.xlabel(\"Ratings\")\n",
    "plt.ylabel(\"Counting\")\n",
    "plt.title(\"Counting of Ratings\")\n",
    "plt.savefig('Counting_Ratings.png')\n",
    "sea.despine(left=True)"
   ]
  },
  {
   "cell_type": "markdown",
   "metadata": {},
   "source": [
    "## <b> Predicting Ratings using Neural Network"
   ]
  },
  {
   "cell_type": "markdown",
   "metadata": {},
   "source": [
    "#### Encoding Categorical Data"
   ]
  },
  {
   "cell_type": "code",
   "execution_count": 32,
   "metadata": {},
   "outputs": [],
   "source": [
    "ratings.user_id = ratings.user_id.astype('category').cat.codes.values\n",
    "ratings.movie_id = ratings.movie_id.astype('category').cat.codes.values"
   ]
  },
  {
   "cell_type": "markdown",
   "metadata": {},
   "source": [
    "#### Creating the Utility Matrix"
   ]
  },
  {
   "cell_type": "markdown",
   "metadata": {},
   "source": [
    "We're creating a matrix full of nan values, that corresponds to not rated movies "
   ]
  },
  {
   "cell_type": "code",
   "execution_count": 33,
   "metadata": {},
   "outputs": [
    {
     "name": "stdout",
     "output_type": "stream",
     "text": [
      " Ratings shape =  (1000209, 3) \n",
      "\n",
      " Total of users =  6040 \n",
      "\n",
      " Total of movies =  3706 \n",
      "\n",
      " Size of the Matrix = 22384240\n"
     ]
    }
   ],
   "source": [
    "# Looking for some information about data\n",
    "users = len(ratings['user_id'].unique())\n",
    "movies = len(ratings['movie_id'].unique())\n",
    "matrix = users * movies\n",
    "print(\" Ratings shape = \", ratings.shape, \"\\n\\n\", \n",
    "      \"Total of users = \", users, \"\\n\\n\", \n",
    "      \"Total of movies = \", movies, \"\\n\\n\",\n",
    "     \"Size of the Matrix =\", matrix)"
   ]
  },
  {
   "cell_type": "code",
   "execution_count": 34,
   "metadata": {},
   "outputs": [],
   "source": [
    "# Matrix organization\n",
    "index=list(ratings['user_id'].unique())\n",
    "columns=list(ratings['movie_id'].unique())\n",
    "index=sorted(index)\n",
    "columns=sorted(columns)"
   ]
  },
  {
   "cell_type": "code",
   "execution_count": 219,
   "metadata": {},
   "outputs": [],
   "source": [
    "# Creating the new dataframe (user-item rating matrix)\n",
    "data = pd.pivot_table(data=ratings,values='rating',index='user_id',columns='movie_id')"
   ]
  },
  {
   "cell_type": "code",
   "execution_count": 220,
   "metadata": {},
   "outputs": [
    {
     "data": {
      "text/html": [
       "<div>\n",
       "<style scoped>\n",
       "    .dataframe tbody tr th:only-of-type {\n",
       "        vertical-align: middle;\n",
       "    }\n",
       "\n",
       "    .dataframe tbody tr th {\n",
       "        vertical-align: top;\n",
       "    }\n",
       "\n",
       "    .dataframe thead th {\n",
       "        text-align: right;\n",
       "    }\n",
       "</style>\n",
       "<table border=\"1\" class=\"dataframe\">\n",
       "  <thead>\n",
       "    <tr style=\"text-align: right;\">\n",
       "      <th>movie_id</th>\n",
       "      <th>0</th>\n",
       "      <th>1</th>\n",
       "      <th>2</th>\n",
       "      <th>3</th>\n",
       "      <th>4</th>\n",
       "      <th>5</th>\n",
       "      <th>6</th>\n",
       "      <th>7</th>\n",
       "      <th>8</th>\n",
       "      <th>9</th>\n",
       "      <th>...</th>\n",
       "      <th>3696</th>\n",
       "      <th>3697</th>\n",
       "      <th>3698</th>\n",
       "      <th>3699</th>\n",
       "      <th>3700</th>\n",
       "      <th>3701</th>\n",
       "      <th>3702</th>\n",
       "      <th>3703</th>\n",
       "      <th>3704</th>\n",
       "      <th>3705</th>\n",
       "    </tr>\n",
       "    <tr>\n",
       "      <th>user_id</th>\n",
       "      <th></th>\n",
       "      <th></th>\n",
       "      <th></th>\n",
       "      <th></th>\n",
       "      <th></th>\n",
       "      <th></th>\n",
       "      <th></th>\n",
       "      <th></th>\n",
       "      <th></th>\n",
       "      <th></th>\n",
       "      <th></th>\n",
       "      <th></th>\n",
       "      <th></th>\n",
       "      <th></th>\n",
       "      <th></th>\n",
       "      <th></th>\n",
       "      <th></th>\n",
       "      <th></th>\n",
       "      <th></th>\n",
       "      <th></th>\n",
       "      <th></th>\n",
       "    </tr>\n",
       "  </thead>\n",
       "  <tbody>\n",
       "    <tr>\n",
       "      <th>0</th>\n",
       "      <td>5.0</td>\n",
       "      <td>NaN</td>\n",
       "      <td>NaN</td>\n",
       "      <td>NaN</td>\n",
       "      <td>NaN</td>\n",
       "      <td>NaN</td>\n",
       "      <td>NaN</td>\n",
       "      <td>NaN</td>\n",
       "      <td>NaN</td>\n",
       "      <td>NaN</td>\n",
       "      <td>...</td>\n",
       "      <td>NaN</td>\n",
       "      <td>NaN</td>\n",
       "      <td>NaN</td>\n",
       "      <td>NaN</td>\n",
       "      <td>NaN</td>\n",
       "      <td>NaN</td>\n",
       "      <td>NaN</td>\n",
       "      <td>NaN</td>\n",
       "      <td>NaN</td>\n",
       "      <td>NaN</td>\n",
       "    </tr>\n",
       "    <tr>\n",
       "      <th>1</th>\n",
       "      <td>NaN</td>\n",
       "      <td>NaN</td>\n",
       "      <td>NaN</td>\n",
       "      <td>NaN</td>\n",
       "      <td>NaN</td>\n",
       "      <td>NaN</td>\n",
       "      <td>NaN</td>\n",
       "      <td>NaN</td>\n",
       "      <td>NaN</td>\n",
       "      <td>NaN</td>\n",
       "      <td>...</td>\n",
       "      <td>NaN</td>\n",
       "      <td>NaN</td>\n",
       "      <td>NaN</td>\n",
       "      <td>NaN</td>\n",
       "      <td>NaN</td>\n",
       "      <td>NaN</td>\n",
       "      <td>NaN</td>\n",
       "      <td>NaN</td>\n",
       "      <td>NaN</td>\n",
       "      <td>NaN</td>\n",
       "    </tr>\n",
       "    <tr>\n",
       "      <th>2</th>\n",
       "      <td>NaN</td>\n",
       "      <td>NaN</td>\n",
       "      <td>NaN</td>\n",
       "      <td>NaN</td>\n",
       "      <td>NaN</td>\n",
       "      <td>NaN</td>\n",
       "      <td>NaN</td>\n",
       "      <td>NaN</td>\n",
       "      <td>NaN</td>\n",
       "      <td>NaN</td>\n",
       "      <td>...</td>\n",
       "      <td>NaN</td>\n",
       "      <td>NaN</td>\n",
       "      <td>NaN</td>\n",
       "      <td>NaN</td>\n",
       "      <td>NaN</td>\n",
       "      <td>NaN</td>\n",
       "      <td>NaN</td>\n",
       "      <td>NaN</td>\n",
       "      <td>NaN</td>\n",
       "      <td>NaN</td>\n",
       "    </tr>\n",
       "    <tr>\n",
       "      <th>3</th>\n",
       "      <td>NaN</td>\n",
       "      <td>NaN</td>\n",
       "      <td>NaN</td>\n",
       "      <td>NaN</td>\n",
       "      <td>NaN</td>\n",
       "      <td>NaN</td>\n",
       "      <td>NaN</td>\n",
       "      <td>NaN</td>\n",
       "      <td>NaN</td>\n",
       "      <td>NaN</td>\n",
       "      <td>...</td>\n",
       "      <td>NaN</td>\n",
       "      <td>NaN</td>\n",
       "      <td>NaN</td>\n",
       "      <td>NaN</td>\n",
       "      <td>NaN</td>\n",
       "      <td>NaN</td>\n",
       "      <td>NaN</td>\n",
       "      <td>NaN</td>\n",
       "      <td>NaN</td>\n",
       "      <td>NaN</td>\n",
       "    </tr>\n",
       "    <tr>\n",
       "      <th>4</th>\n",
       "      <td>NaN</td>\n",
       "      <td>NaN</td>\n",
       "      <td>NaN</td>\n",
       "      <td>NaN</td>\n",
       "      <td>NaN</td>\n",
       "      <td>2.0</td>\n",
       "      <td>NaN</td>\n",
       "      <td>NaN</td>\n",
       "      <td>NaN</td>\n",
       "      <td>NaN</td>\n",
       "      <td>...</td>\n",
       "      <td>NaN</td>\n",
       "      <td>NaN</td>\n",
       "      <td>NaN</td>\n",
       "      <td>NaN</td>\n",
       "      <td>NaN</td>\n",
       "      <td>NaN</td>\n",
       "      <td>NaN</td>\n",
       "      <td>NaN</td>\n",
       "      <td>NaN</td>\n",
       "      <td>NaN</td>\n",
       "    </tr>\n",
       "  </tbody>\n",
       "</table>\n",
       "<p>5 rows × 3706 columns</p>\n",
       "</div>"
      ],
      "text/plain": [
       "movie_id  0     1     2     3     4     5     6     7     8     9     ...  \\\n",
       "user_id                                                               ...   \n",
       "0          5.0   NaN   NaN   NaN   NaN   NaN   NaN   NaN   NaN   NaN  ...   \n",
       "1          NaN   NaN   NaN   NaN   NaN   NaN   NaN   NaN   NaN   NaN  ...   \n",
       "2          NaN   NaN   NaN   NaN   NaN   NaN   NaN   NaN   NaN   NaN  ...   \n",
       "3          NaN   NaN   NaN   NaN   NaN   NaN   NaN   NaN   NaN   NaN  ...   \n",
       "4          NaN   NaN   NaN   NaN   NaN   2.0   NaN   NaN   NaN   NaN  ...   \n",
       "\n",
       "movie_id  3696  3697  3698  3699  3700  3701  3702  3703  3704  3705  \n",
       "user_id                                                               \n",
       "0          NaN   NaN   NaN   NaN   NaN   NaN   NaN   NaN   NaN   NaN  \n",
       "1          NaN   NaN   NaN   NaN   NaN   NaN   NaN   NaN   NaN   NaN  \n",
       "2          NaN   NaN   NaN   NaN   NaN   NaN   NaN   NaN   NaN   NaN  \n",
       "3          NaN   NaN   NaN   NaN   NaN   NaN   NaN   NaN   NaN   NaN  \n",
       "4          NaN   NaN   NaN   NaN   NaN   NaN   NaN   NaN   NaN   NaN  \n",
       "\n",
       "[5 rows x 3706 columns]"
      ]
     },
     "execution_count": 220,
     "metadata": {},
     "output_type": "execute_result"
    }
   ],
   "source": [
    "# Looking the data\n",
    "data.head()"
   ]
  },
  {
   "cell_type": "code",
   "execution_count": 221,
   "metadata": {},
   "outputs": [],
   "source": [
    "# replace nan values for 0 (not rated movies)\n",
    "data = data.replace(np.nan, 0)"
   ]
  },
  {
   "cell_type": "code",
   "execution_count": 222,
   "metadata": {},
   "outputs": [
    {
     "data": {
      "text/html": [
       "<div>\n",
       "<style scoped>\n",
       "    .dataframe tbody tr th:only-of-type {\n",
       "        vertical-align: middle;\n",
       "    }\n",
       "\n",
       "    .dataframe tbody tr th {\n",
       "        vertical-align: top;\n",
       "    }\n",
       "\n",
       "    .dataframe thead th {\n",
       "        text-align: right;\n",
       "    }\n",
       "</style>\n",
       "<table border=\"1\" class=\"dataframe\">\n",
       "  <thead>\n",
       "    <tr style=\"text-align: right;\">\n",
       "      <th>movie_id</th>\n",
       "      <th>0</th>\n",
       "      <th>1</th>\n",
       "      <th>2</th>\n",
       "      <th>3</th>\n",
       "      <th>4</th>\n",
       "      <th>5</th>\n",
       "      <th>6</th>\n",
       "      <th>7</th>\n",
       "      <th>8</th>\n",
       "      <th>9</th>\n",
       "      <th>...</th>\n",
       "      <th>3696</th>\n",
       "      <th>3697</th>\n",
       "      <th>3698</th>\n",
       "      <th>3699</th>\n",
       "      <th>3700</th>\n",
       "      <th>3701</th>\n",
       "      <th>3702</th>\n",
       "      <th>3703</th>\n",
       "      <th>3704</th>\n",
       "      <th>3705</th>\n",
       "    </tr>\n",
       "    <tr>\n",
       "      <th>user_id</th>\n",
       "      <th></th>\n",
       "      <th></th>\n",
       "      <th></th>\n",
       "      <th></th>\n",
       "      <th></th>\n",
       "      <th></th>\n",
       "      <th></th>\n",
       "      <th></th>\n",
       "      <th></th>\n",
       "      <th></th>\n",
       "      <th></th>\n",
       "      <th></th>\n",
       "      <th></th>\n",
       "      <th></th>\n",
       "      <th></th>\n",
       "      <th></th>\n",
       "      <th></th>\n",
       "      <th></th>\n",
       "      <th></th>\n",
       "      <th></th>\n",
       "      <th></th>\n",
       "    </tr>\n",
       "  </thead>\n",
       "  <tbody>\n",
       "    <tr>\n",
       "      <th>0</th>\n",
       "      <td>5.0</td>\n",
       "      <td>0.0</td>\n",
       "      <td>0.0</td>\n",
       "      <td>0.0</td>\n",
       "      <td>0.0</td>\n",
       "      <td>0.0</td>\n",
       "      <td>0.0</td>\n",
       "      <td>0.0</td>\n",
       "      <td>0.0</td>\n",
       "      <td>0.0</td>\n",
       "      <td>...</td>\n",
       "      <td>0.0</td>\n",
       "      <td>0.0</td>\n",
       "      <td>0.0</td>\n",
       "      <td>0.0</td>\n",
       "      <td>0.0</td>\n",
       "      <td>0.0</td>\n",
       "      <td>0.0</td>\n",
       "      <td>0.0</td>\n",
       "      <td>0.0</td>\n",
       "      <td>0.0</td>\n",
       "    </tr>\n",
       "    <tr>\n",
       "      <th>1</th>\n",
       "      <td>0.0</td>\n",
       "      <td>0.0</td>\n",
       "      <td>0.0</td>\n",
       "      <td>0.0</td>\n",
       "      <td>0.0</td>\n",
       "      <td>0.0</td>\n",
       "      <td>0.0</td>\n",
       "      <td>0.0</td>\n",
       "      <td>0.0</td>\n",
       "      <td>0.0</td>\n",
       "      <td>...</td>\n",
       "      <td>0.0</td>\n",
       "      <td>0.0</td>\n",
       "      <td>0.0</td>\n",
       "      <td>0.0</td>\n",
       "      <td>0.0</td>\n",
       "      <td>0.0</td>\n",
       "      <td>0.0</td>\n",
       "      <td>0.0</td>\n",
       "      <td>0.0</td>\n",
       "      <td>0.0</td>\n",
       "    </tr>\n",
       "    <tr>\n",
       "      <th>2</th>\n",
       "      <td>0.0</td>\n",
       "      <td>0.0</td>\n",
       "      <td>0.0</td>\n",
       "      <td>0.0</td>\n",
       "      <td>0.0</td>\n",
       "      <td>0.0</td>\n",
       "      <td>0.0</td>\n",
       "      <td>0.0</td>\n",
       "      <td>0.0</td>\n",
       "      <td>0.0</td>\n",
       "      <td>...</td>\n",
       "      <td>0.0</td>\n",
       "      <td>0.0</td>\n",
       "      <td>0.0</td>\n",
       "      <td>0.0</td>\n",
       "      <td>0.0</td>\n",
       "      <td>0.0</td>\n",
       "      <td>0.0</td>\n",
       "      <td>0.0</td>\n",
       "      <td>0.0</td>\n",
       "      <td>0.0</td>\n",
       "    </tr>\n",
       "    <tr>\n",
       "      <th>3</th>\n",
       "      <td>0.0</td>\n",
       "      <td>0.0</td>\n",
       "      <td>0.0</td>\n",
       "      <td>0.0</td>\n",
       "      <td>0.0</td>\n",
       "      <td>0.0</td>\n",
       "      <td>0.0</td>\n",
       "      <td>0.0</td>\n",
       "      <td>0.0</td>\n",
       "      <td>0.0</td>\n",
       "      <td>...</td>\n",
       "      <td>0.0</td>\n",
       "      <td>0.0</td>\n",
       "      <td>0.0</td>\n",
       "      <td>0.0</td>\n",
       "      <td>0.0</td>\n",
       "      <td>0.0</td>\n",
       "      <td>0.0</td>\n",
       "      <td>0.0</td>\n",
       "      <td>0.0</td>\n",
       "      <td>0.0</td>\n",
       "    </tr>\n",
       "    <tr>\n",
       "      <th>4</th>\n",
       "      <td>0.0</td>\n",
       "      <td>0.0</td>\n",
       "      <td>0.0</td>\n",
       "      <td>0.0</td>\n",
       "      <td>0.0</td>\n",
       "      <td>2.0</td>\n",
       "      <td>0.0</td>\n",
       "      <td>0.0</td>\n",
       "      <td>0.0</td>\n",
       "      <td>0.0</td>\n",
       "      <td>...</td>\n",
       "      <td>0.0</td>\n",
       "      <td>0.0</td>\n",
       "      <td>0.0</td>\n",
       "      <td>0.0</td>\n",
       "      <td>0.0</td>\n",
       "      <td>0.0</td>\n",
       "      <td>0.0</td>\n",
       "      <td>0.0</td>\n",
       "      <td>0.0</td>\n",
       "      <td>0.0</td>\n",
       "    </tr>\n",
       "  </tbody>\n",
       "</table>\n",
       "<p>5 rows × 3706 columns</p>\n",
       "</div>"
      ],
      "text/plain": [
       "movie_id  0     1     2     3     4     5     6     7     8     9     ...  \\\n",
       "user_id                                                               ...   \n",
       "0          5.0   0.0   0.0   0.0   0.0   0.0   0.0   0.0   0.0   0.0  ...   \n",
       "1          0.0   0.0   0.0   0.0   0.0   0.0   0.0   0.0   0.0   0.0  ...   \n",
       "2          0.0   0.0   0.0   0.0   0.0   0.0   0.0   0.0   0.0   0.0  ...   \n",
       "3          0.0   0.0   0.0   0.0   0.0   0.0   0.0   0.0   0.0   0.0  ...   \n",
       "4          0.0   0.0   0.0   0.0   0.0   2.0   0.0   0.0   0.0   0.0  ...   \n",
       "\n",
       "movie_id  3696  3697  3698  3699  3700  3701  3702  3703  3704  3705  \n",
       "user_id                                                               \n",
       "0          0.0   0.0   0.0   0.0   0.0   0.0   0.0   0.0   0.0   0.0  \n",
       "1          0.0   0.0   0.0   0.0   0.0   0.0   0.0   0.0   0.0   0.0  \n",
       "2          0.0   0.0   0.0   0.0   0.0   0.0   0.0   0.0   0.0   0.0  \n",
       "3          0.0   0.0   0.0   0.0   0.0   0.0   0.0   0.0   0.0   0.0  \n",
       "4          0.0   0.0   0.0   0.0   0.0   0.0   0.0   0.0   0.0   0.0  \n",
       "\n",
       "[5 rows x 3706 columns]"
      ]
     },
     "execution_count": 222,
     "metadata": {},
     "output_type": "execute_result"
    }
   ],
   "source": [
    "# Looking the data\n",
    "data.head()"
   ]
  },
  {
   "cell_type": "code",
   "execution_count": 35,
   "metadata": {},
   "outputs": [],
   "source": [
    "# Split data in test and train\n",
    "from sklearn.model_selection import train_test_split\n",
    "train, test = train_test_split(ratings, test_size=0.30)"
   ]
  },
  {
   "cell_type": "code",
   "execution_count": 36,
   "metadata": {},
   "outputs": [
    {
     "name": "stdout",
     "output_type": "stream",
     "text": [
      "(700146, 3) (300063, 3)\n"
     ]
    }
   ],
   "source": [
    "print(train.shape, test.shape)"
   ]
  },
  {
   "cell_type": "code",
   "execution_count": 37,
   "metadata": {},
   "outputs": [
    {
     "name": "stdout",
     "output_type": "stream",
     "text": [
      "6040 3706\n"
     ]
    }
   ],
   "source": [
    "print(users, movies)"
   ]
  },
  {
   "cell_type": "markdown",
   "metadata": {},
   "source": [
    "## <b> Input, Embeddings and Dot Product "
   ]
  },
  {
   "cell_type": "code",
   "execution_count": 39,
   "metadata": {},
   "outputs": [],
   "source": [
    "user_input = Input(shape = (1,), name='user_input', dtype='int64')\n",
    "user_embedding = Embedding(users, 50, name='user_embedding')(user_input)\n",
    "user_vec = Flatten(name = 'flatten_users')(user_embedding)\n",
    "user_vec = Dropout(0.40)(user_vec)"
   ]
  },
  {
   "cell_type": "code",
   "execution_count": 40,
   "metadata": {},
   "outputs": [],
   "source": [
    "item_input = Input(shape = (1,), name = 'movie_input', dtype = 'int64')\n",
    "item_embedding = Embedding(movies, 50, name = 'movie_embedding')(item_input)\n",
    "item_vec = Flatten(name = 'flatten_movie')(item_embedding)\n",
    "item_vec = Dropout(0.40)(item_vec)"
   ]
  },
  {
   "cell_type": "code",
   "execution_count": 41,
   "metadata": {},
   "outputs": [],
   "source": [
    "# Multiplies the movie vector by the user vector\n",
    "product = Dot(name = \"Dot_Product\", axes = 1)([item_vec, user_vec])"
   ]
  },
  {
   "cell_type": "markdown",
   "metadata": {},
   "source": [
    "## <b>Neural Network Configuration"
   ]
  },
  {
   "cell_type": "code",
   "execution_count": 42,
   "metadata": {},
   "outputs": [
    {
     "name": "stdout",
     "output_type": "stream",
     "text": [
      "__________________________________________________________________________________________________\n",
      "Layer (type)                    Output Shape         Param #     Connected to                     \n",
      "==================================================================================================\n",
      "movie_input (InputLayer)        (None, 1)            0                                            \n",
      "__________________________________________________________________________________________________\n",
      "user_input (InputLayer)         (None, 1)            0                                            \n",
      "__________________________________________________________________________________________________\n",
      "movie_embedding (Embedding)     (None, 1, 50)        185300      movie_input[0][0]                \n",
      "__________________________________________________________________________________________________\n",
      "user_embedding (Embedding)      (None, 1, 50)        302000      user_input[0][0]                 \n",
      "__________________________________________________________________________________________________\n",
      "flatten_movie (Flatten)         (None, 50)           0           movie_embedding[0][0]            \n",
      "__________________________________________________________________________________________________\n",
      "flatten_users (Flatten)         (None, 50)           0           user_embedding[0][0]             \n",
      "__________________________________________________________________________________________________\n",
      "dropout_3 (Dropout)             (None, 50)           0           flatten_movie[0][0]              \n",
      "__________________________________________________________________________________________________\n",
      "dropout_2 (Dropout)             (None, 50)           0           flatten_users[0][0]              \n",
      "__________________________________________________________________________________________________\n",
      "Dot_Product (Dot)               (None, 1)            0           dropout_3[0][0]                  \n",
      "                                                                 dropout_2[0][0]                  \n",
      "__________________________________________________________________________________________________\n",
      "dense_1 (Dense)                 (None, 96)           192         Dot_Product[0][0]                \n",
      "__________________________________________________________________________________________________\n",
      "dropout_4 (Dropout)             (None, 96)           0           dense_1[0][0]                    \n",
      "__________________________________________________________________________________________________\n",
      "dense_2 (Dense)                 (None, 1)            97          dropout_4[0][0]                  \n",
      "==================================================================================================\n",
      "Total params: 487,589\n",
      "Trainable params: 487,589\n",
      "Non-trainable params: 0\n",
      "__________________________________________________________________________________________________\n"
     ]
    }
   ],
   "source": [
    "# Configuring a fully connected neural network\n",
    "# 96 input neurons, activation relu (), weight initializer (random)\n",
    "values = Dense(96, activation = 'relu', kernel_initializer = 'random_uniform')(product)\n",
    "values = Dropout(0.4)(values)\n",
    "values = Dense(1, activation = 'relu')(values)\n",
    "my_model = keras.models.Model([user_input, item_input], values)\n",
    "my_model.summary()"
   ]
  },
  {
   "cell_type": "markdown",
   "metadata": {},
   "source": [
    "## <b> Structure Visualization"
   ]
  },
  {
   "cell_type": "code",
   "execution_count": 43,
   "metadata": {},
   "outputs": [
    {
     "data": {
      "image/svg+xml": [
       "<svg height=\"556pt\" viewBox=\"0.00 0.00 392.00 556.00\" width=\"392pt\" xmlns=\"http://www.w3.org/2000/svg\" xmlns:xlink=\"http://www.w3.org/1999/xlink\">\n",
       "<g class=\"graph\" id=\"graph0\" transform=\"scale(1 1) rotate(0) translate(4 552)\">\n",
       "<title>G</title>\n",
       "<polygon fill=\"#ffffff\" points=\"-4,4 -4,-552 388,-552 388,4 -4,4\" stroke=\"transparent\"/>\n",
       "<!-- 140263511258224 -->\n",
       "<g class=\"node\" id=\"node1\">\n",
       "<title>140263511258224</title>\n",
       "<polygon fill=\"none\" points=\"18,-511.5 18,-547.5 171,-547.5 171,-511.5 18,-511.5\" stroke=\"#000000\"/>\n",
       "<text fill=\"#000000\" font-family=\"Times,serif\" font-size=\"14.00\" text-anchor=\"middle\" x=\"94.5\" y=\"-525.8\">movie_input: InputLayer</text>\n",
       "</g>\n",
       "<!-- 140263511259456 -->\n",
       "<g class=\"node\" id=\"node3\">\n",
       "<title>140263511259456</title>\n",
       "<polygon fill=\"none\" points=\"0,-438.5 0,-474.5 189,-474.5 189,-438.5 0,-438.5\" stroke=\"#000000\"/>\n",
       "<text fill=\"#000000\" font-family=\"Times,serif\" font-size=\"14.00\" text-anchor=\"middle\" x=\"94.5\" y=\"-452.8\">movie_embedding: Embedding</text>\n",
       "</g>\n",
       "<!-- 140263511258224&#45;&gt;140263511259456 -->\n",
       "<g class=\"edge\" id=\"edge1\">\n",
       "<title>140263511258224-&gt;140263511259456</title>\n",
       "<path d=\"M94.5,-511.4551C94.5,-503.3828 94.5,-493.6764 94.5,-484.6817\" fill=\"none\" stroke=\"#000000\"/>\n",
       "<polygon fill=\"#000000\" points=\"98.0001,-484.5903 94.5,-474.5904 91.0001,-484.5904 98.0001,-484.5903\" stroke=\"#000000\"/>\n",
       "</g>\n",
       "<!-- 140263511389408 -->\n",
       "<g class=\"node\" id=\"node2\">\n",
       "<title>140263511389408</title>\n",
       "<polygon fill=\"none\" points=\"225,-511.5 225,-547.5 366,-547.5 366,-511.5 225,-511.5\" stroke=\"#000000\"/>\n",
       "<text fill=\"#000000\" font-family=\"Times,serif\" font-size=\"14.00\" text-anchor=\"middle\" x=\"295.5\" y=\"-525.8\">user_input: InputLayer</text>\n",
       "</g>\n",
       "<!-- 140263511389744 -->\n",
       "<g class=\"node\" id=\"node4\">\n",
       "<title>140263511389744</title>\n",
       "<polygon fill=\"none\" points=\"207,-438.5 207,-474.5 384,-474.5 384,-438.5 207,-438.5\" stroke=\"#000000\"/>\n",
       "<text fill=\"#000000\" font-family=\"Times,serif\" font-size=\"14.00\" text-anchor=\"middle\" x=\"295.5\" y=\"-452.8\">user_embedding: Embedding</text>\n",
       "</g>\n",
       "<!-- 140263511389408&#45;&gt;140263511389744 -->\n",
       "<g class=\"edge\" id=\"edge2\">\n",
       "<title>140263511389408-&gt;140263511389744</title>\n",
       "<path d=\"M295.5,-511.4551C295.5,-503.3828 295.5,-493.6764 295.5,-484.6817\" fill=\"none\" stroke=\"#000000\"/>\n",
       "<polygon fill=\"#000000\" points=\"299.0001,-484.5903 295.5,-474.5904 292.0001,-484.5904 299.0001,-484.5903\" stroke=\"#000000\"/>\n",
       "</g>\n",
       "<!-- 140263511261136 -->\n",
       "<g class=\"node\" id=\"node5\">\n",
       "<title>140263511261136</title>\n",
       "<polygon fill=\"none\" points=\"50,-365.5 50,-401.5 187,-401.5 187,-365.5 50,-365.5\" stroke=\"#000000\"/>\n",
       "<text fill=\"#000000\" font-family=\"Times,serif\" font-size=\"14.00\" text-anchor=\"middle\" x=\"118.5\" y=\"-379.8\">flatten_movie: Flatten</text>\n",
       "</g>\n",
       "<!-- 140263511259456&#45;&gt;140263511261136 -->\n",
       "<g class=\"edge\" id=\"edge3\">\n",
       "<title>140263511259456-&gt;140263511261136</title>\n",
       "<path d=\"M100.4326,-438.4551C103.1442,-430.2074 106.4166,-420.2536 109.4273,-411.0962\" fill=\"none\" stroke=\"#000000\"/>\n",
       "<polygon fill=\"#000000\" points=\"112.7541,-412.1833 112.5525,-401.5904 106.1043,-409.997 112.7541,-412.1833\" stroke=\"#000000\"/>\n",
       "</g>\n",
       "<!-- 140263511388960 -->\n",
       "<g class=\"node\" id=\"node6\">\n",
       "<title>140263511388960</title>\n",
       "<polygon fill=\"none\" points=\"217,-365.5 217,-401.5 348,-401.5 348,-365.5 217,-365.5\" stroke=\"#000000\"/>\n",
       "<text fill=\"#000000\" font-family=\"Times,serif\" font-size=\"14.00\" text-anchor=\"middle\" x=\"282.5\" y=\"-379.8\">flatten_users: Flatten</text>\n",
       "</g>\n",
       "<!-- 140263511389744&#45;&gt;140263511388960 -->\n",
       "<g class=\"edge\" id=\"edge4\">\n",
       "<title>140263511389744-&gt;140263511388960</title>\n",
       "<path d=\"M292.2865,-438.4551C290.849,-430.3828 289.1205,-420.6764 287.5187,-411.6817\" fill=\"none\" stroke=\"#000000\"/>\n",
       "<polygon fill=\"#000000\" points=\"290.9207,-410.8218 285.7216,-401.5904 284.0291,-412.0491 290.9207,-410.8218\" stroke=\"#000000\"/>\n",
       "</g>\n",
       "<!-- 140263511258392 -->\n",
       "<g class=\"node\" id=\"node7\">\n",
       "<title>140263511258392</title>\n",
       "<polygon fill=\"none\" points=\"60,-292.5 60,-328.5 185,-328.5 185,-292.5 60,-292.5\" stroke=\"#000000\"/>\n",
       "<text fill=\"#000000\" font-family=\"Times,serif\" font-size=\"14.00\" text-anchor=\"middle\" x=\"122.5\" y=\"-306.8\">dropout_3: Dropout</text>\n",
       "</g>\n",
       "<!-- 140263511261136&#45;&gt;140263511258392 -->\n",
       "<g class=\"edge\" id=\"edge5\">\n",
       "<title>140263511261136-&gt;140263511258392</title>\n",
       "<path d=\"M119.4888,-365.4551C119.9311,-357.3828 120.4629,-347.6764 120.9558,-338.6817\" fill=\"none\" stroke=\"#000000\"/>\n",
       "<polygon fill=\"#000000\" points=\"124.4563,-338.7669 121.5087,-328.5904 117.4668,-338.3839 124.4563,-338.7669\" stroke=\"#000000\"/>\n",
       "</g>\n",
       "<!-- 140263511391592 -->\n",
       "<g class=\"node\" id=\"node8\">\n",
       "<title>140263511391592</title>\n",
       "<polygon fill=\"none\" points=\"205,-292.5 205,-328.5 330,-328.5 330,-292.5 205,-292.5\" stroke=\"#000000\"/>\n",
       "<text fill=\"#000000\" font-family=\"Times,serif\" font-size=\"14.00\" text-anchor=\"middle\" x=\"267.5\" y=\"-306.8\">dropout_2: Dropout</text>\n",
       "</g>\n",
       "<!-- 140263511388960&#45;&gt;140263511391592 -->\n",
       "<g class=\"edge\" id=\"edge6\">\n",
       "<title>140263511388960-&gt;140263511391592</title>\n",
       "<path d=\"M278.7921,-365.4551C277.1154,-357.2951 275.0956,-347.4652 273.2306,-338.3887\" fill=\"none\" stroke=\"#000000\"/>\n",
       "<polygon fill=\"#000000\" points=\"276.6584,-337.6812 271.2172,-328.5904 269.8016,-339.0902 276.6584,-337.6812\" stroke=\"#000000\"/>\n",
       "</g>\n",
       "<!-- 140263537260080 -->\n",
       "<g class=\"node\" id=\"node9\">\n",
       "<title>140263537260080</title>\n",
       "<polygon fill=\"none\" points=\"137,-219.5 137,-255.5 250,-255.5 250,-219.5 137,-219.5\" stroke=\"#000000\"/>\n",
       "<text fill=\"#000000\" font-family=\"Times,serif\" font-size=\"14.00\" text-anchor=\"middle\" x=\"193.5\" y=\"-233.8\">Dot_Product: Dot</text>\n",
       "</g>\n",
       "<!-- 140263511258392&#45;&gt;140263537260080 -->\n",
       "<g class=\"edge\" id=\"edge7\">\n",
       "<title>140263511258392-&gt;140263537260080</title>\n",
       "<path d=\"M140.0506,-292.4551C148.755,-283.5054 159.4132,-272.547 168.9156,-262.7769\" fill=\"none\" stroke=\"#000000\"/>\n",
       "<polygon fill=\"#000000\" points=\"171.4421,-265.1992 175.9053,-255.5904 166.424,-260.3187 171.4421,-265.1992\" stroke=\"#000000\"/>\n",
       "</g>\n",
       "<!-- 140263511391592&#45;&gt;140263537260080 -->\n",
       "<g class=\"edge\" id=\"edge8\">\n",
       "<title>140263511391592-&gt;140263537260080</title>\n",
       "<path d=\"M249.2079,-292.4551C240.1356,-283.5054 229.0271,-272.547 219.1232,-262.7769\" fill=\"none\" stroke=\"#000000\"/>\n",
       "<polygon fill=\"#000000\" points=\"221.4152,-260.1215 211.8382,-255.5904 216.4992,-265.1049 221.4152,-260.1215\" stroke=\"#000000\"/>\n",
       "</g>\n",
       "<!-- 140263510318944 -->\n",
       "<g class=\"node\" id=\"node10\">\n",
       "<title>140263510318944</title>\n",
       "<polygon fill=\"none\" points=\"142.5,-146.5 142.5,-182.5 244.5,-182.5 244.5,-146.5 142.5,-146.5\" stroke=\"#000000\"/>\n",
       "<text fill=\"#000000\" font-family=\"Times,serif\" font-size=\"14.00\" text-anchor=\"middle\" x=\"193.5\" y=\"-160.8\">dense_1: Dense</text>\n",
       "</g>\n",
       "<!-- 140263537260080&#45;&gt;140263510318944 -->\n",
       "<g class=\"edge\" id=\"edge9\">\n",
       "<title>140263537260080-&gt;140263510318944</title>\n",
       "<path d=\"M193.5,-219.4551C193.5,-211.3828 193.5,-201.6764 193.5,-192.6817\" fill=\"none\" stroke=\"#000000\"/>\n",
       "<polygon fill=\"#000000\" points=\"197.0001,-192.5903 193.5,-182.5904 190.0001,-192.5904 197.0001,-192.5903\" stroke=\"#000000\"/>\n",
       "</g>\n",
       "<!-- 140263510319000 -->\n",
       "<g class=\"node\" id=\"node11\">\n",
       "<title>140263510319000</title>\n",
       "<polygon fill=\"none\" points=\"131,-73.5 131,-109.5 256,-109.5 256,-73.5 131,-73.5\" stroke=\"#000000\"/>\n",
       "<text fill=\"#000000\" font-family=\"Times,serif\" font-size=\"14.00\" text-anchor=\"middle\" x=\"193.5\" y=\"-87.8\">dropout_4: Dropout</text>\n",
       "</g>\n",
       "<!-- 140263510318944&#45;&gt;140263510319000 -->\n",
       "<g class=\"edge\" id=\"edge10\">\n",
       "<title>140263510318944-&gt;140263510319000</title>\n",
       "<path d=\"M193.5,-146.4551C193.5,-138.3828 193.5,-128.6764 193.5,-119.6817\" fill=\"none\" stroke=\"#000000\"/>\n",
       "<polygon fill=\"#000000\" points=\"197.0001,-119.5903 193.5,-109.5904 190.0001,-119.5904 197.0001,-119.5903\" stroke=\"#000000\"/>\n",
       "</g>\n",
       "<!-- 140263510462984 -->\n",
       "<g class=\"node\" id=\"node12\">\n",
       "<title>140263510462984</title>\n",
       "<polygon fill=\"none\" points=\"142.5,-.5 142.5,-36.5 244.5,-36.5 244.5,-.5 142.5,-.5\" stroke=\"#000000\"/>\n",
       "<text fill=\"#000000\" font-family=\"Times,serif\" font-size=\"14.00\" text-anchor=\"middle\" x=\"193.5\" y=\"-14.8\">dense_2: Dense</text>\n",
       "</g>\n",
       "<!-- 140263510319000&#45;&gt;140263510462984 -->\n",
       "<g class=\"edge\" id=\"edge11\">\n",
       "<title>140263510319000-&gt;140263510462984</title>\n",
       "<path d=\"M193.5,-73.4551C193.5,-65.3828 193.5,-55.6764 193.5,-46.6817\" fill=\"none\" stroke=\"#000000\"/>\n",
       "<polygon fill=\"#000000\" points=\"197.0001,-46.5903 193.5,-36.5904 190.0001,-46.5904 197.0001,-46.5903\" stroke=\"#000000\"/>\n",
       "</g>\n",
       "</g>\n",
       "</svg>"
      ],
      "text/plain": [
       "<IPython.core.display.SVG object>"
      ]
     },
     "execution_count": 43,
     "metadata": {},
     "output_type": "execute_result"
    }
   ],
   "source": [
    "SVG(model_to_dot(my_model).create(prog='dot', format='svg'))"
   ]
  },
  {
   "cell_type": "markdown",
   "metadata": {},
   "source": [
    "## <b> Applying the Model"
   ]
  },
  {
   "cell_type": "code",
   "execution_count": 78,
   "metadata": {},
   "outputs": [],
   "source": [
    "# Compile with adam optimizer and mean square error \n",
    "my_model.compile(optimizer=Adam(lr=1e-3), loss='mse', metrics=['mse', 'accuracy'])"
   ]
  },
  {
   "cell_type": "code",
   "execution_count": 46,
   "metadata": {},
   "outputs": [],
   "source": [
    "# Organize train and test values\n",
    "X_train = [train.user_id, train.movie_id]\n",
    "y_train = [train.rating]\n",
    "X_test = [test.user_id, test.movie_id]\n",
    "y_test = [test.rating]"
   ]
  },
  {
   "cell_type": "code",
   "execution_count": 47,
   "metadata": {},
   "outputs": [
    {
     "name": "stderr",
     "output_type": "stream",
     "text": [
      "W0713 13:45:41.224618 140264925013824 deprecation_wrapper.py:119] From /home/carycccs/anaconda3/lib/python3.7/site-packages/keras/backend/tensorflow_backend.py:986: The name tf.assign_add is deprecated. Please use tf.compat.v1.assign_add instead.\n",
      "\n"
     ]
    },
    {
     "name": "stdout",
     "output_type": "stream",
     "text": [
      "Train on 700146 samples, validate on 300063 samples\n",
      "Epoch 1/100\n",
      "700146/700146 [==============================] - 8s 12us/step - loss: 2.9038 - mean_squared_error: 2.9038 - acc: 0.2580 - val_loss: 0.9864 - val_mean_squared_error: 0.9864 - val_acc: 0.3772\n",
      "Epoch 2/100\n",
      "700146/700146 [==============================] - 6s 8us/step - loss: 1.0915 - mean_squared_error: 1.0915 - acc: 0.3622 - val_loss: 0.8553 - val_mean_squared_error: 0.8553 - val_acc: 0.3993\n",
      "Epoch 3/100\n",
      "700146/700146 [==============================] - 6s 8us/step - loss: 1.0035 - mean_squared_error: 1.0035 - acc: 0.3796 - val_loss: 0.8213 - val_mean_squared_error: 0.8213 - val_acc: 0.4130\n",
      "Epoch 4/100\n",
      "700146/700146 [==============================] - 6s 8us/step - loss: 0.9638 - mean_squared_error: 0.9638 - acc: 0.3887 - val_loss: 0.8049 - val_mean_squared_error: 0.8049 - val_acc: 0.4214\n",
      "Epoch 5/100\n",
      "700146/700146 [==============================] - 6s 8us/step - loss: 0.9320 - mean_squared_error: 0.9320 - acc: 0.3954 - val_loss: 0.7951 - val_mean_squared_error: 0.7951 - val_acc: 0.4215\n",
      "Epoch 6/100\n",
      "700146/700146 [==============================] - 6s 8us/step - loss: 0.9029 - mean_squared_error: 0.9029 - acc: 0.4016 - val_loss: 0.7864 - val_mean_squared_error: 0.7864 - val_acc: 0.4231\n",
      "Epoch 7/100\n",
      "700146/700146 [==============================] - 6s 9us/step - loss: 0.8729 - mean_squared_error: 0.8729 - acc: 0.4081 - val_loss: 0.7783 - val_mean_squared_error: 0.7783 - val_acc: 0.4323\n",
      "Epoch 8/100\n",
      "700146/700146 [==============================] - 6s 8us/step - loss: 0.8456 - mean_squared_error: 0.8456 - acc: 0.4138 - val_loss: 0.7743 - val_mean_squared_error: 0.7743 - val_acc: 0.4308\n",
      "Epoch 9/100\n",
      "700146/700146 [==============================] - 6s 8us/step - loss: 0.8152 - mean_squared_error: 0.8152 - acc: 0.4202 - val_loss: 0.7703 - val_mean_squared_error: 0.7703 - val_acc: 0.4317\n",
      "Epoch 10/100\n",
      "700146/700146 [==============================] - 6s 8us/step - loss: 0.7902 - mean_squared_error: 0.7902 - acc: 0.4260 - val_loss: 0.7682 - val_mean_squared_error: 0.7682 - val_acc: 0.4262\n",
      "Epoch 11/100\n",
      "700146/700146 [==============================] - 6s 8us/step - loss: 0.7689 - mean_squared_error: 0.7689 - acc: 0.4304 - val_loss: 0.7632 - val_mean_squared_error: 0.7632 - val_acc: 0.4347\n",
      "Epoch 12/100\n",
      "700146/700146 [==============================] - 6s 8us/step - loss: 0.7520 - mean_squared_error: 0.7520 - acc: 0.4358 - val_loss: 0.7625 - val_mean_squared_error: 0.7625 - val_acc: 0.4384\n",
      "Epoch 13/100\n",
      "700146/700146 [==============================] - 6s 8us/step - loss: 0.7382 - mean_squared_error: 0.7382 - acc: 0.4408 - val_loss: 0.7623 - val_mean_squared_error: 0.7623 - val_acc: 0.4369\n",
      "Epoch 14/100\n",
      "700146/700146 [==============================] - 6s 8us/step - loss: 0.7311 - mean_squared_error: 0.7311 - acc: 0.4432 - val_loss: 0.7610 - val_mean_squared_error: 0.7610 - val_acc: 0.4400\n",
      "Epoch 15/100\n",
      "700146/700146 [==============================] - 6s 8us/step - loss: 0.7267 - mean_squared_error: 0.7267 - acc: 0.4449 - val_loss: 0.7619 - val_mean_squared_error: 0.7619 - val_acc: 0.4335\n",
      "Epoch 16/100\n",
      "700146/700146 [==============================] - 6s 8us/step - loss: 0.7223 - mean_squared_error: 0.7223 - acc: 0.4479 - val_loss: 0.7600 - val_mean_squared_error: 0.7600 - val_acc: 0.4388\n",
      "Epoch 17/100\n",
      "700146/700146 [==============================] - 6s 8us/step - loss: 0.7176 - mean_squared_error: 0.7176 - acc: 0.4492 - val_loss: 0.7574 - val_mean_squared_error: 0.7574 - val_acc: 0.4381\n",
      "Epoch 18/100\n",
      "700146/700146 [==============================] - 6s 8us/step - loss: 0.7158 - mean_squared_error: 0.7158 - acc: 0.4509 - val_loss: 0.7575 - val_mean_squared_error: 0.7575 - val_acc: 0.4443\n",
      "Epoch 19/100\n",
      "700146/700146 [==============================] - 6s 8us/step - loss: 0.7127 - mean_squared_error: 0.7127 - acc: 0.4506 - val_loss: 0.7557 - val_mean_squared_error: 0.7557 - val_acc: 0.4444\n",
      "Epoch 20/100\n",
      "700146/700146 [==============================] - 6s 8us/step - loss: 0.7105 - mean_squared_error: 0.7105 - acc: 0.4519 - val_loss: 0.7569 - val_mean_squared_error: 0.7569 - val_acc: 0.4382\n",
      "Epoch 21/100\n",
      "700146/700146 [==============================] - 6s 8us/step - loss: 0.7070 - mean_squared_error: 0.7070 - acc: 0.4524 - val_loss: 0.7565 - val_mean_squared_error: 0.7565 - val_acc: 0.4426\n",
      "Epoch 22/100\n",
      "700146/700146 [==============================] - 6s 8us/step - loss: 0.7067 - mean_squared_error: 0.7067 - acc: 0.4526 - val_loss: 0.7544 - val_mean_squared_error: 0.7544 - val_acc: 0.4430\n",
      "Epoch 23/100\n",
      "700146/700146 [==============================] - 6s 8us/step - loss: 0.7032 - mean_squared_error: 0.7032 - acc: 0.4535 - val_loss: 0.7543 - val_mean_squared_error: 0.7543 - val_acc: 0.4440\n",
      "Epoch 24/100\n",
      "700146/700146 [==============================] - 6s 8us/step - loss: 0.7022 - mean_squared_error: 0.7022 - acc: 0.4550 - val_loss: 0.7543 - val_mean_squared_error: 0.7543 - val_acc: 0.4408\n",
      "Epoch 25/100\n",
      "700146/700146 [==============================] - 6s 8us/step - loss: 0.7014 - mean_squared_error: 0.7014 - acc: 0.4550 - val_loss: 0.7543 - val_mean_squared_error: 0.7543 - val_acc: 0.4450\n",
      "Epoch 26/100\n",
      "700146/700146 [==============================] - 6s 8us/step - loss: 0.7004 - mean_squared_error: 0.7004 - acc: 0.4550 - val_loss: 0.7532 - val_mean_squared_error: 0.7532 - val_acc: 0.4414\n",
      "Epoch 27/100\n",
      "700146/700146 [==============================] - 6s 8us/step - loss: 0.6997 - mean_squared_error: 0.6997 - acc: 0.4555 - val_loss: 0.7529 - val_mean_squared_error: 0.7529 - val_acc: 0.4438\n",
      "Epoch 28/100\n",
      "700146/700146 [==============================] - 6s 8us/step - loss: 0.6977 - mean_squared_error: 0.6977 - acc: 0.4568 - val_loss: 0.7531 - val_mean_squared_error: 0.7531 - val_acc: 0.4403\n",
      "Epoch 29/100\n",
      "700146/700146 [==============================] - 6s 8us/step - loss: 0.6969 - mean_squared_error: 0.6969 - acc: 0.4569 - val_loss: 0.7512 - val_mean_squared_error: 0.7512 - val_acc: 0.4452\n",
      "Epoch 30/100\n",
      "700146/700146 [==============================] - 6s 8us/step - loss: 0.6943 - mean_squared_error: 0.6943 - acc: 0.4573 - val_loss: 0.7518 - val_mean_squared_error: 0.7518 - val_acc: 0.4472\n",
      "Epoch 31/100\n",
      "700146/700146 [==============================] - 6s 8us/step - loss: 0.6936 - mean_squared_error: 0.6936 - acc: 0.4573 - val_loss: 0.7516 - val_mean_squared_error: 0.7516 - val_acc: 0.4423\n",
      "Epoch 32/100\n",
      "700146/700146 [==============================] - 6s 8us/step - loss: 0.6932 - mean_squared_error: 0.6932 - acc: 0.4579 - val_loss: 0.7520 - val_mean_squared_error: 0.7520 - val_acc: 0.4452\n",
      "Epoch 33/100\n",
      "700146/700146 [==============================] - 6s 9us/step - loss: 0.6926 - mean_squared_error: 0.6926 - acc: 0.4588 - val_loss: 0.7526 - val_mean_squared_error: 0.7526 - val_acc: 0.4432\n",
      "Epoch 34/100\n",
      "700146/700146 [==============================] - 6s 9us/step - loss: 0.6912 - mean_squared_error: 0.6912 - acc: 0.4576 - val_loss: 0.7528 - val_mean_squared_error: 0.7528 - val_acc: 0.4423\n",
      "Epoch 35/100\n",
      "700146/700146 [==============================] - 6s 9us/step - loss: 0.6885 - mean_squared_error: 0.6885 - acc: 0.4601 - val_loss: 0.7503 - val_mean_squared_error: 0.7503 - val_acc: 0.4453\n",
      "Epoch 36/100\n",
      "700146/700146 [==============================] - 7s 10us/step - loss: 0.6864 - mean_squared_error: 0.6864 - acc: 0.4594 - val_loss: 0.7516 - val_mean_squared_error: 0.7516 - val_acc: 0.4436\n",
      "Epoch 37/100\n",
      "700146/700146 [==============================] - 7s 10us/step - loss: 0.6875 - mean_squared_error: 0.6875 - acc: 0.4592 - val_loss: 0.7494 - val_mean_squared_error: 0.7494 - val_acc: 0.4419\n",
      "Epoch 38/100\n",
      "700146/700146 [==============================] - 6s 9us/step - loss: 0.6878 - mean_squared_error: 0.6878 - acc: 0.4598 - val_loss: 0.7489 - val_mean_squared_error: 0.7489 - val_acc: 0.4444\n",
      "Epoch 39/100\n",
      "700146/700146 [==============================] - 6s 9us/step - loss: 0.6863 - mean_squared_error: 0.6863 - acc: 0.4600 - val_loss: 0.7500 - val_mean_squared_error: 0.7500 - val_acc: 0.4472\n",
      "Epoch 40/100\n",
      "700146/700146 [==============================] - 6s 8us/step - loss: 0.6852 - mean_squared_error: 0.6852 - acc: 0.4601 - val_loss: 0.7495 - val_mean_squared_error: 0.7495 - val_acc: 0.4445\n",
      "Epoch 41/100\n",
      "700146/700146 [==============================] - 6s 9us/step - loss: 0.6848 - mean_squared_error: 0.6848 - acc: 0.4596 - val_loss: 0.7487 - val_mean_squared_error: 0.7487 - val_acc: 0.4473\n",
      "Epoch 42/100\n",
      "700146/700146 [==============================] - 6s 8us/step - loss: 0.6848 - mean_squared_error: 0.6848 - acc: 0.4601 - val_loss: 0.7470 - val_mean_squared_error: 0.7470 - val_acc: 0.4488\n",
      "Epoch 43/100\n",
      "700146/700146 [==============================] - 6s 8us/step - loss: 0.6835 - mean_squared_error: 0.6835 - acc: 0.4609 - val_loss: 0.7488 - val_mean_squared_error: 0.7488 - val_acc: 0.4480\n",
      "Epoch 44/100\n",
      "700146/700146 [==============================] - 6s 9us/step - loss: 0.6822 - mean_squared_error: 0.6822 - acc: 0.4618 - val_loss: 0.7474 - val_mean_squared_error: 0.7474 - val_acc: 0.4454\n",
      "Epoch 45/100\n",
      "700146/700146 [==============================] - 6s 8us/step - loss: 0.6808 - mean_squared_error: 0.6808 - acc: 0.4621 - val_loss: 0.7487 - val_mean_squared_error: 0.7487 - val_acc: 0.4465\n",
      "Epoch 46/100\n",
      "700146/700146 [==============================] - 6s 8us/step - loss: 0.6811 - mean_squared_error: 0.6811 - acc: 0.4620 - val_loss: 0.7488 - val_mean_squared_error: 0.7488 - val_acc: 0.4466\n",
      "Epoch 47/100\n",
      "700146/700146 [==============================] - 6s 8us/step - loss: 0.6792 - mean_squared_error: 0.6792 - acc: 0.4617 - val_loss: 0.7484 - val_mean_squared_error: 0.7484 - val_acc: 0.4482\n",
      "Epoch 48/100\n",
      "700146/700146 [==============================] - 6s 8us/step - loss: 0.6799 - mean_squared_error: 0.6799 - acc: 0.4622 - val_loss: 0.7471 - val_mean_squared_error: 0.7471 - val_acc: 0.4418\n",
      "Epoch 49/100\n",
      "700146/700146 [==============================] - 6s 9us/step - loss: 0.6800 - mean_squared_error: 0.6800 - acc: 0.4628 - val_loss: 0.7472 - val_mean_squared_error: 0.7472 - val_acc: 0.4451\n",
      "Epoch 50/100\n",
      "700146/700146 [==============================] - 6s 9us/step - loss: 0.6781 - mean_squared_error: 0.6781 - acc: 0.4628 - val_loss: 0.7468 - val_mean_squared_error: 0.7468 - val_acc: 0.4483\n",
      "Epoch 51/100\n",
      "700146/700146 [==============================] - 6s 9us/step - loss: 0.6769 - mean_squared_error: 0.6769 - acc: 0.4622 - val_loss: 0.7477 - val_mean_squared_error: 0.7477 - val_acc: 0.4491\n",
      "Epoch 52/100\n",
      "700146/700146 [==============================] - 6s 8us/step - loss: 0.6752 - mean_squared_error: 0.6752 - acc: 0.4642 - val_loss: 0.7478 - val_mean_squared_error: 0.7478 - val_acc: 0.4467\n",
      "Epoch 53/100\n",
      "700146/700146 [==============================] - 6s 8us/step - loss: 0.6764 - mean_squared_error: 0.6764 - acc: 0.4636 - val_loss: 0.7500 - val_mean_squared_error: 0.7500 - val_acc: 0.4456\n",
      "Epoch 54/100\n",
      "700146/700146 [==============================] - 6s 8us/step - loss: 0.6768 - mean_squared_error: 0.6768 - acc: 0.4625 - val_loss: 0.7481 - val_mean_squared_error: 0.7481 - val_acc: 0.4496\n",
      "Epoch 55/100\n",
      "700146/700146 [==============================] - 7s 9us/step - loss: 0.6743 - mean_squared_error: 0.6743 - acc: 0.4644 - val_loss: 0.7476 - val_mean_squared_error: 0.7476 - val_acc: 0.4466\n",
      "Epoch 56/100\n",
      "700146/700146 [==============================] - 6s 8us/step - loss: 0.6742 - mean_squared_error: 0.6742 - acc: 0.4645 - val_loss: 0.7480 - val_mean_squared_error: 0.7480 - val_acc: 0.4475\n",
      "Epoch 57/100\n",
      "700146/700146 [==============================] - 6s 9us/step - loss: 0.6733 - mean_squared_error: 0.6733 - acc: 0.4648 - val_loss: 0.7486 - val_mean_squared_error: 0.7486 - val_acc: 0.4490\n",
      "Epoch 58/100\n",
      "700146/700146 [==============================] - 6s 9us/step - loss: 0.6731 - mean_squared_error: 0.6731 - acc: 0.4638 - val_loss: 0.7488 - val_mean_squared_error: 0.7488 - val_acc: 0.4483\n",
      "Epoch 59/100\n",
      "700146/700146 [==============================] - 6s 9us/step - loss: 0.6734 - mean_squared_error: 0.6734 - acc: 0.4639 - val_loss: 0.7464 - val_mean_squared_error: 0.7464 - val_acc: 0.4446\n",
      "Epoch 60/100\n",
      "700146/700146 [==============================] - 6s 8us/step - loss: 0.6736 - mean_squared_error: 0.6736 - acc: 0.4648 - val_loss: 0.7476 - val_mean_squared_error: 0.7476 - val_acc: 0.4469\n",
      "Epoch 61/100\n",
      "700146/700146 [==============================] - 6s 8us/step - loss: 0.6726 - mean_squared_error: 0.6726 - acc: 0.4639 - val_loss: 0.7476 - val_mean_squared_error: 0.7476 - val_acc: 0.4474\n",
      "Epoch 62/100\n",
      "700146/700146 [==============================] - 6s 9us/step - loss: 0.6719 - mean_squared_error: 0.6719 - acc: 0.4649 - val_loss: 0.7459 - val_mean_squared_error: 0.7459 - val_acc: 0.4493\n",
      "Epoch 63/100\n",
      "700146/700146 [==============================] - 7s 10us/step - loss: 0.6719 - mean_squared_error: 0.6719 - acc: 0.4645 - val_loss: 0.7472 - val_mean_squared_error: 0.7472 - val_acc: 0.4466\n",
      "Epoch 64/100\n",
      "700146/700146 [==============================] - 6s 9us/step - loss: 0.6711 - mean_squared_error: 0.6711 - acc: 0.4657 - val_loss: 0.7476 - val_mean_squared_error: 0.7476 - val_acc: 0.4453\n",
      "Epoch 65/100\n",
      "700146/700146 [==============================] - 6s 8us/step - loss: 0.6689 - mean_squared_error: 0.6689 - acc: 0.4654 - val_loss: 0.7476 - val_mean_squared_error: 0.7476 - val_acc: 0.4468\n",
      "Epoch 66/100\n",
      "700146/700146 [==============================] - 6s 8us/step - loss: 0.6698 - mean_squared_error: 0.6698 - acc: 0.4650 - val_loss: 0.7472 - val_mean_squared_error: 0.7472 - val_acc: 0.4455\n",
      "Epoch 67/100\n",
      "700146/700146 [==============================] - 6s 8us/step - loss: 0.6699 - mean_squared_error: 0.6699 - acc: 0.4652 - val_loss: 0.7478 - val_mean_squared_error: 0.7478 - val_acc: 0.4504\n",
      "Epoch 68/100\n",
      "700146/700146 [==============================] - 7s 9us/step - loss: 0.6679 - mean_squared_error: 0.6679 - acc: 0.4662 - val_loss: 0.7468 - val_mean_squared_error: 0.7468 - val_acc: 0.4517\n",
      "Epoch 69/100\n",
      "700146/700146 [==============================] - 7s 10us/step - loss: 0.6697 - mean_squared_error: 0.6697 - acc: 0.4655 - val_loss: 0.7466 - val_mean_squared_error: 0.7466 - val_acc: 0.4487\n",
      "Epoch 70/100\n",
      "700146/700146 [==============================] - 6s 8us/step - loss: 0.6694 - mean_squared_error: 0.6694 - acc: 0.4666 - val_loss: 0.7467 - val_mean_squared_error: 0.7467 - val_acc: 0.4472\n",
      "Epoch 71/100\n",
      "700146/700146 [==============================] - 7s 10us/step - loss: 0.6692 - mean_squared_error: 0.6692 - acc: 0.4661 - val_loss: 0.7473 - val_mean_squared_error: 0.7473 - val_acc: 0.4469\n",
      "Epoch 72/100\n",
      "700146/700146 [==============================] - 7s 9us/step - loss: 0.6679 - mean_squared_error: 0.6679 - acc: 0.4654 - val_loss: 0.7459 - val_mean_squared_error: 0.7459 - val_acc: 0.4492\n",
      "Epoch 73/100\n",
      "700146/700146 [==============================] - 7s 10us/step - loss: 0.6662 - mean_squared_error: 0.6662 - acc: 0.4668 - val_loss: 0.7471 - val_mean_squared_error: 0.7471 - val_acc: 0.4457\n",
      "Epoch 74/100\n",
      "700146/700146 [==============================] - 7s 10us/step - loss: 0.6662 - mean_squared_error: 0.6662 - acc: 0.4666 - val_loss: 0.7469 - val_mean_squared_error: 0.7469 - val_acc: 0.4498\n",
      "Epoch 75/100\n",
      "700146/700146 [==============================] - 9s 13us/step - loss: 0.6668 - mean_squared_error: 0.6668 - acc: 0.4663 - val_loss: 0.7488 - val_mean_squared_error: 0.7488 - val_acc: 0.4471\n",
      "Epoch 76/100\n",
      "700146/700146 [==============================] - 7s 10us/step - loss: 0.6659 - mean_squared_error: 0.6659 - acc: 0.4667 - val_loss: 0.7455 - val_mean_squared_error: 0.7455 - val_acc: 0.4496\n",
      "Epoch 77/100\n",
      "700146/700146 [==============================] - 6s 8us/step - loss: 0.6662 - mean_squared_error: 0.6662 - acc: 0.4676 - val_loss: 0.7457 - val_mean_squared_error: 0.7457 - val_acc: 0.4460\n",
      "Epoch 78/100\n",
      "700146/700146 [==============================] - 7s 10us/step - loss: 0.6663 - mean_squared_error: 0.6663 - acc: 0.4671 - val_loss: 0.7466 - val_mean_squared_error: 0.7466 - val_acc: 0.4480\n",
      "Epoch 79/100\n",
      "700146/700146 [==============================] - 6s 9us/step - loss: 0.6648 - mean_squared_error: 0.6648 - acc: 0.4672 - val_loss: 0.7468 - val_mean_squared_error: 0.7468 - val_acc: 0.4489\n",
      "Epoch 80/100\n",
      "700146/700146 [==============================] - 7s 10us/step - loss: 0.6643 - mean_squared_error: 0.6643 - acc: 0.4671 - val_loss: 0.7467 - val_mean_squared_error: 0.7467 - val_acc: 0.4416\n",
      "Epoch 81/100\n",
      "700146/700146 [==============================] - 7s 10us/step - loss: 0.6659 - mean_squared_error: 0.6659 - acc: 0.4672 - val_loss: 0.7458 - val_mean_squared_error: 0.7458 - val_acc: 0.4476\n",
      "Epoch 82/100\n",
      "700146/700146 [==============================] - 6s 9us/step - loss: 0.6641 - mean_squared_error: 0.6641 - acc: 0.4670 - val_loss: 0.7456 - val_mean_squared_error: 0.7456 - val_acc: 0.4489\n",
      "Epoch 83/100\n",
      "700146/700146 [==============================] - 7s 10us/step - loss: 0.6648 - mean_squared_error: 0.6648 - acc: 0.4661 - val_loss: 0.7448 - val_mean_squared_error: 0.7448 - val_acc: 0.4501\n",
      "Epoch 84/100\n",
      "700146/700146 [==============================] - 12s 17us/step - loss: 0.6656 - mean_squared_error: 0.6656 - acc: 0.4660 - val_loss: 0.7472 - val_mean_squared_error: 0.7472 - val_acc: 0.4475\n",
      "Epoch 85/100\n",
      "700146/700146 [==============================] - 8s 11us/step - loss: 0.6655 - mean_squared_error: 0.6655 - acc: 0.4670 - val_loss: 0.7476 - val_mean_squared_error: 0.7476 - val_acc: 0.4492\n",
      "Epoch 86/100\n",
      "700146/700146 [==============================] - 9s 13us/step - loss: 0.6643 - mean_squared_error: 0.6643 - acc: 0.4670 - val_loss: 0.7459 - val_mean_squared_error: 0.7459 - val_acc: 0.4470\n",
      "Epoch 87/100\n",
      "700146/700146 [==============================] - 6s 9us/step - loss: 0.6627 - mean_squared_error: 0.6627 - acc: 0.4679 - val_loss: 0.7458 - val_mean_squared_error: 0.7458 - val_acc: 0.4491\n",
      "Epoch 88/100\n",
      "700146/700146 [==============================] - 8s 11us/step - loss: 0.6630 - mean_squared_error: 0.6630 - acc: 0.4675 - val_loss: 0.7472 - val_mean_squared_error: 0.7472 - val_acc: 0.4465\n",
      "Epoch 89/100\n",
      "700146/700146 [==============================] - 9s 13us/step - loss: 0.6625 - mean_squared_error: 0.6625 - acc: 0.4683 - val_loss: 0.7458 - val_mean_squared_error: 0.7458 - val_acc: 0.4443\n",
      "Epoch 90/100\n",
      "700146/700146 [==============================] - 8s 12us/step - loss: 0.6629 - mean_squared_error: 0.6629 - acc: 0.4687 - val_loss: 0.7450 - val_mean_squared_error: 0.7450 - val_acc: 0.4482\n",
      "Epoch 91/100\n",
      "700146/700146 [==============================] - 7s 10us/step - loss: 0.6628 - mean_squared_error: 0.6628 - acc: 0.4681 - val_loss: 0.7465 - val_mean_squared_error: 0.7465 - val_acc: 0.4472\n",
      "Epoch 92/100\n",
      "700146/700146 [==============================] - 6s 9us/step - loss: 0.6608 - mean_squared_error: 0.6608 - acc: 0.4691 - val_loss: 0.7453 - val_mean_squared_error: 0.7453 - val_acc: 0.4485\n",
      "Epoch 93/100\n",
      "700146/700146 [==============================] - 7s 10us/step - loss: 0.6624 - mean_squared_error: 0.6624 - acc: 0.4687 - val_loss: 0.7461 - val_mean_squared_error: 0.7461 - val_acc: 0.4469\n",
      "Epoch 94/100\n",
      "700146/700146 [==============================] - 6s 9us/step - loss: 0.6623 - mean_squared_error: 0.6623 - acc: 0.4677 - val_loss: 0.7451 - val_mean_squared_error: 0.7451 - val_acc: 0.4490\n",
      "Epoch 95/100\n",
      "700146/700146 [==============================] - 6s 8us/step - loss: 0.6621 - mean_squared_error: 0.6621 - acc: 0.4675 - val_loss: 0.7468 - val_mean_squared_error: 0.7468 - val_acc: 0.4460\n",
      "Epoch 96/100\n",
      "700146/700146 [==============================] - 6s 8us/step - loss: 0.6617 - mean_squared_error: 0.6617 - acc: 0.4675 - val_loss: 0.7465 - val_mean_squared_error: 0.7465 - val_acc: 0.4506\n",
      "Epoch 97/100\n",
      "700146/700146 [==============================] - 6s 9us/step - loss: 0.6621 - mean_squared_error: 0.6621 - acc: 0.4683 - val_loss: 0.7450 - val_mean_squared_error: 0.7450 - val_acc: 0.4491\n",
      "Epoch 98/100\n",
      "700146/700146 [==============================] - 6s 8us/step - loss: 0.6628 - mean_squared_error: 0.6628 - acc: 0.4682 - val_loss: 0.7444 - val_mean_squared_error: 0.7444 - val_acc: 0.4474\n",
      "Epoch 99/100\n",
      "700146/700146 [==============================] - 6s 9us/step - loss: 0.6612 - mean_squared_error: 0.6612 - acc: 0.4688 - val_loss: 0.7447 - val_mean_squared_error: 0.7447 - val_acc: 0.4492\n",
      "Epoch 100/100\n",
      "700146/700146 [==============================] - 6s 9us/step - loss: 0.6614 - mean_squared_error: 0.6614 - acc: 0.4692 - val_loss: 0.7458 - val_mean_squared_error: 0.7458 - val_acc: 0.4478\n"
     ]
    }
   ],
   "source": [
    "# Running the models (1000 data samples in 100 times)\n",
    "History = my_model.fit(X_train, y_train, batch_size=1000, epochs = 100, \n",
    "                       validation_data = (X_test,y_test),verbose = 1)"
   ]
  },
  {
   "cell_type": "markdown",
   "metadata": {},
   "source": [
    "# <b> Results"
   ]
  },
  {
   "cell_type": "code",
   "execution_count": 71,
   "metadata": {},
   "outputs": [
    {
     "data": {
      "image/png": "[encoded data removed]",
      "text/plain": [
       "<Figure size 432x288 with 1 Axes>"
      ]
     },
     "metadata": {
      "needs_background": "light"
     },
     "output_type": "display_data"
    }
   ],
   "source": [
    "plt.plot(History.history['acc'] , 'g')\n",
    "plt.plot(History.history['val_acc'] , 'b')\n",
    "plt.title('Model Accuracy')\n",
    "plt.ylabel('Accuracy')\n",
    "plt.xlabel('Epoch')\n",
    "plt.legend(['Train Data', 'Test Data'], loc='upper left')\n",
    "plt.grid(True)\n",
    "plt.savefig('ModelAccuracy.png')\n",
    "plt.show()"
   ]
  },
  {
   "cell_type": "code",
   "execution_count": 72,
   "metadata": {},
   "outputs": [
    {
     "data": {
      "image/png": "[encoded data removed]",
      "text/plain": [
       "<Figure size 432x288 with 1 Axes>"
      ]
     },
     "metadata": {
      "needs_background": "light"
     },
     "output_type": "display_data"
    }
   ],
   "source": [
    "plt.plot(History.history['mean_squared_error'] , 'g')\n",
    "plt.plot(History.history['val_mean_squared_error'] , 'b')\n",
    "plt.title('Mean Square Error')\n",
    "plt.ylabel('MSE')\n",
    "plt.xlabel('Epoch')\n",
    "plt.legend(['Train Data', 'Test Data'], loc='upper left')\n",
    "plt.grid(True)\n",
    "plt.savefig('ModelLoss.png')\n",
    "plt.show()"
   ]
  },
  {
   "cell_type": "markdown",
   "metadata": {},
   "source": [
    "# <b> Visualizing Predictions x Real values"
   ]
  },
  {
   "cell_type": "code",
   "execution_count": 55,
   "metadata": {},
   "outputs": [],
   "source": [
    "# Generating predictions based on the train data\n",
    "predicted = my_model.predict([test.user_id,test.movie_id])\n",
    "# Storing real data\n",
    "real = test.rating"
   ]
  },
  {
   "cell_type": "code",
   "execution_count": 56,
   "metadata": {},
   "outputs": [],
   "source": [
    "# Create a dataframe to organize data \n",
    "results_data = pd.DataFrame()"
   ]
  },
  {
   "cell_type": "code",
   "execution_count": 57,
   "metadata": {},
   "outputs": [],
   "source": [
    "# Insert real and predicted value on dataframe\n",
    "results_data['Real'] = real\n",
    "results_data['Predicted'] = predicted"
   ]
  },
  {
   "cell_type": "code",
   "execution_count": 58,
   "metadata": {},
   "outputs": [
    {
     "data": {
      "text/html": [
       "<div>\n",
       "<style scoped>\n",
       "    .dataframe tbody tr th:only-of-type {\n",
       "        vertical-align: middle;\n",
       "    }\n",
       "\n",
       "    .dataframe tbody tr th {\n",
       "        vertical-align: top;\n",
       "    }\n",
       "\n",
       "    .dataframe thead th {\n",
       "        text-align: right;\n",
       "    }\n",
       "</style>\n",
       "<table border=\"1\" class=\"dataframe\">\n",
       "  <thead>\n",
       "    <tr style=\"text-align: right;\">\n",
       "      <th></th>\n",
       "      <th>Real</th>\n",
       "      <th>Predicted</th>\n",
       "    </tr>\n",
       "  </thead>\n",
       "  <tbody>\n",
       "    <tr>\n",
       "      <th>4711</th>\n",
       "      <td>4</td>\n",
       "      <td>4.101172</td>\n",
       "    </tr>\n",
       "    <tr>\n",
       "      <th>646288</th>\n",
       "      <td>5</td>\n",
       "      <td>4.287902</td>\n",
       "    </tr>\n",
       "    <tr>\n",
       "      <th>211585</th>\n",
       "      <td>3</td>\n",
       "      <td>3.295124</td>\n",
       "    </tr>\n",
       "    <tr>\n",
       "      <th>217332</th>\n",
       "      <td>4</td>\n",
       "      <td>4.113521</td>\n",
       "    </tr>\n",
       "    <tr>\n",
       "      <th>752593</th>\n",
       "      <td>4</td>\n",
       "      <td>3.981562</td>\n",
       "    </tr>\n",
       "    <tr>\n",
       "      <th>754250</th>\n",
       "      <td>4</td>\n",
       "      <td>4.095253</td>\n",
       "    </tr>\n",
       "    <tr>\n",
       "      <th>49357</th>\n",
       "      <td>4</td>\n",
       "      <td>3.028741</td>\n",
       "    </tr>\n",
       "    <tr>\n",
       "      <th>371895</th>\n",
       "      <td>4</td>\n",
       "      <td>3.252215</td>\n",
       "    </tr>\n",
       "    <tr>\n",
       "      <th>138398</th>\n",
       "      <td>3</td>\n",
       "      <td>2.716205</td>\n",
       "    </tr>\n",
       "    <tr>\n",
       "      <th>647504</th>\n",
       "      <td>4</td>\n",
       "      <td>3.866546</td>\n",
       "    </tr>\n",
       "  </tbody>\n",
       "</table>\n",
       "</div>"
      ],
      "text/plain": [
       "        Real  Predicted\n",
       "4711       4   4.101172\n",
       "646288     5   4.287902\n",
       "211585     3   3.295124\n",
       "217332     4   4.113521\n",
       "752593     4   3.981562\n",
       "754250     4   4.095253\n",
       "49357      4   3.028741\n",
       "371895     4   3.252215\n",
       "138398     3   2.716205\n",
       "647504     4   3.866546"
      ]
     },
     "execution_count": 58,
     "metadata": {},
     "output_type": "execute_result"
    }
   ],
   "source": [
    "# Compare real value with predicted value\n",
    "results_data.head(10)"
   ]
  },
  {
   "cell_type": "code",
   "execution_count": null,
   "metadata": {},
   "outputs": [],
   "source": []
  }
 ],
 "metadata": {
  "kernelspec": {
   "display_name": "Python 3",
   "language": "python",
   "name": "python3"
  },
  "language_info": {
   "codemirror_mode": {
    "name": "ipython",
    "version": 3
   },
   "file_extension": ".py",
   "mimetype": "text/x-python",
   "name": "python",
   "nbconvert_exporter": "python",
   "pygments_lexer": "ipython3",
   "version": "3.7.3"
  }
 },
 "nbformat": 4,
 "nbformat_minor": 2
}
