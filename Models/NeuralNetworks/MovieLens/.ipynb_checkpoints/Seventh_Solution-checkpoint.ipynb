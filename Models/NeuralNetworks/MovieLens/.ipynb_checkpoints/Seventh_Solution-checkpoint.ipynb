{
 "cells": [
  {
   "cell_type": "markdown",
   "metadata": {},
   "source": [
    "## <b> Importing Libraries"
   ]
  },
  {
   "cell_type": "code",
   "execution_count": 254,
   "metadata": {},
   "outputs": [],
   "source": [
    "# Pandas for dataframe manipulation\n",
    "import numpy as np\n",
    "import pandas as pd\n",
    "import seaborn as sea\n",
    "import matplotlib.pyplot as plt\n",
    "\n",
    "import time\n",
    "import keras\n",
    "from keras.models import Sequential\n",
    "from keras.layers import Dense, concatenate\n",
    "from keras.utils import np_utils\n",
    "from IPython.display import SVG\n",
    "from keras.optimizers import Adam\n",
    "from keras.utils.vis_utils import model_to_dot\n",
    "from keras.layers import Input, Embedding, Flatten, Dot, Dense, Dropout\n",
    "from keras.models import Model, load_model\n",
    "\n",
    "from IPython.display import SVG\n",
    "from keras.utils.vis_utils import model_to_dot\n",
    "from keras.utils import plot_model\n",
    "import pydot"
   ]
  },
  {
   "cell_type": "markdown",
   "metadata": {},
   "source": [
    "## <b> Loading Data"
   ]
  },
  {
   "cell_type": "code",
   "execution_count": 158,
   "metadata": {},
   "outputs": [],
   "source": [
    "# Keeping the columns names to load it correctly on dataframe\n",
    "ratings_title = ['user_id', 'movie_id', 'rating', 'date']\n",
    "\n",
    "# Dataframe of rating data\n",
    "ratings = pd.read_csv('ratings.dat', sep='::', header=None, names=ratings_title, engine = 'python')"
   ]
  },
  {
   "cell_type": "markdown",
   "metadata": {},
   "source": [
    "## <b> Informations about the Data"
   ]
  },
  {
   "cell_type": "code",
   "execution_count": 159,
   "metadata": {},
   "outputs": [
    {
     "name": "stdout",
     "output_type": "stream",
     "text": [
      "(1000209, 4)\n"
     ]
    }
   ],
   "source": [
    "# Rows and Cols \n",
    "print(ratings.shape)"
   ]
  },
  {
   "cell_type": "code",
   "execution_count": 160,
   "metadata": {},
   "outputs": [
    {
     "data": {
      "text/html": [
       "<div>\n",
       "<style scoped>\n",
       "    .dataframe tbody tr th:only-of-type {\n",
       "        vertical-align: middle;\n",
       "    }\n",
       "\n",
       "    .dataframe tbody tr th {\n",
       "        vertical-align: top;\n",
       "    }\n",
       "\n",
       "    .dataframe thead th {\n",
       "        text-align: right;\n",
       "    }\n",
       "</style>\n",
       "<table border=\"1\" class=\"dataframe\">\n",
       "  <thead>\n",
       "    <tr style=\"text-align: right;\">\n",
       "      <th></th>\n",
       "      <th>user_id</th>\n",
       "      <th>movie_id</th>\n",
       "      <th>rating</th>\n",
       "      <th>date</th>\n",
       "    </tr>\n",
       "  </thead>\n",
       "  <tbody>\n",
       "    <tr>\n",
       "      <th>0</th>\n",
       "      <td>1</td>\n",
       "      <td>1193</td>\n",
       "      <td>5</td>\n",
       "      <td>978300760</td>\n",
       "    </tr>\n",
       "    <tr>\n",
       "      <th>1</th>\n",
       "      <td>1</td>\n",
       "      <td>661</td>\n",
       "      <td>3</td>\n",
       "      <td>978302109</td>\n",
       "    </tr>\n",
       "    <tr>\n",
       "      <th>2</th>\n",
       "      <td>1</td>\n",
       "      <td>914</td>\n",
       "      <td>3</td>\n",
       "      <td>978301968</td>\n",
       "    </tr>\n",
       "    <tr>\n",
       "      <th>3</th>\n",
       "      <td>1</td>\n",
       "      <td>3408</td>\n",
       "      <td>4</td>\n",
       "      <td>978300275</td>\n",
       "    </tr>\n",
       "    <tr>\n",
       "      <th>4</th>\n",
       "      <td>1</td>\n",
       "      <td>2355</td>\n",
       "      <td>5</td>\n",
       "      <td>978824291</td>\n",
       "    </tr>\n",
       "  </tbody>\n",
       "</table>\n",
       "</div>"
      ],
      "text/plain": [
       "   user_id  movie_id  rating       date\n",
       "0        1      1193       5  978300760\n",
       "1        1       661       3  978302109\n",
       "2        1       914       3  978301968\n",
       "3        1      3408       4  978300275\n",
       "4        1      2355       5  978824291"
      ]
     },
     "execution_count": 160,
     "metadata": {},
     "output_type": "execute_result"
    }
   ],
   "source": [
    "# Visualizing the first 5 columns\n",
    "ratings.head()"
   ]
  },
  {
   "cell_type": "code",
   "execution_count": 161,
   "metadata": {},
   "outputs": [
    {
     "data": {
      "text/html": [
       "<div>\n",
       "<style scoped>\n",
       "    .dataframe tbody tr th:only-of-type {\n",
       "        vertical-align: middle;\n",
       "    }\n",
       "\n",
       "    .dataframe tbody tr th {\n",
       "        vertical-align: top;\n",
       "    }\n",
       "\n",
       "    .dataframe thead th {\n",
       "        text-align: right;\n",
       "    }\n",
       "</style>\n",
       "<table border=\"1\" class=\"dataframe\">\n",
       "  <thead>\n",
       "    <tr style=\"text-align: right;\">\n",
       "      <th></th>\n",
       "      <th>user_id</th>\n",
       "      <th>movie_id</th>\n",
       "      <th>rating</th>\n",
       "      <th>date</th>\n",
       "    </tr>\n",
       "  </thead>\n",
       "  <tbody>\n",
       "    <tr>\n",
       "      <th>1000204</th>\n",
       "      <td>6040</td>\n",
       "      <td>1091</td>\n",
       "      <td>1</td>\n",
       "      <td>956716541</td>\n",
       "    </tr>\n",
       "    <tr>\n",
       "      <th>1000205</th>\n",
       "      <td>6040</td>\n",
       "      <td>1094</td>\n",
       "      <td>5</td>\n",
       "      <td>956704887</td>\n",
       "    </tr>\n",
       "    <tr>\n",
       "      <th>1000206</th>\n",
       "      <td>6040</td>\n",
       "      <td>562</td>\n",
       "      <td>5</td>\n",
       "      <td>956704746</td>\n",
       "    </tr>\n",
       "    <tr>\n",
       "      <th>1000207</th>\n",
       "      <td>6040</td>\n",
       "      <td>1096</td>\n",
       "      <td>4</td>\n",
       "      <td>956715648</td>\n",
       "    </tr>\n",
       "    <tr>\n",
       "      <th>1000208</th>\n",
       "      <td>6040</td>\n",
       "      <td>1097</td>\n",
       "      <td>4</td>\n",
       "      <td>956715569</td>\n",
       "    </tr>\n",
       "  </tbody>\n",
       "</table>\n",
       "</div>"
      ],
      "text/plain": [
       "         user_id  movie_id  rating       date\n",
       "1000204     6040      1091       1  956716541\n",
       "1000205     6040      1094       5  956704887\n",
       "1000206     6040       562       5  956704746\n",
       "1000207     6040      1096       4  956715648\n",
       "1000208     6040      1097       4  956715569"
      ]
     },
     "execution_count": 161,
     "metadata": {},
     "output_type": "execute_result"
    }
   ],
   "source": [
    "# Visualizing the last 5 columns\n",
    "ratings.tail()"
   ]
  },
  {
   "cell_type": "code",
   "execution_count": 162,
   "metadata": {},
   "outputs": [
    {
     "data": {
      "text/html": [
       "<div>\n",
       "<style scoped>\n",
       "    .dataframe tbody tr th:only-of-type {\n",
       "        vertical-align: middle;\n",
       "    }\n",
       "\n",
       "    .dataframe tbody tr th {\n",
       "        vertical-align: top;\n",
       "    }\n",
       "\n",
       "    .dataframe thead th {\n",
       "        text-align: right;\n",
       "    }\n",
       "</style>\n",
       "<table border=\"1\" class=\"dataframe\">\n",
       "  <thead>\n",
       "    <tr style=\"text-align: right;\">\n",
       "      <th></th>\n",
       "      <th>user_id</th>\n",
       "      <th>movie_id</th>\n",
       "      <th>rating</th>\n",
       "      <th>date</th>\n",
       "    </tr>\n",
       "  </thead>\n",
       "  <tbody>\n",
       "    <tr>\n",
       "      <th>count</th>\n",
       "      <td>1.000209e+06</td>\n",
       "      <td>1.000209e+06</td>\n",
       "      <td>1.000209e+06</td>\n",
       "      <td>1.000209e+06</td>\n",
       "    </tr>\n",
       "    <tr>\n",
       "      <th>mean</th>\n",
       "      <td>3.024512e+03</td>\n",
       "      <td>1.865540e+03</td>\n",
       "      <td>3.581564e+00</td>\n",
       "      <td>9.722437e+08</td>\n",
       "    </tr>\n",
       "    <tr>\n",
       "      <th>std</th>\n",
       "      <td>1.728413e+03</td>\n",
       "      <td>1.096041e+03</td>\n",
       "      <td>1.117102e+00</td>\n",
       "      <td>1.215256e+07</td>\n",
       "    </tr>\n",
       "    <tr>\n",
       "      <th>min</th>\n",
       "      <td>1.000000e+00</td>\n",
       "      <td>1.000000e+00</td>\n",
       "      <td>1.000000e+00</td>\n",
       "      <td>9.567039e+08</td>\n",
       "    </tr>\n",
       "    <tr>\n",
       "      <th>25%</th>\n",
       "      <td>1.506000e+03</td>\n",
       "      <td>1.030000e+03</td>\n",
       "      <td>3.000000e+00</td>\n",
       "      <td>9.653026e+08</td>\n",
       "    </tr>\n",
       "    <tr>\n",
       "      <th>50%</th>\n",
       "      <td>3.070000e+03</td>\n",
       "      <td>1.835000e+03</td>\n",
       "      <td>4.000000e+00</td>\n",
       "      <td>9.730180e+08</td>\n",
       "    </tr>\n",
       "    <tr>\n",
       "      <th>75%</th>\n",
       "      <td>4.476000e+03</td>\n",
       "      <td>2.770000e+03</td>\n",
       "      <td>4.000000e+00</td>\n",
       "      <td>9.752209e+08</td>\n",
       "    </tr>\n",
       "    <tr>\n",
       "      <th>max</th>\n",
       "      <td>6.040000e+03</td>\n",
       "      <td>3.952000e+03</td>\n",
       "      <td>5.000000e+00</td>\n",
       "      <td>1.046455e+09</td>\n",
       "    </tr>\n",
       "  </tbody>\n",
       "</table>\n",
       "</div>"
      ],
      "text/plain": [
       "            user_id      movie_id        rating          date\n",
       "count  1.000209e+06  1.000209e+06  1.000209e+06  1.000209e+06\n",
       "mean   3.024512e+03  1.865540e+03  3.581564e+00  9.722437e+08\n",
       "std    1.728413e+03  1.096041e+03  1.117102e+00  1.215256e+07\n",
       "min    1.000000e+00  1.000000e+00  1.000000e+00  9.567039e+08\n",
       "25%    1.506000e+03  1.030000e+03  3.000000e+00  9.653026e+08\n",
       "50%    3.070000e+03  1.835000e+03  4.000000e+00  9.730180e+08\n",
       "75%    4.476000e+03  2.770000e+03  4.000000e+00  9.752209e+08\n",
       "max    6.040000e+03  3.952000e+03  5.000000e+00  1.046455e+09"
      ]
     },
     "execution_count": 162,
     "metadata": {},
     "output_type": "execute_result"
    }
   ],
   "source": [
    "# Statistics\n",
    "ratings.describe()"
   ]
  },
  {
   "cell_type": "code",
   "execution_count": 163,
   "metadata": {},
   "outputs": [
    {
     "name": "stdout",
     "output_type": "stream",
     "text": [
      "<class 'pandas.core.frame.DataFrame'>\n",
      "RangeIndex: 1000209 entries, 0 to 1000208\n",
      "Data columns (total 4 columns):\n",
      "user_id     1000209 non-null int64\n",
      "movie_id    1000209 non-null int64\n",
      "rating      1000209 non-null int64\n",
      "date        1000209 non-null int64\n",
      "dtypes: int64(4)\n",
      "memory usage: 30.5 MB\n"
     ]
    }
   ],
   "source": [
    "# Visualizng the information of data types, sizes...\n",
    "ratings.info()"
   ]
  },
  {
   "cell_type": "code",
   "execution_count": 164,
   "metadata": {},
   "outputs": [
    {
     "data": {
      "text/plain": [
       "4169    2314\n",
       "1680    1850\n",
       "4277    1743\n",
       "1941    1595\n",
       "1181    1521\n",
       "889     1518\n",
       "3618    1344\n",
       "2063    1323\n",
       "1150    1302\n",
       "1015    1286\n",
       "Name: user_id, dtype: int64"
      ]
     },
     "execution_count": 164,
     "metadata": {},
     "output_type": "execute_result"
    }
   ],
   "source": [
    "# Information about the first 10 Users on Rating Data\n",
    "ratings['user_id'].value_counts().head(10)"
   ]
  },
  {
   "cell_type": "code",
   "execution_count": 165,
   "metadata": {},
   "outputs": [
    {
     "data": {
      "text/plain": [
       "4    348971\n",
       "3    261197\n",
       "5    226310\n",
       "2    107557\n",
       "1     56174\n",
       "Name: rating, dtype: int64"
      ]
     },
     "execution_count": 165,
     "metadata": {},
     "output_type": "execute_result"
    }
   ],
   "source": [
    "# Visualizing the number of rating for each scale\n",
    "ratings['rating'].value_counts()"
   ]
  },
  {
   "cell_type": "markdown",
   "metadata": {},
   "source": [
    "## <b> Exploratory Data Analysis"
   ]
  },
  {
   "cell_type": "markdown",
   "metadata": {},
   "source": [
    "#### <b> Looking for the missing values"
   ]
  },
  {
   "cell_type": "code",
   "execution_count": 34,
   "metadata": {},
   "outputs": [
    {
     "data": {
      "text/plain": [
       "<matplotlib.axes._subplots.AxesSubplot at 0x7fab0f9fb748>"
      ]
     },
     "execution_count": 34,
     "metadata": {},
     "output_type": "execute_result"
    },
    {
     "data": {
      "image/png": "[encoded data removed]",
      "text/plain": [
       "<Figure size 720x432 with 2 Axes>"
      ]
     },
     "metadata": {
      "needs_background": "light"
     },
     "output_type": "display_data"
    }
   ],
   "source": [
    "# Missing data on Heatmap (for a clean visualization)\n",
    "plt.figure(figsize = (10,6))\n",
    "sea.heatmap(ratings.isnull(),yticklabels=False,cbar=True,cmap='YlGnBu')"
   ]
  },
  {
   "cell_type": "markdown",
   "metadata": {},
   "source": [
    "<b> Solid color indicates no missing values"
   ]
  },
  {
   "cell_type": "markdown",
   "metadata": {},
   "source": [
    "#### <b>  Transform the timestamp values in Year"
   ]
  },
  {
   "cell_type": "code",
   "execution_count": 166,
   "metadata": {},
   "outputs": [
    {
     "data": {
      "text/html": [
       "<div>\n",
       "<style scoped>\n",
       "    .dataframe tbody tr th:only-of-type {\n",
       "        vertical-align: middle;\n",
       "    }\n",
       "\n",
       "    .dataframe tbody tr th {\n",
       "        vertical-align: top;\n",
       "    }\n",
       "\n",
       "    .dataframe thead th {\n",
       "        text-align: right;\n",
       "    }\n",
       "</style>\n",
       "<table border=\"1\" class=\"dataframe\">\n",
       "  <thead>\n",
       "    <tr style=\"text-align: right;\">\n",
       "      <th></th>\n",
       "      <th>user_id</th>\n",
       "      <th>movie_id</th>\n",
       "      <th>rating</th>\n",
       "      <th>date</th>\n",
       "    </tr>\n",
       "  </thead>\n",
       "  <tbody>\n",
       "    <tr>\n",
       "      <th>0</th>\n",
       "      <td>1</td>\n",
       "      <td>1193</td>\n",
       "      <td>5</td>\n",
       "      <td>978300760</td>\n",
       "    </tr>\n",
       "    <tr>\n",
       "      <th>1</th>\n",
       "      <td>1</td>\n",
       "      <td>661</td>\n",
       "      <td>3</td>\n",
       "      <td>978302109</td>\n",
       "    </tr>\n",
       "    <tr>\n",
       "      <th>2</th>\n",
       "      <td>1</td>\n",
       "      <td>914</td>\n",
       "      <td>3</td>\n",
       "      <td>978301968</td>\n",
       "    </tr>\n",
       "    <tr>\n",
       "      <th>3</th>\n",
       "      <td>1</td>\n",
       "      <td>3408</td>\n",
       "      <td>4</td>\n",
       "      <td>978300275</td>\n",
       "    </tr>\n",
       "    <tr>\n",
       "      <th>4</th>\n",
       "      <td>1</td>\n",
       "      <td>2355</td>\n",
       "      <td>5</td>\n",
       "      <td>978824291</td>\n",
       "    </tr>\n",
       "  </tbody>\n",
       "</table>\n",
       "</div>"
      ],
      "text/plain": [
       "   user_id  movie_id  rating       date\n",
       "0        1      1193       5  978300760\n",
       "1        1       661       3  978302109\n",
       "2        1       914       3  978301968\n",
       "3        1      3408       4  978300275\n",
       "4        1      2355       5  978824291"
      ]
     },
     "execution_count": 166,
     "metadata": {},
     "output_type": "execute_result"
    }
   ],
   "source": [
    "ratings.head()"
   ]
  },
  {
   "cell_type": "code",
   "execution_count": 167,
   "metadata": {},
   "outputs": [],
   "source": [
    "ratings['date'] = ratings['date'].apply(lambda x: time.strftime('%Y', time.localtime(x)))"
   ]
  },
  {
   "cell_type": "code",
   "execution_count": 168,
   "metadata": {},
   "outputs": [
    {
     "data": {
      "text/html": [
       "<div>\n",
       "<style scoped>\n",
       "    .dataframe tbody tr th:only-of-type {\n",
       "        vertical-align: middle;\n",
       "    }\n",
       "\n",
       "    .dataframe tbody tr th {\n",
       "        vertical-align: top;\n",
       "    }\n",
       "\n",
       "    .dataframe thead th {\n",
       "        text-align: right;\n",
       "    }\n",
       "</style>\n",
       "<table border=\"1\" class=\"dataframe\">\n",
       "  <thead>\n",
       "    <tr style=\"text-align: right;\">\n",
       "      <th></th>\n",
       "      <th>user_id</th>\n",
       "      <th>movie_id</th>\n",
       "      <th>rating</th>\n",
       "      <th>date</th>\n",
       "    </tr>\n",
       "  </thead>\n",
       "  <tbody>\n",
       "    <tr>\n",
       "      <th>0</th>\n",
       "      <td>1</td>\n",
       "      <td>1193</td>\n",
       "      <td>5</td>\n",
       "      <td>2000</td>\n",
       "    </tr>\n",
       "    <tr>\n",
       "      <th>1</th>\n",
       "      <td>1</td>\n",
       "      <td>661</td>\n",
       "      <td>3</td>\n",
       "      <td>2000</td>\n",
       "    </tr>\n",
       "    <tr>\n",
       "      <th>2</th>\n",
       "      <td>1</td>\n",
       "      <td>914</td>\n",
       "      <td>3</td>\n",
       "      <td>2000</td>\n",
       "    </tr>\n",
       "    <tr>\n",
       "      <th>3</th>\n",
       "      <td>1</td>\n",
       "      <td>3408</td>\n",
       "      <td>4</td>\n",
       "      <td>2000</td>\n",
       "    </tr>\n",
       "    <tr>\n",
       "      <th>4</th>\n",
       "      <td>1</td>\n",
       "      <td>2355</td>\n",
       "      <td>5</td>\n",
       "      <td>2001</td>\n",
       "    </tr>\n",
       "  </tbody>\n",
       "</table>\n",
       "</div>"
      ],
      "text/plain": [
       "   user_id  movie_id  rating  date\n",
       "0        1      1193       5  2000\n",
       "1        1       661       3  2000\n",
       "2        1       914       3  2000\n",
       "3        1      3408       4  2000\n",
       "4        1      2355       5  2001"
      ]
     },
     "execution_count": 168,
     "metadata": {},
     "output_type": "execute_result"
    }
   ],
   "source": [
    "ratings.head()"
   ]
  },
  {
   "cell_type": "markdown",
   "metadata": {},
   "source": [
    "#### <b> Data Visualization"
   ]
  },
  {
   "cell_type": "code",
   "execution_count": 169,
   "metadata": {},
   "outputs": [
    {
     "data": {
      "image/png": "[encoded data removed]",
      "text/plain": [
       "<Figure size 432x288 with 1 Axes>"
      ]
     },
     "metadata": {
      "needs_background": "light"
     },
     "output_type": "display_data"
    }
   ],
   "source": [
    "# Counting of rating \n",
    "sea.countplot(x='rating',data=ratings, palette='coolwarm')\n",
    "plt.ylabel(\"Counting of Ratings\")\n",
    "sea.despine(left=True)"
   ]
  },
  {
   "cell_type": "markdown",
   "metadata": {},
   "source": [
    "## <b> Neural Net"
   ]
  },
  {
   "cell_type": "markdown",
   "metadata": {},
   "source": [
    "#### Creating the Utility Matrix"
   ]
  },
  {
   "cell_type": "markdown",
   "metadata": {},
   "source": [
    "We're creating a matrix full of nan values, that corresponds to not rated movies "
   ]
  },
  {
   "cell_type": "code",
   "execution_count": 170,
   "metadata": {},
   "outputs": [
    {
     "name": "stdout",
     "output_type": "stream",
     "text": [
      " Ratings shape =  (1000209, 4) \n",
      "\n",
      " Total of users =  6040 \n",
      "\n",
      " Total of movies =  3706 \n",
      "\n",
      " Size of the Matrix = 22384240\n"
     ]
    }
   ],
   "source": [
    "# Looking for some information about data\n",
    "users = len(ratings['user_id'].unique())\n",
    "movies = len(ratings['movie_id'].unique())\n",
    "matrix = users * movies\n",
    "print(\" Ratings shape = \", ratings.shape, \"\\n\\n\", \n",
    "      \"Total of users = \", users, \"\\n\\n\", \n",
    "      \"Total of movies = \", movies, \"\\n\\n\",\n",
    "     \"Size of the Matrix =\", matrix)"
   ]
  },
  {
   "cell_type": "code",
   "execution_count": 171,
   "metadata": {},
   "outputs": [],
   "source": [
    "# Matrix organization\n",
    "index=list(ratings['user_id'].unique())\n",
    "columns=list(ratings['movie_id'].unique())\n",
    "index=sorted(index)\n",
    "columns=sorted(columns)"
   ]
  },
  {
   "cell_type": "code",
   "execution_count": 172,
   "metadata": {},
   "outputs": [],
   "source": [
    "# Creating the new dataframe (user-item rating matrix)\n",
    "data = pd.pivot_table(data=ratings,values='rating',index='user_id',columns='movie_id').fillna(0)"
   ]
  },
  {
   "cell_type": "code",
   "execution_count": 173,
   "metadata": {},
   "outputs": [
    {
     "data": {
      "text/html": [
       "<div>\n",
       "<style scoped>\n",
       "    .dataframe tbody tr th:only-of-type {\n",
       "        vertical-align: middle;\n",
       "    }\n",
       "\n",
       "    .dataframe tbody tr th {\n",
       "        vertical-align: top;\n",
       "    }\n",
       "\n",
       "    .dataframe thead th {\n",
       "        text-align: right;\n",
       "    }\n",
       "</style>\n",
       "<table border=\"1\" class=\"dataframe\">\n",
       "  <thead>\n",
       "    <tr style=\"text-align: right;\">\n",
       "      <th>movie_id</th>\n",
       "      <th>1</th>\n",
       "      <th>2</th>\n",
       "      <th>3</th>\n",
       "      <th>4</th>\n",
       "      <th>5</th>\n",
       "      <th>6</th>\n",
       "      <th>7</th>\n",
       "      <th>8</th>\n",
       "      <th>9</th>\n",
       "      <th>10</th>\n",
       "      <th>...</th>\n",
       "      <th>3943</th>\n",
       "      <th>3944</th>\n",
       "      <th>3945</th>\n",
       "      <th>3946</th>\n",
       "      <th>3947</th>\n",
       "      <th>3948</th>\n",
       "      <th>3949</th>\n",
       "      <th>3950</th>\n",
       "      <th>3951</th>\n",
       "      <th>3952</th>\n",
       "    </tr>\n",
       "    <tr>\n",
       "      <th>user_id</th>\n",
       "      <th></th>\n",
       "      <th></th>\n",
       "      <th></th>\n",
       "      <th></th>\n",
       "      <th></th>\n",
       "      <th></th>\n",
       "      <th></th>\n",
       "      <th></th>\n",
       "      <th></th>\n",
       "      <th></th>\n",
       "      <th></th>\n",
       "      <th></th>\n",
       "      <th></th>\n",
       "      <th></th>\n",
       "      <th></th>\n",
       "      <th></th>\n",
       "      <th></th>\n",
       "      <th></th>\n",
       "      <th></th>\n",
       "      <th></th>\n",
       "      <th></th>\n",
       "    </tr>\n",
       "  </thead>\n",
       "  <tbody>\n",
       "    <tr>\n",
       "      <th>1</th>\n",
       "      <td>5.0</td>\n",
       "      <td>0.0</td>\n",
       "      <td>0.0</td>\n",
       "      <td>0.0</td>\n",
       "      <td>0.0</td>\n",
       "      <td>0.0</td>\n",
       "      <td>0.0</td>\n",
       "      <td>0.0</td>\n",
       "      <td>0.0</td>\n",
       "      <td>0.0</td>\n",
       "      <td>...</td>\n",
       "      <td>0.0</td>\n",
       "      <td>0.0</td>\n",
       "      <td>0.0</td>\n",
       "      <td>0.0</td>\n",
       "      <td>0.0</td>\n",
       "      <td>0.0</td>\n",
       "      <td>0.0</td>\n",
       "      <td>0.0</td>\n",
       "      <td>0.0</td>\n",
       "      <td>0.0</td>\n",
       "    </tr>\n",
       "    <tr>\n",
       "      <th>2</th>\n",
       "      <td>0.0</td>\n",
       "      <td>0.0</td>\n",
       "      <td>0.0</td>\n",
       "      <td>0.0</td>\n",
       "      <td>0.0</td>\n",
       "      <td>0.0</td>\n",
       "      <td>0.0</td>\n",
       "      <td>0.0</td>\n",
       "      <td>0.0</td>\n",
       "      <td>0.0</td>\n",
       "      <td>...</td>\n",
       "      <td>0.0</td>\n",
       "      <td>0.0</td>\n",
       "      <td>0.0</td>\n",
       "      <td>0.0</td>\n",
       "      <td>0.0</td>\n",
       "      <td>0.0</td>\n",
       "      <td>0.0</td>\n",
       "      <td>0.0</td>\n",
       "      <td>0.0</td>\n",
       "      <td>0.0</td>\n",
       "    </tr>\n",
       "    <tr>\n",
       "      <th>3</th>\n",
       "      <td>0.0</td>\n",
       "      <td>0.0</td>\n",
       "      <td>0.0</td>\n",
       "      <td>0.0</td>\n",
       "      <td>0.0</td>\n",
       "      <td>0.0</td>\n",
       "      <td>0.0</td>\n",
       "      <td>0.0</td>\n",
       "      <td>0.0</td>\n",
       "      <td>0.0</td>\n",
       "      <td>...</td>\n",
       "      <td>0.0</td>\n",
       "      <td>0.0</td>\n",
       "      <td>0.0</td>\n",
       "      <td>0.0</td>\n",
       "      <td>0.0</td>\n",
       "      <td>0.0</td>\n",
       "      <td>0.0</td>\n",
       "      <td>0.0</td>\n",
       "      <td>0.0</td>\n",
       "      <td>0.0</td>\n",
       "    </tr>\n",
       "    <tr>\n",
       "      <th>4</th>\n",
       "      <td>0.0</td>\n",
       "      <td>0.0</td>\n",
       "      <td>0.0</td>\n",
       "      <td>0.0</td>\n",
       "      <td>0.0</td>\n",
       "      <td>0.0</td>\n",
       "      <td>0.0</td>\n",
       "      <td>0.0</td>\n",
       "      <td>0.0</td>\n",
       "      <td>0.0</td>\n",
       "      <td>...</td>\n",
       "      <td>0.0</td>\n",
       "      <td>0.0</td>\n",
       "      <td>0.0</td>\n",
       "      <td>0.0</td>\n",
       "      <td>0.0</td>\n",
       "      <td>0.0</td>\n",
       "      <td>0.0</td>\n",
       "      <td>0.0</td>\n",
       "      <td>0.0</td>\n",
       "      <td>0.0</td>\n",
       "    </tr>\n",
       "    <tr>\n",
       "      <th>5</th>\n",
       "      <td>0.0</td>\n",
       "      <td>0.0</td>\n",
       "      <td>0.0</td>\n",
       "      <td>0.0</td>\n",
       "      <td>0.0</td>\n",
       "      <td>2.0</td>\n",
       "      <td>0.0</td>\n",
       "      <td>0.0</td>\n",
       "      <td>0.0</td>\n",
       "      <td>0.0</td>\n",
       "      <td>...</td>\n",
       "      <td>0.0</td>\n",
       "      <td>0.0</td>\n",
       "      <td>0.0</td>\n",
       "      <td>0.0</td>\n",
       "      <td>0.0</td>\n",
       "      <td>0.0</td>\n",
       "      <td>0.0</td>\n",
       "      <td>0.0</td>\n",
       "      <td>0.0</td>\n",
       "      <td>0.0</td>\n",
       "    </tr>\n",
       "  </tbody>\n",
       "</table>\n",
       "<p>5 rows × 3706 columns</p>\n",
       "</div>"
      ],
      "text/plain": [
       "movie_id  1     2     3     4     5     6     7     8     9     10    ...  \\\n",
       "user_id                                                               ...   \n",
       "1          5.0   0.0   0.0   0.0   0.0   0.0   0.0   0.0   0.0   0.0  ...   \n",
       "2          0.0   0.0   0.0   0.0   0.0   0.0   0.0   0.0   0.0   0.0  ...   \n",
       "3          0.0   0.0   0.0   0.0   0.0   0.0   0.0   0.0   0.0   0.0  ...   \n",
       "4          0.0   0.0   0.0   0.0   0.0   0.0   0.0   0.0   0.0   0.0  ...   \n",
       "5          0.0   0.0   0.0   0.0   0.0   2.0   0.0   0.0   0.0   0.0  ...   \n",
       "\n",
       "movie_id  3943  3944  3945  3946  3947  3948  3949  3950  3951  3952  \n",
       "user_id                                                               \n",
       "1          0.0   0.0   0.0   0.0   0.0   0.0   0.0   0.0   0.0   0.0  \n",
       "2          0.0   0.0   0.0   0.0   0.0   0.0   0.0   0.0   0.0   0.0  \n",
       "3          0.0   0.0   0.0   0.0   0.0   0.0   0.0   0.0   0.0   0.0  \n",
       "4          0.0   0.0   0.0   0.0   0.0   0.0   0.0   0.0   0.0   0.0  \n",
       "5          0.0   0.0   0.0   0.0   0.0   0.0   0.0   0.0   0.0   0.0  \n",
       "\n",
       "[5 rows x 3706 columns]"
      ]
     },
     "execution_count": 173,
     "metadata": {},
     "output_type": "execute_result"
    }
   ],
   "source": [
    "# Looking the data\n",
    "data.head()"
   ]
  },
  {
   "cell_type": "code",
   "execution_count": 174,
   "metadata": {},
   "outputs": [],
   "source": [
    "ratings.user_id = ratings.user_id.astype('category').cat.codes.values\n",
    "ratings.movie_id = ratings.movie_id.astype('category').cat.codes.values"
   ]
  },
  {
   "cell_type": "code",
   "execution_count": 175,
   "metadata": {},
   "outputs": [
    {
     "data": {
      "text/html": [
       "<div>\n",
       "<style scoped>\n",
       "    .dataframe tbody tr th:only-of-type {\n",
       "        vertical-align: middle;\n",
       "    }\n",
       "\n",
       "    .dataframe tbody tr th {\n",
       "        vertical-align: top;\n",
       "    }\n",
       "\n",
       "    .dataframe thead th {\n",
       "        text-align: right;\n",
       "    }\n",
       "</style>\n",
       "<table border=\"1\" class=\"dataframe\">\n",
       "  <thead>\n",
       "    <tr style=\"text-align: right;\">\n",
       "      <th></th>\n",
       "      <th>user_id</th>\n",
       "      <th>movie_id</th>\n",
       "      <th>rating</th>\n",
       "      <th>date</th>\n",
       "    </tr>\n",
       "  </thead>\n",
       "  <tbody>\n",
       "    <tr>\n",
       "      <th>0</th>\n",
       "      <td>0</td>\n",
       "      <td>1104</td>\n",
       "      <td>5</td>\n",
       "      <td>2000</td>\n",
       "    </tr>\n",
       "    <tr>\n",
       "      <th>1</th>\n",
       "      <td>0</td>\n",
       "      <td>639</td>\n",
       "      <td>3</td>\n",
       "      <td>2000</td>\n",
       "    </tr>\n",
       "    <tr>\n",
       "      <th>2</th>\n",
       "      <td>0</td>\n",
       "      <td>853</td>\n",
       "      <td>3</td>\n",
       "      <td>2000</td>\n",
       "    </tr>\n",
       "    <tr>\n",
       "      <th>3</th>\n",
       "      <td>0</td>\n",
       "      <td>3177</td>\n",
       "      <td>4</td>\n",
       "      <td>2000</td>\n",
       "    </tr>\n",
       "    <tr>\n",
       "      <th>4</th>\n",
       "      <td>0</td>\n",
       "      <td>2162</td>\n",
       "      <td>5</td>\n",
       "      <td>2001</td>\n",
       "    </tr>\n",
       "  </tbody>\n",
       "</table>\n",
       "</div>"
      ],
      "text/plain": [
       "   user_id  movie_id  rating  date\n",
       "0        0      1104       5  2000\n",
       "1        0       639       3  2000\n",
       "2        0       853       3  2000\n",
       "3        0      3177       4  2000\n",
       "4        0      2162       5  2001"
      ]
     },
     "execution_count": 175,
     "metadata": {},
     "output_type": "execute_result"
    }
   ],
   "source": [
    "ratings.head()"
   ]
  },
  {
   "cell_type": "code",
   "execution_count": 176,
   "metadata": {},
   "outputs": [],
   "source": [
    "ratings = ratings.drop('date', axis = 1)"
   ]
  },
  {
   "cell_type": "code",
   "execution_count": 196,
   "metadata": {},
   "outputs": [],
   "source": [
    "from sklearn.model_selection import train_test_split\n",
    "train, test = train_test_split(ratings, test_size=0.2)"
   ]
  },
  {
   "cell_type": "code",
   "execution_count": 197,
   "metadata": {},
   "outputs": [
    {
     "name": "stdout",
     "output_type": "stream",
     "text": [
      "(800167, 3) (200042, 3)\n"
     ]
    }
   ],
   "source": [
    "print(train.shape, test.shape)"
   ]
  },
  {
   "cell_type": "code",
   "execution_count": 199,
   "metadata": {},
   "outputs": [],
   "source": [
    "movie_input = Input(shape=[1], name=\"Movie_Input\")\n",
    "movie_embedding = Embedding(movies+1, 3, name=\"Movie_Embedding\")(movie_input)\n",
    "movie_vec = Flatten(name=\"Flatten_Movie\")(movie_embedding)"
   ]
  },
  {
   "cell_type": "code",
   "execution_count": 200,
   "metadata": {},
   "outputs": [],
   "source": [
    "user_input = Input(shape=[1], name=\"User_Input\")\n",
    "user_embedding = Embedding(users+1, 3, name=\"User_Embedding\")(user_input)\n",
    "user_vec = Flatten(name=\"Flatten_User\")(user_embedding)\n",
    "\n",
    "prod = Dot(name=\"Dot_Product\", axes=1)([movie_vec, user_vec])"
   ]
  },
  {
   "cell_type": "code",
   "execution_count": 201,
   "metadata": {},
   "outputs": [],
   "source": [
    "model = Model([user_input, movie_input], prod)"
   ]
  },
  {
   "cell_type": "code",
   "execution_count": 232,
   "metadata": {},
   "outputs": [],
   "source": [
    "model.compile( loss='mse', optimizer='adam', metrics=['mse', 'mae', 'mape', 'cosine'])"
   ]
  },
  {
   "cell_type": "code",
   "execution_count": 233,
   "metadata": {},
   "outputs": [
    {
     "name": "stdout",
     "output_type": "stream",
     "text": [
      "__________________________________________________________________________________________________\n",
      "Layer (type)                    Output Shape         Param #     Connected to                     \n",
      "==================================================================================================\n",
      "Movie_Input (InputLayer)        (None, 1)            0                                            \n",
      "__________________________________________________________________________________________________\n",
      "User_Input (InputLayer)         (None, 1)            0                                            \n",
      "__________________________________________________________________________________________________\n",
      "Movie_Embedding (Embedding)     (None, 1, 3)         11121       Movie_Input[0][0]                \n",
      "__________________________________________________________________________________________________\n",
      "User_Embedding (Embedding)      (None, 1, 3)         18123       User_Input[0][0]                 \n",
      "__________________________________________________________________________________________________\n",
      "Flatten_Movie (Flatten)         (None, 3)            0           Movie_Embedding[0][0]            \n",
      "__________________________________________________________________________________________________\n",
      "Flatten_User (Flatten)          (None, 3)            0           User_Embedding[0][0]             \n",
      "__________________________________________________________________________________________________\n",
      "Dot_Product (Dot)               (None, 1)            0           Flatten_Movie[0][0]              \n",
      "                                                                 Flatten_User[0][0]               \n",
      "__________________________________________________________________________________________________\n",
      "dense_15 (Dense)                (None, 128)          256         Dot_Product[0][0]                \n",
      "__________________________________________________________________________________________________\n",
      "dense_16 (Dense)                (None, 1)            129         dense_15[0][0]                   \n",
      "==================================================================================================\n",
      "Total params: 29,629\n",
      "Trainable params: 29,629\n",
      "Non-trainable params: 0\n",
      "__________________________________________________________________________________________________\n"
     ]
    }
   ],
   "source": [
    "model.summary()"
   ]
  },
  {
   "cell_type": "code",
   "execution_count": 234,
   "metadata": {},
   "outputs": [
    {
     "data": {
      "image/svg+xml": [
       "<svg height=\"410pt\" viewBox=\"0.00 0.00 401.50 410.00\" width=\"402pt\" xmlns=\"http://www.w3.org/2000/svg\" xmlns:xlink=\"http://www.w3.org/1999/xlink\">\n",
       "<g class=\"graph\" id=\"graph0\" transform=\"scale(1 1) rotate(0) translate(4 406)\">\n",
       "<title>G</title>\n",
       "<polygon fill=\"#ffffff\" points=\"-4,4 -4,-406 397.5,-406 397.5,4 -4,4\" stroke=\"transparent\"/>\n",
       "<!-- 140370248839064 -->\n",
       "<g class=\"node\" id=\"node1\">\n",
       "<title>140370248839064</title>\n",
       "<polygon fill=\"none\" points=\"19,-365.5 19,-401.5 174,-401.5 174,-365.5 19,-365.5\" stroke=\"#000000\"/>\n",
       "<text fill=\"#000000\" font-family=\"Times,serif\" font-size=\"14.00\" text-anchor=\"middle\" x=\"96.5\" y=\"-379.8\">Movie_Input: InputLayer</text>\n",
       "</g>\n",
       "<!-- 140370248836152 -->\n",
       "<g class=\"node\" id=\"node3\">\n",
       "<title>140370248836152</title>\n",
       "<polygon fill=\"none\" points=\"0,-292.5 0,-328.5 193,-328.5 193,-292.5 0,-292.5\" stroke=\"#000000\"/>\n",
       "<text fill=\"#000000\" font-family=\"Times,serif\" font-size=\"14.00\" text-anchor=\"middle\" x=\"96.5\" y=\"-306.8\">Movie_Embedding: Embedding</text>\n",
       "</g>\n",
       "<!-- 140370248839064&#45;&gt;140370248836152 -->\n",
       "<g class=\"edge\" id=\"edge1\">\n",
       "<title>140370248839064-&gt;140370248836152</title>\n",
       "<path d=\"M96.5,-365.4551C96.5,-357.3828 96.5,-347.6764 96.5,-338.6817\" fill=\"none\" stroke=\"#000000\"/>\n",
       "<polygon fill=\"#000000\" points=\"100.0001,-338.5903 96.5,-328.5904 93.0001,-338.5904 100.0001,-338.5903\" stroke=\"#000000\"/>\n",
       "</g>\n",
       "<!-- 140370249126968 -->\n",
       "<g class=\"node\" id=\"node2\">\n",
       "<title>140370249126968</title>\n",
       "<polygon fill=\"none\" points=\"230,-365.5 230,-401.5 375,-401.5 375,-365.5 230,-365.5\" stroke=\"#000000\"/>\n",
       "<text fill=\"#000000\" font-family=\"Times,serif\" font-size=\"14.00\" text-anchor=\"middle\" x=\"302.5\" y=\"-379.8\">User_Input: InputLayer</text>\n",
       "</g>\n",
       "<!-- 140370249126128 -->\n",
       "<g class=\"node\" id=\"node4\">\n",
       "<title>140370249126128</title>\n",
       "<polygon fill=\"none\" points=\"211.5,-292.5 211.5,-328.5 393.5,-328.5 393.5,-292.5 211.5,-292.5\" stroke=\"#000000\"/>\n",
       "<text fill=\"#000000\" font-family=\"Times,serif\" font-size=\"14.00\" text-anchor=\"middle\" x=\"302.5\" y=\"-306.8\">User_Embedding: Embedding</text>\n",
       "</g>\n",
       "<!-- 140370249126968&#45;&gt;140370249126128 -->\n",
       "<g class=\"edge\" id=\"edge2\">\n",
       "<title>140370249126968-&gt;140370249126128</title>\n",
       "<path d=\"M302.5,-365.4551C302.5,-357.3828 302.5,-347.6764 302.5,-338.6817\" fill=\"none\" stroke=\"#000000\"/>\n",
       "<polygon fill=\"#000000\" points=\"306.0001,-338.5903 302.5,-328.5904 299.0001,-338.5904 306.0001,-338.5903\" stroke=\"#000000\"/>\n",
       "</g>\n",
       "<!-- 140370248838728 -->\n",
       "<g class=\"node\" id=\"node5\">\n",
       "<title>140370248838728</title>\n",
       "<polygon fill=\"none\" points=\"50.5,-219.5 50.5,-255.5 192.5,-255.5 192.5,-219.5 50.5,-219.5\" stroke=\"#000000\"/>\n",
       "<text fill=\"#000000\" font-family=\"Times,serif\" font-size=\"14.00\" text-anchor=\"middle\" x=\"121.5\" y=\"-233.8\">Flatten_Movie: Flatten</text>\n",
       "</g>\n",
       "<!-- 140370248836152&#45;&gt;140370248838728 -->\n",
       "<g class=\"edge\" id=\"edge3\">\n",
       "<title>140370248836152-&gt;140370248838728</title>\n",
       "<path d=\"M102.6798,-292.4551C105.5043,-284.2074 108.9132,-274.2536 112.0493,-265.0962\" fill=\"none\" stroke=\"#000000\"/>\n",
       "<polygon fill=\"#000000\" points=\"115.3759,-266.185 115.3047,-255.5904 108.7535,-263.917 115.3759,-266.185\" stroke=\"#000000\"/>\n",
       "</g>\n",
       "<!-- 140370249127248 -->\n",
       "<g class=\"node\" id=\"node6\">\n",
       "<title>140370249127248</title>\n",
       "<polygon fill=\"none\" points=\"224,-219.5 224,-255.5 355,-255.5 355,-219.5 224,-219.5\" stroke=\"#000000\"/>\n",
       "<text fill=\"#000000\" font-family=\"Times,serif\" font-size=\"14.00\" text-anchor=\"middle\" x=\"289.5\" y=\"-233.8\">Flatten_User: Flatten</text>\n",
       "</g>\n",
       "<!-- 140370249126128&#45;&gt;140370249127248 -->\n",
       "<g class=\"edge\" id=\"edge4\">\n",
       "<title>140370249126128-&gt;140370249127248</title>\n",
       "<path d=\"M299.2865,-292.4551C297.849,-284.3828 296.1205,-274.6764 294.5187,-265.6817\" fill=\"none\" stroke=\"#000000\"/>\n",
       "<polygon fill=\"#000000\" points=\"297.9207,-264.8218 292.7216,-255.5904 291.0291,-266.0491 297.9207,-264.8218\" stroke=\"#000000\"/>\n",
       "</g>\n",
       "<!-- 140370475247432 -->\n",
       "<g class=\"node\" id=\"node7\">\n",
       "<title>140370475247432</title>\n",
       "<polygon fill=\"none\" points=\"142,-146.5 142,-182.5 255,-182.5 255,-146.5 142,-146.5\" stroke=\"#000000\"/>\n",
       "<text fill=\"#000000\" font-family=\"Times,serif\" font-size=\"14.00\" text-anchor=\"middle\" x=\"198.5\" y=\"-160.8\">Dot_Product: Dot</text>\n",
       "</g>\n",
       "<!-- 140370248838728&#45;&gt;140370475247432 -->\n",
       "<g class=\"edge\" id=\"edge5\">\n",
       "<title>140370248838728-&gt;140370475247432</title>\n",
       "<path d=\"M140.5337,-219.4551C150.0663,-210.4177 161.7595,-199.3319 172.1408,-189.4899\" fill=\"none\" stroke=\"#000000\"/>\n",
       "<polygon fill=\"#000000\" points=\"174.5693,-192.0104 179.4184,-182.5904 169.7533,-186.9305 174.5693,-192.0104\" stroke=\"#000000\"/>\n",
       "</g>\n",
       "<!-- 140370249127248&#45;&gt;140370475247432 -->\n",
       "<g class=\"edge\" id=\"edge6\">\n",
       "<title>140370249127248-&gt;140370475247432</title>\n",
       "<path d=\"M267.0056,-219.4551C255.5211,-210.2422 241.383,-198.9006 228.9389,-188.918\" fill=\"none\" stroke=\"#000000\"/>\n",
       "<polygon fill=\"#000000\" points=\"231.0414,-186.1177 221.051,-182.5904 226.6612,-191.5779 231.0414,-186.1177\" stroke=\"#000000\"/>\n",
       "</g>\n",
       "<!-- 140370241172592 -->\n",
       "<g class=\"node\" id=\"node8\">\n",
       "<title>140370241172592</title>\n",
       "<polygon fill=\"none\" points=\"144,-73.5 144,-109.5 253,-109.5 253,-73.5 144,-73.5\" stroke=\"#000000\"/>\n",
       "<text fill=\"#000000\" font-family=\"Times,serif\" font-size=\"14.00\" text-anchor=\"middle\" x=\"198.5\" y=\"-87.8\">dense_15: Dense</text>\n",
       "</g>\n",
       "<!-- 140370475247432&#45;&gt;140370241172592 -->\n",
       "<g class=\"edge\" id=\"edge7\">\n",
       "<title>140370475247432-&gt;140370241172592</title>\n",
       "<path d=\"M198.5,-146.4551C198.5,-138.3828 198.5,-128.6764 198.5,-119.6817\" fill=\"none\" stroke=\"#000000\"/>\n",
       "<polygon fill=\"#000000\" points=\"202.0001,-119.5903 198.5,-109.5904 195.0001,-119.5904 202.0001,-119.5903\" stroke=\"#000000\"/>\n",
       "</g>\n",
       "<!-- 140370241172704 -->\n",
       "<g class=\"node\" id=\"node9\">\n",
       "<title>140370241172704</title>\n",
       "<polygon fill=\"none\" points=\"144,-.5 144,-36.5 253,-36.5 253,-.5 144,-.5\" stroke=\"#000000\"/>\n",
       "<text fill=\"#000000\" font-family=\"Times,serif\" font-size=\"14.00\" text-anchor=\"middle\" x=\"198.5\" y=\"-14.8\">dense_16: Dense</text>\n",
       "</g>\n",
       "<!-- 140370241172592&#45;&gt;140370241172704 -->\n",
       "<g class=\"edge\" id=\"edge8\">\n",
       "<title>140370241172592-&gt;140370241172704</title>\n",
       "<path d=\"M198.5,-73.4551C198.5,-65.3828 198.5,-55.6764 198.5,-46.6817\" fill=\"none\" stroke=\"#000000\"/>\n",
       "<polygon fill=\"#000000\" points=\"202.0001,-46.5903 198.5,-36.5904 195.0001,-46.5904 202.0001,-46.5903\" stroke=\"#000000\"/>\n",
       "</g>\n",
       "</g>\n",
       "</svg>"
      ],
      "text/plain": [
       "<IPython.core.display.SVG object>"
      ]
     },
     "execution_count": 234,
     "metadata": {},
     "output_type": "execute_result"
    }
   ],
   "source": [
    "SVG(model_to_dot(model).create(prog='dot', format='svg'))"
   ]
  },
  {
   "cell_type": "code",
   "execution_count": 237,
   "metadata": {},
   "outputs": [
    {
     "name": "stdout",
     "output_type": "stream",
     "text": [
      "Train on 800167 samples, validate on 200042 samples\n",
      "Epoch 1/10\n",
      "800167/800167 [==============================] - 13s 16us/step - loss: 0.7156 - mean_squared_error: 0.7156 - mean_absolute_error: 0.6666 - mean_absolute_percentage_error: 25.4264 - cosine_proximity: -1.0000 - val_loss: 0.7659 - val_mean_squared_error: 0.7659 - val_mean_absolute_error: 0.6885 - val_mean_absolute_percentage_error: 26.4747 - val_cosine_proximity: -1.0000\n",
      "Epoch 2/10\n",
      "800167/800167 [==============================] - 13s 16us/step - loss: 0.7152 - mean_squared_error: 0.7152 - mean_absolute_error: 0.6665 - mean_absolute_percentage_error: 25.4142 - cosine_proximity: -1.0000 - val_loss: 0.7655 - val_mean_squared_error: 0.7655 - val_mean_absolute_error: 0.6895 - val_mean_absolute_percentage_error: 26.3208 - val_cosine_proximity: -1.0000\n",
      "Epoch 3/10\n",
      "800167/800167 [==============================] - 13s 16us/step - loss: 0.7148 - mean_squared_error: 0.7148 - mean_absolute_error: 0.6662 - mean_absolute_percentage_error: 25.4010 - cosine_proximity: -1.0000 - val_loss: 0.7657 - val_mean_squared_error: 0.7657 - val_mean_absolute_error: 0.6888 - val_mean_absolute_percentage_error: 26.4138 - val_cosine_proximity: -1.0000\n",
      "Epoch 4/10\n",
      "800167/800167 [==============================] - 13s 16us/step - loss: 0.7144 - mean_squared_error: 0.7144 - mean_absolute_error: 0.6661 - mean_absolute_percentage_error: 25.3951 - cosine_proximity: -1.0000 - val_loss: 0.7662 - val_mean_squared_error: 0.7662 - val_mean_absolute_error: 0.6892 - val_mean_absolute_percentage_error: 26.3165 - val_cosine_proximity: -1.0000\n",
      "Epoch 5/10\n",
      "800167/800167 [==============================] - 13s 16us/step - loss: 0.7141 - mean_squared_error: 0.7141 - mean_absolute_error: 0.6659 - mean_absolute_percentage_error: 25.3853 - cosine_proximity: -1.0000 - val_loss: 0.7663 - val_mean_squared_error: 0.7663 - val_mean_absolute_error: 0.6896 - val_mean_absolute_percentage_error: 26.2658 - val_cosine_proximity: -1.0000\n",
      "Epoch 6/10\n",
      "800167/800167 [==============================] - 13s 16us/step - loss: 0.7137 - mean_squared_error: 0.7137 - mean_absolute_error: 0.6657 - mean_absolute_percentage_error: 25.3715 - cosine_proximity: -1.0000 - val_loss: 0.7656 - val_mean_squared_error: 0.7656 - val_mean_absolute_error: 0.6896 - val_mean_absolute_percentage_error: 26.3490 - val_cosine_proximity: -1.0000\n",
      "Epoch 7/10\n",
      "800167/800167 [==============================] - 13s 16us/step - loss: 0.7134 - mean_squared_error: 0.7134 - mean_absolute_error: 0.6656 - mean_absolute_percentage_error: 25.3693 - cosine_proximity: -1.0000 - val_loss: 0.7658 - val_mean_squared_error: 0.7658 - val_mean_absolute_error: 0.6889 - val_mean_absolute_percentage_error: 26.3707 - val_cosine_proximity: -1.0000\n",
      "Epoch 8/10\n",
      "800167/800167 [==============================] - 13s 16us/step - loss: 0.7131 - mean_squared_error: 0.7131 - mean_absolute_error: 0.6655 - mean_absolute_percentage_error: 25.3635 - cosine_proximity: -1.0000 - val_loss: 0.7654 - val_mean_squared_error: 0.7654 - val_mean_absolute_error: 0.6891 - val_mean_absolute_percentage_error: 26.3905 - val_cosine_proximity: -1.0000\n",
      "Epoch 9/10\n",
      "800167/800167 [==============================] - 13s 16us/step - loss: 0.7128 - mean_squared_error: 0.7128 - mean_absolute_error: 0.6654 - mean_absolute_percentage_error: 25.3573 - cosine_proximity: -1.0000 - val_loss: 0.7670 - val_mean_squared_error: 0.7670 - val_mean_absolute_error: 0.6906 - val_mean_absolute_percentage_error: 26.1495 - val_cosine_proximity: -1.0000\n",
      "Epoch 10/10\n",
      "800167/800167 [==============================] - 13s 16us/step - loss: 0.7125 - mean_squared_error: 0.7125 - mean_absolute_error: 0.6652 - mean_absolute_percentage_error: 25.3450 - cosine_proximity: -1.0000 - val_loss: 0.7662 - val_mean_squared_error: 0.7662 - val_mean_absolute_error: 0.6893 - val_mean_absolute_percentage_error: 26.2906 - val_cosine_proximity: -1.0000\n"
     ]
    },
    {
     "data": {
      "image/png": "[encoded data removed]",
      "text/plain": [
       "<Figure size 432x288 with 1 Axes>"
      ]
     },
     "metadata": {
      "needs_background": "light"
     },
     "output_type": "display_data"
    }
   ],
   "source": [
    "history = model.fit([train.user_id, train.movie_id],train.rating,\n",
    "                     validation_data =([test.user_id, test.movie_id],test.rating),\n",
    "                    batch_size=200, epochs=10,\n",
    "                    validation_split=0.1,\n",
    "                    shuffle=True)\n",
    "#plt.plot(history.history['mean_squared_error'])\n",
    "#plt.plot(history.history['mean_absolute_error'])\n",
    "#plt.plot(history.history['mean_absolute_percentage_error'])\n",
    "#plt.plot(history.history['cosine_proximity'])\n",
    "model.save('model.h5')"
   ]
  },
  {
   "cell_type": "code",
   "execution_count": 249,
   "metadata": {},
   "outputs": [
    {
     "data": {
      "image/png": "[encoded data removed]",
      "text/plain": [
       "<Figure size 432x288 with 1 Axes>"
      ]
     },
     "metadata": {
      "needs_background": "light"
     },
     "output_type": "display_data"
    }
   ],
   "source": [
    "\n",
    "plt.plot(history.history['loss'] , 'g')\n",
    "plt.plot(history.history['val_loss'] , 'b')\n",
    "plt.title('model loss')\n",
    "plt.ylabel('loss')\n",
    "plt.xlabel('epoch')\n",
    "plt.legend(['train', 'test'], loc='upper left')\n",
    "plt.grid(True)\n",
    "plt.show()"
   ]
  },
  {
   "cell_type": "code",
   "execution_count": 238,
   "metadata": {},
   "outputs": [],
   "source": [
    "model = load_model('model.h5')"
   ]
  },
  {
   "cell_type": "code",
   "execution_count": 239,
   "metadata": {},
   "outputs": [],
   "source": [
    "weights = model.get_weights()\n",
    "user_embeddings = weights[0]\n",
    "item_embeddings = weights[1]"
   ]
  },
  {
   "cell_type": "code",
   "execution_count": 240,
   "metadata": {},
   "outputs": [
    {
     "name": "stdout",
     "output_type": "stream",
     "text": [
      "[[ 0.7497955   3.8843055  -1.7470946 ]\n",
      " [ 0.430885    1.475855   -1.7519994 ]\n",
      " [ 0.60114074  0.90460366 -1.8748108 ]\n",
      " ...\n",
      " [ 2.2985907   1.7632575  -1.1640322 ]\n",
      " [ 1.2916334   2.2112472  -1.4160398 ]\n",
      " [-0.01117317  0.02055692  0.0413366 ]]\n"
     ]
    }
   ],
   "source": [
    "print(user_embeddings)"
   ]
  },
  {
   "cell_type": "code",
   "execution_count": 241,
   "metadata": {},
   "outputs": [
    {
     "name": "stdout",
     "output_type": "stream",
     "text": [
      "[[ 0.62530524  1.823745   -1.1944928 ]\n",
      " [ 0.28204033  1.4161907  -1.3319225 ]\n",
      " [ 0.8786724   0.703884   -1.9496918 ]\n",
      " ...\n",
      " [ 0.8896767   1.2242031  -1.1313949 ]\n",
      " [ 1.3861768   1.4442328   0.46659654]\n",
      " [ 0.0228289   0.0226501   0.00415235]]\n"
     ]
    }
   ],
   "source": [
    "print(item_embeddings)"
   ]
  },
  {
   "cell_type": "code",
   "execution_count": 245,
   "metadata": {},
   "outputs": [],
   "source": [
    "x = Dense(3, activation='softmax')(prod)\n",
    "y = Dense(1)(x)\n",
    "\n",
    "model = Model(inputs=[user_input, movie_input], outputs=y)\n",
    "model.compile( loss='mse', optimizer='adam', metrics=['mse', 'mae', 'mape', 'cosine'])"
   ]
  },
  {
   "cell_type": "code",
   "execution_count": 246,
   "metadata": {},
   "outputs": [
    {
     "name": "stdout",
     "output_type": "stream",
     "text": [
      "__________________________________________________________________________________________________\n",
      "Layer (type)                    Output Shape         Param #     Connected to                     \n",
      "==================================================================================================\n",
      "Movie_Input (InputLayer)        (None, 1)            0                                            \n",
      "__________________________________________________________________________________________________\n",
      "User_Input (InputLayer)         (None, 1)            0                                            \n",
      "__________________________________________________________________________________________________\n",
      "Movie_Embedding (Embedding)     (None, 1, 3)         11121       Movie_Input[0][0]                \n",
      "__________________________________________________________________________________________________\n",
      "User_Embedding (Embedding)      (None, 1, 3)         18123       User_Input[0][0]                 \n",
      "__________________________________________________________________________________________________\n",
      "Flatten_Movie (Flatten)         (None, 3)            0           Movie_Embedding[0][0]            \n",
      "__________________________________________________________________________________________________\n",
      "Flatten_User (Flatten)          (None, 3)            0           User_Embedding[0][0]             \n",
      "__________________________________________________________________________________________________\n",
      "Dot_Product (Dot)               (None, 1)            0           Flatten_Movie[0][0]              \n",
      "                                                                 Flatten_User[0][0]               \n",
      "__________________________________________________________________________________________________\n",
      "dense_21 (Dense)                (None, 3)            6           Dot_Product[0][0]                \n",
      "__________________________________________________________________________________________________\n",
      "dense_22 (Dense)                (None, 1)            4           dense_21[0][0]                   \n",
      "==================================================================================================\n",
      "Total params: 29,254\n",
      "Trainable params: 29,254\n",
      "Non-trainable params: 0\n",
      "__________________________________________________________________________________________________\n"
     ]
    }
   ],
   "source": [
    "model.summary()"
   ]
  },
  {
   "cell_type": "code",
   "execution_count": 247,
   "metadata": {},
   "outputs": [
    {
     "data": {
      "image/svg+xml": [
       "<svg height=\"410pt\" viewBox=\"0.00 0.00 401.50 410.00\" width=\"402pt\" xmlns=\"http://www.w3.org/2000/svg\" xmlns:xlink=\"http://www.w3.org/1999/xlink\">\n",
       "<g class=\"graph\" id=\"graph0\" transform=\"scale(1 1) rotate(0) translate(4 406)\">\n",
       "<title>G</title>\n",
       "<polygon fill=\"#ffffff\" points=\"-4,4 -4,-406 397.5,-406 397.5,4 -4,4\" stroke=\"transparent\"/>\n",
       "<!-- 140370248839064 -->\n",
       "<g class=\"node\" id=\"node1\">\n",
       "<title>140370248839064</title>\n",
       "<polygon fill=\"none\" points=\"19,-365.5 19,-401.5 174,-401.5 174,-365.5 19,-365.5\" stroke=\"#000000\"/>\n",
       "<text fill=\"#000000\" font-family=\"Times,serif\" font-size=\"14.00\" text-anchor=\"middle\" x=\"96.5\" y=\"-379.8\">Movie_Input: InputLayer</text>\n",
       "</g>\n",
       "<!-- 140370248836152 -->\n",
       "<g class=\"node\" id=\"node3\">\n",
       "<title>140370248836152</title>\n",
       "<polygon fill=\"none\" points=\"0,-292.5 0,-328.5 193,-328.5 193,-292.5 0,-292.5\" stroke=\"#000000\"/>\n",
       "<text fill=\"#000000\" font-family=\"Times,serif\" font-size=\"14.00\" text-anchor=\"middle\" x=\"96.5\" y=\"-306.8\">Movie_Embedding: Embedding</text>\n",
       "</g>\n",
       "<!-- 140370248839064&#45;&gt;140370248836152 -->\n",
       "<g class=\"edge\" id=\"edge1\">\n",
       "<title>140370248839064-&gt;140370248836152</title>\n",
       "<path d=\"M96.5,-365.4551C96.5,-357.3828 96.5,-347.6764 96.5,-338.6817\" fill=\"none\" stroke=\"#000000\"/>\n",
       "<polygon fill=\"#000000\" points=\"100.0001,-338.5903 96.5,-328.5904 93.0001,-338.5904 100.0001,-338.5903\" stroke=\"#000000\"/>\n",
       "</g>\n",
       "<!-- 140370249126968 -->\n",
       "<g class=\"node\" id=\"node2\">\n",
       "<title>140370249126968</title>\n",
       "<polygon fill=\"none\" points=\"230,-365.5 230,-401.5 375,-401.5 375,-365.5 230,-365.5\" stroke=\"#000000\"/>\n",
       "<text fill=\"#000000\" font-family=\"Times,serif\" font-size=\"14.00\" text-anchor=\"middle\" x=\"302.5\" y=\"-379.8\">User_Input: InputLayer</text>\n",
       "</g>\n",
       "<!-- 140370249126128 -->\n",
       "<g class=\"node\" id=\"node4\">\n",
       "<title>140370249126128</title>\n",
       "<polygon fill=\"none\" points=\"211.5,-292.5 211.5,-328.5 393.5,-328.5 393.5,-292.5 211.5,-292.5\" stroke=\"#000000\"/>\n",
       "<text fill=\"#000000\" font-family=\"Times,serif\" font-size=\"14.00\" text-anchor=\"middle\" x=\"302.5\" y=\"-306.8\">User_Embedding: Embedding</text>\n",
       "</g>\n",
       "<!-- 140370249126968&#45;&gt;140370249126128 -->\n",
       "<g class=\"edge\" id=\"edge2\">\n",
       "<title>140370249126968-&gt;140370249126128</title>\n",
       "<path d=\"M302.5,-365.4551C302.5,-357.3828 302.5,-347.6764 302.5,-338.6817\" fill=\"none\" stroke=\"#000000\"/>\n",
       "<polygon fill=\"#000000\" points=\"306.0001,-338.5903 302.5,-328.5904 299.0001,-338.5904 306.0001,-338.5903\" stroke=\"#000000\"/>\n",
       "</g>\n",
       "<!-- 140370248838728 -->\n",
       "<g class=\"node\" id=\"node5\">\n",
       "<title>140370248838728</title>\n",
       "<polygon fill=\"none\" points=\"50.5,-219.5 50.5,-255.5 192.5,-255.5 192.5,-219.5 50.5,-219.5\" stroke=\"#000000\"/>\n",
       "<text fill=\"#000000\" font-family=\"Times,serif\" font-size=\"14.00\" text-anchor=\"middle\" x=\"121.5\" y=\"-233.8\">Flatten_Movie: Flatten</text>\n",
       "</g>\n",
       "<!-- 140370248836152&#45;&gt;140370248838728 -->\n",
       "<g class=\"edge\" id=\"edge3\">\n",
       "<title>140370248836152-&gt;140370248838728</title>\n",
       "<path d=\"M102.6798,-292.4551C105.5043,-284.2074 108.9132,-274.2536 112.0493,-265.0962\" fill=\"none\" stroke=\"#000000\"/>\n",
       "<polygon fill=\"#000000\" points=\"115.3759,-266.185 115.3047,-255.5904 108.7535,-263.917 115.3759,-266.185\" stroke=\"#000000\"/>\n",
       "</g>\n",
       "<!-- 140370249127248 -->\n",
       "<g class=\"node\" id=\"node6\">\n",
       "<title>140370249127248</title>\n",
       "<polygon fill=\"none\" points=\"224,-219.5 224,-255.5 355,-255.5 355,-219.5 224,-219.5\" stroke=\"#000000\"/>\n",
       "<text fill=\"#000000\" font-family=\"Times,serif\" font-size=\"14.00\" text-anchor=\"middle\" x=\"289.5\" y=\"-233.8\">Flatten_User: Flatten</text>\n",
       "</g>\n",
       "<!-- 140370249126128&#45;&gt;140370249127248 -->\n",
       "<g class=\"edge\" id=\"edge4\">\n",
       "<title>140370249126128-&gt;140370249127248</title>\n",
       "<path d=\"M299.2865,-292.4551C297.849,-284.3828 296.1205,-274.6764 294.5187,-265.6817\" fill=\"none\" stroke=\"#000000\"/>\n",
       "<polygon fill=\"#000000\" points=\"297.9207,-264.8218 292.7216,-255.5904 291.0291,-266.0491 297.9207,-264.8218\" stroke=\"#000000\"/>\n",
       "</g>\n",
       "<!-- 140370475247432 -->\n",
       "<g class=\"node\" id=\"node7\">\n",
       "<title>140370475247432</title>\n",
       "<polygon fill=\"none\" points=\"142,-146.5 142,-182.5 255,-182.5 255,-146.5 142,-146.5\" stroke=\"#000000\"/>\n",
       "<text fill=\"#000000\" font-family=\"Times,serif\" font-size=\"14.00\" text-anchor=\"middle\" x=\"198.5\" y=\"-160.8\">Dot_Product: Dot</text>\n",
       "</g>\n",
       "<!-- 140370248838728&#45;&gt;140370475247432 -->\n",
       "<g class=\"edge\" id=\"edge5\">\n",
       "<title>140370248838728-&gt;140370475247432</title>\n",
       "<path d=\"M140.5337,-219.4551C150.0663,-210.4177 161.7595,-199.3319 172.1408,-189.4899\" fill=\"none\" stroke=\"#000000\"/>\n",
       "<polygon fill=\"#000000\" points=\"174.5693,-192.0104 179.4184,-182.5904 169.7533,-186.9305 174.5693,-192.0104\" stroke=\"#000000\"/>\n",
       "</g>\n",
       "<!-- 140370249127248&#45;&gt;140370475247432 -->\n",
       "<g class=\"edge\" id=\"edge6\">\n",
       "<title>140370249127248-&gt;140370475247432</title>\n",
       "<path d=\"M267.0056,-219.4551C255.5211,-210.2422 241.383,-198.9006 228.9389,-188.918\" fill=\"none\" stroke=\"#000000\"/>\n",
       "<polygon fill=\"#000000\" points=\"231.0414,-186.1177 221.051,-182.5904 226.6612,-191.5779 231.0414,-186.1177\" stroke=\"#000000\"/>\n",
       "</g>\n",
       "<!-- 140370093454448 -->\n",
       "<g class=\"node\" id=\"node8\">\n",
       "<title>140370093454448</title>\n",
       "<polygon fill=\"none\" points=\"144,-73.5 144,-109.5 253,-109.5 253,-73.5 144,-73.5\" stroke=\"#000000\"/>\n",
       "<text fill=\"#000000\" font-family=\"Times,serif\" font-size=\"14.00\" text-anchor=\"middle\" x=\"198.5\" y=\"-87.8\">dense_21: Dense</text>\n",
       "</g>\n",
       "<!-- 140370475247432&#45;&gt;140370093454448 -->\n",
       "<g class=\"edge\" id=\"edge7\">\n",
       "<title>140370475247432-&gt;140370093454448</title>\n",
       "<path d=\"M198.5,-146.4551C198.5,-138.3828 198.5,-128.6764 198.5,-119.6817\" fill=\"none\" stroke=\"#000000\"/>\n",
       "<polygon fill=\"#000000\" points=\"202.0001,-119.5903 198.5,-109.5904 195.0001,-119.5904 202.0001,-119.5903\" stroke=\"#000000\"/>\n",
       "</g>\n",
       "<!-- 140370093454336 -->\n",
       "<g class=\"node\" id=\"node9\">\n",
       "<title>140370093454336</title>\n",
       "<polygon fill=\"none\" points=\"144,-.5 144,-36.5 253,-36.5 253,-.5 144,-.5\" stroke=\"#000000\"/>\n",
       "<text fill=\"#000000\" font-family=\"Times,serif\" font-size=\"14.00\" text-anchor=\"middle\" x=\"198.5\" y=\"-14.8\">dense_22: Dense</text>\n",
       "</g>\n",
       "<!-- 140370093454448&#45;&gt;140370093454336 -->\n",
       "<g class=\"edge\" id=\"edge8\">\n",
       "<title>140370093454448-&gt;140370093454336</title>\n",
       "<path d=\"M198.5,-73.4551C198.5,-65.3828 198.5,-55.6764 198.5,-46.6817\" fill=\"none\" stroke=\"#000000\"/>\n",
       "<polygon fill=\"#000000\" points=\"202.0001,-46.5903 198.5,-36.5904 195.0001,-46.5904 202.0001,-46.5903\" stroke=\"#000000\"/>\n",
       "</g>\n",
       "</g>\n",
       "</svg>"
      ],
      "text/plain": [
       "<IPython.core.display.SVG object>"
      ]
     },
     "execution_count": 247,
     "metadata": {},
     "output_type": "execute_result"
    }
   ],
   "source": [
    "SVG(model_to_dot(model).create(prog='dot', format='svg'))"
   ]
  },
  {
   "cell_type": "code",
   "execution_count": 248,
   "metadata": {},
   "outputs": [
    {
     "name": "stdout",
     "output_type": "stream",
     "text": [
      "Train on 800167 samples, validate on 200042 samples\n",
      "Epoch 1/10\n",
      "800167/800167 [==============================] - 12s 16us/step - loss: 2.1671 - mean_squared_error: 2.1671 - mean_absolute_error: 1.1232 - mean_absolute_percentage_error: 35.5836 - cosine_proximity: -1.0000 - val_loss: 0.7773 - val_mean_squared_error: 0.7773 - val_mean_absolute_error: 0.6948 - val_mean_absolute_percentage_error: 26.4060 - val_cosine_proximity: -1.0000\n",
      "Epoch 2/10\n",
      "800167/800167 [==============================] - 10s 13us/step - loss: 0.7208 - mean_squared_error: 0.7208 - mean_absolute_error: 0.6728 - mean_absolute_percentage_error: 25.5961 - cosine_proximity: -1.0000 - val_loss: 0.7668 - val_mean_squared_error: 0.7668 - val_mean_absolute_error: 0.6919 - val_mean_absolute_percentage_error: 26.6169 - val_cosine_proximity: -1.0000\n",
      "Epoch 3/10\n",
      "800167/800167 [==============================] - 10s 13us/step - loss: 0.7152 - mean_squared_error: 0.7152 - mean_absolute_error: 0.6694 - mean_absolute_percentage_error: 25.5416 - cosine_proximity: -1.0000 - val_loss: 0.7674 - val_mean_squared_error: 0.7674 - val_mean_absolute_error: 0.6908 - val_mean_absolute_percentage_error: 26.6360 - val_cosine_proximity: -1.0000\n",
      "Epoch 4/10\n",
      "800167/800167 [==============================] - 11s 13us/step - loss: 0.7139 - mean_squared_error: 0.7139 - mean_absolute_error: 0.6682 - mean_absolute_percentage_error: 25.4912 - cosine_proximity: -1.0000 - val_loss: 0.7675 - val_mean_squared_error: 0.7675 - val_mean_absolute_error: 0.6911 - val_mean_absolute_percentage_error: 26.4423 - val_cosine_proximity: -1.0000\n",
      "Epoch 5/10\n",
      "800167/800167 [==============================] - 11s 13us/step - loss: 0.7131 - mean_squared_error: 0.7131 - mean_absolute_error: 0.6674 - mean_absolute_percentage_error: 25.4578 - cosine_proximity: -1.0000 - val_loss: 0.7670 - val_mean_squared_error: 0.7670 - val_mean_absolute_error: 0.6912 - val_mean_absolute_percentage_error: 26.3915 - val_cosine_proximity: -1.0000\n",
      "Epoch 6/10\n",
      "800167/800167 [==============================] - 11s 13us/step - loss: 0.7125 - mean_squared_error: 0.7125 - mean_absolute_error: 0.6668 - mean_absolute_percentage_error: 25.4259 - cosine_proximity: -1.0000 - val_loss: 0.7674 - val_mean_squared_error: 0.7674 - val_mean_absolute_error: 0.6912 - val_mean_absolute_percentage_error: 26.3089 - val_cosine_proximity: -1.0000\n",
      "Epoch 7/10\n",
      "800167/800167 [==============================] - 11s 13us/step - loss: 0.7120 - mean_squared_error: 0.7120 - mean_absolute_error: 0.6663 - mean_absolute_percentage_error: 25.3961 - cosine_proximity: -1.0000 - val_loss: 0.7671 - val_mean_squared_error: 0.7671 - val_mean_absolute_error: 0.6909 - val_mean_absolute_percentage_error: 26.3365 - val_cosine_proximity: -1.0000\n",
      "Epoch 8/10\n",
      "800167/800167 [==============================] - 11s 14us/step - loss: 0.7116 - mean_squared_error: 0.7116 - mean_absolute_error: 0.6660 - mean_absolute_percentage_error: 25.3775 - cosine_proximity: -1.0000 - val_loss: 0.7671 - val_mean_squared_error: 0.7671 - val_mean_absolute_error: 0.6902 - val_mean_absolute_percentage_error: 26.4038 - val_cosine_proximity: -1.0000\n",
      "Epoch 9/10\n",
      "800167/800167 [==============================] - 11s 13us/step - loss: 0.7112 - mean_squared_error: 0.7112 - mean_absolute_error: 0.6657 - mean_absolute_percentage_error: 25.3599 - cosine_proximity: -1.0000 - val_loss: 0.7680 - val_mean_squared_error: 0.7680 - val_mean_absolute_error: 0.6888 - val_mean_absolute_percentage_error: 26.6386 - val_cosine_proximity: -1.0000\n",
      "Epoch 10/10\n",
      "800167/800167 [==============================] - 10s 13us/step - loss: 0.7109 - mean_squared_error: 0.7109 - mean_absolute_error: 0.6652 - mean_absolute_percentage_error: 25.3353 - cosine_proximity: -1.0000 - val_loss: 0.7667 - val_mean_squared_error: 0.7667 - val_mean_absolute_error: 0.6895 - val_mean_absolute_percentage_error: 26.4381 - val_cosine_proximity: -1.0000\n"
     ]
    },
    {
     "data": {
      "image/png": "[encoded data removed]",
      "text/plain": [
       "<Figure size 432x288 with 1 Axes>"
      ]
     },
     "metadata": {
      "needs_background": "light"
     },
     "output_type": "display_data"
    }
   ],
   "source": [
    "history = model.fit([train.user_id, train.movie_id],train.rating,\n",
    "                    validation_data =([test.user_id, test.movie_id],test.rating),\n",
    "                    batch_size=200, epochs=10,\n",
    "                    validation_split=0.1,\n",
    "                    shuffle=True)\n",
    "plt.plot(history.history['mean_squared_error'])\n",
    "plt.plot(history.history['mean_absolute_error'])\n",
    "plt.plot(history.history['mean_absolute_percentage_error'])\n",
    "plt.plot(history.history['cosine_proximity'])\n",
    "model.save('model2.h5')"
   ]
  },
  {
   "cell_type": "code",
   "execution_count": 252,
   "metadata": {},
   "outputs": [],
   "source": [
    "n_latent_factors=50\n",
    "n_movies=len(ratings['movie_id'].unique())\n",
    "n_users=len(ratings['user_id'].unique())"
   ]
  },
  {
   "cell_type": "code",
   "execution_count": 256,
   "metadata": {},
   "outputs": [],
   "source": [
    "user_input=Input(shape=(1,),name='user_input',dtype='int64')\n",
    "user_embedding=Embedding(n_users,n_latent_factors,name='user_embedding')(user_input)\n",
    "user_vec=Flatten(name='FlattenUsers')(user_embedding)\n",
    "user_vec=Dropout(0.40)(user_vec)"
   ]
  },
  {
   "cell_type": "code",
   "execution_count": 257,
   "metadata": {},
   "outputs": [],
   "source": [
    "movie_input=Input(shape=(1,),name='movie_input',dtype='int64')\n",
    "movie_embedding=Embedding(n_movies,n_latent_factors,name='movie_embedding')(movie_input)\n",
    "movie_vec=Flatten(name='FlattenMovies')(movie_embedding)\n",
    "movie_vec=Dropout(0.40)(movie_vec)"
   ]
  },
  {
   "cell_type": "code",
   "execution_count": 262,
   "metadata": {},
   "outputs": [],
   "source": [
    "sim = Dot(name=\"Dot_Product\", axes=1)([movie_vec, user_vec])"
   ]
  },
  {
   "cell_type": "code",
   "execution_count": 263,
   "metadata": {},
   "outputs": [
    {
     "name": "stdout",
     "output_type": "stream",
     "text": [
      "__________________________________________________________________________________________________\n",
      "Layer (type)                    Output Shape         Param #     Connected to                     \n",
      "==================================================================================================\n",
      "movie_input (InputLayer)        (None, 1)            0                                            \n",
      "__________________________________________________________________________________________________\n",
      "user_input (InputLayer)         (None, 1)            0                                            \n",
      "__________________________________________________________________________________________________\n",
      "movie_embedding (Embedding)     (None, 1, 50)        185300      movie_input[0][0]                \n",
      "__________________________________________________________________________________________________\n",
      "user_embedding (Embedding)      (None, 1, 50)        302000      user_input[0][0]                 \n",
      "__________________________________________________________________________________________________\n",
      "FlattenMovies (Flatten)         (None, 50)           0           movie_embedding[0][0]            \n",
      "__________________________________________________________________________________________________\n",
      "FlattenUsers (Flatten)          (None, 50)           0           user_embedding[0][0]             \n",
      "__________________________________________________________________________________________________\n",
      "dropout_3 (Dropout)             (None, 50)           0           FlattenMovies[0][0]              \n",
      "__________________________________________________________________________________________________\n",
      "dropout_2 (Dropout)             (None, 50)           0           FlattenUsers[0][0]               \n",
      "__________________________________________________________________________________________________\n",
      "Dot_Product (Dot)               (None, 1)            0           dropout_3[0][0]                  \n",
      "                                                                 dropout_2[0][0]                  \n",
      "__________________________________________________________________________________________________\n",
      "dense_23 (Dense)                (None, 96)           192         Dot_Product[0][0]                \n",
      "__________________________________________________________________________________________________\n",
      "dropout_4 (Dropout)             (None, 96)           0           dense_23[0][0]                   \n",
      "__________________________________________________________________________________________________\n",
      "dense_24 (Dense)                (None, 1)            97          dropout_4[0][0]                  \n",
      "==================================================================================================\n",
      "Total params: 487,589\n",
      "Trainable params: 487,589\n",
      "Non-trainable params: 0\n",
      "__________________________________________________________________________________________________\n"
     ]
    }
   ],
   "source": [
    "nn_inp=Dense(96,activation='relu')(sim)\n",
    "nn_inp=Dropout(0.4)(nn_inp)\n",
    "\n",
    "nn_inp=Dense(1,activation='relu')(nn_inp)\n",
    "nn_model =keras.models.Model([user_input, movie_input],nn_inp)\n",
    "nn_model.summary()"
   ]
  },
  {
   "cell_type": "code",
   "execution_count": 264,
   "metadata": {},
   "outputs": [],
   "source": [
    "nn_model.compile(optimizer=Adam(lr=1e-3),loss='mse')"
   ]
  },
  {
   "cell_type": "code",
   "execution_count": 265,
   "metadata": {},
   "outputs": [],
   "source": [
    "batch_size=128\n",
    "epochs=20"
   ]
  },
  {
   "cell_type": "code",
   "execution_count": 269,
   "metadata": {},
   "outputs": [
    {
     "name": "stdout",
     "output_type": "stream",
     "text": [
      "Train on 800167 samples, validate on 200042 samples\n",
      "Epoch 1/20\n",
      "800167/800167 [==============================] - 47s 59us/step - loss: 1.5834 - val_loss: 1.1644\n",
      "Epoch 2/20\n",
      "800167/800167 [==============================] - 46s 58us/step - loss: 1.1574 - val_loss: 1.1294\n",
      "Epoch 3/20\n",
      "800167/800167 [==============================] - 46s 57us/step - loss: 1.0818 - val_loss: 1.1286\n",
      "Epoch 4/20\n",
      "800167/800167 [==============================] - 46s 57us/step - loss: 1.0575 - val_loss: 1.1051\n",
      "Epoch 5/20\n",
      "800167/800167 [==============================] - 45s 57us/step - loss: 1.0432 - val_loss: 1.1127\n",
      "Epoch 6/20\n",
      "800167/800167 [==============================] - 45s 57us/step - loss: 1.0317 - val_loss: 1.1052\n",
      "Epoch 7/20\n",
      "800167/800167 [==============================] - 45s 57us/step - loss: 1.0247 - val_loss: 1.1034\n",
      "Epoch 8/20\n",
      "800167/800167 [==============================] - 45s 56us/step - loss: 1.0169 - val_loss: 1.1092\n",
      "Epoch 9/20\n",
      "800167/800167 [==============================] - 45s 56us/step - loss: 1.0091 - val_loss: 1.1002\n",
      "Epoch 10/20\n",
      "800167/800167 [==============================] - 44s 55us/step - loss: 1.0051 - val_loss: 1.1013\n",
      "Epoch 11/20\n",
      "800167/800167 [==============================] - 45s 56us/step - loss: 0.9997 - val_loss: 1.0969\n",
      "Epoch 12/20\n",
      "800167/800167 [==============================] - 45s 56us/step - loss: 0.9938 - val_loss: 1.0923\n",
      "Epoch 13/20\n",
      "800167/800167 [==============================] - 44s 55us/step - loss: 0.9892 - val_loss: 1.0972\n",
      "Epoch 14/20\n",
      "800167/800167 [==============================] - 44s 55us/step - loss: 0.9848 - val_loss: 1.1013\n",
      "Epoch 15/20\n",
      "800167/800167 [==============================] - 44s 55us/step - loss: 0.9832 - val_loss: 1.0954\n",
      "Epoch 16/20\n",
      "800167/800167 [==============================] - 44s 55us/step - loss: 0.9785 - val_loss: 1.0894\n",
      "Epoch 17/20\n",
      "800167/800167 [==============================] - 44s 55us/step - loss: 0.9767 - val_loss: 1.0930\n",
      "Epoch 18/20\n",
      "800167/800167 [==============================] - 44s 54us/step - loss: 0.9723 - val_loss: 1.0884\n",
      "Epoch 19/20\n",
      "800167/800167 [==============================] - 43s 54us/step - loss: 0.9704 - val_loss: 1.0946\n",
      "Epoch 20/20\n",
      "800167/800167 [==============================] - 43s 54us/step - loss: 0.9662 - val_loss: 1.0943\n"
     ]
    }
   ],
   "source": [
    "History = nn_model.fit([train.user_id,train.movie_id],train.rating, \n",
    "                       batch_size=batch_size,\n",
    "                              epochs =epochs, \n",
    "                       validation_data = ([test.user_id,test.movie_id],\n",
    "                                          test.rating),\n",
    "                              verbose = 1)"
   ]
  },
  {
   "cell_type": "code",
   "execution_count": 271,
   "metadata": {},
   "outputs": [
    {
     "data": {
      "image/png": "[encoded data removed]",
      "text/plain": [
       "<Figure size 432x288 with 1 Axes>"
      ]
     },
     "metadata": {
      "needs_background": "light"
     },
     "output_type": "display_data"
    }
   ],
   "source": [
    "plt.plot(History.history['loss'] , 'g')\n",
    "plt.plot(History.history['val_loss'] , 'b')\n",
    "plt.title('Model Loss')\n",
    "plt.ylabel('Loss')\n",
    "plt.xlabel('Epoch')\n",
    "plt.legend(['Train Data', 'Test Data'], loc='upper left')\n",
    "plt.grid(True)\n",
    "plt.show()"
   ]
  },
  {
   "cell_type": "code",
   "execution_count": null,
   "metadata": {},
   "outputs": [],
   "source": []
  }
 ],
 "metadata": {
  "kernelspec": {
   "display_name": "Python 3",
   "language": "python",
   "name": "python3"
  },
  "language_info": {
   "codemirror_mode": {
    "name": "ipython",
    "version": 3
   },
   "file_extension": ".py",
   "mimetype": "text/x-python",
   "name": "python",
   "nbconvert_exporter": "python",
   "pygments_lexer": "ipython3",
   "version": "3.7.3"
  }
 },
 "nbformat": 4,
 "nbformat_minor": 2
}
