{
 "cells": [
  {
   "cell_type": "markdown",
   "metadata": {},
   "source": [
    "# <b>Manipulação de Banco de Dados com SQLite"
   ]
  },
  {
   "cell_type": "markdown",
   "metadata": {},
   "source": [
    "## <b> Criação do BD "
   ]
  },
  {
   "cell_type": "code",
   "execution_count": 1,
   "metadata": {},
   "outputs": [],
   "source": [
    "import sqlite3\n",
    "import random \n",
    "import datetime\n",
    "import matplotlib.pyplot as plt\n",
    "import os\n",
    "\n",
    "# abrir o gráfico na mesma janela\n",
    "%matplotlib notebook \n",
    "\n",
    "# Importando o BD e o remove caso ele já exista\n",
    "os.remove(\"googleplay.db\") if os.path.exists(\"googleplay.db\") else None"
   ]
  },
  {
   "cell_type": "code",
   "execution_count": 2,
   "metadata": {},
   "outputs": [],
   "source": [
    "# Conexão com o BD\n",
    "con = sqlite3.connect('googleplay.db')"
   ]
  },
  {
   "cell_type": "code",
   "execution_count": 3,
   "metadata": {},
   "outputs": [
    {
     "data": {
      "text/plain": [
       "sqlite3.Connection"
      ]
     },
     "execution_count": 3,
     "metadata": {},
     "output_type": "execute_result"
    }
   ],
   "source": [
    "# verificando o tipo de conexão\n",
    "type(con)"
   ]
  },
  {
   "cell_type": "code",
   "execution_count": 4,
   "metadata": {},
   "outputs": [],
   "source": [
    "# criando um cursor para acessar os registros\n",
    "cursor = con.cursor()"
   ]
  },
  {
   "cell_type": "code",
   "execution_count": 5,
   "metadata": {},
   "outputs": [
    {
     "data": {
      "text/plain": [
       "sqlite3.Cursor"
      ]
     },
     "execution_count": 5,
     "metadata": {},
     "output_type": "execute_result"
    }
   ],
   "source": [
    "# verificando o tipo de conexão\n",
    "type(cursor)"
   ]
  },
  {
   "cell_type": "markdown",
   "metadata": {},
   "source": [
    "## <b> Manipulação "
   ]
  },
  {
   "cell_type": "code",
   "execution_count": 6,
   "metadata": {},
   "outputs": [],
   "source": [
    "# Instrução SQL para criação de tabelas\n",
    "sql_create = 'create table App '\\\n",
    "'(key integer primary key, '\\\n",
    "'nome varchar(100), '\\\n",
    "'categoria varchar(140),'\\\n",
    "'installs int,'\\\n",
    "'tamanho int)'"
   ]
  },
  {
   "cell_type": "code",
   "execution_count": 7,
   "metadata": {},
   "outputs": [
    {
     "data": {
      "text/plain": [
       "<sqlite3.Cursor at 0x19d54da7a40>"
      ]
     },
     "execution_count": 7,
     "metadata": {},
     "output_type": "execute_result"
    }
   ],
   "source": [
    "# executando a instrução no cursor\n",
    "cursor.execute(sql_create)"
   ]
  },
  {
   "cell_type": "code",
   "execution_count": 8,
   "metadata": {},
   "outputs": [],
   "source": [
    "# Criando outra sentença SQL para inserir registros ainda sem valores\n",
    "sql_insert = 'insert into App values (?, ?, ?, ?, ?)'"
   ]
  },
  {
   "cell_type": "code",
   "execution_count": 9,
   "metadata": {},
   "outputs": [],
   "source": [
    "# Definindo os valores a serem inseridos na tabela\n",
    "# Dados\n",
    "values = [(0, 'Candy Camera', 'ART_AND_DESIGN', 10.000, 19),\n",
    "          (1, 'Coloring Book', 'ART_AND_DESIGN', 500.000, 14),\n",
    "          (2, 'Sketch', 'ART_AND_DESIGN', 50.000, 25),\n",
    "          (3, 'Ibis Paint', 'ART_AND_DESIGN', 10.000, 31),\n",
    "          (4, 'Hush - Beauty', 'BEAUTY', 50.000, 17),\n",
    "          (5, 'Indeed', 'BUSINESS', 50.000, 12)         ]"
   ]
  },
  {
   "cell_type": "code",
   "execution_count": 10,
   "metadata": {},
   "outputs": [],
   "source": [
    "# Inserindo os registros\n",
    "for v in values:\n",
    "    cursor.execute(sql_insert, v)"
   ]
  },
  {
   "cell_type": "code",
   "execution_count": 11,
   "metadata": {},
   "outputs": [],
   "source": [
    "# gravando a transação\n",
    "con.commit()"
   ]
  },
  {
   "cell_type": "code",
   "execution_count": 12,
   "metadata": {},
   "outputs": [],
   "source": [
    "# criando outra sentença SQL para selecionar registros\n",
    "sql_select = 'select * from App'"
   ]
  },
  {
   "cell_type": "code",
   "execution_count": 13,
   "metadata": {},
   "outputs": [],
   "source": [
    "# seleciona todos os registros e recupera os registros\n",
    "cursor.execute(sql_select)\n",
    "dados = cursor.fetchall()"
   ]
  },
  {
   "cell_type": "code",
   "execution_count": 14,
   "metadata": {},
   "outputs": [
    {
     "name": "stdout",
     "output_type": "stream",
     "text": [
      "App Chave: 0, Nome: Candy Camera, Categoria: ART_AND_DESIGN, Instalações: 10, Tamanho: 19M\n",
      "\n",
      "App Chave: 1, Nome: Coloring Book, Categoria: ART_AND_DESIGN, Instalações: 500, Tamanho: 14M\n",
      "\n",
      "App Chave: 2, Nome: Sketch, Categoria: ART_AND_DESIGN, Instalações: 50, Tamanho: 25M\n",
      "\n",
      "App Chave: 3, Nome: Ibis Paint, Categoria: ART_AND_DESIGN, Instalações: 10, Tamanho: 31M\n",
      "\n",
      "App Chave: 4, Nome: Hush - Beauty, Categoria: BEAUTY, Instalações: 50, Tamanho: 17M\n",
      "\n",
      "App Chave: 5, Nome: Indeed, Categoria: BUSINESS, Instalações: 50, Tamanho: 12M\n",
      "\n"
     ]
    }
   ],
   "source": [
    "#  exibe os valores recebidos na transação fetchall\n",
    "for linha in dados:\n",
    "    print ('App Chave: %d, Nome: %s, Categoria: %s, Instalações: %d, Tamanho: %dM\\n' %linha)"
   ]
  },
  {
   "cell_type": "markdown",
   "metadata": {},
   "source": [
    "## <b> Trabalhando com Funções"
   ]
  },
  {
   "cell_type": "code",
   "execution_count": 15,
   "metadata": {},
   "outputs": [],
   "source": [
    "# Função para criar uma tabela\n",
    "def create_table(query):\n",
    "    cursor.execute(query)\n",
    "            \n",
    "# Função para inserir uma linha\n",
    "def data_insert(line):\n",
    "    cursor.execute(line)\n",
    "        \n",
    "# Usando variáveis para inserir dados    \n",
    "def data_insert_dados(identificador, nome, categoria, installs, tamanho):\n",
    "    cursor.execute(\"INSERT INTO App (key, nome, categoria, installs, tamanho) VALUES (?,?,?,?,?)\", (identificador, nome, categoria, installs, tamanho))    \n",
    "    \n",
    "# Leitura de dados\n",
    "def leitura_de_todos_apps():\n",
    "    cursor.execute(\"SELECT * FROM App\")\n",
    "    for linha in cursor.fetchall():\n",
    "        print(linha)\n",
    "          \n",
    "# Leitura de registros específicos\n",
    "def leitura_de_determinados_registros():\n",
    "    cursor.execute(\"SELECT * FROM App WHERE categoria == 'BUSINESS'\")\n",
    "    for linha in cursor.fetchall():\n",
    "        print(linha)      \n",
    "        \n",
    "# Leitura de colunas específicos\n",
    "def leitura_colunas():\n",
    "    cursor.execute(\"SELECT nome FROM App\")\n",
    "    for linha in cursor.fetchall():\n",
    "        print(linha)  \n",
    "        \n",
    "# Update\n",
    "def atualiza_dados():\n",
    "    cursor.execute(\"UPDATE App SET tamanho = 22 WHERE tamanho = 19\")\n",
    "    con.commit()\n",
    "    \n",
    "# Delete\n",
    "def remove_dados():\n",
    "    cursor.execute(\"DELETE FROM App WHERE tamanho < 20\")\n",
    "    con.commit()\n",
    "    \n",
    "def dados_grafico():\n",
    "    cursor.execute(\"SELECT tamanho, nome FROM App\")\n",
    "    tam = []\n",
    "    nomes = []\n",
    "    dados = cursor.fetchall()\n",
    "    \n",
    "    for linha in dados:\n",
    "        tam.append(linha[0])\n",
    "        nomes.append(linha[1])\n",
    "        \n",
    "    if (len(tam)) < 4:\n",
    "        plt.figure(figsize=(8, 8), dpi=60)\n",
    "    else:\n",
    "        plt.figure(figsize=(12, 10), dpi=60)\n",
    "        \n",
    "    plt.bar(nomes, tam)\n",
    "    plt.show()"
   ]
  },
  {
   "cell_type": "code",
   "execution_count": 16,
   "metadata": {},
   "outputs": [],
   "source": [
    "# query para criação de tabelas que será passada para a função\n",
    "query = 'CREATE TABLE IF NOT EXISTS '\\\n",
    "        'Genero(id INTEGER PRIMARY KEY AUTOINCREMENT NOT NULL, '\\\n",
    "                  'genero TEXTO)'\n",
    "create_table(query)"
   ]
  },
  {
   "cell_type": "code",
   "execution_count": 17,
   "metadata": {},
   "outputs": [],
   "source": [
    "# query para inserção de tabelas que será passada para a função\n",
    "linha = 'INSERT into Genero (id, genero) values (1, \"BOOKS AND REFERENCE\")'\n",
    "data_insert(linha)"
   ]
  },
  {
   "cell_type": "code",
   "execution_count": 18,
   "metadata": {},
   "outputs": [
    {
     "name": "stdout",
     "output_type": "stream",
     "text": [
      "(0, 'Candy Camera', 'ART_AND_DESIGN', 10, 19)\n",
      "(1, 'Coloring Book', 'ART_AND_DESIGN', 500, 14)\n",
      "(2, 'Sketch', 'ART_AND_DESIGN', 50, 25)\n",
      "(3, 'Ibis Paint', 'ART_AND_DESIGN', 10, 31)\n",
      "(4, 'Hush - Beauty', 'BEAUTY', 50, 17)\n",
      "(5, 'Indeed', 'BUSINESS', 50, 12)\n"
     ]
    }
   ],
   "source": [
    "# visualiza todas os registros \n",
    "leitura_de_todos_apps()"
   ]
  },
  {
   "cell_type": "code",
   "execution_count": 19,
   "metadata": {},
   "outputs": [
    {
     "name": "stdout",
     "output_type": "stream",
     "text": [
      "(5, 'Indeed', 'BUSINESS', 50, 12)\n"
     ]
    }
   ],
   "source": [
    "leitura_de_determinados_registros()"
   ]
  },
  {
   "cell_type": "code",
   "execution_count": 20,
   "metadata": {},
   "outputs": [
    {
     "data": {
      "image/png": "[encoded data removed]",
      "text/plain": [
       "<Figure size 720x600 with 1 Axes>"
      ]
     },
     "metadata": {
      "needs_background": "light"
     },
     "output_type": "display_data"
    }
   ],
   "source": [
    "# visualização dos apps e seus tamanhos\n",
    "dados_grafico()"
   ]
  },
  {
   "cell_type": "code",
   "execution_count": 21,
   "metadata": {},
   "outputs": [
    {
     "name": "stdout",
     "output_type": "stream",
     "text": [
      "('Candy Camera',)\n",
      "('Coloring Book',)\n",
      "('Sketch',)\n",
      "('Ibis Paint',)\n",
      "('Hush - Beauty',)\n",
      "('Indeed',)\n"
     ]
    }
   ],
   "source": [
    "# lê apenas os nomes dos Apps\n",
    "leitura_colunas()"
   ]
  },
  {
   "cell_type": "code",
   "execution_count": 22,
   "metadata": {},
   "outputs": [
    {
     "name": "stdout",
     "output_type": "stream",
     "text": [
      "(0, 'Candy Camera', 'ART_AND_DESIGN', 10, 22)\n",
      "(1, 'Coloring Book', 'ART_AND_DESIGN', 500, 14)\n",
      "(2, 'Sketch', 'ART_AND_DESIGN', 50, 25)\n",
      "(3, 'Ibis Paint', 'ART_AND_DESIGN', 10, 31)\n",
      "(4, 'Hush - Beauty', 'BEAUTY', 50, 17)\n",
      "(5, 'Indeed', 'BUSINESS', 50, 12)\n"
     ]
    }
   ],
   "source": [
    "# atualiza os tamanhos \n",
    "atualiza_dados()\n",
    "leitura_de_todos_apps()"
   ]
  },
  {
   "cell_type": "code",
   "execution_count": 23,
   "metadata": {},
   "outputs": [
    {
     "name": "stdout",
     "output_type": "stream",
     "text": [
      "(0, 'Candy Camera', 'ART_AND_DESIGN', 10, 22)\n",
      "(2, 'Sketch', 'ART_AND_DESIGN', 50, 25)\n",
      "(3, 'Ibis Paint', 'ART_AND_DESIGN', 10, 31)\n"
     ]
    }
   ],
   "source": [
    "# remove os apps menores que 20 M\n",
    "remove_dados()\n",
    "leitura_de_todos_apps()"
   ]
  },
  {
   "cell_type": "code",
   "execution_count": 24,
   "metadata": {},
   "outputs": [
    {
     "data": {
      "image/png": "[encoded data removed]",
      "text/plain": [
       "<Figure size 480x480 with 1 Axes>"
      ]
     },
     "metadata": {
      "needs_background": "light"
     },
     "output_type": "display_data"
    }
   ],
   "source": [
    "# visualização dos apps e seus tamanhos\n",
    "dados_grafico()"
   ]
  },
  {
   "cell_type": "code",
   "execution_count": 25,
   "metadata": {},
   "outputs": [],
   "source": [
    "# Fecha a conexão\n",
    "con.close()"
   ]
  },
  {
   "cell_type": "code",
   "execution_count": null,
   "metadata": {},
   "outputs": [],
   "source": []
  }
 ],
 "metadata": {
  "kernelspec": {
   "display_name": "Python 3",
   "language": "python",
   "name": "python3"
  },
  "language_info": {
   "codemirror_mode": {
    "name": "ipython",
    "version": 3
   },
   "file_extension": ".py",
   "mimetype": "text/x-python",
   "name": "python",
   "nbconvert_exporter": "python",
   "pygments_lexer": "ipython3",
   "version": "3.7.1"
  }
 },
 "nbformat": 4,
 "nbformat_minor": 2
}
